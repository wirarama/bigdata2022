{
 "cells": [
  {
   "cell_type": "code",
   "execution_count": 1,
   "metadata": {},
   "outputs": [
    {
     "name": "stdout",
     "output_type": "stream",
     "text": [
      "Requirement already satisfied: tweepy in /Users/wiraramawedashwara/opt/anaconda3/lib/python3.9/site-packages (4.10.1)\n",
      "Requirement already satisfied: requests-oauthlib<2,>=1.2.0 in /Users/wiraramawedashwara/opt/anaconda3/lib/python3.9/site-packages (from tweepy) (1.3.1)\n",
      "Requirement already satisfied: oauthlib<4,>=3.2.0 in /Users/wiraramawedashwara/opt/anaconda3/lib/python3.9/site-packages (from tweepy) (3.2.1)\n",
      "Requirement already satisfied: requests<3,>=2.27.0 in /Users/wiraramawedashwara/opt/anaconda3/lib/python3.9/site-packages (from tweepy) (2.27.1)\n",
      "Requirement already satisfied: urllib3<1.27,>=1.21.1 in /Users/wiraramawedashwara/opt/anaconda3/lib/python3.9/site-packages (from requests<3,>=2.27.0->tweepy) (1.26.9)\n",
      "Requirement already satisfied: idna<4,>=2.5 in /Users/wiraramawedashwara/opt/anaconda3/lib/python3.9/site-packages (from requests<3,>=2.27.0->tweepy) (3.3)\n",
      "Requirement already satisfied: charset-normalizer~=2.0.0 in /Users/wiraramawedashwara/opt/anaconda3/lib/python3.9/site-packages (from requests<3,>=2.27.0->tweepy) (2.0.4)\n",
      "Requirement already satisfied: certifi>=2017.4.17 in /Users/wiraramawedashwara/opt/anaconda3/lib/python3.9/site-packages (from requests<3,>=2.27.0->tweepy) (2021.10.8)\n"
     ]
    }
   ],
   "source": [
    "!pip install tweepy"
   ]
  },
  {
   "cell_type": "code",
   "execution_count": 2,
   "metadata": {},
   "outputs": [],
   "source": [
    "import tweepy\n",
    "import datetime as dt"
   ]
  },
  {
   "cell_type": "code",
   "execution_count": 3,
   "metadata": {},
   "outputs": [],
   "source": [
    "#twitterAPI.py\n",
    "consumer_key = \"SLtyT8eQIVyFDxNVuJkmJRcl6\"\n",
    "consumer_secret = \"qmqpzba6bXqgETZNJct3YIH75ienDR9L2yjE78Or68Ju0dTLb4\"\n",
    "access_token = \"734224897732268032-kZZaaNc2siDzHSXfId17uVn521CKjlf\"\n",
    "access_token_secret = \"6ivorsX6krlKMG34o9IyVBuzJV9w5OITzxwocFnjDz7BU\""
   ]
  },
  {
   "cell_type": "code",
   "execution_count": 4,
   "metadata": {},
   "outputs": [],
   "source": [
    "auth = tweepy.OAuthHandler(consumer_key, consumer_secret)\n",
    "auth.set_access_token(access_token, access_token_secret)\n",
    "api = tweepy.API(auth)"
   ]
  },
  {
   "cell_type": "code",
   "execution_count": 5,
   "metadata": {},
   "outputs": [
    {
     "name": "stdout",
     "output_type": "stream",
     "text": [
      "In tonight's #AEWDark main event, it's @lucha_angel1 vs. the #Workhorsemen's @Antnyhenry; don't miss it! ▶️… https://t.co/Dv20VOxFS1\n",
      "[LOS INGOBERNABLES de JAPON]\n",
      "\n",
      "Voy a volver a Tokyo después de 16 días.\n",
      "\n",
      "Horario futuro. https://t.co/hnH5ScZ70D\n",
      "https://t.co/Lfs6EeTNp1\n",
      "And Nick Comoroto @Mr_Freakbeast scores the win tonight on #AEWDark! ▶️ https://t.co/ngtj06V3uc https://t.co/nAMFeTqrEM\n",
      "今朝のあさイチ。毒親とその子供との関係。切っても切れない血族の問題は色々考えさせられるね(´･ω･)…#あさイチ\n",
      "It's #TheFactory's Nick Comoroto @Mr_Freakbeast up against @ShaheemAli85 right now on #AEWDark! Don't miss tonight'… https://t.co/bINcnmOjVo\n",
      "The @Renegade_Twins leave no room for doubt as they dominate in their bout tonight on #AEWDark! Tune in to watch th… https://t.co/cz6jlM80nB\n",
      "The @Renegade_Twins are back in action on #AEWDark and they're up against the team of  @itsmilamoore &amp;… https://t.co/zvGKirTwIM\n",
      "ふあ！一つ一つ読みながら魂のいいねしていくううう！！\n",
      ".@AngelicoAAA scores the win with a unique submission here on #AEWDark! Catch all of the action from tonight's epis… https://t.co/waepCPs5S2\n",
      "毎日腕枕で寝てるのですが\n",
      "愛おしすぎてどうかなりそうです。 https://t.co/inKDSkrocx\n",
      "https://t.co/l8gRQCd1rX\n",
      "Coming up next on #AEWDark, it's @AngelicoAAA vs. @CalebKonley! Catch the full episode right here: ▶️… https://t.co/yFb9NQfWJs\n",
      "クリヘムどんまい\n",
      "RT @MCUFANLIFE: ✅朝から衝撃発表となった映画『デッドプール3』の動画【字幕バージョン】です。\n",
      "\n",
      " https://t.co/U3OBCRDt3C\n",
      "Crucifix Bomb by @LEONRUFF_ to score the victory here on #AEWDark! Don't miss the action from tonight's episode! ▶️… https://t.co/Xq3jmcx73w\n",
      "It's @LEONRUFF_ vs. BSHP King coming up next on #AEWDark!\n",
      "▶️ https://t.co/ngtj07cElK\n",
      "\n",
      "Presented by… https://t.co/Mt3fiSYSon\n",
      "Hunk 'o Love and the win for the #HollywoodHunk @ryrynemnem tonight on #AEWDark! ▶️ https://t.co/ngtj06V3uc https://t.co/nvNdMx3fL3\n",
      "The #HollywoodHunk @ryrynemnem faces @Holy2Cow right now on #AEWDark; tune in now! ▶️ https://t.co/ngtj07cElK\n",
      "\n",
      "Visi… https://t.co/xj45NlK5TY\n"
     ]
    }
   ],
   "source": [
    "for tweet in api.home_timeline():\n",
    "    if \"AEW\" in tweet.text:\n",
    "        print(tweet.text)"
   ]
  },
  {
   "cell_type": "code",
   "execution_count": 16,
   "metadata": {},
   "outputs": [
    {
     "data": {
      "text/plain": [
       "['__class__',\n",
       " '__delattr__',\n",
       " '__dict__',\n",
       " '__dir__',\n",
       " '__doc__',\n",
       " '__eq__',\n",
       " '__format__',\n",
       " '__ge__',\n",
       " '__getattribute__',\n",
       " '__getstate__',\n",
       " '__gt__',\n",
       " '__hash__',\n",
       " '__init__',\n",
       " '__init_subclass__',\n",
       " '__le__',\n",
       " '__lt__',\n",
       " '__module__',\n",
       " '__ne__',\n",
       " '__new__',\n",
       " '__reduce__',\n",
       " '__reduce_ex__',\n",
       " '__repr__',\n",
       " '__setattr__',\n",
       " '__sizeof__',\n",
       " '__slots__',\n",
       " '__str__',\n",
       " '__subclasshook__',\n",
       " '__weakref__',\n",
       " '_api',\n",
       " '_json',\n",
       " 'author',\n",
       " 'contributors',\n",
       " 'coordinates',\n",
       " 'created_at',\n",
       " 'destroy',\n",
       " 'entities',\n",
       " 'extended_entities',\n",
       " 'favorite',\n",
       " 'favorite_count',\n",
       " 'favorited',\n",
       " 'geo',\n",
       " 'id',\n",
       " 'id_str',\n",
       " 'in_reply_to_screen_name',\n",
       " 'in_reply_to_status_id',\n",
       " 'in_reply_to_status_id_str',\n",
       " 'in_reply_to_user_id',\n",
       " 'in_reply_to_user_id_str',\n",
       " 'is_quote_status',\n",
       " 'lang',\n",
       " 'parse',\n",
       " 'parse_list',\n",
       " 'place',\n",
       " 'possibly_sensitive',\n",
       " 'retweet',\n",
       " 'retweet_count',\n",
       " 'retweeted',\n",
       " 'retweets',\n",
       " 'source',\n",
       " 'source_url',\n",
       " 'text',\n",
       " 'truncated',\n",
       " 'user']"
      ]
     },
     "execution_count": 16,
     "metadata": {},
     "output_type": "execute_result"
    }
   ],
   "source": [
    "tweet = api.user_timeline(screen_name=\"ValeYellow46\")\n",
    "dir(tweet[0])"
   ]
  },
  {
   "cell_type": "code",
   "execution_count": 27,
   "metadata": {},
   "outputs": [
    {
     "name": "stdout",
     "output_type": "stream",
     "text": [
      "b'Trying the new Kart in Migliaro with some \\xe2\\x80\\x9cold special\\xe2\\x80\\x9d tires\\n\\xf0\\x9f\\x8e\\xa5 @GoPro #GoProHERO11 https://t.co/Tv5hF8O8nv'\n",
      "3088\n",
      "2022-09-26 11:49:55+00:00\n",
      "en\n",
      "b'Trying the new Kart in Migliaro with some \\xe2\\x80\\x9cold special\\xe2\\x80\\x9d tires\\n\\xf0\\x9f\\x93\\xb8 @camilss https://t.co/JjqhiUrU6Y'\n",
      "1665\n",
      "2022-09-26 11:48:52+00:00\n",
      "en\n",
      "b'Trying the new Kart in Migliaro with some \\xe2\\x80\\x9cold special\\xe2\\x80\\x9d tires\\n\\xf0\\x9f\\x93\\xb8 @camilss https://t.co/RxSulY4YGn'\n",
      "2820\n",
      "2022-09-26 11:48:35+00:00\n",
      "en\n",
      "b'Year 1984.\\nPrivate test around Graziano\\xe2\\x80\\x99s house,Tavullia.\\n\\xf0\\x9f\\x93\\xb8 by Stefi https://t.co/QsDJZqcK75'\n",
      "14517\n",
      "2022-09-21 11:37:20+00:00\n",
      "en\n",
      "b'Valencia Circuit,Spain\\nSaturday,Race 1 https://t.co/NQuZsOHoRA'\n",
      "3461\n",
      "2022-09-18 09:08:27+00:00\n",
      "en\n",
      "b'Valencia Circuit,Spain\\nFriday,free practice https://t.co/DviGJBvGRu'\n",
      "2296\n",
      "2022-09-16 17:23:22+00:00\n",
      "en\n",
      "b'Valencia Circuit,Spain\\nFriday,free practice \\n\\xf0\\x9f\\x93\\xb8 @camilss Michele https://t.co/3Zy3a2vLX5'\n",
      "1693\n",
      "2022-09-16 17:16:27+00:00\n",
      "en\n",
      "b'Valencia Circuit,Spain\\nFriday,free practice \\n\\xf0\\x9f\\x93\\xb8 @camilss Michele https://t.co/zTpsvfcCwj'\n",
      "1975\n",
      "2022-09-16 17:13:23+00:00\n",
      "en\n",
      "b'Welcome #GoProHERO11 \\xf0\\x9f\\x94\\xa5 @GoPro https://t.co/q5DeY6WGPj'\n",
      "3485\n",
      "2022-09-16 17:10:42+00:00\n",
      "en\n",
      "b'Giulietta era molto contenta di avere risolto il problema del peccato originale https://t.co/wrdkVExhGz'\n",
      "5173\n",
      "2022-09-13 12:04:59+00:00\n",
      "it\n"
     ]
    }
   ],
   "source": [
    "for tweet in api.user_timeline(screen_name=\"ValeYellow46\",count=10):\n",
    "    print(tweet.text.encode('utf-8'))\n",
    "    print(tweet.favorite_count)\n",
    "    print(tweet.created_at)\n",
    "    print(tweet.lang)\n",
    "    #print(tweet.retweet)"
   ]
  },
  {
   "cell_type": "code",
   "execution_count": 23,
   "metadata": {},
   "outputs": [],
   "source": [
    "def carikata(x,tweet):\n",
    "    if x.lower() in tweet.lower():\n",
    "        return True\n",
    "    else:\n",
    "        return False"
   ]
  },
  {
   "cell_type": "code",
   "execution_count": null,
   "metadata": {},
   "outputs": [],
   "source": [
    "#ngga usah dicoba\n",
    "def unduhtweet(userid,cari):\n",
    "    tgl = dt.datetime.now()\n",
    "    tgl = tgl.strftime('%Y-%m-%d-%H-%M-%S')\n",
    "    f = open(userid+tgl+\".txt\",\n",
    "             \"w\",encoding='utf-8')\n",
    "    for x in tweepy.Cursor(\n",
    "            api.user_timeline,\n",
    "            user_id=userid).items(200):\n",
    "        f.write(x.text+\"\\n\\n\")\n",
    "    f.close()"
   ]
  },
  {
   "cell_type": "code",
   "execution_count": 33,
   "metadata": {},
   "outputs": [],
   "source": [
    "kepo = [\"motogp\",\"fifacom\",\"pubg\"]"
   ]
  },
  {
   "cell_type": "code",
   "execution_count": 34,
   "metadata": {},
   "outputs": [],
   "source": [
    "for x in kepo:\n",
    "    unduhtweet(x,\"a\")"
   ]
  },
  {
   "cell_type": "code",
   "execution_count": 48,
   "metadata": {},
   "outputs": [],
   "source": [
    "from tweepy import Stream"
   ]
  },
  {
   "cell_type": "code",
   "execution_count": 55,
   "metadata": {},
   "outputs": [],
   "source": [
    "#streaming\n",
    "class MyStreamListener(Stream):\n",
    "    def on_status(self, status):\n",
    "        with open(\"kasusesteh.txt\",\"a\") as f:\n",
    "            f.write(\"screen_name=\"+status.user.screen_name+\"\\n\")\n",
    "            f.write(\"name=\"+status.user.name+\"\\n\")\n",
    "            f.write(\"created at=\"+str(status.created_at)+\"\\n\")\n",
    "            f.write(\"lang=\"+status.lang+\"\\n\")\n",
    "            f.write(\"location=\"+str(status.user.location)+\"\\n\")\n",
    "            f.write(\"status=\"+'\"'+status.text+'\"'+\"\\n\\n\")\n",
    "        f.close()\n",
    "    def on_error(self, status_code):\n",
    "        if status_code == 420:\n",
    "            return False"
   ]
  },
  {
   "cell_type": "code",
   "execution_count": 46,
   "metadata": {},
   "outputs": [],
   "source": [
    "class MyStreamListener(Stream):\n",
    "    def on_status(self, status):\n",
    "        print(status.text)  # prints every tweet received\n",
    "\n",
    "    def on_error(self, status_code):\n",
    "        if status_code == 420:  # end of monthly limit rate (500k)\n",
    "            return False"
   ]
  },
  {
   "cell_type": "code",
   "execution_count": 58,
   "metadata": {},
   "outputs": [
    {
     "name": "stdout",
     "output_type": "stream",
     "text": [
      "dihentikan secara paksa menggunakan keyboard\n"
     ]
    }
   ],
   "source": [
    "try:\n",
    "    stream = MyStreamListener(consumer_key, consumer_secret,access_token, access_token_secret)\n",
    "    stream.filter(track=[\"esteh\",\"gula\"])\n",
    "except KeyboardInterrupt:\n",
    "    print(\"dihentikan secara paksa menggunakan keyboard\")"
   ]
  },
  {
   "cell_type": "code",
   "execution_count": null,
   "metadata": {},
   "outputs": [],
   "source": []
  }
 ],
 "metadata": {
  "kernelspec": {
   "display_name": "Python 3 (ipykernel)",
   "language": "python",
   "name": "python3"
  },
  "language_info": {
   "codemirror_mode": {
    "name": "ipython",
    "version": 3
   },
   "file_extension": ".py",
   "mimetype": "text/x-python",
   "name": "python",
   "nbconvert_exporter": "python",
   "pygments_lexer": "ipython3",
   "version": "3.9.12"
  }
 },
 "nbformat": 4,
 "nbformat_minor": 4
}
