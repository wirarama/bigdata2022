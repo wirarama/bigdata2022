{
 "cells": [
  {
   "cell_type": "markdown",
   "metadata": {},
   "source": [
    "# Konfigurasi stand alone (nilai 80)"
   ]
  },
  {
   "cell_type": "code",
   "execution_count": null,
   "metadata": {},
   "outputs": [],
   "source": [
    "!pwd"
   ]
  },
  {
   "cell_type": "code",
   "execution_count": null,
   "metadata": {},
   "outputs": [],
   "source": [
    "!~/hadoop/hadoop/bin/hadoop"
   ]
  },
  {
   "cell_type": "code",
   "execution_count": null,
   "metadata": {},
   "outputs": [],
   "source": [
    "!rm -rf ~/hadoop/hadoop/input"
   ]
  },
  {
   "cell_type": "code",
   "execution_count": null,
   "metadata": {},
   "outputs": [],
   "source": [
    "!rm -rf ~/hadoop/hadoop/output"
   ]
  },
  {
   "cell_type": "code",
   "execution_count": null,
   "metadata": {},
   "outputs": [],
   "source": [
    "!mkdir ~/hadoop/hadoop/input"
   ]
  },
  {
   "cell_type": "code",
   "execution_count": null,
   "metadata": {},
   "outputs": [],
   "source": [
    "!cp ~/hadoop/hadoop/etc/hadoop/*.xml ~/hadoop/hadoop/input/"
   ]
  },
  {
   "cell_type": "code",
   "execution_count": null,
   "metadata": {},
   "outputs": [],
   "source": [
    "!ls ~/hadoop/hadoop/input"
   ]
  },
  {
   "cell_type": "code",
   "execution_count": null,
   "metadata": {},
   "outputs": [],
   "source": [
    "!~/hadoop/hadoop/bin/hadoop jar ~/hadoop/hadoop/share/hadoop/mapreduce/hadoop-mapreduce-examples-2.10.2.jar grep ~/hadoop/hadoop/input ~/hadoop/hadoop/output '[a-z]+'"
   ]
  },
  {
   "cell_type": "code",
   "execution_count": null,
   "metadata": {},
   "outputs": [],
   "source": [
    "!cat ~/hadoop/hadoop/output/*"
   ]
  },
  {
   "cell_type": "markdown",
   "metadata": {},
   "source": [
    "Sampai disini bisa nilai :80"
   ]
  },
  {
   "cell_type": "markdown",
   "metadata": {},
   "source": [
    "# Konfigurasi HDFS Server (nilai 120)"
   ]
  },
  {
   "cell_type": "code",
   "execution_count": null,
   "metadata": {},
   "outputs": [],
   "source": [
    "!xed ~/hadoop/hadoop/etc/hadoop/core-site.xml"
   ]
  },
  {
   "cell_type": "markdown",
   "metadata": {},
   "source": [
    "<configuration>\n",
    "    <property>\n",
    "        <name>fs.defaultFS</name>\n",
    "        <value>hdfs://localhost:9000</value>\n",
    "    </property>\n",
    "</configuration>"
   ]
  },
  {
   "cell_type": "code",
   "execution_count": null,
   "metadata": {},
   "outputs": [],
   "source": [
    "!xed ~/hadoop/hadoop/etc/hadoop/hdfs-site.xml"
   ]
  },
  {
   "cell_type": "markdown",
   "metadata": {},
   "source": [
    "<configuration>\n",
    "    <property>\n",
    "        <name>dfs.replication</name>\n",
    "        <value>1</value>\n",
    "    </property>\n",
    "</configuration>"
   ]
  },
  {
   "cell_type": "code",
   "execution_count": 1,
   "metadata": {},
   "outputs": [
    {
     "name": "stdout",
     "output_type": "stream",
     "text": [
      "22/11/09 06:48:41 INFO namenode.NameNode: STARTUP_MSG: \n",
      "/************************************************************\n",
      "STARTUP_MSG: Starting NameNode\n",
      "STARTUP_MSG:   host = 192.168.1.5/192.168.1.5\n",
      "STARTUP_MSG:   args = [-format]\n",
      "STARTUP_MSG:   version = 2.10.2\n",
      "STARTUP_MSG:   classpath = /Users/wiraramawedashwara/hadoop/hadoop/etc/hadoop:/Users/wiraramawedashwara/hadoop/hadoop/share/hadoop/common/lib/jaxb-impl-2.2.3-1.jar:/Users/wiraramawedashwara/hadoop/hadoop/share/hadoop/common/lib/activation-1.1.jar:/Users/wiraramawedashwara/hadoop/hadoop/share/hadoop/common/lib/slf4j-api-1.7.36.jar:/Users/wiraramawedashwara/hadoop/hadoop/share/hadoop/common/lib/commons-configuration-1.6.jar:/Users/wiraramawedashwara/hadoop/hadoop/share/hadoop/common/lib/htrace-core4-4.1.0-incubating.jar:/Users/wiraramawedashwara/hadoop/hadoop/share/hadoop/common/lib/snappy-java-1.0.5.jar:/Users/wiraramawedashwara/hadoop/hadoop/share/hadoop/common/lib/stax-api-1.0-2.jar:/Users/wiraramawedashwara/hadoop/hadoop/share/hadoop/common/lib/apacheds-i18n-2.0.0-M15.jar:/Users/wiraramawedashwara/hadoop/hadoop/share/hadoop/common/lib/slf4j-reload4j-1.7.36.jar:/Users/wiraramawedashwara/hadoop/hadoop/share/hadoop/common/lib/jaxb-api-2.2.2.jar:/Users/wiraramawedashwara/hadoop/hadoop/share/hadoop/common/lib/httpcore-4.4.13.jar:/Users/wiraramawedashwara/hadoop/hadoop/share/hadoop/common/lib/mockito-all-1.8.5.jar:/Users/wiraramawedashwara/hadoop/hadoop/share/hadoop/common/lib/jackson-jaxrs-1.9.13.jar:/Users/wiraramawedashwara/hadoop/hadoop/share/hadoop/common/lib/spotbugs-annotations-3.1.9.jar:/Users/wiraramawedashwara/hadoop/hadoop/share/hadoop/common/lib/commons-logging-1.1.3.jar:/Users/wiraramawedashwara/hadoop/hadoop/share/hadoop/common/lib/hadoop-annotations-2.10.2.jar:/Users/wiraramawedashwara/hadoop/hadoop/share/hadoop/common/lib/woodstox-core-5.3.0.jar:/Users/wiraramawedashwara/hadoop/hadoop/share/hadoop/common/lib/avro-1.7.7.jar:/Users/wiraramawedashwara/hadoop/hadoop/share/hadoop/common/lib/zookeeper-3.4.14.jar:/Users/wiraramawedashwara/hadoop/hadoop/share/hadoop/common/lib/jetty-sslengine-6.1.26.jar:/Users/wiraramawedashwara/hadoop/hadoop/share/hadoop/common/lib/jersey-json-1.9.jar:/Users/wiraramawedashwara/hadoop/hadoop/share/hadoop/common/lib/commons-cli-1.2.jar:/Users/wiraramawedashwara/hadoop/hadoop/share/hadoop/common/lib/junit-4.13.2.jar:/Users/wiraramawedashwara/hadoop/hadoop/share/hadoop/common/lib/commons-digester-1.8.jar:/Users/wiraramawedashwara/hadoop/hadoop/share/hadoop/common/lib/servlet-api-2.5.jar:/Users/wiraramawedashwara/hadoop/hadoop/share/hadoop/common/lib/protobuf-java-2.5.0.jar:/Users/wiraramawedashwara/hadoop/hadoop/share/hadoop/common/lib/jcip-annotations-1.0-1.jar:/Users/wiraramawedashwara/hadoop/hadoop/share/hadoop/common/lib/stax2-api-4.2.1.jar:/Users/wiraramawedashwara/hadoop/hadoop/share/hadoop/common/lib/xmlenc-0.52.jar:/Users/wiraramawedashwara/hadoop/hadoop/share/hadoop/common/lib/jackson-xc-1.9.13.jar:/Users/wiraramawedashwara/hadoop/hadoop/share/hadoop/common/lib/jetty-util-6.1.26.jar:/Users/wiraramawedashwara/hadoop/hadoop/share/hadoop/common/lib/nimbus-jose-jwt-7.9.jar:/Users/wiraramawedashwara/hadoop/hadoop/share/hadoop/common/lib/guava-11.0.2.jar:/Users/wiraramawedashwara/hadoop/hadoop/share/hadoop/common/lib/curator-framework-2.13.0.jar:/Users/wiraramawedashwara/hadoop/hadoop/share/hadoop/common/lib/curator-client-2.13.0.jar:/Users/wiraramawedashwara/hadoop/hadoop/share/hadoop/common/lib/commons-io-2.5.jar:/Users/wiraramawedashwara/hadoop/hadoop/share/hadoop/common/lib/jackson-core-asl-1.9.13.jar:/Users/wiraramawedashwara/hadoop/hadoop/share/hadoop/common/lib/commons-compress-1.21.jar:/Users/wiraramawedashwara/hadoop/hadoop/share/hadoop/common/lib/jersey-core-1.9.jar:/Users/wiraramawedashwara/hadoop/hadoop/share/hadoop/common/lib/jsp-api-2.1.jar:/Users/wiraramawedashwara/hadoop/hadoop/share/hadoop/common/lib/commons-codec-1.4.jar:/Users/wiraramawedashwara/hadoop/hadoop/share/hadoop/common/lib/jetty-6.1.26.jar:/Users/wiraramawedashwara/hadoop/hadoop/share/hadoop/common/lib/audience-annotations-0.5.0.jar:/Users/wiraramawedashwara/hadoop/hadoop/share/hadoop/common/lib/jersey-server-1.9.jar:/Users/wiraramawedashwara/hadoop/hadoop/share/hadoop/common/lib/java-xmlbuilder-0.4.jar:/Users/wiraramawedashwara/hadoop/hadoop/share/hadoop/common/lib/paranamer-2.3.jar:/Users/wiraramawedashwara/hadoop/hadoop/share/hadoop/common/lib/commons-collections-3.2.2.jar:/Users/wiraramawedashwara/hadoop/hadoop/share/hadoop/common/lib/jettison-1.1.jar:/Users/wiraramawedashwara/hadoop/hadoop/share/hadoop/common/lib/asm-3.2.jar:/Users/wiraramawedashwara/hadoop/hadoop/share/hadoop/common/lib/netty-3.10.6.Final.jar:/Users/wiraramawedashwara/hadoop/hadoop/share/hadoop/common/lib/api-asn1-api-1.0.0-M20.jar:/Users/wiraramawedashwara/hadoop/hadoop/share/hadoop/common/lib/apacheds-kerberos-codec-2.0.0-M15.jar:/Users/wiraramawedashwara/hadoop/hadoop/share/hadoop/common/lib/hamcrest-core-1.3.jar:/Users/wiraramawedashwara/hadoop/hadoop/share/hadoop/common/lib/curator-recipes-2.13.0.jar:/Users/wiraramawedashwara/hadoop/hadoop/share/hadoop/common/lib/reload4j-1.2.18.3.jar:/Users/wiraramawedashwara/hadoop/hadoop/share/hadoop/common/lib/commons-beanutils-1.9.4.jar:/Users/wiraramawedashwara/hadoop/hadoop/share/hadoop/common/lib/api-util-1.0.0-M20.jar:/Users/wiraramawedashwara/hadoop/hadoop/share/hadoop/common/lib/jsch-0.1.55.jar:/Users/wiraramawedashwara/hadoop/hadoop/share/hadoop/common/lib/commons-net-3.1.jar:/Users/wiraramawedashwara/hadoop/hadoop/share/hadoop/common/lib/gson-2.2.4.jar:/Users/wiraramawedashwara/hadoop/hadoop/share/hadoop/common/lib/hadoop-auth-2.10.2.jar:/Users/wiraramawedashwara/hadoop/hadoop/share/hadoop/common/lib/jets3t-0.9.0.jar:/Users/wiraramawedashwara/hadoop/hadoop/share/hadoop/common/lib/commons-lang-2.6.jar:/Users/wiraramawedashwara/hadoop/hadoop/share/hadoop/common/lib/json-smart-1.3.3.jar:/Users/wiraramawedashwara/hadoop/hadoop/share/hadoop/common/lib/httpclient-4.5.13.jar:/Users/wiraramawedashwara/hadoop/hadoop/share/hadoop/common/lib/jsr305-3.0.2.jar:/Users/wiraramawedashwara/hadoop/hadoop/share/hadoop/common/lib/jackson-mapper-asl-1.9.13.jar:/Users/wiraramawedashwara/hadoop/hadoop/share/hadoop/common/lib/commons-math3-3.1.1.jar:/Users/wiraramawedashwara/hadoop/hadoop/share/hadoop/common/lib/commons-lang3-3.4.jar:/Users/wiraramawedashwara/hadoop/hadoop/share/hadoop/common/hadoop-nfs-2.10.2.jar:/Users/wiraramawedashwara/hadoop/hadoop/share/hadoop/common/hadoop-common-2.10.2-tests.jar:/Users/wiraramawedashwara/hadoop/hadoop/share/hadoop/common/hadoop-common-2.10.2.jar:/Users/wiraramawedashwara/hadoop/hadoop/share/hadoop/hdfs:/Users/wiraramawedashwara/hadoop/hadoop/share/hadoop/hdfs/lib/xercesImpl-2.12.0.jar:/Users/wiraramawedashwara/hadoop/hadoop/share/hadoop/hdfs/lib/htrace-core4-4.1.0-incubating.jar:/Users/wiraramawedashwara/hadoop/hadoop/share/hadoop/hdfs/lib/commons-logging-1.1.3.jar:/Users/wiraramawedashwara/hadoop/hadoop/share/hadoop/hdfs/lib/commons-cli-1.2.jar:/Users/wiraramawedashwara/hadoop/hadoop/share/hadoop/hdfs/lib/servlet-api-2.5.jar:/Users/wiraramawedashwara/hadoop/hadoop/share/hadoop/hdfs/lib/protobuf-java-2.5.0.jar:/Users/wiraramawedashwara/hadoop/hadoop/share/hadoop/hdfs/lib/xmlenc-0.52.jar:/Users/wiraramawedashwara/hadoop/hadoop/share/hadoop/hdfs/lib/jetty-util-6.1.26.jar:/Users/wiraramawedashwara/hadoop/hadoop/share/hadoop/hdfs/lib/jackson-core-2.9.10.jar:/Users/wiraramawedashwara/hadoop/hadoop/share/hadoop/hdfs/lib/guava-11.0.2.jar:/Users/wiraramawedashwara/hadoop/hadoop/share/hadoop/hdfs/lib/netty-all-4.1.50.Final.jar:/Users/wiraramawedashwara/hadoop/hadoop/share/hadoop/hdfs/lib/okio-1.6.0.jar:/Users/wiraramawedashwara/hadoop/hadoop/share/hadoop/hdfs/lib/commons-io-2.5.jar:/Users/wiraramawedashwara/hadoop/hadoop/share/hadoop/hdfs/lib/jackson-core-asl-1.9.13.jar:/Users/wiraramawedashwara/hadoop/hadoop/share/hadoop/hdfs/lib/jersey-core-1.9.jar:/Users/wiraramawedashwara/hadoop/hadoop/share/hadoop/hdfs/lib/okhttp-2.7.5.jar:/Users/wiraramawedashwara/hadoop/hadoop/share/hadoop/hdfs/lib/commons-codec-1.4.jar:/Users/wiraramawedashwara/hadoop/hadoop/share/hadoop/hdfs/lib/jetty-6.1.26.jar:/Users/wiraramawedashwara/hadoop/hadoop/share/hadoop/hdfs/lib/jersey-server-1.9.jar:/Users/wiraramawedashwara/hadoop/hadoop/share/hadoop/hdfs/lib/xml-apis-1.4.01.jar:/Users/wiraramawedashwara/hadoop/hadoop/share/hadoop/hdfs/lib/asm-3.2.jar:/Users/wiraramawedashwara/hadoop/hadoop/share/hadoop/hdfs/lib/netty-3.10.6.Final.jar:/Users/wiraramawedashwara/hadoop/hadoop/share/hadoop/hdfs/lib/jackson-annotations-2.9.10.jar:/Users/wiraramawedashwara/hadoop/hadoop/share/hadoop/hdfs/lib/reload4j-1.2.18.3.jar:/Users/wiraramawedashwara/hadoop/hadoop/share/hadoop/hdfs/lib/commons-lang-2.6.jar:/Users/wiraramawedashwara/hadoop/hadoop/share/hadoop/hdfs/lib/hadoop-hdfs-client-2.10.2.jar:/Users/wiraramawedashwara/hadoop/hadoop/share/hadoop/hdfs/lib/leveldbjni-all-1.8.jar:/Users/wiraramawedashwara/hadoop/hadoop/share/hadoop/hdfs/lib/jackson-databind-2.9.10.7.jar:/Users/wiraramawedashwara/hadoop/hadoop/share/hadoop/hdfs/lib/jsr305-3.0.2.jar:/Users/wiraramawedashwara/hadoop/hadoop/share/hadoop/hdfs/lib/jackson-mapper-asl-1.9.13.jar:/Users/wiraramawedashwara/hadoop/hadoop/share/hadoop/hdfs/lib/commons-daemon-1.0.13.jar:/Users/wiraramawedashwara/hadoop/hadoop/share/hadoop/hdfs/hadoop-hdfs-native-client-2.10.2-tests.jar:/Users/wiraramawedashwara/hadoop/hadoop/share/hadoop/hdfs/hadoop-hdfs-rbf-2.10.2.jar:/Users/wiraramawedashwara/hadoop/hadoop/share/hadoop/hdfs/hadoop-hdfs-2.10.2-tests.jar:/Users/wiraramawedashwara/hadoop/hadoop/share/hadoop/hdfs/hadoop-hdfs-native-client-2.10.2.jar:/Users/wiraramawedashwara/hadoop/hadoop/share/hadoop/hdfs/hadoop-hdfs-2.10.2.jar:/Users/wiraramawedashwara/hadoop/hadoop/share/hadoop/hdfs/hadoop-hdfs-rbf-2.10.2-tests.jar:/Users/wiraramawedashwara/hadoop/hadoop/share/hadoop/hdfs/hadoop-hdfs-nfs-2.10.2.jar:/Users/wiraramawedashwara/hadoop/hadoop/share/hadoop/hdfs/hadoop-hdfs-client-2.10.2-tests.jar:/Users/wiraramawedashwara/hadoop/hadoop/share/hadoop/hdfs/hadoop-hdfs-client-2.10.2.jar:/Users/wiraramawedashwara/hadoop/hadoop/share/hadoop/yarn:/Users/wiraramawedashwara/hadoop/hadoop/share/hadoop/yarn/lib/jaxb-impl-2.2.3-1.jar:/Users/wiraramawedashwara/hadoop/hadoop/share/hadoop/yarn/lib/activation-1.1.jar:/Users/wiraramawedashwara/hadoop/hadoop/share/hadoop/yarn/lib/aopalliance-1.0.jar:/Users/wiraramawedashwara/hadoop/hadoop/share/hadoop/yarn/lib/commons-configuration-1.6.jar:/Users/wiraramawedashwara/hadoop/hadoop/share/hadoop/yarn/lib/guice-servlet-3.0.jar:/Users/wiraramawedashwara/hadoop/hadoop/share/hadoop/yarn/lib/htrace-core4-4.1.0-incubating.jar:/Users/wiraramawedashwara/hadoop/hadoop/share/hadoop/yarn/lib/snappy-java-1.0.5.jar:/Users/wiraramawedashwara/hadoop/hadoop/share/hadoop/yarn/lib/stax-api-1.0-2.jar:/Users/wiraramawedashwara/hadoop/hadoop/share/hadoop/yarn/lib/apacheds-i18n-2.0.0-M15.jar:/Users/wiraramawedashwara/hadoop/hadoop/share/hadoop/yarn/lib/java-util-1.9.0.jar:/Users/wiraramawedashwara/hadoop/hadoop/share/hadoop/yarn/lib/jaxb-api-2.2.2.jar:/Users/wiraramawedashwara/hadoop/hadoop/share/hadoop/yarn/lib/httpcore-4.4.13.jar:/Users/wiraramawedashwara/hadoop/hadoop/share/hadoop/yarn/lib/jackson-jaxrs-1.9.13.jar:/Users/wiraramawedashwara/hadoop/hadoop/share/hadoop/yarn/lib/spotbugs-annotations-3.1.9.jar:/Users/wiraramawedashwara/hadoop/hadoop/share/hadoop/yarn/lib/commons-logging-1.1.3.jar:/Users/wiraramawedashwara/hadoop/hadoop/share/hadoop/yarn/lib/woodstox-core-5.3.0.jar:/Users/wiraramawedashwara/hadoop/hadoop/share/hadoop/yarn/lib/avro-1.7.7.jar:/Users/wiraramawedashwara/hadoop/hadoop/share/hadoop/yarn/lib/zookeeper-3.4.14.jar:/Users/wiraramawedashwara/hadoop/hadoop/share/hadoop/yarn/lib/jetty-sslengine-6.1.26.jar:/Users/wiraramawedashwara/hadoop/hadoop/share/hadoop/yarn/lib/geronimo-jcache_1.0_spec-1.0-alpha-1.jar:/Users/wiraramawedashwara/hadoop/hadoop/share/hadoop/yarn/lib/jersey-json-1.9.jar:/Users/wiraramawedashwara/hadoop/hadoop/share/hadoop/yarn/lib/commons-cli-1.2.jar:/Users/wiraramawedashwara/hadoop/hadoop/share/hadoop/yarn/lib/commons-digester-1.8.jar:/Users/wiraramawedashwara/hadoop/hadoop/share/hadoop/yarn/lib/servlet-api-2.5.jar:/Users/wiraramawedashwara/hadoop/hadoop/share/hadoop/yarn/lib/protobuf-java-2.5.0.jar:/Users/wiraramawedashwara/hadoop/hadoop/share/hadoop/yarn/lib/jcip-annotations-1.0-1.jar:/Users/wiraramawedashwara/hadoop/hadoop/share/hadoop/yarn/lib/stax2-api-4.2.1.jar:/Users/wiraramawedashwara/hadoop/hadoop/share/hadoop/yarn/lib/xmlenc-0.52.jar:/Users/wiraramawedashwara/hadoop/hadoop/share/hadoop/yarn/lib/jackson-xc-1.9.13.jar:/Users/wiraramawedashwara/hadoop/hadoop/share/hadoop/yarn/lib/jetty-util-6.1.26.jar:/Users/wiraramawedashwara/hadoop/hadoop/share/hadoop/yarn/lib/fst-2.50.jar:/Users/wiraramawedashwara/hadoop/hadoop/share/hadoop/yarn/lib/nimbus-jose-jwt-7.9.jar:/Users/wiraramawedashwara/hadoop/hadoop/share/hadoop/yarn/lib/guava-11.0.2.jar:/Users/wiraramawedashwara/hadoop/hadoop/share/hadoop/yarn/lib/curator-framework-2.13.0.jar:/Users/wiraramawedashwara/hadoop/hadoop/share/hadoop/yarn/lib/curator-client-2.13.0.jar:/Users/wiraramawedashwara/hadoop/hadoop/share/hadoop/yarn/lib/mssql-jdbc-6.2.1.jre7.jar:/Users/wiraramawedashwara/hadoop/hadoop/share/hadoop/yarn/lib/commons-io-2.5.jar:/Users/wiraramawedashwara/hadoop/hadoop/share/hadoop/yarn/lib/jackson-core-asl-1.9.13.jar:/Users/wiraramawedashwara/hadoop/hadoop/share/hadoop/yarn/lib/commons-compress-1.21.jar:/Users/wiraramawedashwara/hadoop/hadoop/share/hadoop/yarn/lib/jersey-core-1.9.jar:/Users/wiraramawedashwara/hadoop/hadoop/share/hadoop/yarn/lib/jsp-api-2.1.jar:/Users/wiraramawedashwara/hadoop/hadoop/share/hadoop/yarn/lib/commons-codec-1.4.jar:/Users/wiraramawedashwara/hadoop/hadoop/share/hadoop/yarn/lib/jetty-6.1.26.jar:/Users/wiraramawedashwara/hadoop/hadoop/share/hadoop/yarn/lib/audience-annotations-0.5.0.jar:/Users/wiraramawedashwara/hadoop/hadoop/share/hadoop/yarn/lib/jersey-server-1.9.jar:/Users/wiraramawedashwara/hadoop/hadoop/share/hadoop/yarn/lib/guice-3.0.jar:/Users/wiraramawedashwara/hadoop/hadoop/share/hadoop/yarn/lib/java-xmlbuilder-0.4.jar:/Users/wiraramawedashwara/hadoop/hadoop/share/hadoop/yarn/lib/metrics-core-3.0.1.jar:/Users/wiraramawedashwara/hadoop/hadoop/share/hadoop/yarn/lib/jersey-client-1.9.jar:/Users/wiraramawedashwara/hadoop/hadoop/share/hadoop/yarn/lib/jersey-guice-1.9.jar:/Users/wiraramawedashwara/hadoop/hadoop/share/hadoop/yarn/lib/paranamer-2.3.jar:/Users/wiraramawedashwara/hadoop/hadoop/share/hadoop/yarn/lib/commons-collections-3.2.2.jar:/Users/wiraramawedashwara/hadoop/hadoop/share/hadoop/yarn/lib/jettison-1.1.jar:/Users/wiraramawedashwara/hadoop/hadoop/share/hadoop/yarn/lib/asm-3.2.jar:/Users/wiraramawedashwara/hadoop/hadoop/share/hadoop/yarn/lib/netty-3.10.6.Final.jar:/Users/wiraramawedashwara/hadoop/hadoop/share/hadoop/yarn/lib/api-asn1-api-1.0.0-M20.jar:/Users/wiraramawedashwara/hadoop/hadoop/share/hadoop/yarn/lib/apacheds-kerberos-codec-2.0.0-M15.jar:/Users/wiraramawedashwara/hadoop/hadoop/share/hadoop/yarn/lib/curator-recipes-2.13.0.jar:/Users/wiraramawedashwara/hadoop/hadoop/share/hadoop/yarn/lib/reload4j-1.2.18.3.jar:/Users/wiraramawedashwara/hadoop/hadoop/share/hadoop/yarn/lib/commons-beanutils-1.9.4.jar:/Users/wiraramawedashwara/hadoop/hadoop/share/hadoop/yarn/lib/ehcache-3.3.1.jar:/Users/wiraramawedashwara/hadoop/hadoop/share/hadoop/yarn/lib/api-util-1.0.0-M20.jar:/Users/wiraramawedashwara/hadoop/hadoop/share/hadoop/yarn/lib/jsch-0.1.55.jar:/Users/wiraramawedashwara/hadoop/hadoop/share/hadoop/yarn/lib/commons-net-3.1.jar:/Users/wiraramawedashwara/hadoop/hadoop/share/hadoop/yarn/lib/gson-2.2.4.jar:/Users/wiraramawedashwara/hadoop/hadoop/share/hadoop/yarn/lib/jets3t-0.9.0.jar:/Users/wiraramawedashwara/hadoop/hadoop/share/hadoop/yarn/lib/commons-lang-2.6.jar:/Users/wiraramawedashwara/hadoop/hadoop/share/hadoop/yarn/lib/HikariCP-java7-2.4.12.jar:/Users/wiraramawedashwara/hadoop/hadoop/share/hadoop/yarn/lib/json-smart-1.3.3.jar:/Users/wiraramawedashwara/hadoop/hadoop/share/hadoop/yarn/lib/httpclient-4.5.13.jar:/Users/wiraramawedashwara/hadoop/hadoop/share/hadoop/yarn/lib/json-io-2.5.1.jar:/Users/wiraramawedashwara/hadoop/hadoop/share/hadoop/yarn/lib/leveldbjni-all-1.8.jar:/Users/wiraramawedashwara/hadoop/hadoop/share/hadoop/yarn/lib/jsr305-3.0.2.jar:/Users/wiraramawedashwara/hadoop/hadoop/share/hadoop/yarn/lib/jackson-mapper-asl-1.9.13.jar:/Users/wiraramawedashwara/hadoop/hadoop/share/hadoop/yarn/lib/commons-math3-3.1.1.jar:/Users/wiraramawedashwara/hadoop/hadoop/share/hadoop/yarn/lib/commons-lang3-3.4.jar:/Users/wiraramawedashwara/hadoop/hadoop/share/hadoop/yarn/lib/javax.inject-1.jar:/Users/wiraramawedashwara/hadoop/hadoop/share/hadoop/yarn/hadoop-yarn-server-sharedcachemanager-2.10.2.jar:/Users/wiraramawedashwara/hadoop/hadoop/share/hadoop/yarn/hadoop-yarn-server-nodemanager-2.10.2.jar:/Users/wiraramawedashwara/hadoop/hadoop/share/hadoop/yarn/hadoop-yarn-server-router-2.10.2.jar:/Users/wiraramawedashwara/hadoop/hadoop/share/hadoop/yarn/hadoop-yarn-registry-2.10.2.jar:/Users/wiraramawedashwara/hadoop/hadoop/share/hadoop/yarn/hadoop-yarn-server-tests-2.10.2.jar:/Users/wiraramawedashwara/hadoop/hadoop/share/hadoop/yarn/hadoop-yarn-common-2.10.2.jar:/Users/wiraramawedashwara/hadoop/hadoop/share/hadoop/yarn/hadoop-yarn-client-2.10.2.jar:/Users/wiraramawedashwara/hadoop/hadoop/share/hadoop/yarn/hadoop-yarn-server-timeline-pluginstorage-2.10.2.jar:/Users/wiraramawedashwara/hadoop/hadoop/share/hadoop/yarn/hadoop-yarn-server-applicationhistoryservice-2.10.2.jar:/Users/wiraramawedashwara/hadoop/hadoop/share/hadoop/yarn/hadoop-yarn-applications-distributedshell-2.10.2.jar:/Users/wiraramawedashwara/hadoop/hadoop/share/hadoop/yarn/hadoop-yarn-applications-unmanaged-am-launcher-2.10.2.jar:/Users/wiraramawedashwara/hadoop/hadoop/share/hadoop/yarn/hadoop-yarn-server-resourcemanager-2.10.2.jar:/Users/wiraramawedashwara/hadoop/hadoop/share/hadoop/yarn/hadoop-yarn-server-common-2.10.2.jar:/Users/wiraramawedashwara/hadoop/hadoop/share/hadoop/yarn/hadoop-yarn-server-web-proxy-2.10.2.jar:/Users/wiraramawedashwara/hadoop/hadoop/share/hadoop/yarn/hadoop-yarn-api-2.10.2.jar:/Users/wiraramawedashwara/hadoop/hadoop/share/hadoop/mapreduce/lib/aopalliance-1.0.jar:/Users/wiraramawedashwara/hadoop/hadoop/share/hadoop/mapreduce/lib/guice-servlet-3.0.jar:/Users/wiraramawedashwara/hadoop/hadoop/share/hadoop/mapreduce/lib/snappy-java-1.0.5.jar:/Users/wiraramawedashwara/hadoop/hadoop/share/hadoop/mapreduce/lib/hadoop-annotations-2.10.2.jar:/Users/wiraramawedashwara/hadoop/hadoop/share/hadoop/mapreduce/lib/avro-1.7.7.jar:/Users/wiraramawedashwara/hadoop/hadoop/share/hadoop/mapreduce/lib/junit-4.13.2.jar:/Users/wiraramawedashwara/hadoop/hadoop/share/hadoop/mapreduce/lib/protobuf-java-2.5.0.jar:/Users/wiraramawedashwara/hadoop/hadoop/share/hadoop/mapreduce/lib/commons-io-2.5.jar:/Users/wiraramawedashwara/hadoop/hadoop/share/hadoop/mapreduce/lib/jackson-core-asl-1.9.13.jar:/Users/wiraramawedashwara/hadoop/hadoop/share/hadoop/mapreduce/lib/commons-compress-1.21.jar:/Users/wiraramawedashwara/hadoop/hadoop/share/hadoop/mapreduce/lib/jersey-core-1.9.jar:/Users/wiraramawedashwara/hadoop/hadoop/share/hadoop/mapreduce/lib/jersey-server-1.9.jar:/Users/wiraramawedashwara/hadoop/hadoop/share/hadoop/mapreduce/lib/guice-3.0.jar:/Users/wiraramawedashwara/hadoop/hadoop/share/hadoop/mapreduce/lib/jersey-guice-1.9.jar:/Users/wiraramawedashwara/hadoop/hadoop/share/hadoop/mapreduce/lib/paranamer-2.3.jar:/Users/wiraramawedashwara/hadoop/hadoop/share/hadoop/mapreduce/lib/asm-3.2.jar:/Users/wiraramawedashwara/hadoop/hadoop/share/hadoop/mapreduce/lib/netty-3.10.6.Final.jar:/Users/wiraramawedashwara/hadoop/hadoop/share/hadoop/mapreduce/lib/hamcrest-core-1.3.jar:/Users/wiraramawedashwara/hadoop/hadoop/share/hadoop/mapreduce/lib/reload4j-1.2.18.3.jar:/Users/wiraramawedashwara/hadoop/hadoop/share/hadoop/mapreduce/lib/leveldbjni-all-1.8.jar:/Users/wiraramawedashwara/hadoop/hadoop/share/hadoop/mapreduce/lib/jackson-mapper-asl-1.9.13.jar:/Users/wiraramawedashwara/hadoop/hadoop/share/hadoop/mapreduce/lib/javax.inject-1.jar:/Users/wiraramawedashwara/hadoop/hadoop/share/hadoop/mapreduce/hadoop-mapreduce-client-core-2.10.2.jar:/Users/wiraramawedashwara/hadoop/hadoop/share/hadoop/mapreduce/hadoop-mapreduce-client-common-2.10.2.jar:/Users/wiraramawedashwara/hadoop/hadoop/share/hadoop/mapreduce/hadoop-mapreduce-examples-2.10.2.jar:/Users/wiraramawedashwara/hadoop/hadoop/share/hadoop/mapreduce/hadoop-mapreduce-client-jobclient-2.10.2-tests.jar:/Users/wiraramawedashwara/hadoop/hadoop/share/hadoop/mapreduce/hadoop-mapreduce-client-jobclient-2.10.2.jar:/Users/wiraramawedashwara/hadoop/hadoop/share/hadoop/mapreduce/hadoop-mapreduce-client-hs-2.10.2.jar:/Users/wiraramawedashwara/hadoop/hadoop/share/hadoop/mapreduce/hadoop-mapreduce-client-shuffle-2.10.2.jar:/Users/wiraramawedashwara/hadoop/hadoop/share/hadoop/mapreduce/hadoop-mapreduce-client-app-2.10.2.jar:/Users/wiraramawedashwara/hadoop/hadoop/share/hadoop/mapreduce/hadoop-mapreduce-client-hs-plugins-2.10.2.jar:/Users/wiraramawedashwara/hadoop/hadoop/contrib/capacity-scheduler/*.jar\n",
      "STARTUP_MSG:   build = Unknown -r 965fd380006fa78b2315668fbc7eb432e1d8200f; compiled by 'ubuntu' on 2022-05-24T22:35Z\n",
      "STARTUP_MSG:   java = 11.0.13\n",
      "************************************************************/\n",
      "22/11/09 06:48:41 INFO namenode.NameNode: registered UNIX signal handlers for [TERM, HUP, INT]\n",
      "22/11/09 06:48:41 INFO namenode.NameNode: createNameNode [-format]\n",
      "WARNING: An illegal reflective access operation has occurred\n",
      "WARNING: Illegal reflective access by org.apache.hadoop.security.authentication.util.KerberosUtil (file:/Users/wiraramawedashwara/hadoop/hadoop/share/hadoop/common/lib/hadoop-auth-2.10.2.jar) to method sun.security.krb5.Config.getInstance()\n",
      "WARNING: Please consider reporting this to the maintainers of org.apache.hadoop.security.authentication.util.KerberosUtil\n",
      "WARNING: Use --illegal-access=warn to enable warnings of further illegal reflective access operations\n",
      "WARNING: All illegal access operations will be denied in a future release\n",
      "22/11/09 06:48:43 WARN util.NativeCodeLoader: Unable to load native-hadoop library for your platform... using builtin-java classes where applicable\n",
      "Formatting using clusterid: CID-119b8c85-86cf-4c42-8e4b-641811c5606c\n",
      "22/11/09 06:48:46 INFO namenode.FSEditLog: Edit logging is async:true\n",
      "22/11/09 06:48:46 INFO namenode.FSNamesystem: KeyProvider: null\n",
      "22/11/09 06:48:46 INFO namenode.FSNamesystem: fsLock is fair: true\n",
      "22/11/09 06:48:46 INFO namenode.FSNamesystem: Detailed lock hold time metrics enabled: false\n",
      "22/11/09 06:48:46 INFO namenode.FSNamesystem: fsOwner             = wiraramawedashwara (auth:SIMPLE)\n",
      "22/11/09 06:48:46 INFO namenode.FSNamesystem: supergroup          = supergroup\n",
      "22/11/09 06:48:46 INFO namenode.FSNamesystem: isPermissionEnabled = true\n",
      "22/11/09 06:48:46 INFO namenode.FSNamesystem: HA Enabled: false\n",
      "22/11/09 06:48:46 INFO common.Util: dfs.datanode.fileio.profiling.sampling.percentage set to 0. Disabling file IO profiling\n",
      "22/11/09 06:48:46 INFO blockmanagement.DatanodeManager: dfs.block.invalidate.limit: configured=1000, counted=60, effected=1000\n",
      "22/11/09 06:48:46 INFO blockmanagement.DatanodeManager: dfs.namenode.datanode.registration.ip-hostname-check=true\n",
      "22/11/09 06:48:46 INFO blockmanagement.BlockManager: dfs.namenode.startup.delay.block.deletion.sec is set to 000:00:00:00.000\n",
      "22/11/09 06:48:46 INFO blockmanagement.BlockManager: The block deletion will start around 2022 Nov 09 06:48:46\n",
      "22/11/09 06:48:46 INFO util.GSet: Computing capacity for map BlocksMap\n",
      "22/11/09 06:48:46 INFO util.GSet: VM type       = 64-bit\n",
      "22/11/09 06:48:46 INFO util.GSet: 2.0% max memory 1000 MB = 20 MB\n",
      "22/11/09 06:48:46 INFO util.GSet: capacity      = 2^21 = 2097152 entries\n",
      "22/11/09 06:48:46 INFO blockmanagement.BlockManager: dfs.block.access.token.enable=false\n",
      "22/11/09 06:48:46 WARN conf.Configuration: No unit for dfs.heartbeat.interval(3) assuming SECONDS\n",
      "22/11/09 06:48:46 WARN conf.Configuration: No unit for dfs.namenode.safemode.extension(30000) assuming MILLISECONDS\n",
      "22/11/09 06:48:46 INFO blockmanagement.BlockManagerSafeMode: dfs.namenode.safemode.threshold-pct = 0.9990000128746033\n",
      "22/11/09 06:48:46 INFO blockmanagement.BlockManagerSafeMode: dfs.namenode.safemode.min.datanodes = 0\n",
      "22/11/09 06:48:46 INFO blockmanagement.BlockManagerSafeMode: dfs.namenode.safemode.extension = 30000\n",
      "22/11/09 06:48:46 INFO blockmanagement.BlockManager: defaultReplication         = 1\n",
      "22/11/09 06:48:46 INFO blockmanagement.BlockManager: maxReplication             = 512\n",
      "22/11/09 06:48:46 INFO blockmanagement.BlockManager: minReplication             = 1\n",
      "22/11/09 06:48:46 INFO blockmanagement.BlockManager: maxReplicationStreams      = 2\n",
      "22/11/09 06:48:46 INFO blockmanagement.BlockManager: replicationRecheckInterval = 3000\n",
      "22/11/09 06:48:46 INFO blockmanagement.BlockManager: encryptDataTransfer        = false\n",
      "22/11/09 06:48:46 INFO blockmanagement.BlockManager: maxNumBlocksToLog          = 1000\n",
      "22/11/09 06:48:46 INFO namenode.FSNamesystem: Append Enabled: true\n",
      "22/11/09 06:48:47 INFO namenode.FSDirectory: GLOBAL serial map: bits=24 maxEntries=16777215\n",
      "22/11/09 06:48:47 INFO util.GSet: Computing capacity for map INodeMap\n",
      "22/11/09 06:48:47 INFO util.GSet: VM type       = 64-bit\n",
      "22/11/09 06:48:47 INFO util.GSet: 1.0% max memory 1000 MB = 10 MB\n",
      "22/11/09 06:48:47 INFO util.GSet: capacity      = 2^20 = 1048576 entries\n",
      "22/11/09 06:48:47 INFO namenode.FSDirectory: ACLs enabled? false\n",
      "22/11/09 06:48:47 INFO namenode.FSDirectory: XAttrs enabled? true\n",
      "22/11/09 06:48:47 INFO namenode.NameNode: Caching file names occurring more than 10 times\n",
      "22/11/09 06:48:47 INFO snapshot.SnapshotManager: Loaded config captureOpenFiles: falseskipCaptureAccessTimeOnlyChange: false\n",
      "22/11/09 06:48:47 INFO util.GSet: Computing capacity for map cachedBlocks\n",
      "22/11/09 06:48:47 INFO util.GSet: VM type       = 64-bit\n",
      "22/11/09 06:48:47 INFO util.GSet: 0.25% max memory 1000 MB = 2.5 MB\n",
      "22/11/09 06:48:47 INFO util.GSet: capacity      = 2^18 = 262144 entries\n",
      "22/11/09 06:48:47 INFO metrics.TopMetrics: NNTop conf: dfs.namenode.top.window.num.buckets = 10\n",
      "22/11/09 06:48:47 INFO metrics.TopMetrics: NNTop conf: dfs.namenode.top.num.users = 10\n",
      "22/11/09 06:48:47 INFO metrics.TopMetrics: NNTop conf: dfs.namenode.top.windows.minutes = 1,5,25\n",
      "22/11/09 06:48:47 INFO namenode.FSNamesystem: Retry cache on namenode is enabled\n",
      "22/11/09 06:48:47 INFO namenode.FSNamesystem: Retry cache will use 0.03 of total heap and retry cache entry expiry time is 600000 millis\n",
      "22/11/09 06:48:47 INFO util.GSet: Computing capacity for map NameNodeRetryCache\n",
      "22/11/09 06:48:47 INFO util.GSet: VM type       = 64-bit\n",
      "22/11/09 06:48:47 INFO util.GSet: 0.029999999329447746% max memory 1000 MB = 307.2 KB\n",
      "22/11/09 06:48:47 INFO util.GSet: capacity      = 2^15 = 32768 entries\n",
      "22/11/09 06:48:47 INFO namenode.FSImage: Allocated new BlockPoolId: BP-1252204700-192.168.1.5-1667947727250\n",
      "22/11/09 06:48:47 INFO common.Storage: Storage directory /tmp/hadoop-wiraramawedashwara/dfs/name has been successfully formatted.\n",
      "22/11/09 06:48:47 INFO namenode.FSImageFormatProtobuf: Saving image file /tmp/hadoop-wiraramawedashwara/dfs/name/current/fsimage.ckpt_0000000000000000000 using no compression\n",
      "22/11/09 06:48:47 INFO namenode.FSImageFormatProtobuf: Image file /tmp/hadoop-wiraramawedashwara/dfs/name/current/fsimage.ckpt_0000000000000000000 of size 337 bytes saved in 0 seconds .\n",
      "22/11/09 06:48:47 INFO namenode.NNStorageRetentionManager: Going to retain 1 images with txid >= 0\n",
      "22/11/09 06:48:47 INFO namenode.FSImage: FSImageSaver clean checkpoint: txid = 0 when meet shutdown.\n",
      "22/11/09 06:48:47 INFO namenode.NameNode: SHUTDOWN_MSG: \n",
      "/************************************************************\n",
      "SHUTDOWN_MSG: Shutting down NameNode at 192.168.1.5/192.168.1.5\n",
      "************************************************************/\n"
     ]
    }
   ],
   "source": [
    "!hdfs namenode -format"
   ]
  },
  {
   "cell_type": "code",
   "execution_count": 15,
   "metadata": {},
   "outputs": [
    {
     "name": "stdout",
     "output_type": "stream",
     "text": [
      "WARNING: An illegal reflective access operation has occurred\n",
      "WARNING: Illegal reflective access by org.apache.hadoop.security.authentication.util.KerberosUtil (file:/Users/wiraramawedashwara/hadoop/hadoop/share/hadoop/common/lib/hadoop-auth-2.10.2.jar) to method sun.security.krb5.Config.getInstance()\n",
      "WARNING: Please consider reporting this to the maintainers of org.apache.hadoop.security.authentication.util.KerberosUtil\n",
      "WARNING: Use --illegal-access=warn to enable warnings of further illegal reflective access operations\n",
      "WARNING: All illegal access operations will be denied in a future release\n",
      "22/11/09 08:21:56 WARN util.NativeCodeLoader: Unable to load native-hadoop library for your platform... using builtin-java classes where applicable\n",
      "Starting namenodes on [localhost]\n",
      "localhost: starting namenode, logging to /Users/wiraramawedashwara/hadoop/hadoop/logs/hadoop-wiraramawedashwara-namenode-wiraramas-MacBook-Pro.local.out\n",
      "localhost: starting datanode, logging to /Users/wiraramawedashwara/hadoop/hadoop/logs/hadoop-wiraramawedashwara-datanode-wiraramas-MacBook-Pro.local.out\n",
      "Starting secondary namenodes [0.0.0.0]\n",
      "0.0.0.0: starting secondarynamenode, logging to /Users/wiraramawedashwara/hadoop/hadoop/logs/hadoop-wiraramawedashwara-secondarynamenode-wiraramas-MacBook-Pro.local.out\n",
      "WARNING: An illegal reflective access operation has occurred\n",
      "WARNING: Illegal reflective access by org.apache.hadoop.security.authentication.util.KerberosUtil (file:/Users/wiraramawedashwara/hadoop/hadoop/share/hadoop/common/lib/hadoop-auth-2.10.2.jar) to method sun.security.krb5.Config.getInstance()\n",
      "WARNING: Please consider reporting this to the maintainers of org.apache.hadoop.security.authentication.util.KerberosUtil\n",
      "WARNING: Use --illegal-access=warn to enable warnings of further illegal reflective access operations\n",
      "WARNING: All illegal access operations will be denied in a future release\n",
      "22/11/09 08:22:13 WARN util.NativeCodeLoader: Unable to load native-hadoop library for your platform... using builtin-java classes where applicable\n"
     ]
    }
   ],
   "source": [
    "!start-dfs.sh"
   ]
  },
  {
   "cell_type": "markdown",
   "metadata": {},
   "source": [
    "http://localhost:50070/"
   ]
  },
  {
   "cell_type": "code",
   "execution_count": 3,
   "metadata": {},
   "outputs": [
    {
     "name": "stdout",
     "output_type": "stream",
     "text": [
      "WARNING: An illegal reflective access operation has occurred\n",
      "WARNING: Illegal reflective access by org.apache.hadoop.security.authentication.util.KerberosUtil (file:/Users/wiraramawedashwara/hadoop/hadoop/share/hadoop/common/lib/hadoop-auth-2.10.2.jar) to method sun.security.krb5.Config.getInstance()\n",
      "WARNING: Please consider reporting this to the maintainers of org.apache.hadoop.security.authentication.util.KerberosUtil\n",
      "WARNING: Use --illegal-access=warn to enable warnings of further illegal reflective access operations\n",
      "WARNING: All illegal access operations will be denied in a future release\n",
      "22/11/09 06:51:29 WARN util.NativeCodeLoader: Unable to load native-hadoop library for your platform... using builtin-java classes where applicable\n"
     ]
    }
   ],
   "source": [
    "!hdfs dfs -mkdir /user"
   ]
  },
  {
   "cell_type": "code",
   "execution_count": 4,
   "metadata": {},
   "outputs": [
    {
     "name": "stdout",
     "output_type": "stream",
     "text": [
      "WARNING: An illegal reflective access operation has occurred\n",
      "WARNING: Illegal reflective access by org.apache.hadoop.security.authentication.util.KerberosUtil (file:/Users/wiraramawedashwara/hadoop/hadoop/share/hadoop/common/lib/hadoop-auth-2.10.2.jar) to method sun.security.krb5.Config.getInstance()\n",
      "WARNING: Please consider reporting this to the maintainers of org.apache.hadoop.security.authentication.util.KerberosUtil\n",
      "WARNING: Use --illegal-access=warn to enable warnings of further illegal reflective access operations\n",
      "WARNING: All illegal access operations will be denied in a future release\n",
      "22/11/09 06:51:34 WARN util.NativeCodeLoader: Unable to load native-hadoop library for your platform... using builtin-java classes where applicable\n"
     ]
    }
   ],
   "source": [
    "!hdfs dfs -mkdir /user/wiraramawedashwara"
   ]
  },
  {
   "cell_type": "code",
   "execution_count": null,
   "metadata": {},
   "outputs": [],
   "source": [
    "!hdfs dfs -ls /"
   ]
  },
  {
   "cell_type": "code",
   "execution_count": 13,
   "metadata": {},
   "outputs": [
    {
     "name": "stdout",
     "output_type": "stream",
     "text": [
      "WARNING: An illegal reflective access operation has occurred\n",
      "WARNING: Illegal reflective access by org.apache.hadoop.security.authentication.util.KerberosUtil (file:/Users/wiraramawedashwara/hadoop/hadoop/share/hadoop/common/lib/hadoop-auth-2.10.2.jar) to method sun.security.krb5.Config.getInstance()\n",
      "WARNING: Please consider reporting this to the maintainers of org.apache.hadoop.security.authentication.util.KerberosUtil\n",
      "WARNING: Use --illegal-access=warn to enable warnings of further illegal reflective access operations\n",
      "WARNING: All illegal access operations will be denied in a future release\n",
      "22/11/09 06:54:29 WARN util.NativeCodeLoader: Unable to load native-hadoop library for your platform... using builtin-java classes where applicable\n"
     ]
    }
   ],
   "source": [
    "!hdfs dfs -ls /user/wiraramawedashwara/httpdata/"
   ]
  },
  {
   "cell_type": "code",
   "execution_count": null,
   "metadata": {},
   "outputs": [],
   "source": [
    "!~/hadoop/hadoop/bin/hdfs dfs -put ~/hadoop/hadoop/etc/hadoop input"
   ]
  },
  {
   "cell_type": "code",
   "execution_count": null,
   "metadata": {},
   "outputs": [],
   "source": [
    "!~/hadoop/hadoop/bin/hadoop jar ~/hadoop/hadoop/share/hadoop/mapreduce/hadoop-mapreduce-examples-2.10.2.jar grep input output '[a-z.]+'"
   ]
  },
  {
   "cell_type": "code",
   "execution_count": null,
   "metadata": {},
   "outputs": [],
   "source": [
    "!~/hadoop/hadoop/bin/hdfs dfs -get output output"
   ]
  },
  {
   "cell_type": "code",
   "execution_count": null,
   "metadata": {},
   "outputs": [],
   "source": [
    "!cat output/*"
   ]
  },
  {
   "cell_type": "code",
   "execution_count": null,
   "metadata": {},
   "outputs": [],
   "source": [
    "!~/hadoop/hadoop/bin/hdfs dfs -cat output/*"
   ]
  },
  {
   "cell_type": "code",
   "execution_count": 14,
   "metadata": {},
   "outputs": [
    {
     "name": "stdout",
     "output_type": "stream",
     "text": [
      "WARNING: An illegal reflective access operation has occurred\n",
      "WARNING: Illegal reflective access by org.apache.hadoop.security.authentication.util.KerberosUtil (file:/Users/wiraramawedashwara/hadoop/hadoop/share/hadoop/common/lib/hadoop-auth-2.10.2.jar) to method sun.security.krb5.Config.getInstance()\n",
      "WARNING: Please consider reporting this to the maintainers of org.apache.hadoop.security.authentication.util.KerberosUtil\n",
      "WARNING: Use --illegal-access=warn to enable warnings of further illegal reflective access operations\n",
      "WARNING: All illegal access operations will be denied in a future release\n",
      "22/11/09 06:55:10 WARN util.NativeCodeLoader: Unable to load native-hadoop library for your platform... using builtin-java classes where applicable\n",
      "Stopping namenodes on [localhost]\n",
      "localhost: stopping namenode\n",
      "localhost: stopping datanode\n",
      "Stopping secondary namenodes [0.0.0.0]\n",
      "0.0.0.0: stopping secondarynamenode\n",
      "WARNING: An illegal reflective access operation has occurred\n",
      "WARNING: Illegal reflective access by org.apache.hadoop.security.authentication.util.KerberosUtil (file:/Users/wiraramawedashwara/hadoop/hadoop/share/hadoop/common/lib/hadoop-auth-2.10.2.jar) to method sun.security.krb5.Config.getInstance()\n",
      "WARNING: Please consider reporting this to the maintainers of org.apache.hadoop.security.authentication.util.KerberosUtil\n",
      "WARNING: Use --illegal-access=warn to enable warnings of further illegal reflective access operations\n",
      "WARNING: All illegal access operations will be denied in a future release\n",
      "22/11/09 06:55:30 WARN util.NativeCodeLoader: Unable to load native-hadoop library for your platform... using builtin-java classes where applicable\n"
     ]
    }
   ],
   "source": [
    "!~/hadoop/hadoop/sbin/stop-dfs.sh"
   ]
  },
  {
   "cell_type": "markdown",
   "metadata": {},
   "source": [
    "# Hadoop Mapreduce Python (Nilai 100)"
   ]
  },
  {
   "cell_type": "code",
   "execution_count": null,
   "metadata": {},
   "outputs": [],
   "source": [
    "!echo \"tadi pagi tidak hujan tetapi mendung\" | ~/python/bigdata2022/mapper.py"
   ]
  },
  {
   "cell_type": "code",
   "execution_count": null,
   "metadata": {},
   "outputs": [],
   "source": [
    "!echo \"tadi pagi pagi tidak hujan tetapi tidak mendung\" | ~/python/bigdata2022/mapper.py | sort -k1,1 | ~/python/bigdata2022/reducer.py"
   ]
  },
  {
   "cell_type": "code",
   "execution_count": null,
   "metadata": {},
   "outputs": [],
   "source": [
    "!cat ~/python/bigdata2022/data/pg20417.txt | ~/python/bigdata2022/mapper.py | sort -k1,1 | ~/python/bigdata2022/reducer.py"
   ]
  },
  {
   "cell_type": "code",
   "execution_count": null,
   "metadata": {},
   "outputs": [],
   "source": [
    "!rm -rf ~/python/bigdata2022/data-hasil"
   ]
  },
  {
   "cell_type": "code",
   "execution_count": null,
   "metadata": {},
   "outputs": [],
   "source": [
    "!~/hadoop/hadoop/bin/hadoop jar ~/hadoop/hadoop/share/hadoop/tools/lib/hadoop-streaming-2.10.2.jar -mapper mapper.py -reducer reducer.py -input ~/python/bigdata2022/data/pg20417.txt -output ~/python/bigdata2022/data-hasil"
   ]
  },
  {
   "cell_type": "markdown",
   "metadata": {},
   "source": [
    "!~/hadoop/hadoop/bin/hadoop jar ~/hadoop/hadoop/share/hadoop/tools/lib/hadoop-streaming-2.10.2.jar -mapper mapper.py -reducer reducer.py -input ~/python/bigdata2022/data/pg20417.txt -output ~/python/bigdata2022/data-hasil"
   ]
  },
  {
   "cell_type": "code",
   "execution_count": null,
   "metadata": {},
   "outputs": [],
   "source": [
    "!cat ~/python/bigdata2022/data-hasil/*"
   ]
  },
  {
   "cell_type": "markdown",
   "metadata": {},
   "source": [
    "untuk mac saja\n",
    "!sudo launchctl load -w /System/Library/LaunchDaemons/ssh.plist"
   ]
  },
  {
   "cell_type": "code",
   "execution_count": 1,
   "metadata": {},
   "outputs": [
    {
     "name": "stdout",
     "output_type": "stream",
     "text": [
      "Password:\n",
      "sudo: a password is required\n"
     ]
    }
   ],
   "source": [
    "!sudo launchctl unload /System/Library/LaunchDaemons/ssh.plist"
   ]
  },
  {
   "cell_type": "code",
   "execution_count": null,
   "metadata": {},
   "outputs": [],
   "source": [
    "!cat ~/python/bigdata2022/data/articles.csv | ~/python/bigdata2022/mappercsv.py | sort -k1,1 | ~/python/bigdata2022/reducer.py"
   ]
  }
 ],
 "metadata": {
  "kernelspec": {
   "display_name": "Python 3 (ipykernel)",
   "language": "python",
   "name": "python3"
  },
  "language_info": {
   "codemirror_mode": {
    "name": "ipython",
    "version": 3
   },
   "file_extension": ".py",
   "mimetype": "text/x-python",
   "name": "python",
   "nbconvert_exporter": "python",
   "pygments_lexer": "ipython3",
   "version": "3.9.12"
  }
 },
 "nbformat": 4,
 "nbformat_minor": 4
}
