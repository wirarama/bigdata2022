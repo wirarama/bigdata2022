{
 "cells": [
  {
   "cell_type": "code",
   "execution_count": 1,
   "id": "77f9de04",
   "metadata": {},
   "outputs": [
    {
     "name": "stderr",
     "output_type": "stream",
     "text": [
      "Setting default log level to \"WARN\".\n",
      "To adjust logging level use sc.setLogLevel(newLevel). For SparkR, use setLogLevel(newLevel).\n"
     ]
    },
    {
     "name": "stdout",
     "output_type": "stream",
     "text": [
      "22/08/24 10:37:27 WARN NativeCodeLoader: Unable to load native-hadoop library for your platform... using builtin-java classes where applicable\n"
     ]
    },
    {
     "name": "stderr",
     "output_type": "stream",
     "text": [
      "                                                                                \r"
     ]
    },
    {
     "name": "stdout",
     "output_type": "stream",
     "text": [
      "22/08/24 10:38:09 WARN CSVHeaderChecker: CSV header does not conform to the schema.\n",
      " Header: NA, Date, AveragePrice, Total Volume, 4046, 4225, 4770, Total Bags, Small Bags, Large Bags, XLarge Bags, type, year, region\n",
      " Schema: _c0, Date, AveragePrice, Total Volume, 4046, 4225, 4770, Total Bags, Small Bags, Large Bags, XLarge Bags, type, year, region\n",
      "Expected: _c0 but found: NA\n",
      "CSV file: file:///Users/wirarama/python/FGA/BPDFGA/avocado.csv\n",
      "+---+-------------------+------------+------------+-------+---------+-----+----------+----------+----------+-----------+------------+----+------+\n",
      "|_c0|               Date|AveragePrice|Total Volume|   4046|     4225| 4770|Total Bags|Small Bags|Large Bags|XLarge Bags|        type|year|region|\n",
      "+---+-------------------+------------+------------+-------+---------+-----+----------+----------+----------+-----------+------------+----+------+\n",
      "|  0|2015-12-27 00:00:00|        1.33|    64236.62|1036.74| 54454.85|48.16|   8696.87|   8603.62|     93.25|        0.0|conventional|2015|Albany|\n",
      "|  1|2015-12-20 00:00:00|        1.35|    54876.98| 674.28| 44638.81|58.33|   9505.56|   9408.07|     97.49|        0.0|conventional|2015|Albany|\n",
      "|  2|2015-12-13 00:00:00|        0.93|   118220.22|  794.7|109149.67|130.5|   8145.35|   8042.21|    103.14|        0.0|conventional|2015|Albany|\n",
      "|  3|2015-12-06 00:00:00|        1.08|    78992.15| 1132.0| 71976.41|72.58|   5811.16|    5677.4|    133.76|        0.0|conventional|2015|Albany|\n",
      "|  4|2015-11-29 00:00:00|        1.28|     51039.6| 941.48| 43838.39|75.78|   6183.95|   5986.26|    197.69|        0.0|conventional|2015|Albany|\n",
      "+---+-------------------+------------+------------+-------+---------+-----+----------+----------+----------+-----------+------------+----+------+\n",
      "only showing top 5 rows\n",
      "\n"
     ]
    }
   ],
   "source": [
    "from pyspark.sql import SparkSession\n",
    "spark = SparkSession.builder.master('local[*]').appName('test').getOrCreate()\n",
    "df = spark.read.csv('avocado.csv', sep=',', header=True, inferSchema=True,\n",
    "                         nullValue='NA')\n",
    "df.show(5)"
   ]
  },
  {
   "cell_type": "code",
   "execution_count": 2,
   "id": "bbde7f7c",
   "metadata": {},
   "outputs": [
    {
     "name": "stderr",
     "output_type": "stream",
     "text": [
      "                                                                                \r"
     ]
    }
   ],
   "source": [
    "from pyspark.ml.feature import StringIndexer\n",
    "indexer = StringIndexer(inputCol='region', outputCol='label')\n",
    "indexer_model = indexer.fit(df)\n",
    "df_indexed = indexer_model.transform(df)"
   ]
  },
  {
   "cell_type": "code",
   "execution_count": 3,
   "id": "940ee597",
   "metadata": {},
   "outputs": [
    {
     "name": "stdout",
     "output_type": "stream",
     "text": [
      "+--------------------+-----+\n",
      "|features            |label|\n",
      "+--------------------+-----+\n",
      "|[8603.62,93.25,0.0] |0.0  |\n",
      "|[9408.07,97.49,0.0] |0.0  |\n",
      "|[8042.21,103.14,0.0]|0.0  |\n",
      "|[5677.4,133.76,0.0] |0.0  |\n",
      "|[5986.26,197.69,0.0]|0.0  |\n",
      "+--------------------+-----+\n",
      "only showing top 5 rows\n",
      "\n"
     ]
    }
   ],
   "source": [
    "from pyspark.ml.feature import VectorAssembler\n",
    "assembler = VectorAssembler(inputCols=['Small Bags','Large Bags','XLarge Bags'],\n",
    "                            outputCol='features')\n",
    "df_assembled = assembler.transform(df_indexed)\n",
    "df_assembled.select('features', 'label').show(5, truncate=False)"
   ]
  },
  {
   "cell_type": "code",
   "execution_count": 4,
   "id": "2ce0da2c",
   "metadata": {},
   "outputs": [
    {
     "name": "stdout",
     "output_type": "stream",
     "text": [
      "22/08/24 10:39:51 WARN CSVHeaderChecker: CSV header does not conform to the schema.\n",
      " Header: NA, Date, AveragePrice, Total Volume, 4046, 4225, 4770, Total Bags, Small Bags, Large Bags, XLarge Bags, type, year, region\n",
      " Schema: _c0, Date, AveragePrice, Total Volume, 4046, 4225, 4770, Total Bags, Small Bags, Large Bags, XLarge Bags, type, year, region\n",
      "Expected: _c0 but found: NA\n",
      "CSV file: file:///Users/wirarama/python/FGA/BPDFGA/avocado.csv\n"
     ]
    },
    {
     "name": "stderr",
     "output_type": "stream",
     "text": [
      "                                                                                \r"
     ]
    },
    {
     "name": "stdout",
     "output_type": "stream",
     "text": [
      "0.7967011891062524\n"
     ]
    }
   ],
   "source": [
    "df_train, df_test = df_assembled.randomSplit([0.8, 0.2], seed=17)\n",
    "training_ratio = df_train.count() / df_assembled.count()\n",
    "print(training_ratio)"
   ]
  },
  {
   "cell_type": "code",
   "execution_count": 5,
   "id": "11aadecd",
   "metadata": {},
   "outputs": [
    {
     "name": "stdout",
     "output_type": "stream",
     "text": [
      "22/08/24 10:40:59 WARN CSVHeaderChecker: CSV header does not conform to the schema.\n",
      " Header: NA, Date, AveragePrice, Total Volume, 4046, 4225, 4770, Total Bags, Small Bags, Large Bags, XLarge Bags, type, year, region\n",
      " Schema: _c0, Date, AveragePrice, Total Volume, 4046, 4225, 4770, Total Bags, Small Bags, Large Bags, XLarge Bags, type, year, region\n",
      "Expected: _c0 but found: NA\n",
      "CSV file: file:///Users/wirarama/python/FGA/BPDFGA/avocado.csv\n"
     ]
    },
    {
     "name": "stderr",
     "output_type": "stream",
     "text": [
      "\r",
      "[Stage 13:>                                                         (0 + 1) / 1]\r",
      "\r",
      "                                                                                \r"
     ]
    },
    {
     "name": "stdout",
     "output_type": "stream",
     "text": [
      "22/08/24 10:41:00 WARN CSVHeaderChecker: CSV header does not conform to the schema.\n",
      " Header: NA, Date, AveragePrice, Total Volume, 4046, 4225, 4770, Total Bags, Small Bags, Large Bags, XLarge Bags, type, year, region\n",
      " Schema: _c0, Date, AveragePrice, Total Volume, 4046, 4225, 4770, Total Bags, Small Bags, Large Bags, XLarge Bags, type, year, region\n",
      "Expected: _c0 but found: NA\n",
      "CSV file: file:///Users/wirarama/python/FGA/BPDFGA/avocado.csv\n"
     ]
    },
    {
     "name": "stderr",
     "output_type": "stream",
     "text": [
      "                                                                                \r"
     ]
    },
    {
     "name": "stdout",
     "output_type": "stream",
     "text": [
      "22/08/24 10:41:01 WARN CSVHeaderChecker: CSV header does not conform to the schema.\n",
      " Header: NA, Date, AveragePrice, Total Volume, 4046, 4225, 4770, Total Bags, Small Bags, Large Bags, XLarge Bags, type, year, region\n",
      " Schema: _c0, Date, AveragePrice, Total Volume, 4046, 4225, 4770, Total Bags, Small Bags, Large Bags, XLarge Bags, type, year, region\n",
      "Expected: _c0 but found: NA\n",
      "CSV file: file:///Users/wirarama/python/FGA/BPDFGA/avocado.csv\n"
     ]
    },
    {
     "name": "stderr",
     "output_type": "stream",
     "text": [
      "                                                                                \r"
     ]
    },
    {
     "name": "stdout",
     "output_type": "stream",
     "text": [
      "22/08/24 10:41:03 WARN CSVHeaderChecker: CSV header does not conform to the schema.\n",
      " Header: NA, Date, AveragePrice, Total Volume, 4046, 4225, 4770, Total Bags, Small Bags, Large Bags, XLarge Bags, type, year, region\n",
      " Schema: _c0, Date, AveragePrice, Total Volume, 4046, 4225, 4770, Total Bags, Small Bags, Large Bags, XLarge Bags, type, year, region\n",
      "Expected: _c0 but found: NA\n",
      "CSV file: file:///Users/wirarama/python/FGA/BPDFGA/avocado.csv\n"
     ]
    },
    {
     "name": "stderr",
     "output_type": "stream",
     "text": [
      "                                                                                \r"
     ]
    },
    {
     "name": "stdout",
     "output_type": "stream",
     "text": [
      "22/08/24 10:41:06 WARN CSVHeaderChecker: CSV header does not conform to the schema.\n",
      " Header: NA, Date, AveragePrice, Total Volume, 4046, 4225, 4770, Total Bags, Small Bags, Large Bags, XLarge Bags, type, year, region\n",
      " Schema: _c0, Date, AveragePrice, Total Volume, 4046, 4225, 4770, Total Bags, Small Bags, Large Bags, XLarge Bags, type, year, region\n",
      "Expected: _c0 but found: NA\n",
      "CSV file: file:///Users/wirarama/python/FGA/BPDFGA/avocado.csv\n",
      "+-----+----------+-------------------------------------------------------------------------------------------------------------------------------------------------------------------------------------------------------------------------------------------------------------------------------------------------------------------------------------------------------------------------------------------------------------------------------------------------------------------------------------------------------------------------------------------------------------------------------------------------------------------------------------------------------------------------------------------------------------------------------------------------------------------------------------------------------------------------------------------------------------------------------------------------------------------------------------------------------------------------------------------------------------------------------------------+\n",
      "|label|prediction|probability                                                                                                                                                                                                                                                                                                                                                                                                                                                                                                                                                                                                                                                                                                                                                                                                                                                                                                                                                                                                                                |\n",
      "+-----+----------+-------------------------------------------------------------------------------------------------------------------------------------------------------------------------------------------------------------------------------------------------------------------------------------------------------------------------------------------------------------------------------------------------------------------------------------------------------------------------------------------------------------------------------------------------------------------------------------------------------------------------------------------------------------------------------------------------------------------------------------------------------------------------------------------------------------------------------------------------------------------------------------------------------------------------------------------------------------------------------------------------------------------------------------------+\n",
      "|33.0 |31.0      |[0.0,0.026449643947100712,0.0,0.001017293997965412,0.01627670396744659,0.003051881993896236,0.00508646998982706,0.001017293997965412,0.008138351983723296,0.004069175991861648,0.00508646998982706,0.004069175991861648,0.0335707019328586,0.006103763987792472,0.0,0.01017293997965412,0.002034587995930824,0.002034587995930824,0.05188199389623601,0.04577822990844354,0.012207527975584944,0.09867751780264497,0.002034587995930824,0.00508646998982706,0.10274669379450661,0.01017293997965412,0.028484231943031537,0.019328585961342827,0.0,0.006103763987792472,0.008138351983723296,0.10986775178026449,0.004069175991861648,0.026449643947100712,0.004069175991861648,0.001017293997965412,0.004069175991861648,0.001017293997965412,0.002034587995930824,0.007121057985757884,0.0,0.002034587995930824,0.0,0.0,0.07121057985757884,0.01017293997965412,0.008138351983723296,0.004069175991861648,0.042726347914547304,0.0,0.10681586978636826,0.006103763987792472,0.04170905391658189,0.028484231943031537]                     |\n",
      "|21.0 |52.0      |[0.0024630541871921183,0.027093596059113302,0.0,0.0,0.0,0.012315270935960592,0.0049261083743842365,0.0,0.0,0.017241379310344827,0.0,0.0,0.014778325123152709,0.0024630541871921183,0.0,0.14039408866995073,0.0,0.0,0.0049261083743842365,0.009852216748768473,0.10591133004926108,0.017241379310344827,0.0049261083743842365,0.06896551724137931,0.014778325123152709,0.10591133004926108,0.019704433497536946,0.0,0.0,0.012315270935960592,0.04187192118226601,0.046798029556650245,0.0,0.0,0.009852216748768473,0.05665024630541872,0.0049261083743842365,0.0,0.0,0.0,0.0,0.0049261083743842365,0.0,0.007389162561576354,0.0024630541871921183,0.0,0.07389162561576355,0.0,0.0,0.012315270935960592,0.007389162561576354,0.0,0.14532019704433496,0.0]                                                                                                                                                                                                                                                                                    |\n",
      "|27.0 |42.0      |[0.0,0.0033492822966507177,0.006220095693779904,0.004784688995215311,0.04114832535885168,0.02727272727272727,0.03014354066985646,0.050239234449760764,0.06172248803827751,9.569377990430622E-4,0.02631578947368421,0.019138755980861243,0.0019138755980861245,0.03588516746411483,0.03014354066985646,0.00430622009569378,0.06028708133971292,0.05502392344497608,0.0033492822966507177,0.004784688995215311,4.784688995215311E-4,0.0023923444976076554,0.01770334928229665,0.0,0.0,0.009569377990430622,0.019617224880382776,0.050239234449760764,0.007655502392344498,0.022488038277511963,0.00909090909090909,4.784688995215311E-4,0.03779904306220096,0.0014354066985645933,4.784688995215311E-4,0.0,0.012440191387559809,0.06172248803827751,0.042105263157894736,0.03062200956937799,0.01818181818181818,0.01722488038277512,0.06411483253588517,0.008133971291866028,0.012440191387559809,0.028229665071770334,0.011004784688995215,0.010047846889952153,0.025358851674641147,0.0,4.784688995215311E-4,0.0,0.0,0.011483253588516746]|\n",
      "|50.0 |31.0      |[0.0,0.026449643947100712,0.0,0.001017293997965412,0.01627670396744659,0.003051881993896236,0.00508646998982706,0.001017293997965412,0.008138351983723296,0.004069175991861648,0.00508646998982706,0.004069175991861648,0.0335707019328586,0.006103763987792472,0.0,0.01017293997965412,0.002034587995930824,0.002034587995930824,0.05188199389623601,0.04577822990844354,0.012207527975584944,0.09867751780264497,0.002034587995930824,0.00508646998982706,0.10274669379450661,0.01017293997965412,0.028484231943031537,0.019328585961342827,0.0,0.006103763987792472,0.008138351983723296,0.10986775178026449,0.004069175991861648,0.026449643947100712,0.004069175991861648,0.001017293997965412,0.004069175991861648,0.001017293997965412,0.002034587995930824,0.007121057985757884,0.0,0.002034587995930824,0.0,0.0,0.07121057985757884,0.01017293997965412,0.008138351983723296,0.004069175991861648,0.042726347914547304,0.0,0.10681586978636826,0.006103763987792472,0.04170905391658189,0.028484231943031537]                     |\n",
      "|38.0 |30.0      |[0.003076923076923077,7.692307692307692E-4,0.05692307692307692,0.03307692307692308,0.03,0.047692307692307694,0.033846153846153845,0.005384615384615384,0.025384615384615384,0.0,7.692307692307692E-4,0.01769230769230769,0.002307692307692308,7.692307692307692E-4,0.02076923076923077,0.0,0.04461538461538461,0.038461538461538464,0.03230769230769231,0.0,0.0,0.016153846153846154,0.04461538461538461,0.0,0.013076923076923076,0.0,0.0,0.009230769230769232,0.023076923076923078,0.005384615384615384,0.14,0.0038461538461538464,0.024615384615384615,0.03307692307692308,0.02846153846153846,0.0,0.005384615384615384,7.692307692307692E-4,0.023076923076923078,0.022307692307692306,0.05615384615384615,0.01769230769230769,0.003076923076923077,0.010769230769230769,0.0,0.0,7.692307692307692E-4,0.046153846153846156,0.02076923076923077,0.04230769230769231,0.0038461538461538464,0.0,0.0,0.011538461538461539]                                                                                                                   |\n",
      "+-----+----------+-------------------------------------------------------------------------------------------------------------------------------------------------------------------------------------------------------------------------------------------------------------------------------------------------------------------------------------------------------------------------------------------------------------------------------------------------------------------------------------------------------------------------------------------------------------------------------------------------------------------------------------------------------------------------------------------------------------------------------------------------------------------------------------------------------------------------------------------------------------------------------------------------------------------------------------------------------------------------------------------------------------------------------------------+\n",
      "only showing top 5 rows\n",
      "\n"
     ]
    }
   ],
   "source": [
    "from pyspark.ml.classification import DecisionTreeClassifier\n",
    "tree = DecisionTreeClassifier()\n",
    "tree_model = tree.fit(df_train)\n",
    "prediction = tree_model.transform(df_test)\n",
    "prediction.select('label', 'prediction', 'probability').show(5, False)"
   ]
  },
  {
   "cell_type": "code",
   "execution_count": 10,
   "id": "a7d55794",
   "metadata": {},
   "outputs": [
    {
     "name": "stdout",
     "output_type": "stream",
     "text": [
      "22/08/24 10:47:19 WARN CSVHeaderChecker: CSV header does not conform to the schema.\n",
      " Header: NA, Date, AveragePrice, Total Volume, 4046, 4225, 4770, Total Bags, Small Bags, Large Bags, XLarge Bags, type, year, region\n",
      " Schema: _c0, Date, AveragePrice, Total Volume, 4046, 4225, 4770, Total Bags, Small Bags, Large Bags, XLarge Bags, type, year, region\n",
      "Expected: _c0 but found: NA\n",
      "CSV file: file:///Users/wirarama/python/FGA/BPDFGA/avocado.csv\n"
     ]
    },
    {
     "name": "stderr",
     "output_type": "stream",
     "text": [
      "\r",
      "[Stage 163:>                                                        (0 + 1) / 1]\r",
      "\r",
      "                                                                                \r"
     ]
    },
    {
     "name": "stdout",
     "output_type": "stream",
     "text": [
      "+-----+----------+-----+\n",
      "|label|prediction|count|\n",
      "+-----+----------+-----+\n",
      "| 24.0|      33.0|   13|\n",
      "|  8.0|       3.0|    3|\n",
      "|  7.0|      32.0|    8|\n",
      "| 31.0|      43.0|    1|\n",
      "| 40.0|       2.0|    8|\n",
      "| 16.0|       8.0|    2|\n",
      "| 30.0|      40.0|    8|\n",
      "| 44.0|      30.0|    3|\n",
      "| 37.0|      32.0|    1|\n",
      "| 34.0|      21.0|    9|\n",
      "| 15.0|      45.0|    5|\n",
      "|  2.0|       0.0|   15|\n",
      "| 41.0|       5.0|    6|\n",
      "| 10.0|      27.0|    4|\n",
      "| 20.0|      26.0|    1|\n",
      "|  6.0|      29.0|    5|\n",
      "| 12.0|       5.0|    2|\n",
      "| 48.0|      19.0|    1|\n",
      "| 52.0|      45.0|    2|\n",
      "| 22.0|       5.0|    3|\n",
      "+-----+----------+-----+\n",
      "only showing top 20 rows\n",
      "\n",
      "22/08/24 10:47:20 WARN CSVHeaderChecker: CSV header does not conform to the schema.\n",
      " Header: NA, Date, AveragePrice, Total Volume, 4046, 4225, 4770, Total Bags, Small Bags, Large Bags, XLarge Bags, type, year, region\n",
      " Schema: _c0, Date, AveragePrice, Total Volume, 4046, 4225, 4770, Total Bags, Small Bags, Large Bags, XLarge Bags, type, year, region\n",
      "Expected: _c0 but found: NA\n",
      "CSV file: file:///Users/wirarama/python/FGA/BPDFGA/avocado.csv\n",
      "22/08/24 10:47:21 WARN CSVHeaderChecker: CSV header does not conform to the schema.\n",
      " Header: NA, Date, AveragePrice, Total Volume, 4046, 4225, 4770, Total Bags, Small Bags, Large Bags, XLarge Bags, type, year, region\n",
      " Schema: _c0, Date, AveragePrice, Total Volume, 4046, 4225, 4770, Total Bags, Small Bags, Large Bags, XLarge Bags, type, year, region\n",
      "Expected: _c0 but found: NA\n",
      "CSV file: file:///Users/wirarama/python/FGA/BPDFGA/avocado.csv\n",
      "22/08/24 10:47:22 WARN CSVHeaderChecker: CSV header does not conform to the schema.\n",
      " Header: NA, Date, AveragePrice, Total Volume, 4046, 4225, 4770, Total Bags, Small Bags, Large Bags, XLarge Bags, type, year, region\n",
      " Schema: _c0, Date, AveragePrice, Total Volume, 4046, 4225, 4770, Total Bags, Small Bags, Large Bags, XLarge Bags, type, year, region\n",
      "Expected: _c0 but found: NA\n",
      "CSV file: file:///Users/wirarama/python/FGA/BPDFGA/avocado.csv\n",
      "22/08/24 10:47:22 WARN CSVHeaderChecker: CSV header does not conform to the schema.\n",
      " Header: NA, Date, AveragePrice, Total Volume, 4046, 4225, 4770, Total Bags, Small Bags, Large Bags, XLarge Bags, type, year, region\n",
      " Schema: _c0, Date, AveragePrice, Total Volume, 4046, 4225, 4770, Total Bags, Small Bags, Large Bags, XLarge Bags, type, year, region\n",
      "Expected: _c0 but found: NA\n",
      "CSV file: file:///Users/wirarama/python/FGA/BPDFGA/avocado.csv\n",
      "0.6833333333333333\n"
     ]
    }
   ],
   "source": [
    "prediction.groupBy('label', 'prediction').count().show()\n",
    "TN = prediction.filter('prediction = 0 AND label = prediction').count()\n",
    "TP = prediction.filter('prediction = 1 AND label = prediction').count()\n",
    "FN = prediction.filter('prediction = 0 AND label = 1').count()\n",
    "FP = prediction.filter('prediction = 1 AND label = 0').count()\n",
    "accuracy = (TN + TP) / (TN + TP + FN + FP)\n",
    "print(accuracy)"
   ]
  },
  {
   "cell_type": "code",
   "execution_count": 11,
   "id": "d76942d4",
   "metadata": {},
   "outputs": [
    {
     "name": "stdout",
     "output_type": "stream",
     "text": [
      "22/08/24 10:48:15 WARN CSVHeaderChecker: CSV header does not conform to the schema.\n",
      " Header: NA, Date, AveragePrice, Total Volume, 4046, 4225, 4770, Total Bags, Small Bags, Large Bags, XLarge Bags, type, year, region\n",
      " Schema: _c0, Date, AveragePrice, Total Volume, 4046, 4225, 4770, Total Bags, Small Bags, Large Bags, XLarge Bags, type, year, region\n",
      "Expected: _c0 but found: NA\n",
      "CSV file: file:///Users/wirarama/python/FGA/BPDFGA/avocado.csv\n",
      "22/08/24 10:48:16 WARN CSVHeaderChecker: CSV header does not conform to the schema.\n",
      " Header: NA, Date, AveragePrice, Total Volume, 4046, 4225, 4770, Total Bags, Small Bags, Large Bags, XLarge Bags, type, year, region\n",
      " Schema: _c0, Date, AveragePrice, Total Volume, 4046, 4225, 4770, Total Bags, Small Bags, Large Bags, XLarge Bags, type, year, region\n",
      "Expected: _c0 but found: NA\n",
      "CSV file: file:///Users/wirarama/python/FGA/BPDFGA/avocado.csv\n",
      "22/08/24 10:48:30 WARN CSVHeaderChecker: CSV header does not conform to the schema.\n",
      " Header: NA, Date, AveragePrice, Total Volume, 4046, 4225, 4770, Total Bags, Small Bags, Large Bags, XLarge Bags, type, year, region\n",
      " Schema: _c0, Date, AveragePrice, Total Volume, 4046, 4225, 4770, Total Bags, Small Bags, Large Bags, XLarge Bags, type, year, region\n",
      "Expected: _c0 but found: NA\n",
      "CSV file: file:///Users/wirarama/python/FGA/BPDFGA/avocado.csv\n"
     ]
    },
    {
     "name": "stderr",
     "output_type": "stream",
     "text": [
      "\r",
      "[Stage 283:>                                                        (0 + 1) / 1]\r"
     ]
    },
    {
     "name": "stdout",
     "output_type": "stream",
     "text": [
      "+-----+----------+-----+\n",
      "|label|prediction|count|\n",
      "+-----+----------+-----+\n",
      "| 24.0|      33.0|   13|\n",
      "|  8.0|       3.0|    3|\n",
      "|  7.0|      32.0|    8|\n",
      "| 31.0|      43.0|    1|\n",
      "| 40.0|       2.0|    8|\n",
      "| 16.0|       8.0|    2|\n",
      "| 30.0|      40.0|    8|\n",
      "| 44.0|      30.0|    3|\n",
      "| 37.0|      32.0|    1|\n",
      "| 34.0|      21.0|    9|\n",
      "| 15.0|      45.0|    5|\n",
      "|  2.0|       0.0|   15|\n",
      "| 41.0|       5.0|    6|\n",
      "| 10.0|      27.0|    4|\n",
      "| 20.0|      26.0|    1|\n",
      "|  6.0|      29.0|    5|\n",
      "| 12.0|       5.0|    2|\n",
      "| 48.0|      19.0|    1|\n",
      "| 52.0|      45.0|    2|\n",
      "| 22.0|       5.0|    3|\n",
      "| 16.0|      30.0|    1|\n",
      "| 47.0|      42.0|    2|\n",
      "| 28.0|      29.0|    4|\n",
      "|  1.0|      12.0|    2|\n",
      "| 43.0|      18.0|    3|\n",
      "| 36.0|      28.0|    1|\n",
      "| 23.0|      24.0|    2|\n",
      "| 11.0|      39.0|    1|\n",
      "| 19.0|      12.0|    3|\n",
      "| 26.0|      36.0|    7|\n",
      "| 10.0|      48.0|    3|\n",
      "| 24.0|       1.0|    1|\n",
      "| 25.0|      45.0|    6|\n",
      "| 36.0|      22.0|    1|\n",
      "| 26.0|      33.0|    1|\n",
      "|  3.0|       9.0|    2|\n",
      "| 25.0|      36.0|    6|\n",
      "| 39.0|      23.0|    8|\n",
      "| 29.0|      26.0|    1|\n",
      "|  0.0|      34.0|    1|\n",
      "| 43.0|      22.0|    2|\n",
      "| 51.0|      46.0|    3|\n",
      "|  3.0|       5.0|    1|\n",
      "| 23.0|       0.0|   31|\n",
      "| 24.0|       9.0|    4|\n",
      "| 30.0|      21.0|    4|\n",
      "| 18.0|      36.0|    4|\n",
      "|  9.0|      23.0|   13|\n",
      "| 37.0|      37.0|    3|\n",
      "| 29.0|       6.0|    5|\n",
      "| 22.0|      25.0|    3|\n",
      "| 53.0|       2.0|    5|\n",
      "| 11.0|      47.0|    2|\n",
      "| 39.0|       5.0|    3|\n",
      "| 11.0|      46.0|    1|\n",
      "| 31.0|      53.0|    1|\n",
      "| 22.0|      36.0|    2|\n",
      "|  5.0|      37.0|    3|\n",
      "| 26.0|      35.0|    2|\n",
      "| 46.0|      47.0|    1|\n",
      "| 50.0|      24.0|    1|\n",
      "| 11.0|      22.0|    2|\n",
      "| 40.0|       0.0|   29|\n",
      "| 52.0|      46.0|    3|\n",
      "| 30.0|      24.0|    2|\n",
      "| 27.0|       0.0|   27|\n",
      "| 36.0|       0.0|    5|\n",
      "|  7.0|      40.0|    1|\n",
      "| 48.0|      35.0|    1|\n",
      "| 36.0|      36.0|    1|\n",
      "| 12.0|      20.0|    1|\n",
      "| 45.0|      51.0|   10|\n",
      "| 12.0|      52.0|    3|\n",
      "| 35.0|      35.0|    5|\n",
      "| 12.0|      17.0|    1|\n",
      "| 16.0|       3.0|    5|\n",
      "| 14.0|       8.0|    1|\n",
      "| 18.0|      23.0|    1|\n",
      "| 51.0|      12.0|    1|\n",
      "| 29.0|       2.0|    9|\n",
      "| 49.0|      23.0|    1|\n",
      "| 21.0|      23.0|    1|\n",
      "| 40.0|      14.0|    2|\n",
      "| 38.0|      32.0|    2|\n",
      "| 44.0|      32.0|    3|\n",
      "| 53.0|      34.0|    1|\n",
      "| 14.0|       0.0|   38|\n",
      "| 33.0|       3.0|    3|\n",
      "|  3.0|      30.0|    1|\n",
      "|  4.0|      36.0|    2|\n",
      "| 25.0|      21.0|    8|\n",
      "| 27.0|      19.0|    1|\n",
      "| 48.0|      43.0|    1|\n",
      "| 53.0|      15.0|    1|\n",
      "| 53.0|      46.0|    4|\n",
      "| 53.0|      12.0|    6|\n",
      "| 15.0|      23.0|    6|\n",
      "| 17.0|       3.0|    3|\n",
      "| 53.0|      36.0|    2|\n",
      "| 33.0|      46.0|    7|\n",
      "+-----+----------+-----+\n",
      "only showing top 100 rows\n",
      "\n"
     ]
    },
    {
     "name": "stderr",
     "output_type": "stream",
     "text": [
      "\r",
      "                                                                                \r"
     ]
    }
   ],
   "source": [
    "from pyspark.ml.classification import LogisticRegression\n",
    "df_train_num = df_train.select('features', 'label')\n",
    "df_test_num = df_test.select('features', 'label')\n",
    "logistic = LogisticRegression().fit(df_train_num)\n",
    "prediction = logistic.transform(df_test_num)\n",
    "prediction.groupBy(\"label\", \"prediction\").count().show(100)"
   ]
  },
  {
   "cell_type": "code",
   "execution_count": 12,
   "id": "96138822",
   "metadata": {},
   "outputs": [
    {
     "name": "stdout",
     "output_type": "stream",
     "text": [
      "22/08/24 10:48:37 WARN CSVHeaderChecker: CSV header does not conform to the schema.\n",
      " Header: NA, Date, AveragePrice, Total Volume, 4046, 4225, 4770, Total Bags, Small Bags, Large Bags, XLarge Bags, type, year, region\n",
      " Schema: _c0, Date, AveragePrice, Total Volume, 4046, 4225, 4770, Total Bags, Small Bags, Large Bags, XLarge Bags, type, year, region\n",
      "Expected: _c0 but found: NA\n",
      "CSV file: file:///Users/wirarama/python/FGA/BPDFGA/avocado.csv\n",
      "22/08/24 10:48:37 WARN CSVHeaderChecker: CSV header does not conform to the schema.\n",
      " Header: NA, Date, AveragePrice, Total Volume, 4046, 4225, 4770, Total Bags, Small Bags, Large Bags, XLarge Bags, type, year, region\n",
      " Schema: _c0, Date, AveragePrice, Total Volume, 4046, 4225, 4770, Total Bags, Small Bags, Large Bags, XLarge Bags, type, year, region\n",
      "Expected: _c0 but found: NA\n",
      "CSV file: file:///Users/wirarama/python/FGA/BPDFGA/avocado.csv\n",
      "22/08/24 10:48:38 WARN CSVHeaderChecker: CSV header does not conform to the schema.\n",
      " Header: NA, Date, AveragePrice, Total Volume, 4046, 4225, 4770, Total Bags, Small Bags, Large Bags, XLarge Bags, type, year, region\n",
      " Schema: _c0, Date, AveragePrice, Total Volume, 4046, 4225, 4770, Total Bags, Small Bags, Large Bags, XLarge Bags, type, year, region\n",
      "Expected: _c0 but found: NA\n",
      "CSV file: file:///Users/wirarama/python/FGA/BPDFGA/avocado.csv\n",
      "22/08/24 10:48:38 WARN CSVHeaderChecker: CSV header does not conform to the schema.\n",
      " Header: NA, Date, AveragePrice, Total Volume, 4046, 4225, 4770, Total Bags, Small Bags, Large Bags, XLarge Bags, type, year, region\n",
      " Schema: _c0, Date, AveragePrice, Total Volume, 4046, 4225, 4770, Total Bags, Small Bags, Large Bags, XLarge Bags, type, year, region\n",
      "Expected: _c0 but found: NA\n",
      "CSV file: file:///Users/wirarama/python/FGA/BPDFGA/avocado.csv\n",
      "0.6833333333333333\n"
     ]
    }
   ],
   "source": [
    "TN = prediction.filter('prediction = 0 AND label = prediction').count()\n",
    "TP = prediction.filter('prediction = 1 AND label = prediction').count()\n",
    "FN = prediction.filter('prediction = 0 AND label = 1').count()\n",
    "FP = prediction.filter('prediction = 1 AND label = 0').count()\n",
    "accuracy = (TN + TP) / (TN + TP + FN + FP)\n",
    "print(accuracy)"
   ]
  },
  {
   "cell_type": "code",
   "execution_count": 13,
   "id": "92b38484",
   "metadata": {},
   "outputs": [
    {
     "name": "stdout",
     "output_type": "stream",
     "text": [
      "precision = 1.00\n",
      "recall   = 0.10\n"
     ]
    }
   ],
   "source": [
    "from pyspark.ml.evaluation import MulticlassClassificationEvaluator, BinaryClassificationEvaluator\n",
    "precision = TP / (TP + FP)\n",
    "recall = TP / (TP + FN)\n",
    "print('precision = {:.2f}\\nrecall   = {:.2f}'.format(precision, recall))\n"
   ]
  },
  {
   "cell_type": "code",
   "execution_count": null,
   "id": "e144cd74",
   "metadata": {},
   "outputs": [],
   "source": [
    "multi_evaluator = MulticlassClassificationEvaluator()\n",
    "weighted_precision = multi_evaluator.evaluate(prediction, {multi_evaluator.metricName: \"weightedPrecision\"})\n",
    "binary_evaluator = BinaryClassificationEvaluator()\n",
    "auc = binary_evaluator.evaluate(prediction, {binary_evaluator.metricName: \"areaUnderROC\"})"
   ]
  }
 ],
 "metadata": {
  "kernelspec": {
   "display_name": "Python 3 (ipykernel)",
   "language": "python",
   "name": "python3"
  },
  "language_info": {
   "codemirror_mode": {
    "name": "ipython",
    "version": 3
   },
   "file_extension": ".py",
   "mimetype": "text/x-python",
   "name": "python",
   "nbconvert_exporter": "python",
   "pygments_lexer": "ipython3",
   "version": "3.9.7"
  }
 },
 "nbformat": 4,
 "nbformat_minor": 5
}
