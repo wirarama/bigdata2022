{
 "cells": [
  {
   "cell_type": "code",
   "execution_count": null,
   "metadata": {},
   "outputs": [],
   "source": [
    "mv ~/sqoop/conf/sqoop-env-template.sh ~/sqoop/conf/sqoop-env.sh"
   ]
  },
  {
   "cell_type": "code",
   "execution_count": null,
   "metadata": {},
   "outputs": [],
   "source": [
    "!xed ~/sqoop/bin/sqoop-env.sh"
   ]
  },
  {
   "cell_type": "code",
   "execution_count": null,
   "metadata": {},
   "outputs": [],
   "source": [
    "export HADOOP_COMMON_HOME=/usr/local/hadoop \n",
    "export HADOOP_MAPRED_HOME=/usr/local/hadoop"
   ]
  },
  {
   "cell_type": "code",
   "execution_count": null,
   "metadata": {},
   "outputs": [],
   "source": [
    "!mv mysql-connector-java-5.1.30-bin.jar ~/sqoop/lib"
   ]
  },
  {
   "cell_type": "code",
   "execution_count": null,
   "metadata": {},
   "outputs": [],
   "source": [
    "!~/sqoop/bin/sqoop-version"
   ]
  },
  {
   "cell_type": "code",
   "execution_count": null,
   "metadata": {},
   "outputs": [],
   "source": [
    "bin/sqoop import \\\n",
    "--connect jdbc:mysql://localhost/mpitest \\\n",
    "--username mpi \\\n",
    "--password mpi \\\n",
    "--table mpi_data --m 1"
   ]
  },
  {
   "cell_type": "code",
   "execution_count": null,
   "metadata": {},
   "outputs": [],
   "source": [
    "bin/sqoop export \\\n",
    "--connect jdbc:mysql://localhost/mpisalinan \\\n",
    "--username mpi \\\n",
    "--password mpi \\\n",
    "--table mpi_data \\\n",
    "--export-dir /user/wirarama/mpi_data"
   ]
  }
 ],
 "metadata": {
  "kernelspec": {
   "display_name": "Python 3",
   "language": "python",
   "name": "python3"
  },
  "language_info": {
   "codemirror_mode": {
    "name": "ipython",
    "version": 3
   },
   "file_extension": ".py",
   "mimetype": "text/x-python",
   "name": "python",
   "nbconvert_exporter": "python",
   "pygments_lexer": "ipython3",
   "version": "3.7.3"
  }
 },
 "nbformat": 4,
 "nbformat_minor": 2
}
