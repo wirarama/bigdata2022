{
 "cells": [
  {
   "cell_type": "code",
   "execution_count": null,
   "metadata": {},
   "outputs": [],
   "source": [
    "mv ~/sqoop/conf/sqoop-env-template.sh ~/sqoop/conf/sqoop-env.sh"
   ]
  },
  {
   "cell_type": "code",
   "execution_count": null,
   "metadata": {},
   "outputs": [],
   "source": [
    "!xed ~/sqoop/bin/sqoop-env.sh"
   ]
  },
  {
   "cell_type": "code",
   "execution_count": null,
   "metadata": {},
   "outputs": [],
   "source": [
    "export HADOOP_HOME=/Users/wiraramawedashwara/hadoop/hadoop\n",
    "export HADOOP_MAPRED_HOME=$HADOOP_HOME"
   ]
  },
  {
   "cell_type": "markdown",
   "metadata": {},
   "source": [
    "http://ftp.ntu.edu.tw/MySQL/Downloads/Connector-J/"
   ]
  },
  {
   "cell_type": "code",
   "execution_count": null,
   "metadata": {},
   "outputs": [],
   "source": [
    "!mv mysql-connector-java-5.1.30-bin.jar ~/sqoop/lib"
   ]
  },
  {
   "cell_type": "code",
   "execution_count": 2,
   "metadata": {},
   "outputs": [
    {
     "name": "stdout",
     "output_type": "stream",
     "text": [
      "Warning: /usr/lib/hbase does not exist! HBase imports will fail.\n",
      "Please set $HBASE_HOME to the root of your HBase installation.\n",
      "Try 'sqoop help' for usage.\n"
     ]
    }
   ],
   "source": [
    "!~/hadoop/sqoop/bin/sqoop"
   ]
  },
  {
   "cell_type": "markdown",
   "metadata": {},
   "source": [
    "~/hadoop/sqoop/bin/sqoop import \\ \n",
    "--connect jdbc:mysql://localhost/sqoop \\\n",
    "--username sqoop \\\n",
    "--password sqoop \\\n",
    "--table test --m 1"
   ]
  },
  {
   "cell_type": "code",
   "execution_count": null,
   "metadata": {},
   "outputs": [],
   "source": [
    "!~/hadoop/sqoop/bin/sqoop import --connect jdbc:mysql://localhost/sqoop --username sqoop --password sqoop --table test --m 1"
   ]
  },
  {
   "cell_type": "code",
   "execution_count": 6,
   "metadata": {},
   "outputs": [
    {
     "name": "stdout",
     "output_type": "stream",
     "text": [
      "22/11/02 08:52:46 WARN util.NativeCodeLoader: Unable to load native-hadoop library for your platform... using builtin-java classes where applicable\n",
      "Found 2 items\n",
      "-rw-r--r--   1 wiraramawedashwara supergroup          0 2022-11-02 08:47 /user/wiraramawedashwara/test/_SUCCESS\n",
      "-rw-r--r--   1 wiraramawedashwara supergroup         60 2022-11-02 08:47 /user/wiraramawedashwara/test/part-m-00000\n"
     ]
    }
   ],
   "source": [
    "!hdfs dfs -ls /user/wiraramawedashwara/test/"
   ]
  },
  {
   "cell_type": "code",
   "execution_count": 7,
   "metadata": {},
   "outputs": [
    {
     "name": "stdout",
     "output_type": "stream",
     "text": [
      "22/11/02 08:53:22 WARN util.NativeCodeLoader: Unable to load native-hadoop library for your platform... using builtin-java classes where applicable\n",
      "1,45,79,2022-11-01 09:01:53.0\n",
      "2,78,67,2022-11-01 09:02:18.0\n"
     ]
    }
   ],
   "source": [
    "!hdfs dfs -cat /user/wiraramawedashwara/test/part-m-00000"
   ]
  },
  {
   "cell_type": "markdown",
   "metadata": {},
   "source": [
    "~/hadoop/sqoop/bin/sqoop export \\\n",
    "--connect jdbc:mysql://localhost/sqoopsalinan \\\n",
    "--username sqoop \\\n",
    "--password sqoop \\\n",
    "--table test \\\n",
    "--export-dir /user/wiraramawedashwara/test"
   ]
  },
  {
   "cell_type": "code",
   "execution_count": null,
   "metadata": {},
   "outputs": [],
   "source": [
    "!~/hadoop/sqoop/bin/sqoop export --connect jdbc:mysql://localhost/sqoopsalinan --username sqoop --password sqoop --table test --export-dir /user/wiraramawedashwara/test"
   ]
  },
  {
   "cell_type": "markdown",
   "metadata": {},
   "source": [
    "drop procedure if exists doWhile;\n",
    "DELIMITER //  \n",
    "CREATE PROCEDURE doWhile()   \n",
    "BEGIN\n",
    "DECLARE i INT DEFAULT 2376921001; \n",
    "WHILE (i <= 237692200) DO\n",
    "    INSERT INTO `mytable` (code, active, total) values (i, 1, 1);\n",
    "    SET i = i+1;\n",
    "END WHILE;\n",
    "END;\n",
    "//  \n",
    "\n",
    "CALL doWhile();"
   ]
  },
  {
   "cell_type": "code",
   "execution_count": null,
   "metadata": {},
   "outputs": [],
   "source": []
  }
 ],
 "metadata": {
  "kernelspec": {
   "display_name": "Python 3 (ipykernel)",
   "language": "python",
   "name": "python3"
  },
  "language_info": {
   "codemirror_mode": {
    "name": "ipython",
    "version": 3
   },
   "file_extension": ".py",
   "mimetype": "text/x-python",
   "name": "python",
   "nbconvert_exporter": "python",
   "pygments_lexer": "ipython3",
   "version": "3.9.12"
  }
 },
 "nbformat": 4,
 "nbformat_minor": 4
}
