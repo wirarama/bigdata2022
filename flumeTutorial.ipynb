{
 "cells": [
  {
   "cell_type": "code",
   "execution_count": null,
   "metadata": {},
   "outputs": [],
   "source": [
    "!mv ~/flume/conf/flume-conf.properties.template ~/flume/conf/flume-conf.properties"
   ]
  },
  {
   "cell_type": "code",
   "execution_count": null,
   "metadata": {},
   "outputs": [],
   "source": [
    "!mv ~/flume/conf/flume-env.sh.template ~/flume/conf/flume-env.sh"
   ]
  },
  {
   "cell_type": "code",
   "execution_count": null,
   "metadata": {},
   "outputs": [],
   "source": [
    "!~/bin/flume-ng"
   ]
  },
  {
   "cell_type": "code",
   "execution_count": null,
   "metadata": {},
   "outputs": [],
   "source": [
    "!~/hadoop/bin/hdfs dfs -mkdir /user/wirarama/twitterdata"
   ]
  },
  {
   "cell_type": "code",
   "execution_count": null,
   "metadata": {},
   "outputs": [],
   "source": [
    "!xed ~/flume/conf/twitter.conf"
   ]
  },
  {
   "cell_type": "code",
   "execution_count": null,
   "metadata": {},
   "outputs": [],
   "source": [
    "# Naming the components on the current agent. \n",
    "TwitterAgent.sources = Twitter \n",
    "TwitterAgent.channels = MemChannel \n",
    "TwitterAgent.sinks = HDFS\n",
    "  \n",
    "# Describing/Configuring the source \n",
    "TwitterAgent.sources.Twitter.type = org.apache.flume.source.twitter.TwitterSource\n",
    "TwitterAgent.sources.Twitter.consumerKey = 4PioBtBRN3hE80M4sVkCnplb3\n",
    "TwitterAgent.sources.Twitter.consumerSecret = X0M2IsCYHYt0FyZRPNSKE4FHWDO4MqQjXdLi7vwuBH6Hu1TowA \n",
    "TwitterAgent.sources.Twitter.accessToken = 734224897732268032-YmL6i2imlHxy8ciB8YcthOQVR9o0kZg \n",
    "TwitterAgent.sources.Twitter.accessTokenSecret = zwPPh37kf9umU00kbgT5w1SQTuiQ28RIUXeF7AyZE5caR \n",
    "TwitterAgent.sources.Twitter.keywords = motogp, pubg\n",
    "#keyword, harshtag disini\n",
    "  \n",
    "# Describing/Configuring the sink \n",
    "\n",
    "TwitterAgent.sinks.HDFS.type = hdfs \n",
    "TwitterAgent.sinks.HDFS.hdfs.path = hdfs://localhost:9000/user/wirarama/twitterdata/\n",
    "TwitterAgent.sinks.HDFS.hdfs.fileType = DataStream \n",
    "TwitterAgent.sinks.HDFS.hdfs.writeFormat = Text \n",
    "TwitterAgent.sinks.HDFS.hdfs.batchSize = 1000\n",
    "TwitterAgent.sinks.HDFS.hdfs.rollSize = 0 \n",
    "TwitterAgent.sinks.HDFS.hdfs.rollCount = 10000 \n",
    " \n",
    "# Describing/Configuring the channel \n",
    "TwitterAgent.channels.MemChannel.type = memory \n",
    "TwitterAgent.channels.MemChannel.capacity = 10000\n",
    "TwitterAgent.channels.MemChannel.transactionCapacity = 1000 \n",
    "#sama dengan hdfs.batchSize\n",
    "  \n",
    "# Binding the source and sink to the channel \n",
    "TwitterAgent.sources.Twitter.channels = MemChannel\n",
    "TwitterAgent.sinks.HDFS.channel = MemChannel "
   ]
  },
  {
   "cell_type": "code",
   "execution_count": null,
   "metadata": {},
   "outputs": [],
   "source": [
    "!~/flume/bin/flume-ng agent --conf ./conf/ -f ~/flume/twitter.conf -Dflume.root.logger=DEBUG,console -n TwitterAgent"
   ]
  }
 ],
 "metadata": {
  "kernelspec": {
   "display_name": "Python 3",
   "language": "python",
   "name": "python3"
  },
  "language_info": {
   "codemirror_mode": {
    "name": "ipython",
    "version": 3
   },
   "file_extension": ".py",
   "mimetype": "text/x-python",
   "name": "python",
   "nbconvert_exporter": "python",
   "pygments_lexer": "ipython3",
   "version": "3.7.3"
  }
 },
 "nbformat": 4,
 "nbformat_minor": 2
}
