{
 "cells": [
  {
   "cell_type": "code",
   "execution_count": null,
   "metadata": {},
   "outputs": [],
   "source": [
    "!mv ~/flume/conf/flume-conf.properties.template ~/flume/conf/flume-conf.properties"
   ]
  },
  {
   "cell_type": "code",
   "execution_count": null,
   "metadata": {},
   "outputs": [],
   "source": [
    "!mv ~/flume/conf/flume-env.sh.template ~/flume/conf/flume-env.sh"
   ]
  },
  {
   "cell_type": "code",
   "execution_count": null,
   "metadata": {},
   "outputs": [],
   "source": [
    "!~/hadoop/flume/bin/flume-ng"
   ]
  },
  {
   "cell_type": "code",
   "execution_count": null,
   "metadata": {},
   "outputs": [],
   "source": [
    "!hdfs dfs -mkdir /user/wiraramawedashwara/twitterdata"
   ]
  },
  {
   "cell_type": "code",
   "execution_count": null,
   "metadata": {},
   "outputs": [],
   "source": [
    "!cat ~/hadoop/flume/conf/twitter.conf"
   ]
  },
  {
   "cell_type": "code",
   "execution_count": null,
   "metadata": {},
   "outputs": [],
   "source": [
    "# Naming the components on the current agent. \n",
    "TwitterAgent.sources = Twitter \n",
    "TwitterAgent.channels = MemChannel \n",
    "TwitterAgent.sinks = HDFS\n",
    "  \n",
    "# Describing/Configuring the source \n",
    "TwitterAgent.sources.Twitter.type = org.apache.flume.source.twitter.TwitterSource\n",
    "TwitterAgent.sources.Twitter.consumerKey = 4PioBtBRN3hE80M4sVkCnplb3\n",
    "TwitterAgent.sources.Twitter.consumerSecret = X0M2IsCYHYt0FyZRPNSKE4FHWDO4MqQjXdLi7vwuBH6Hu1TowA \n",
    "TwitterAgent.sources.Twitter.accessToken = 734224897732268032-YmL6i2imlHxy8ciB8YcthOQVR9o0kZg \n",
    "TwitterAgent.sources.Twitter.accessTokenSecret = zwPPh37kf9umU00kbgT5w1SQTuiQ28RIUXeF7AyZE5caR \n",
    "TwitterAgent.sources.Twitter.keywords = motogp, pubg\n",
    "#keyword, harshtag disini\n",
    "  \n",
    "# Describing/Configuring the sink \n",
    "\n",
    "TwitterAgent.sinks.HDFS.type = hdfs \n",
    "TwitterAgent.sinks.HDFS.hdfs.path = hdfs://localhost:9000/user/wirarama/twitterdata/\n",
    "TwitterAgent.sinks.HDFS.hdfs.fileType = DataStream \n",
    "TwitterAgent.sinks.HDFS.hdfs.writeFormat = Text \n",
    "TwitterAgent.sinks.HDFS.hdfs.batchSize = 1000\n",
    "TwitterAgent.sinks.HDFS.hdfs.rollSize = 0 \n",
    "TwitterAgent.sinks.HDFS.hdfs.rollCount = 10000 \n",
    " \n",
    "# Describing/Configuring the channel \n",
    "TwitterAgent.channels.MemChannel.type = memory \n",
    "TwitterAgent.channels.MemChannel.capacity = 10000\n",
    "TwitterAgent.channels.MemChannel.transactionCapacity = 1000 \n",
    "#sama dengan hdfs.batchSize\n",
    "  \n",
    "# Binding the source and sink to the channel \n",
    "TwitterAgent.sources.Twitter.channels = MemChannel\n",
    "TwitterAgent.sinks.HDFS.channel = MemChannel "
   ]
  },
  {
   "cell_type": "code",
   "execution_count": null,
   "metadata": {},
   "outputs": [],
   "source": [
    "# Naming the components on the current agent. \n",
    "TwitterAgent.sources = Twitter \n",
    "TwitterAgent.channels = ch3 \n",
    "TwitterAgent.sinks = local-file-sink\n",
    "  \n",
    "# Describing/Configuring the source \n",
    "TwitterAgent.sources.Twitter.type = org.apache.flume.source.twitter.TwitterSource\n",
    "TwitterAgent.sources.Twitter.consumerKey = 4PioBtBRN3hE80M4sVkCnplb3\n",
    "TwitterAgent.sources.Twitter.consumerSecret = X0M2IsCYHYt0FyZRPNSKE4FHWDO4MqQjXdLi7vwuBH6Hu1TowA \n",
    "TwitterAgent.sources.Twitter.accessToken = 734224897732268032-YmL6i2imlHxy8ciB8YcthOQVR9o0kZg \n",
    "TwitterAgent.sources.Twitter.accessTokenSecret = zwPPh37kf9umU00kbgT5w1SQTuiQ28RIUXeF7AyZE5caR \n",
    "TwitterAgent.sources.Twitter.keywords = motogp, pubg\n",
    "#keyword, harshtag disini\n",
    "  \n",
    "# Local File Sink\n",
    "###############################\n",
    "TwitterAgent.sinks.local-file-sink.type = file_roll\n",
    "TwitterAgent.sinks.local-file-sink.channel = ch3\n",
    "TwitterAgent.sinks.local-file-sink.sink.directory = /Users/wiraramawedashwara/python/bigdata2022/data\n",
    "TwitterAgent.sinks.local-file-sink.rollInterval = 5\n",
    " \n",
    "# Describing/Configuring the channel \n",
    "TwitterAgent.channels.MemChannel.type = memory \n",
    "TwitterAgent.channels.MemChannel.capacity = 10000\n",
    "TwitterAgent.channels.MemChannel.transactionCapacity = 1000 "
   ]
  },
  {
   "cell_type": "code",
   "execution_count": null,
   "metadata": {},
   "outputs": [],
   "source": [
    "!~/hadoop/flume/bin/flume-ng agent --conf ~/hadoop/flume/conf/ -f ~/hadoop/flume/conf/twitter.conf -Xmx1000m -n TwitterAgent"
   ]
  },
  {
   "cell_type": "code",
   "execution_count": null,
   "metadata": {},
   "outputs": [],
   "source": [
    "!~/hadoop/flume/bin/flume-ng agent --conf ~/hadoop/flume/conf/flume-conf.properties -f ~/hadoop/flume/conf/twitter2.conf -Xmx1000m -n TwitterAgent"
   ]
  },
  {
   "cell_type": "code",
   "execution_count": null,
   "metadata": {},
   "outputs": [],
   "source": [
    "!hdfs dfs -ls /user/wiraramawedashwara/twitterdata/"
   ]
  },
  {
   "cell_type": "code",
   "execution_count": null,
   "metadata": {},
   "outputs": [],
   "source": [
    "!hdfs dfs -cat /user/wiraramawedashwara/twitterdata/FlumeData.1667395009977"
   ]
  },
  {
   "cell_type": "code",
   "execution_count": null,
   "metadata": {},
   "outputs": [],
   "source": [
    "!hdfs dfs -mkdir /user/wiraramawedashwara/twitterdata"
   ]
  },
  {
   "cell_type": "code",
   "execution_count": null,
   "metadata": {},
   "outputs": [],
   "source": [
    "# slagent = SysLogAgent\n",
    "###############################\n",
    "httpagent.sources = http-source\n",
    "httpagent.sinks = local-file-sink\n",
    "httpagent.channels = ch3\n",
    "\n",
    "# Define / Configure Source (multiport seems to support newer \"stuff\")\n",
    "###############################\n",
    "httpagent.sources.http-source.type = org.apache.flume.source.http.HTTPSource\n",
    "httpagent.sources.http-source.channels = ch3\n",
    "httpagent.sources.http-source.port = 81\n",
    "\n",
    "# Local File Sink\n",
    "###############################\n",
    "httpagent.sinks.local-file-sink.type = file_roll\n",
    "httpagent.sinks.local-file-sink.channel = ch3\n",
    "httpagent.sinks.local-file-sink.sink.directory = /Users/wiraramawedashwara/python/bigdata2022/data\n",
    "httpagent.sinks.local-file-sink.rollInterval = 0 #single file\n",
    "\n",
    "# Channels\n",
    "###############################\n",
    "httpagent.channels.ch3.type = memory\n",
    "httpagent.channels.ch3.capacity = 1000"
   ]
  },
  {
   "cell_type": "code",
   "execution_count": null,
   "metadata": {},
   "outputs": [],
   "source": [
    "!hdfs dfs -mkdir /user/wiraramawedashwara/httpdata"
   ]
  },
  {
   "cell_type": "code",
   "execution_count": 4,
   "metadata": {},
   "outputs": [
    {
     "name": "stdout",
     "output_type": "stream",
     "text": [
      "Info: Sourcing environment configuration script /Users/wiraramawedashwara/hadoop/flume/conf/flume-env.sh\n",
      "Info: Including Hadoop libraries found via (/Users/wiraramawedashwara/hadoop/hadoop/bin/hadoop) for HDFS access\n",
      "Info: Including Hive libraries found via (/Users/wiraramawedashwara/hadoop/hive) for Hive access\n",
      "+ exec /Users/wiraramawedashwara/opt/anaconda3/bin/java -Xmx20m -Xmx1000m -cp '/Users/wiraramawedashwara/hadoop/flume/conf:/Users/wiraramawedashwara/hadoop/flume/lib/*:/Users/wiraramawedashwara/hadoop/hadoop/etc/hadoop:/Users/wiraramawedashwara/hadoop/hadoop/share/hadoop/common/lib/*:/Users/wiraramawedashwara/hadoop/hadoop/share/hadoop/common/*:/Users/wiraramawedashwara/hadoop/hadoop/share/hadoop/hdfs:/Users/wiraramawedashwara/hadoop/hadoop/share/hadoop/hdfs/lib/*:/Users/wiraramawedashwara/hadoop/hadoop/share/hadoop/hdfs/*:/Users/wiraramawedashwara/hadoop/hadoop/share/hadoop/yarn:/Users/wiraramawedashwara/hadoop/hadoop/share/hadoop/yarn/lib/*:/Users/wiraramawedashwara/hadoop/hadoop/share/hadoop/yarn/*:/Users/wiraramawedashwara/hadoop/hadoop/share/hadoop/mapreduce/lib/*:/Users/wiraramawedashwara/hadoop/hadoop/share/hadoop/mapreduce/*:/Users/wiraramawedashwara/hadoop/hadoop/contrib/capacity-scheduler/*.jar:/Users/wiraramawedashwara/hadoop/hive/lib/*' -Djava.library.path=:/Users/wiraramawedashwara/Library/Java/Extensions:/Library/Java/Extensions:/Network/Library/Java/Extensions:/System/Library/Java/Extensions:/usr/lib/java:. org.apache.flume.node.Application -f /Users/wiraramawedashwara/hadoop/flume/conf/flume.httptest.conf -n httpagent\n",
      "SLF4J: Class path contains multiple SLF4J bindings.\n",
      "SLF4J: Found binding in [jar:file:/Users/wiraramawedashwara/hadoop/flume/lib/log4j-slf4j-impl-2.18.0.jar!/org/slf4j/impl/StaticLoggerBinder.class]\n",
      "SLF4J: Found binding in [jar:file:/Users/wiraramawedashwara/hadoop/hadoop/share/hadoop/common/lib/slf4j-reload4j-1.7.36.jar!/org/slf4j/impl/StaticLoggerBinder.class]\n",
      "SLF4J: See http://www.slf4j.org/codes.html#multiple_bindings for an explanation.\n",
      "SLF4J: Actual binding is of type [org.apache.logging.slf4j.Log4jLoggerFactory]\n",
      "^C\n"
     ]
    }
   ],
   "source": [
    "!~/hadoop/flume/bin/flume-ng agent --conf ~/hadoop/flume/conf/ -f ~/hadoop/flume/conf/flume.httptest.conf -Xmx1000m -n httpagent"
   ]
  },
  {
   "cell_type": "code",
   "execution_count": null,
   "metadata": {},
   "outputs": [],
   "source": [
    "!~/hadoop/flume/bin/flume-ng agent --conf ~/hadoop/flume/conf/ -f ~/hadoop/flume/conf/flume.httptest2.conf -Xmx1000m -n httpagent"
   ]
  },
  {
   "cell_type": "code",
   "execution_count": null,
   "metadata": {},
   "outputs": [],
   "source": [
    "!curl -X POST -H 'Content-Type: application/json; charset=UTF-8' -d '[{ \"headers\" : { \"host\" : \"localhost\" }, \"body\" : \"random_body\" }, { \"headers\" : { \"host\" : \"localhost\" }, \"body\" : \"really_random_body\" }]' http://localhost:81/"
   ]
  },
  {
   "cell_type": "code",
   "execution_count": null,
   "metadata": {},
   "outputs": [],
   "source": []
  },
  {
   "cell_type": "code",
   "execution_count": null,
   "metadata": {},
   "outputs": [],
   "source": [
    "#contoh python\n",
    "import requests\n",
    "r = requests.post('http://localhost:81/', \n",
    "                  json=[{\"headers\" : { \"host\" : \"localhost\" },\"body\": \"test\"}])"
   ]
  },
  {
   "cell_type": "code",
   "execution_count": null,
   "metadata": {},
   "outputs": [],
   "source": [
    "#contoh php\n",
    "#intinya hanya ganti bagian \"test\"\n",
    "$options = array(\n",
    "  'http' => array(\n",
    "    'method'  => 'POST',\n",
    "    'content' => [{\"headers\" : { \"host\" : \"localhost\" },\"body\": \"test\"}],\n",
    "    'header'=>  \"Content-Type: application/json\\r\\n\" .\n",
    "                \"Accept: application/json\\r\\n\"\n",
    "    )\n",
    ");\n",
    "\n",
    "$context  = stream_context_create( $options );\n",
    "$result = file_get_contents('http://localhost:81/', false, $context );\n",
    "$response = json_decode( $result );"
   ]
  }
 ],
 "metadata": {
  "kernelspec": {
   "display_name": "Python 3 (ipykernel)",
   "language": "python",
   "name": "python3"
  },
  "language_info": {
   "codemirror_mode": {
    "name": "ipython",
    "version": 3
   },
   "file_extension": ".py",
   "mimetype": "text/x-python",
   "name": "python",
   "nbconvert_exporter": "python",
   "pygments_lexer": "ipython3",
   "version": "3.9.12"
  }
 },
 "nbformat": 4,
 "nbformat_minor": 4
}
