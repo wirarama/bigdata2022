{
 "cells": [
  {
   "cell_type": "code",
   "execution_count": 1,
   "metadata": {},
   "outputs": [],
   "source": [
    "from pyspark.sql.types import StructType,StructField,IntegerType,StringType,DoubleType"
   ]
  },
  {
   "cell_type": "code",
   "execution_count": 2,
   "metadata": {},
   "outputs": [],
   "source": [
    "from pyspark.ml.feature import StringIndexer\n",
    "from pyspark.ml import Pipeline"
   ]
  },
  {
   "cell_type": "code",
   "execution_count": 3,
   "metadata": {},
   "outputs": [],
   "source": [
    "spark = SparkSession.builder.appName(\"pysparkStrIndexer\").getOrCreate()"
   ]
  },
  {
   "cell_type": "code",
   "execution_count": null,
   "metadata": {},
   "outputs": [],
   "source": [
    "schema = StructType([\n",
    "        StructField('Rank', IntegerType(), True),\n",
    "        StructField('Name', StringType(), True),\n",
    "        StructField('Platform', StringType(), True),\n",
    "        StructField('Year', IntegerType(), True),\n",
    "    StructField('Genre', StringType(), True),\n",
    "    StructField('Publisher', StringType(), True),\n",
    "    StructField('NA_Sales', DoubleType(), True),\n",
    "    StructField('EU_Sales', DoubleType(), True),\n",
    "    StructField('JP_Sales', DoubleType(), True),\n",
    "    StructField('Other_Sales', DoubleType(), True),\n",
    "    StructField('Global_Sales', DoubleType(), True)\n",
    "        ])"
   ]
  },
  {
   "cell_type": "code",
   "execution_count": null,
   "metadata": {},
   "outputs": [],
   "source": [
    "schema = StructType([\n",
    "        StructField(\"country_or_area\", StringType(), True),\n",
    "        StructField(\"year\", IntegerType(), True),\n",
    "        StructField(\"value\", DoubleType(), True),\n",
    "        StructField(\"category\", StringType(), True)\n",
    "        ])"
   ]
  },
  {
   "cell_type": "code",
   "execution_count": 4,
   "metadata": {},
   "outputs": [],
   "source": [
    "df = spark.read.csv('greenhouse_gas_inventory_data_data.csv',inferSchema=True,header='true')"
   ]
  },
  {
   "cell_type": "code",
   "execution_count": 8,
   "metadata": {},
   "outputs": [
    {
     "data": {
      "text/html": [
       "<div>\n",
       "<style scoped>\n",
       "    .dataframe tbody tr th:only-of-type {\n",
       "        vertical-align: middle;\n",
       "    }\n",
       "\n",
       "    .dataframe tbody tr th {\n",
       "        vertical-align: top;\n",
       "    }\n",
       "\n",
       "    .dataframe thead th {\n",
       "        text-align: right;\n",
       "    }\n",
       "</style>\n",
       "<table border=\"1\" class=\"dataframe\">\n",
       "  <thead>\n",
       "    <tr style=\"text-align: right;\">\n",
       "      <th></th>\n",
       "      <th>summary</th>\n",
       "      <th>country_or_area</th>\n",
       "      <th>year</th>\n",
       "      <th>value</th>\n",
       "      <th>category</th>\n",
       "      <th>country_or_area_index</th>\n",
       "      <th>category_index</th>\n",
       "    </tr>\n",
       "  </thead>\n",
       "  <tbody>\n",
       "    <tr>\n",
       "      <th>0</th>\n",
       "      <td>count</td>\n",
       "      <td>8406</td>\n",
       "      <td>8406</td>\n",
       "      <td>8406</td>\n",
       "      <td>8406</td>\n",
       "      <td>8406</td>\n",
       "      <td>8406</td>\n",
       "    </tr>\n",
       "    <tr>\n",
       "      <th>1</th>\n",
       "      <td>mean</td>\n",
       "      <td>None</td>\n",
       "      <td>2002.1884368308351</td>\n",
       "      <td>205547.19137087325</td>\n",
       "      <td>None</td>\n",
       "      <td>19.544848917439925</td>\n",
       "      <td>3.523316678562931</td>\n",
       "    </tr>\n",
       "    <tr>\n",
       "      <th>2</th>\n",
       "      <td>stddev</td>\n",
       "      <td>None</td>\n",
       "      <td>7.151604788310116</td>\n",
       "      <td>804150.3770358328</td>\n",
       "      <td>None</td>\n",
       "      <td>12.356062857827883</td>\n",
       "      <td>2.3997553397751763</td>\n",
       "    </tr>\n",
       "    <tr>\n",
       "      <th>3</th>\n",
       "      <td>min</td>\n",
       "      <td>Australia</td>\n",
       "      <td>1990</td>\n",
       "      <td>1.10375E-6</td>\n",
       "      <td>carbon_dioxide_co2_emissions_without_land_use_...</td>\n",
       "      <td>0.0</td>\n",
       "      <td>0.0</td>\n",
       "    </tr>\n",
       "    <tr>\n",
       "      <th>4</th>\n",
       "      <td>25%</td>\n",
       "      <td>None</td>\n",
       "      <td>1996</td>\n",
       "      <td>297.670751865432</td>\n",
       "      <td>None</td>\n",
       "      <td>9.0</td>\n",
       "      <td>1.0</td>\n",
       "    </tr>\n",
       "    <tr>\n",
       "      <th>5</th>\n",
       "      <td>50%</td>\n",
       "      <td>None</td>\n",
       "      <td>2002</td>\n",
       "      <td>7839.9346862074</td>\n",
       "      <td>None</td>\n",
       "      <td>19.0</td>\n",
       "      <td>3.0</td>\n",
       "    </tr>\n",
       "    <tr>\n",
       "      <th>6</th>\n",
       "      <td>75%</td>\n",
       "      <td>None</td>\n",
       "      <td>2014</td>\n",
       "      <td>7422207.96295139</td>\n",
       "      <td>None</td>\n",
       "      <td>42.0</td>\n",
       "      <td>9.0</td>\n",
       "    </tr>\n",
       "    <tr>\n",
       "      <th>7</th>\n",
       "      <td>max</td>\n",
       "      <td>United States of America</td>\n",
       "      <td>2014</td>\n",
       "      <td>7422207.96295139</td>\n",
       "      <td>unspecified_mix_of_hydrofluorocarbons_hfcs_and...</td>\n",
       "      <td>42.0</td>\n",
       "      <td>9.0</td>\n",
       "    </tr>\n",
       "  </tbody>\n",
       "</table>\n",
       "</div>"
      ],
      "text/plain": [
       "  summary           country_or_area                year               value  \\\n",
       "0   count                      8406                8406                8406   \n",
       "1    mean                      None  2002.1884368308351  205547.19137087325   \n",
       "2  stddev                      None   7.151604788310116   804150.3770358328   \n",
       "3     min                 Australia                1990          1.10375E-6   \n",
       "4     25%                      None                1996    297.670751865432   \n",
       "5     50%                      None                2002     7839.9346862074   \n",
       "6     75%                      None                2014    7422207.96295139   \n",
       "7     max  United States of America                2014    7422207.96295139   \n",
       "\n",
       "                                            category country_or_area_index  \\\n",
       "0                                               8406                  8406   \n",
       "1                                               None    19.544848917439925   \n",
       "2                                               None    12.356062857827883   \n",
       "3  carbon_dioxide_co2_emissions_without_land_use_...                   0.0   \n",
       "4                                               None                   9.0   \n",
       "5                                               None                  19.0   \n",
       "6                                               None                  42.0   \n",
       "7  unspecified_mix_of_hydrofluorocarbons_hfcs_and...                  42.0   \n",
       "\n",
       "       category_index  \n",
       "0                8406  \n",
       "1   3.523316678562931  \n",
       "2  2.3997553397751763  \n",
       "3                 0.0  \n",
       "4                 1.0  \n",
       "5                 3.0  \n",
       "6                 9.0  \n",
       "7                 9.0  "
      ]
     },
     "execution_count": 8,
     "metadata": {},
     "output_type": "execute_result"
    }
   ],
   "source": [
    "df.summary().toPandas()"
   ]
  },
  {
   "cell_type": "code",
   "execution_count": null,
   "metadata": {},
   "outputs": [],
   "source": [
    "summary = df.select('NA_Sales').summary()\n",
    "summary.show()"
   ]
  },
  {
   "cell_type": "code",
   "execution_count": 6,
   "metadata": {},
   "outputs": [],
   "source": [
    "indexers = [StringIndexer(inputCol=column, outputCol=column+\"_index\").fit(df) \n",
    "            for column in list([\"country_or_area\",\"category\"]) ]\n",
    "pipeline = Pipeline(stages=indexers)\n",
    "df = pipeline.fit(df).transform(df)"
   ]
  },
  {
   "cell_type": "code",
   "execution_count": 9,
   "metadata": {},
   "outputs": [
    {
     "name": "stdout",
     "output_type": "stream",
     "text": [
      "+-------+---------------------+------------------+\n",
      "|summary|country_or_area_index|    category_index|\n",
      "+-------+---------------------+------------------+\n",
      "|  count|                 8406|              8406|\n",
      "|   mean|   19.544848917439925| 3.523316678562931|\n",
      "| stddev|   12.356062857827883|2.3997553397751763|\n",
      "|    min|                  0.0|               0.0|\n",
      "|    25%|                  9.0|               1.0|\n",
      "|    50%|                 19.0|               3.0|\n",
      "|    75%|                 42.0|               9.0|\n",
      "|    max|                 42.0|               9.0|\n",
      "+-------+---------------------+------------------+\n",
      "\n"
     ]
    }
   ],
   "source": [
    "df.select([\"country_or_area_index\",\"category_index\"]).summary().show()"
   ]
  },
  {
   "cell_type": "code",
   "execution_count": null,
   "metadata": {},
   "outputs": [],
   "source": [
    "summ = summary.collect()\n",
    "print(summ[6][1]) #75%"
   ]
  },
  {
   "cell_type": "code",
   "execution_count": null,
   "metadata": {},
   "outputs": [],
   "source": [
    "def discretization(attr):\n",
    "    inp = list(df.select(attr).collect())\n",
    "    midi = df.select(attr).summary().collect()\n",
    "    out = []\n",
    "    for x in inp:\n",
    "        if(x[0]<=float(midi[4][1])):\n",
    "            out.append(0)\n",
    "        elif(x[0]>float(midi[4][1]) and x[0]<=float(midi[5][1])):\n",
    "            out.append(1)\n",
    "        elif(x[0]>float(midi[5][1]) and x[0]<=float(midi[6][1])):\n",
    "            out.append(2)\n",
    "        else:\n",
    "            out.append(3)\n",
    "    return out"
   ]
  },
  {
   "cell_type": "code",
   "execution_count": null,
   "metadata": {},
   "outputs": [],
   "source": [
    "def multiDiscretization(attrs,df):\n",
    "    label = []\n",
    "    out = []\n",
    "    for x in attrs:\n",
    "        label.append(x+'_disc')\n",
    "        out.append(discretization(x))\n",
    "    out = list(map(list,zip(*out))) #transpose list column menjadi row\n",
    "    df = spark.createDataFrame(out,label)\n",
    "    return df"
   ]
  },
  {
   "cell_type": "code",
   "execution_count": null,
   "metadata": {},
   "outputs": [],
   "source": [
    "df2 = multiDiscretization(['NA_Sales','EU_Sales', 'JP_Sales', 'Other_Sales', 'Global_Sales'],df)"
   ]
  },
  {
   "cell_type": "code",
   "execution_count": null,
   "metadata": {},
   "outputs": [],
   "source": [
    "df2.columns"
   ]
  },
  {
   "cell_type": "code",
   "execution_count": null,
   "metadata": {},
   "outputs": [],
   "source": [
    "df2.show()"
   ]
  },
  {
   "cell_type": "code",
   "execution_count": null,
   "metadata": {},
   "outputs": [],
   "source": [
    "df.join(df2)"
   ]
  },
  {
   "cell_type": "code",
   "execution_count": null,
   "metadata": {},
   "outputs": [],
   "source": []
  }
 ],
 "metadata": {
  "kernelspec": {
   "display_name": "Python 3",
   "language": "python",
   "name": "python3"
  },
  "language_info": {
   "codemirror_mode": {
    "name": "ipython",
    "version": 3
   },
   "file_extension": ".py",
   "mimetype": "text/x-python",
   "name": "python",
   "nbconvert_exporter": "python",
   "pygments_lexer": "ipython3",
   "version": "3.7.3"
  }
 },
 "nbformat": 4,
 "nbformat_minor": 2
}
