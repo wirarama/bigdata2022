{
 "cells": [
  {
   "cell_type": "markdown",
   "metadata": {},
   "source": [
    "# Install di Linux"
   ]
  },
  {
   "cell_type": "markdown",
   "metadata": {},
   "source": [
    "wget -qO - https://www.mongodb.org/static/pgp/server-4.4.asc | sudo apt-key add -"
   ]
  },
  {
   "cell_type": "markdown",
   "metadata": {},
   "source": [
    "echo \"deb [ arch=amd64,arm64 ] https://repo.mongodb.org/apt/ubuntu focal/mongodb-org/4.4 multiverse\" | sudo tee /etc/apt/sources.list.d/mongodb-org-4.4.list"
   ]
  },
  {
   "cell_type": "markdown",
   "metadata": {},
   "source": [
    "sudo apt-get update\n",
    "sudo apt-get install -y mongodb-org"
   ]
  },
  {
   "cell_type": "markdown",
   "metadata": {},
   "source": [
    "# install di Mac"
   ]
  },
  {
   "cell_type": "markdown",
   "metadata": {},
   "source": [
    "brew tap mongodb/brew"
   ]
  },
  {
   "cell_type": "markdown",
   "metadata": {},
   "source": [
    "brew install mongodb-community"
   ]
  },
  {
   "cell_type": "markdown",
   "metadata": {},
   "source": [
    "brew services start mongodb-community"
   ]
  },
  {
   "cell_type": "markdown",
   "metadata": {},
   "source": [
    "mongod --config /usr/local/etc/mongod.conf"
   ]
  },
  {
   "cell_type": "markdown",
   "metadata": {},
   "source": [
    "# install di windows"
   ]
  },
  {
   "cell_type": "markdown",
   "metadata": {},
   "source": [
    "https://docs.mongodb.com/manual/tutorial/install-mongodb-on-windows/"
   ]
  },
  {
   "cell_type": "code",
   "execution_count": 1,
   "metadata": {},
   "outputs": [
    {
     "name": "stdout",
     "output_type": "stream",
     "text": [
      "Collecting pymongo\n",
      "  Obtaining dependency information for pymongo from https://files.pythonhosted.org/packages/4d/88/7b9bfad1ad6269e0b9e0bb39d093aabc27837da4ccb93391cda68f580984/pymongo-4.5.0-cp311-cp311-win_amd64.whl.metadata\n",
      "  Downloading pymongo-4.5.0-cp311-cp311-win_amd64.whl.metadata (22 kB)\n",
      "Collecting dnspython<3.0.0,>=1.16.0 (from pymongo)\n",
      "  Obtaining dependency information for dnspython<3.0.0,>=1.16.0 from https://files.pythonhosted.org/packages/f6/b4/0a9bee52c50f226a3cbfb54263d02bb421c7f2adc136520729c2c689c1e5/dnspython-2.4.2-py3-none-any.whl.metadata\n",
      "  Downloading dnspython-2.4.2-py3-none-any.whl.metadata (4.9 kB)\n",
      "Downloading pymongo-4.5.0-cp311-cp311-win_amd64.whl (468 kB)\n",
      "   ---------------------------------------- 0.0/468.2 kB ? eta -:--:--\n",
      "    --------------------------------------- 10.2/468.2 kB ? eta -:--:--\n",
      "   ----- --------------------------------- 61.4/468.2 kB 825.8 kB/s eta 0:00:01\n",
      "   ----- --------------------------------- 71.7/468.2 kB 787.7 kB/s eta 0:00:01\n",
      "   ------------ --------------------------- 143.4/468.2 kB 1.1 MB/s eta 0:00:01\n",
      "   -------------------- ------------------- 235.5/468.2 kB 1.1 MB/s eta 0:00:01\n",
      "   -------------------------- ------------- 307.2/468.2 kB 1.2 MB/s eta 0:00:01\n",
      "   ---------------------------------- ----- 399.4/468.2 kB 1.3 MB/s eta 0:00:01\n",
      "   ------------------------------------ --- 430.1/468.2 kB 1.3 MB/s eta 0:00:01\n",
      "   -------------------------------------- - 450.6/468.2 kB 1.2 MB/s eta 0:00:01\n",
      "   ---------------------------------------  460.8/468.2 kB 1.1 MB/s eta 0:00:01\n",
      "   -------------------------------------- 468.2/468.2 kB 946.2 kB/s eta 0:00:00\n",
      "Downloading dnspython-2.4.2-py3-none-any.whl (300 kB)\n",
      "   ---------------------------------------- 0.0/300.4 kB ? eta -:--:--\n",
      "   ---------------------------------------- 0.0/300.4 kB ? eta -:--:--\n",
      "   --------------- ------------------------ 112.6/300.4 kB ? eta -:--:--\n",
      "   ---------------- ----------------------- 122.9/300.4 kB 1.4 MB/s eta 0:00:01\n",
      "   -------------------------------- ------- 245.8/300.4 kB 1.9 MB/s eta 0:00:01\n",
      "   -------------------------------- ------- 245.8/300.4 kB 1.9 MB/s eta 0:00:01\n",
      "   ----------------------------------- ---- 266.2/300.4 kB 1.3 MB/s eta 0:00:01\n",
      "   -------------------------------------- - 286.7/300.4 kB 1.1 MB/s eta 0:00:01\n",
      "   -------------------------------------- - 286.7/300.4 kB 1.1 MB/s eta 0:00:01\n",
      "   -------------------------------------- - 286.7/300.4 kB 1.1 MB/s eta 0:00:01\n",
      "   -------------------------------------  297.0/300.4 kB 704.5 kB/s eta 0:00:01\n",
      "   -------------------------------------- 300.4/300.4 kB 687.5 kB/s eta 0:00:00\n",
      "Installing collected packages: dnspython, pymongo\n",
      "Successfully installed dnspython-2.4.2 pymongo-4.5.0\n"
     ]
    }
   ],
   "source": [
    "!pip install pymongo"
   ]
  },
  {
   "cell_type": "code",
   "execution_count": 1,
   "metadata": {},
   "outputs": [],
   "source": [
    "from pymongo import MongoClient"
   ]
  },
  {
   "cell_type": "code",
   "execution_count": 10,
   "metadata": {},
   "outputs": [],
   "source": [
    "client = MongoClient('localhost',27017)\n",
    "db = client.databaru\n",
    "pst = db.posts"
   ]
  },
  {
   "cell_type": "code",
   "execution_count": 8,
   "metadata": {},
   "outputs": [],
   "source": [
    "#alternative\n",
    "db = client[\"dbtest\"]\n",
    "pst = db[\"posts\"]"
   ]
  },
  {
   "cell_type": "code",
   "execution_count": 12,
   "metadata": {},
   "outputs": [
    {
     "data": {
      "text/plain": [
       "<pymongo.results.InsertOneResult at 0x1b9fb815fc0>"
      ]
     },
     "execution_count": 12,
     "metadata": {},
     "output_type": "execute_result"
    }
   ],
   "source": [
    "post = {\"nama\":\"wira\",\n",
    "        \"hobi\":\"bernafas\",\n",
    "        \"olah raga\":\"tidak ada\",\n",
    "        \"film favorit\":[\"The Matrix\",\"John Wick\"],\n",
    "        \"makananFav\":[{\"martabak\":[\"spesial\",\"istimewa\"]},\"terang bulan\",\"tahu tek\",\"gado gado\"],\n",
    "       \"umur\":35}\n",
    "pst.insert_one(post)"
   ]
  },
  {
   "cell_type": "code",
   "execution_count": 14,
   "metadata": {},
   "outputs": [
    {
     "data": {
      "text/plain": [
       "<pymongo.results.InsertManyResult at 0x1b9fc6a05e0>"
      ]
     },
     "execution_count": 14,
     "metadata": {},
     "output_type": "execute_result"
    }
   ],
   "source": [
    "posts = [{\"nama\":\"andy\",\n",
    "        \"hobi\":\"fotografi\",\n",
    "        \"instagram\":\"andy_jatmika\",\n",
    "        \"makananFav\":[\"nasi putih\",\"nasi kuning\",\"nasi merah\"],\n",
    "         \"umur\":27},\n",
    "        {\"nama\": \"nicholas cage\",\n",
    "          \"pekerjaan\": \"aktor film terbaik\",\n",
    "        \"umur\":56}]\n",
    "pst.insert_many(posts)"
   ]
  },
  {
   "cell_type": "code",
   "execution_count": 15,
   "metadata": {},
   "outputs": [
    {
     "name": "stdout",
     "output_type": "stream",
     "text": [
      "Collection(Database(MongoClient(host=['localhost:27017'], document_class=dict, tz_aware=False, connect=True), 'databaru'), 'posts')\n"
     ]
    }
   ],
   "source": [
    "print(pst)"
   ]
  },
  {
   "cell_type": "code",
   "execution_count": 21,
   "metadata": {},
   "outputs": [
    {
     "name": "stdout",
     "output_type": "stream",
     "text": [
      "wira bernafas 35\n",
      "andy fotografi 27\n"
     ]
    }
   ],
   "source": [
    "key = \"hobi\"\n",
    "for x in pst.find({ key: { \"$exists\": True } }):\n",
    "    print(x[\"nama\"],x[key],x[\"umur\"])"
   ]
  },
  {
   "cell_type": "code",
   "execution_count": 26,
   "metadata": {},
   "outputs": [
    {
     "name": "stdout",
     "output_type": "stream",
     "text": [
      "{'_id': ObjectId('651bd7208a3c37ddc977b382'), 'nama': 'keanu reeves', 'pekerjaan': 'aktor film terbaik', 'umur': 56}\n"
     ]
    }
   ],
   "source": [
    "x = pst.find_one({\"pekerjaan\": \"aktor film terbaik\"})\n",
    "print(x)"
   ]
  },
  {
   "cell_type": "code",
   "execution_count": 24,
   "metadata": {},
   "outputs": [
    {
     "name": "stdout",
     "output_type": "stream",
     "text": [
      "<class 'dict'>\n"
     ]
    }
   ],
   "source": [
    "print(type(x))"
   ]
  },
  {
   "cell_type": "code",
   "execution_count": 17,
   "metadata": {},
   "outputs": [
    {
     "name": "stdout",
     "output_type": "stream",
     "text": [
      "keanu reeves\n"
     ]
    }
   ],
   "source": [
    "print(x['nama'])"
   ]
  },
  {
   "cell_type": "code",
   "execution_count": 25,
   "metadata": {},
   "outputs": [
    {
     "data": {
      "text/plain": [
       "<pymongo.results.UpdateResult at 0x1b9fc6a1000>"
      ]
     },
     "execution_count": 25,
     "metadata": {},
     "output_type": "execute_result"
    }
   ],
   "source": [
    "pst.update_many({\"pekerjaan\": \"aktor film terbaik\"}, {'$set': {\"nama\":\"keanu reeves\"}})"
   ]
  },
  {
   "cell_type": "code",
   "execution_count": 27,
   "metadata": {},
   "outputs": [
    {
     "name": "stdout",
     "output_type": "stream",
     "text": [
      "andy\n",
      "nasi putih\n",
      "nasi kuning\n",
      "nasi merah\n"
     ]
    }
   ],
   "source": [
    "for post in pst.find({\"instagram\":{\"$exists\": True}}):\n",
    "    print(post[\"nama\"])\n",
    "    for food in post[\"makananFav\"]:\n",
    "        print(food)"
   ]
  },
  {
   "cell_type": "code",
   "execution_count": 30,
   "metadata": {},
   "outputs": [
    {
     "name": "stdout",
     "output_type": "stream",
     "text": [
      "andy\n",
      "keanu reeves\n",
      "wira\n"
     ]
    }
   ],
   "source": [
    "for x in pst.find().sort(\"nama\",1): #-1 = decs\n",
    "  print(x['nama'])"
   ]
  },
  {
   "cell_type": "code",
   "execution_count": 34,
   "metadata": {},
   "outputs": [
    {
     "name": "stdout",
     "output_type": "stream",
     "text": [
      "andy\n"
     ]
    }
   ],
   "source": [
    "for x in pst.find({\"nama\":{\"$regex\":\"^a\"} }):\n",
    "  print(x['nama'])"
   ]
  },
  {
   "cell_type": "code",
   "execution_count": 36,
   "metadata": {},
   "outputs": [
    {
     "name": "stdout",
     "output_type": "stream",
     "text": [
      "keanu reeves\n"
     ]
    }
   ],
   "source": [
    "for x in pst.find({ \"$or\": [ { \"nama\": \"andy\" }, { \"pekerjaan\": { \"$exists\": True } } ] }):\n",
    "  print(x['nama'])"
   ]
  },
  {
   "cell_type": "code",
   "execution_count": 39,
   "metadata": {},
   "outputs": [
    {
     "name": "stdout",
     "output_type": "stream",
     "text": [
      "wira\n",
      "keanu reeves\n"
     ]
    }
   ],
   "source": [
    "for x in pst.find({\"umur\":{\"$gt\":30} }):\n",
    "  print(x['nama'])"
   ]
  },
  {
   "cell_type": "code",
   "execution_count": 20,
   "metadata": {},
   "outputs": [
    {
     "data": {
      "text/plain": [
       "<pymongo.results.DeleteResult at 0x7fa753fa7130>"
      ]
     },
     "execution_count": 20,
     "metadata": {},
     "output_type": "execute_result"
    }
   ],
   "source": [
    "pst.delete_one({\"nama\": \"wira\"})"
   ]
  },
  {
   "cell_type": "code",
   "execution_count": 22,
   "metadata": {},
   "outputs": [],
   "source": [
    "pst.drop()"
   ]
  },
  {
   "cell_type": "code",
   "execution_count": null,
   "metadata": {},
   "outputs": [],
   "source": []
  }
 ],
 "metadata": {
  "kernelspec": {
   "display_name": "Python 3 (ipykernel)",
   "language": "python",
   "name": "python3"
  },
  "language_info": {
   "codemirror_mode": {
    "name": "ipython",
    "version": 3
   },
   "file_extension": ".py",
   "mimetype": "text/x-python",
   "name": "python",
   "nbconvert_exporter": "python",
   "pygments_lexer": "ipython3",
   "version": "3.11.4"
  }
 },
 "nbformat": 4,
 "nbformat_minor": 4
}
