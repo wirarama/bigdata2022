{
 "cells": [
  {
   "cell_type": "markdown",
   "metadata": {},
   "source": [
    "# Install di Linux"
   ]
  },
  {
   "cell_type": "markdown",
   "metadata": {},
   "source": [
    "wget -qO - https://www.mongodb.org/static/pgp/server-4.4.asc | sudo apt-key add -"
   ]
  },
  {
   "cell_type": "markdown",
   "metadata": {},
   "source": [
    "echo \"deb [ arch=amd64,arm64 ] https://repo.mongodb.org/apt/ubuntu focal/mongodb-org/4.4 multiverse\" | sudo tee /etc/apt/sources.list.d/mongodb-org-4.4.list"
   ]
  },
  {
   "cell_type": "markdown",
   "metadata": {},
   "source": [
    "sudo apt-get update\n",
    "sudo apt-get install -y mongodb-org"
   ]
  },
  {
   "cell_type": "markdown",
   "metadata": {},
   "source": [
    "# install di Mac"
   ]
  },
  {
   "cell_type": "markdown",
   "metadata": {},
   "source": [
    "brew tap mongodb/brew"
   ]
  },
  {
   "cell_type": "markdown",
   "metadata": {},
   "source": [
    "brew install mongodb-community"
   ]
  },
  {
   "cell_type": "markdown",
   "metadata": {},
   "source": [
    "brew services start mongodb-community"
   ]
  },
  {
   "cell_type": "markdown",
   "metadata": {},
   "source": [
    "mongod --config /usr/local/etc/mongod.conf"
   ]
  },
  {
   "cell_type": "markdown",
   "metadata": {},
   "source": [
    "# install di windows"
   ]
  },
  {
   "cell_type": "markdown",
   "metadata": {},
   "source": [
    "https://docs.mongodb.com/manual/tutorial/install-mongodb-on-windows/"
   ]
  },
  {
   "cell_type": "code",
   "execution_count": 1,
   "metadata": {},
   "outputs": [
    {
     "name": "stdout",
     "output_type": "stream",
     "text": [
      "Requirement already satisfied: pymongo in c:\\users\\wirar\\anaconda3\\lib\\site-packages (4.5.0)\n",
      "Requirement already satisfied: dnspython<3.0.0,>=1.16.0 in c:\\users\\wirar\\anaconda3\\lib\\site-packages (from pymongo) (2.4.2)\n"
     ]
    }
   ],
   "source": [
    "!pip install pymongo"
   ]
  },
  {
   "cell_type": "code",
   "execution_count": 3,
   "metadata": {},
   "outputs": [],
   "source": [
    "from pymongo import MongoClient"
   ]
  },
  {
   "cell_type": "code",
   "execution_count": 52,
   "metadata": {},
   "outputs": [],
   "source": [
    "client = MongoClient('localhost',27017)\n",
    "db = client.sukasuka\n",
    "pst = db.kirim"
   ]
  },
  {
   "cell_type": "code",
   "execution_count": 8,
   "metadata": {},
   "outputs": [],
   "source": [
    "#alternative\n",
    "db = client[\"dbtest\"]\n",
    "pst = db[\"posts\"]"
   ]
  },
  {
   "cell_type": "code",
   "execution_count": 54,
   "metadata": {},
   "outputs": [
    {
     "data": {
      "text/plain": [
       "<pymongo.results.InsertOneResult at 0x232c47cace0>"
      ]
     },
     "execution_count": 54,
     "metadata": {},
     "output_type": "execute_result"
    }
   ],
   "source": [
    "post = {\"nama\":\"neo\",\n",
    "        \"hobi\":\"entering the matrix\",\n",
    "        \"sport\":\"dodging a bullet\",\n",
    "        \"fav films\":[\"The Matrix\",\"John Wick\"],\n",
    "        \"fav foods\":[{\"ramen\":[\"salt\",\"miso\"]},\"salad\",\"mayo\",\"caesar\"],\n",
    "       \"age\":56}\n",
    "pst.insert_one(post)"
   ]
  },
  {
   "cell_type": "code",
   "execution_count": 56,
   "metadata": {},
   "outputs": [
    {
     "data": {
      "text/plain": [
       "<pymongo.results.InsertOneResult at 0x232c8c4ecb0>"
      ]
     },
     "execution_count": 56,
     "metadata": {},
     "output_type": "execute_result"
    }
   ],
   "source": [
    "post = {\"judul\":\"AK2007\",\n",
    "        \"isi\":\"80kg\"}\n",
    "pst.insert_one(post)"
   ]
  },
  {
   "cell_type": "code",
   "execution_count": 58,
   "metadata": {},
   "outputs": [
    {
     "data": {
      "text/plain": [
       "<pymongo.results.InsertManyResult at 0x232c8c34520>"
      ]
     },
     "execution_count": 58,
     "metadata": {},
     "output_type": "execute_result"
    }
   ],
   "source": [
    "posts = [{\"nama\":\"andy\",\n",
    "        \"hobi\":\"fotografi\",\n",
    "        \"instagram\":\"andy_jatmika\",\n",
    "        \"makananFav\":[\"nasi putih\",\"nasi kuning\",\"nasi merah\"],\n",
    "         \"umur\":27},\n",
    "        {\"nama\": \"nicholas cage\",\n",
    "          \"pekerjaan\": \"aktor film terbaik\",\n",
    "        \"umur\":56}]\n",
    "pst.insert_many(posts)"
   ]
  },
  {
   "cell_type": "code",
   "execution_count": 60,
   "metadata": {},
   "outputs": [
    {
     "name": "stdout",
     "output_type": "stream",
     "text": [
      "Collection(Database(MongoClient(host=['localhost:27017'], document_class=dict, tz_aware=False, connect=True), 'sukasuka'), 'kirim')\n"
     ]
    }
   ],
   "source": [
    "print(pst)"
   ]
  },
  {
   "cell_type": "code",
   "execution_count": 64,
   "metadata": {},
   "outputs": [
    {
     "name": "stdout",
     "output_type": "stream",
     "text": [
      "andy fotografi\n"
     ]
    }
   ],
   "source": [
    "key = \"hobi\"\n",
    "for x in pst.find({ key: { \"$exists\": True },\"umur\": { \"$exists\": True } }):\n",
    "    print(x[\"nama\"],x[key])"
   ]
  },
  {
   "cell_type": "code",
   "execution_count": 72,
   "metadata": {},
   "outputs": [
    {
     "name": "stdout",
     "output_type": "stream",
     "text": [
      "{'_id': ObjectId('670f77b5dae12156929ed6ca'), 'nama': 'keanu reeves', 'pekerjaan': 'aktor film terbaik', 'umur': 56}\n"
     ]
    }
   ],
   "source": [
    "x = pst.find_one({\"pekerjaan\": \"aktor film terbaik\"})\n",
    "print(x)"
   ]
  },
  {
   "cell_type": "code",
   "execution_count": 24,
   "metadata": {},
   "outputs": [
    {
     "name": "stdout",
     "output_type": "stream",
     "text": [
      "<class 'dict'>\n"
     ]
    }
   ],
   "source": [
    "print(type(x))"
   ]
  },
  {
   "cell_type": "code",
   "execution_count": 74,
   "metadata": {},
   "outputs": [
    {
     "name": "stdout",
     "output_type": "stream",
     "text": [
      "keanu reeves\n"
     ]
    }
   ],
   "source": [
    "print(x['nama'])"
   ]
  },
  {
   "cell_type": "code",
   "execution_count": 70,
   "metadata": {},
   "outputs": [
    {
     "data": {
      "text/plain": [
       "<pymongo.results.UpdateResult at 0x232c88e71f0>"
      ]
     },
     "execution_count": 70,
     "metadata": {},
     "output_type": "execute_result"
    }
   ],
   "source": [
    "pst.update_many({\"pekerjaan\": \"aktor film terbaik\"}, {'$set': {\"nama\":\"keanu reeves\"}})"
   ]
  },
  {
   "cell_type": "code",
   "execution_count": 80,
   "metadata": {},
   "outputs": [
    {
     "name": "stdout",
     "output_type": "stream",
     "text": [
      "andy\n",
      "nasi putih\n",
      "nasi kuning\n",
      "nasi merah\n"
     ]
    }
   ],
   "source": [
    "for post in pst.find({\"instagram\":{\"$exists\": True}}):\n",
    "    print(post[\"nama\"])\n",
    "    for food in post[\"makananFav\"]:\n",
    "        print(food)"
   ]
  },
  {
   "cell_type": "code",
   "execution_count": 78,
   "metadata": {},
   "outputs": [
    {
     "name": "stdout",
     "output_type": "stream",
     "text": [
      "neo\n",
      "keanu reeves\n",
      "andy\n"
     ]
    }
   ],
   "source": [
    "for x in pst.find({\"nama\":{\"$exists\": True}}).sort(\"nama\",-1): #-1 = decs\n",
    "  print(x['nama'])"
   ]
  },
  {
   "cell_type": "code",
   "execution_count": 41,
   "metadata": {},
   "outputs": [
    {
     "name": "stdout",
     "output_type": "stream",
     "text": [
      "andy\n"
     ]
    }
   ],
   "source": [
    "for x in pst.find({\"nama\":{\"$regex\":\"^a\"} }):\n",
    "  print(x['nama'])"
   ]
  },
  {
   "cell_type": "code",
   "execution_count": 82,
   "metadata": {},
   "outputs": [
    {
     "name": "stdout",
     "output_type": "stream",
     "text": [
      "andy\n",
      "keanu reeves\n"
     ]
    }
   ],
   "source": [
    "for x in pst.find({ \"$or\": [ { \"nama\": \"andy\" }, { \"pekerjaan\": { \"$exists\": True } } ] }):\n",
    "  print(x['nama'])"
   ]
  },
  {
   "cell_type": "code",
   "execution_count": 86,
   "metadata": {},
   "outputs": [
    {
     "name": "stdout",
     "output_type": "stream",
     "text": [
      "keanu reeves\n"
     ]
    }
   ],
   "source": [
    "for x in pst.find({\"umur\":{\"$gt\":30} }):\n",
    "  print(x['nama'])"
   ]
  },
  {
   "cell_type": "code",
   "execution_count": 88,
   "metadata": {},
   "outputs": [
    {
     "data": {
      "text/plain": [
       "<pymongo.results.DeleteResult at 0x232c78b8100>"
      ]
     },
     "execution_count": 88,
     "metadata": {},
     "output_type": "execute_result"
    }
   ],
   "source": [
    "pst.delete_one({\"nama\": \"neo\"})"
   ]
  },
  {
   "cell_type": "code",
   "execution_count": 90,
   "metadata": {},
   "outputs": [],
   "source": [
    "pst.drop()"
   ]
  },
  {
   "cell_type": "code",
   "execution_count": null,
   "metadata": {},
   "outputs": [],
   "source": []
  }
 ],
 "metadata": {
  "kernelspec": {
   "display_name": "Python 3 (ipykernel)",
   "language": "python",
   "name": "python3"
  },
  "language_info": {
   "codemirror_mode": {
    "name": "ipython",
    "version": 3
   },
   "file_extension": ".py",
   "mimetype": "text/x-python",
   "name": "python",
   "nbconvert_exporter": "python",
   "pygments_lexer": "ipython3",
   "version": "3.11.9"
  }
 },
 "nbformat": 4,
 "nbformat_minor": 4
}
