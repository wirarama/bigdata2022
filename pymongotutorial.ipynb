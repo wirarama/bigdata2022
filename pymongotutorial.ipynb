{
 "cells": [
  {
   "cell_type": "markdown",
   "metadata": {},
   "source": [
    "# Install di Linux"
   ]
  },
  {
   "cell_type": "markdown",
   "metadata": {},
   "source": [
    "wget -qO - https://www.mongodb.org/static/pgp/server-4.4.asc | sudo apt-key add -"
   ]
  },
  {
   "cell_type": "markdown",
   "metadata": {},
   "source": [
    "echo \"deb [ arch=amd64,arm64 ] https://repo.mongodb.org/apt/ubuntu focal/mongodb-org/4.4 multiverse\" | sudo tee /etc/apt/sources.list.d/mongodb-org-4.4.list"
   ]
  },
  {
   "cell_type": "markdown",
   "metadata": {},
   "source": [
    "sudo apt-get update\n",
    "sudo apt-get install -y mongodb-org"
   ]
  },
  {
   "cell_type": "markdown",
   "metadata": {},
   "source": [
    "# install di Mac"
   ]
  },
  {
   "cell_type": "markdown",
   "metadata": {},
   "source": [
    "brew tap mongodb/brew"
   ]
  },
  {
   "cell_type": "markdown",
   "metadata": {},
   "source": [
    "brew install mongodb-community"
   ]
  },
  {
   "cell_type": "markdown",
   "metadata": {},
   "source": [
    "brew services start mongodb-community"
   ]
  },
  {
   "cell_type": "markdown",
   "metadata": {},
   "source": [
    "# install di windows"
   ]
  },
  {
   "cell_type": "markdown",
   "metadata": {},
   "source": [
    "https://docs.mongodb.com/manual/tutorial/install-mongodb-on-windows/"
   ]
  },
  {
   "cell_type": "code",
   "execution_count": 3,
   "metadata": {},
   "outputs": [
    {
     "name": "stdout",
     "output_type": "stream",
     "text": [
      "Collecting pymongo\n",
      "\u001b[?25l  Downloading https://files.pythonhosted.org/packages/1a/8d/80a13e50fb44c17074a0a9851b5319e8ca7f473332ca008f04b69211c787/pymongo-3.11.0-cp37-cp37m-macosx_10_9_x86_64.whl (378kB)\n",
      "\u001b[K    100% |████████████████████████████████| 378kB 247kB/s ta 0:00:01\n",
      "\u001b[?25hInstalling collected packages: pymongo\n",
      "Successfully installed pymongo-3.11.0\n"
     ]
    }
   ],
   "source": [
    "!~/anaconda3/bin/python -m pip install pymongo"
   ]
  },
  {
   "cell_type": "code",
   "execution_count": 4,
   "metadata": {},
   "outputs": [],
   "source": [
    "from pymongo import MongoClient"
   ]
  },
  {
   "cell_type": "code",
   "execution_count": 5,
   "metadata": {},
   "outputs": [],
   "source": [
    "client = MongoClient('localhost',27017)\n",
    "db = client.dbtest\n",
    "pst = db.posts"
   ]
  },
  {
   "cell_type": "code",
   "execution_count": null,
   "metadata": {},
   "outputs": [],
   "source": [
    "#alternative\n",
    "db = myclient[\"dbtest\"]\n",
    "pst = mydb[\"posts\"]"
   ]
  },
  {
   "cell_type": "code",
   "execution_count": 101,
   "metadata": {},
   "outputs": [
    {
     "data": {
      "text/plain": [
       "<pymongo.results.InsertOneResult at 0x7fca54dc3548>"
      ]
     },
     "execution_count": 101,
     "metadata": {},
     "output_type": "execute_result"
    }
   ],
   "source": [
    "post = {\"nama\":\"wira\",\n",
    "        \"hobi\":\"bernafas\",\n",
    "        \"film favorit\":[\"The Matrix\",\"John Wick\"],\n",
    "        \"makananFav\":[\"martabak\",\"terang bulan\",\"tahu tek\",\"gado gado\"],\n",
    "       \"umur\":35}\n",
    "pst.insert_one(post)"
   ]
  },
  {
   "cell_type": "code",
   "execution_count": 80,
   "metadata": {},
   "outputs": [
    {
     "data": {
      "text/plain": [
       "<pymongo.results.InsertManyResult at 0x7fca54d25a08>"
      ]
     },
     "execution_count": 80,
     "metadata": {},
     "output_type": "execute_result"
    }
   ],
   "source": [
    "posts = [{\"nama\":\"andy\",\n",
    "        \"hobi\":\"fotografi\",\n",
    "        \"instagram\":\"andy_jatmika\",\n",
    "        \"makananFav\":[\"nasi putih\",\"nasi kuning\",\"nasi merah\"],\n",
    "         \"umur\":27},\n",
    "        {\"nama\": \"nicholas cage\",\n",
    "          \"pekerjaan\": \"aktor film terbaik\",\n",
    "        \"umur\":56}]\n",
    "pst.insert_many(posts)"
   ]
  },
  {
   "cell_type": "code",
   "execution_count": 15,
   "metadata": {},
   "outputs": [
    {
     "name": "stdout",
     "output_type": "stream",
     "text": [
      "Collection(Database(MongoClient(host=['localhost:27017'], document_class=dict, tz_aware=False, connect=True), 'dbtest'), 'posts')\n"
     ]
    }
   ],
   "source": [
    "print(pst)"
   ]
  },
  {
   "cell_type": "code",
   "execution_count": 104,
   "metadata": {},
   "outputs": [
    {
     "name": "stdout",
     "output_type": "stream",
     "text": [
      "andy\n",
      "keanu reeves\n",
      "wira\n"
     ]
    }
   ],
   "source": [
    "for x in pst.find():\n",
    "    print(x['nama'])"
   ]
  },
  {
   "cell_type": "code",
   "execution_count": 89,
   "metadata": {},
   "outputs": [],
   "source": [
    "x = pst.find_one({\"pekerjaan\": \"aktor film terbaik\"})"
   ]
  },
  {
   "cell_type": "code",
   "execution_count": 86,
   "metadata": {},
   "outputs": [
    {
     "name": "stdout",
     "output_type": "stream",
     "text": [
      "{'_id': ObjectId('5f58d34fb5b48cc1dedc65c3'), 'nama': 'nicholas cage', 'pekerjaan': 'aktor film terbaik', 'umur': 56}\n"
     ]
    }
   ],
   "source": [
    "print(x)"
   ]
  },
  {
   "cell_type": "code",
   "execution_count": 90,
   "metadata": {},
   "outputs": [
    {
     "name": "stdout",
     "output_type": "stream",
     "text": [
      "keanu reeves\n"
     ]
    }
   ],
   "source": [
    "print(x['nama'])"
   ]
  },
  {
   "cell_type": "code",
   "execution_count": 88,
   "metadata": {},
   "outputs": [
    {
     "data": {
      "text/plain": [
       "<pymongo.results.UpdateResult at 0x7fca54d998c8>"
      ]
     },
     "execution_count": 88,
     "metadata": {},
     "output_type": "execute_result"
    }
   ],
   "source": [
    "pst.update_many({\"pekerjaan\": \"aktor film terbaik\"}, {'$set': {\"nama\":\"keanu reeves\"}})"
   ]
  },
  {
   "cell_type": "code",
   "execution_count": 92,
   "metadata": {},
   "outputs": [
    {
     "name": "stdout",
     "output_type": "stream",
     "text": [
      "andy\n",
      "nasi putih\n",
      "nasi kuning\n",
      "nasi merah\n"
     ]
    }
   ],
   "source": [
    "for post in pst.find({\"instagram\":{\"$exists\": True}}):\n",
    "    print(post[\"nama\"])\n",
    "    for food in post[\"makananFav\"]:\n",
    "        print(food)"
   ]
  },
  {
   "cell_type": "code",
   "execution_count": 96,
   "metadata": {},
   "outputs": [
    {
     "name": "stdout",
     "output_type": "stream",
     "text": [
      "andy\n",
      "keanu reeves\n",
      "wira\n"
     ]
    }
   ],
   "source": [
    "for x in pst.find().sort(\"nama\",1): #-1 = decs\n",
    "  print(x['nama'])"
   ]
  },
  {
   "cell_type": "code",
   "execution_count": 97,
   "metadata": {},
   "outputs": [
    {
     "name": "stdout",
     "output_type": "stream",
     "text": [
      "wira\n"
     ]
    }
   ],
   "source": [
    "for x in pst.find({\"nama\":{\"$regex\":\"^w\"} }):\n",
    "  print(x['nama'])"
   ]
  },
  {
   "cell_type": "code",
   "execution_count": 98,
   "metadata": {},
   "outputs": [
    {
     "name": "stdout",
     "output_type": "stream",
     "text": [
      "andy\n",
      "keanu reeves\n"
     ]
    }
   ],
   "source": [
    "for x in pst.find({ \"$or\": [ { \"nama\": \"andy\" }, { \"pekerjaan\": { \"$exists\": True } } ] }):\n",
    "  print(x['nama'])"
   ]
  },
  {
   "cell_type": "code",
   "execution_count": 100,
   "metadata": {},
   "outputs": [
    {
     "name": "stdout",
     "output_type": "stream",
     "text": [
      "andy\n"
     ]
    }
   ],
   "source": [
    "for x in pst.find({\"umur\":{\"$gt\":30} }):\n",
    "  print(x['nama'])"
   ]
  },
  {
   "cell_type": "code",
   "execution_count": 103,
   "metadata": {},
   "outputs": [
    {
     "data": {
      "text/plain": [
       "<pymongo.results.DeleteResult at 0x7fca54daa348>"
      ]
     },
     "execution_count": 103,
     "metadata": {},
     "output_type": "execute_result"
    }
   ],
   "source": [
    "pst.delete_one({\"nama\": \"wira\"})"
   ]
  },
  {
   "cell_type": "code",
   "execution_count": 78,
   "metadata": {},
   "outputs": [],
   "source": [
    "pst.drop()"
   ]
  },
  {
   "cell_type": "code",
   "execution_count": null,
   "metadata": {},
   "outputs": [],
   "source": []
  }
 ],
 "metadata": {
  "kernelspec": {
   "display_name": "Python 3",
   "language": "python",
   "name": "python3"
  },
  "language_info": {
   "codemirror_mode": {
    "name": "ipython",
    "version": 3
   },
   "file_extension": ".py",
   "mimetype": "text/x-python",
   "name": "python",
   "nbconvert_exporter": "python",
   "pygments_lexer": "ipython3",
   "version": "3.7.3"
  }
 },
 "nbformat": 4,
 "nbformat_minor": 2
}
