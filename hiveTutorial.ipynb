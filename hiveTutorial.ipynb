{
 "cells": [
  {
   "cell_type": "code",
   "execution_count": null,
   "metadata": {},
   "outputs": [],
   "source": [
    "!xed ~/.bashrc"
   ]
  },
  {
   "cell_type": "code",
   "execution_count": 1,
   "metadata": {},
   "outputs": [
    {
     "name": "stdout",
     "output_type": "stream",
     "text": [
      "Matching Java Virtual Machines (2):\n",
      "    19.0.1, x86_64:\t\"Java SE 19.0.1\"\t/Library/Java/JavaVirtualMachines/jdk-19.jdk/Contents/Home\n",
      "    1.7.0_80, x86_64:\t\"Java SE 7\"\t/Library/Java/JavaVirtualMachines/jdk1.7.0_80.jdk/Contents/Home\n",
      "\n",
      "/Library/Java/JavaVirtualMachines/jdk-19.jdk/Contents/Home\n"
     ]
    }
   ],
   "source": [
    "!/usr/libexec/java_home -V"
   ]
  },
  {
   "cell_type": "code",
   "execution_count": null,
   "metadata": {},
   "outputs": [],
   "source": [
    "export HADOOP_HOME=/Users/wiraramawedashwara/hadoop/hadoop\n",
    "export HADOOP_MAPRED_HOME=$HADOOP_HOME\n",
    "export HADOOP_COMMON_HOME=$HADOOP_HOME\n",
    "export HADOOP_HDFS_HOME=$HADOOP_HOME\n",
    "export YARN_HOME=$HADOOP_HOME\n",
    "export HADOOP_COMMON_LIB_NATIVE_DIR=$HADOOP_HOME/lib/native export\n",
    "PATH=$PATH:$HADOOP_HOME/sbin:$HADOOP_HOME/bin\n",
    "export JAVA_HOME=`/usr/libexec/java_home -v 1.7.0_80`\n",
    "export HIVE_HOME=/Users/wiraramawedashwara/hadoop/hive2\n",
    "export PATH=$PATH:$HIVE_HOME/bin\n",
    "export CLASSPATH=$CLASSPATH:/Users/wiraramawedashwara/hadoop/hadoop/lib/*:.\n",
    "export CLASSPATH=$CLASSPATH:/Users/wiraramawedashwara/hadoop/hive2/lib/*:."
   ]
  },
  {
   "cell_type": "code",
   "execution_count": 1,
   "metadata": {},
   "outputs": [
    {
     "name": "stdout",
     "output_type": "stream",
     "text": [
      "22/11/02 08:07:16 INFO namenode.NameNode: STARTUP_MSG: \n",
      "/************************************************************\n",
      "STARTUP_MSG: Starting NameNode\n",
      "STARTUP_MSG:   host = localhost/127.0.0.1\n",
      "STARTUP_MSG:   args = [-format]\n",
      "STARTUP_MSG:   version = 2.10.2\n",
      "STARTUP_MSG:   classpath = /Users/wiraramawedashwara/hadoop/hadoop/etc/hadoop:/Users/wiraramawedashwara/hadoop/hadoop/share/hadoop/common/lib/jaxb-impl-2.2.3-1.jar:/Users/wiraramawedashwara/hadoop/hadoop/share/hadoop/common/lib/activation-1.1.jar:/Users/wiraramawedashwara/hadoop/hadoop/share/hadoop/common/lib/slf4j-api-1.7.36.jar:/Users/wiraramawedashwara/hadoop/hadoop/share/hadoop/common/lib/commons-configuration-1.6.jar:/Users/wiraramawedashwara/hadoop/hadoop/share/hadoop/common/lib/htrace-core4-4.1.0-incubating.jar:/Users/wiraramawedashwara/hadoop/hadoop/share/hadoop/common/lib/snappy-java-1.0.5.jar:/Users/wiraramawedashwara/hadoop/hadoop/share/hadoop/common/lib/stax-api-1.0-2.jar:/Users/wiraramawedashwara/hadoop/hadoop/share/hadoop/common/lib/apacheds-i18n-2.0.0-M15.jar:/Users/wiraramawedashwara/hadoop/hadoop/share/hadoop/common/lib/slf4j-reload4j-1.7.36.jar:/Users/wiraramawedashwara/hadoop/hadoop/share/hadoop/common/lib/jaxb-api-2.2.2.jar:/Users/wiraramawedashwara/hadoop/hadoop/share/hadoop/common/lib/httpcore-4.4.13.jar:/Users/wiraramawedashwara/hadoop/hadoop/share/hadoop/common/lib/mockito-all-1.8.5.jar:/Users/wiraramawedashwara/hadoop/hadoop/share/hadoop/common/lib/jackson-jaxrs-1.9.13.jar:/Users/wiraramawedashwara/hadoop/hadoop/share/hadoop/common/lib/spotbugs-annotations-3.1.9.jar:/Users/wiraramawedashwara/hadoop/hadoop/share/hadoop/common/lib/commons-logging-1.1.3.jar:/Users/wiraramawedashwara/hadoop/hadoop/share/hadoop/common/lib/hadoop-annotations-2.10.2.jar:/Users/wiraramawedashwara/hadoop/hadoop/share/hadoop/common/lib/woodstox-core-5.3.0.jar:/Users/wiraramawedashwara/hadoop/hadoop/share/hadoop/common/lib/avro-1.7.7.jar:/Users/wiraramawedashwara/hadoop/hadoop/share/hadoop/common/lib/zookeeper-3.4.14.jar:/Users/wiraramawedashwara/hadoop/hadoop/share/hadoop/common/lib/jetty-sslengine-6.1.26.jar:/Users/wiraramawedashwara/hadoop/hadoop/share/hadoop/common/lib/jersey-json-1.9.jar:/Users/wiraramawedashwara/hadoop/hadoop/share/hadoop/common/lib/commons-cli-1.2.jar:/Users/wiraramawedashwara/hadoop/hadoop/share/hadoop/common/lib/junit-4.13.2.jar:/Users/wiraramawedashwara/hadoop/hadoop/share/hadoop/common/lib/commons-digester-1.8.jar:/Users/wiraramawedashwara/hadoop/hadoop/share/hadoop/common/lib/servlet-api-2.5.jar:/Users/wiraramawedashwara/hadoop/hadoop/share/hadoop/common/lib/protobuf-java-2.5.0.jar:/Users/wiraramawedashwara/hadoop/hadoop/share/hadoop/common/lib/jcip-annotations-1.0-1.jar:/Users/wiraramawedashwara/hadoop/hadoop/share/hadoop/common/lib/stax2-api-4.2.1.jar:/Users/wiraramawedashwara/hadoop/hadoop/share/hadoop/common/lib/xmlenc-0.52.jar:/Users/wiraramawedashwara/hadoop/hadoop/share/hadoop/common/lib/jackson-xc-1.9.13.jar:/Users/wiraramawedashwara/hadoop/hadoop/share/hadoop/common/lib/jetty-util-6.1.26.jar:/Users/wiraramawedashwara/hadoop/hadoop/share/hadoop/common/lib/nimbus-jose-jwt-7.9.jar:/Users/wiraramawedashwara/hadoop/hadoop/share/hadoop/common/lib/guava-11.0.2.jar:/Users/wiraramawedashwara/hadoop/hadoop/share/hadoop/common/lib/curator-framework-2.13.0.jar:/Users/wiraramawedashwara/hadoop/hadoop/share/hadoop/common/lib/curator-client-2.13.0.jar:/Users/wiraramawedashwara/hadoop/hadoop/share/hadoop/common/lib/commons-io-2.5.jar:/Users/wiraramawedashwara/hadoop/hadoop/share/hadoop/common/lib/jackson-core-asl-1.9.13.jar:/Users/wiraramawedashwara/hadoop/hadoop/share/hadoop/common/lib/commons-compress-1.21.jar:/Users/wiraramawedashwara/hadoop/hadoop/share/hadoop/common/lib/jersey-core-1.9.jar:/Users/wiraramawedashwara/hadoop/hadoop/share/hadoop/common/lib/jsp-api-2.1.jar:/Users/wiraramawedashwara/hadoop/hadoop/share/hadoop/common/lib/commons-codec-1.4.jar:/Users/wiraramawedashwara/hadoop/hadoop/share/hadoop/common/lib/jetty-6.1.26.jar:/Users/wiraramawedashwara/hadoop/hadoop/share/hadoop/common/lib/audience-annotations-0.5.0.jar:/Users/wiraramawedashwara/hadoop/hadoop/share/hadoop/common/lib/jersey-server-1.9.jar:/Users/wiraramawedashwara/hadoop/hadoop/share/hadoop/common/lib/java-xmlbuilder-0.4.jar:/Users/wiraramawedashwara/hadoop/hadoop/share/hadoop/common/lib/paranamer-2.3.jar:/Users/wiraramawedashwara/hadoop/hadoop/share/hadoop/common/lib/commons-collections-3.2.2.jar:/Users/wiraramawedashwara/hadoop/hadoop/share/hadoop/common/lib/jettison-1.1.jar:/Users/wiraramawedashwara/hadoop/hadoop/share/hadoop/common/lib/asm-3.2.jar:/Users/wiraramawedashwara/hadoop/hadoop/share/hadoop/common/lib/netty-3.10.6.Final.jar:/Users/wiraramawedashwara/hadoop/hadoop/share/hadoop/common/lib/api-asn1-api-1.0.0-M20.jar:/Users/wiraramawedashwara/hadoop/hadoop/share/hadoop/common/lib/apacheds-kerberos-codec-2.0.0-M15.jar:/Users/wiraramawedashwara/hadoop/hadoop/share/hadoop/common/lib/hamcrest-core-1.3.jar:/Users/wiraramawedashwara/hadoop/hadoop/share/hadoop/common/lib/curator-recipes-2.13.0.jar:/Users/wiraramawedashwara/hadoop/hadoop/share/hadoop/common/lib/reload4j-1.2.18.3.jar:/Users/wiraramawedashwara/hadoop/hadoop/share/hadoop/common/lib/commons-beanutils-1.9.4.jar:/Users/wiraramawedashwara/hadoop/hadoop/share/hadoop/common/lib/api-util-1.0.0-M20.jar:/Users/wiraramawedashwara/hadoop/hadoop/share/hadoop/common/lib/jsch-0.1.55.jar:/Users/wiraramawedashwara/hadoop/hadoop/share/hadoop/common/lib/commons-net-3.1.jar:/Users/wiraramawedashwara/hadoop/hadoop/share/hadoop/common/lib/gson-2.2.4.jar:/Users/wiraramawedashwara/hadoop/hadoop/share/hadoop/common/lib/hadoop-auth-2.10.2.jar:/Users/wiraramawedashwara/hadoop/hadoop/share/hadoop/common/lib/jets3t-0.9.0.jar:/Users/wiraramawedashwara/hadoop/hadoop/share/hadoop/common/lib/commons-lang-2.6.jar:/Users/wiraramawedashwara/hadoop/hadoop/share/hadoop/common/lib/json-smart-1.3.3.jar:/Users/wiraramawedashwara/hadoop/hadoop/share/hadoop/common/lib/httpclient-4.5.13.jar:/Users/wiraramawedashwara/hadoop/hadoop/share/hadoop/common/lib/jsr305-3.0.2.jar:/Users/wiraramawedashwara/hadoop/hadoop/share/hadoop/common/lib/jackson-mapper-asl-1.9.13.jar:/Users/wiraramawedashwara/hadoop/hadoop/share/hadoop/common/lib/commons-math3-3.1.1.jar:/Users/wiraramawedashwara/hadoop/hadoop/share/hadoop/common/lib/commons-lang3-3.4.jar:/Users/wiraramawedashwara/hadoop/hadoop/share/hadoop/common/hadoop-nfs-2.10.2.jar:/Users/wiraramawedashwara/hadoop/hadoop/share/hadoop/common/hadoop-common-2.10.2-tests.jar:/Users/wiraramawedashwara/hadoop/hadoop/share/hadoop/common/hadoop-common-2.10.2.jar:/Users/wiraramawedashwara/hadoop/hadoop/share/hadoop/hdfs:/Users/wiraramawedashwara/hadoop/hadoop/share/hadoop/hdfs/lib/xercesImpl-2.12.0.jar:/Users/wiraramawedashwara/hadoop/hadoop/share/hadoop/hdfs/lib/htrace-core4-4.1.0-incubating.jar:/Users/wiraramawedashwara/hadoop/hadoop/share/hadoop/hdfs/lib/commons-logging-1.1.3.jar:/Users/wiraramawedashwara/hadoop/hadoop/share/hadoop/hdfs/lib/commons-cli-1.2.jar:/Users/wiraramawedashwara/hadoop/hadoop/share/hadoop/hdfs/lib/servlet-api-2.5.jar:/Users/wiraramawedashwara/hadoop/hadoop/share/hadoop/hdfs/lib/protobuf-java-2.5.0.jar:/Users/wiraramawedashwara/hadoop/hadoop/share/hadoop/hdfs/lib/xmlenc-0.52.jar:/Users/wiraramawedashwara/hadoop/hadoop/share/hadoop/hdfs/lib/jetty-util-6.1.26.jar:/Users/wiraramawedashwara/hadoop/hadoop/share/hadoop/hdfs/lib/jackson-core-2.9.10.jar:/Users/wiraramawedashwara/hadoop/hadoop/share/hadoop/hdfs/lib/guava-11.0.2.jar:/Users/wiraramawedashwara/hadoop/hadoop/share/hadoop/hdfs/lib/netty-all-4.1.50.Final.jar:/Users/wiraramawedashwara/hadoop/hadoop/share/hadoop/hdfs/lib/okio-1.6.0.jar:/Users/wiraramawedashwara/hadoop/hadoop/share/hadoop/hdfs/lib/commons-io-2.5.jar:/Users/wiraramawedashwara/hadoop/hadoop/share/hadoop/hdfs/lib/jackson-core-asl-1.9.13.jar:/Users/wiraramawedashwara/hadoop/hadoop/share/hadoop/hdfs/lib/jersey-core-1.9.jar:/Users/wiraramawedashwara/hadoop/hadoop/share/hadoop/hdfs/lib/okhttp-2.7.5.jar:/Users/wiraramawedashwara/hadoop/hadoop/share/hadoop/hdfs/lib/commons-codec-1.4.jar:/Users/wiraramawedashwara/hadoop/hadoop/share/hadoop/hdfs/lib/jetty-6.1.26.jar:/Users/wiraramawedashwara/hadoop/hadoop/share/hadoop/hdfs/lib/jersey-server-1.9.jar:/Users/wiraramawedashwara/hadoop/hadoop/share/hadoop/hdfs/lib/xml-apis-1.4.01.jar:/Users/wiraramawedashwara/hadoop/hadoop/share/hadoop/hdfs/lib/asm-3.2.jar:/Users/wiraramawedashwara/hadoop/hadoop/share/hadoop/hdfs/lib/netty-3.10.6.Final.jar:/Users/wiraramawedashwara/hadoop/hadoop/share/hadoop/hdfs/lib/jackson-annotations-2.9.10.jar:/Users/wiraramawedashwara/hadoop/hadoop/share/hadoop/hdfs/lib/reload4j-1.2.18.3.jar:/Users/wiraramawedashwara/hadoop/hadoop/share/hadoop/hdfs/lib/commons-lang-2.6.jar:/Users/wiraramawedashwara/hadoop/hadoop/share/hadoop/hdfs/lib/hadoop-hdfs-client-2.10.2.jar:/Users/wiraramawedashwara/hadoop/hadoop/share/hadoop/hdfs/lib/leveldbjni-all-1.8.jar:/Users/wiraramawedashwara/hadoop/hadoop/share/hadoop/hdfs/lib/jackson-databind-2.9.10.7.jar:/Users/wiraramawedashwara/hadoop/hadoop/share/hadoop/hdfs/lib/jsr305-3.0.2.jar:/Users/wiraramawedashwara/hadoop/hadoop/share/hadoop/hdfs/lib/jackson-mapper-asl-1.9.13.jar:/Users/wiraramawedashwara/hadoop/hadoop/share/hadoop/hdfs/lib/commons-daemon-1.0.13.jar:/Users/wiraramawedashwara/hadoop/hadoop/share/hadoop/hdfs/hadoop-hdfs-native-client-2.10.2-tests.jar:/Users/wiraramawedashwara/hadoop/hadoop/share/hadoop/hdfs/hadoop-hdfs-rbf-2.10.2.jar:/Users/wiraramawedashwara/hadoop/hadoop/share/hadoop/hdfs/hadoop-hdfs-2.10.2-tests.jar:/Users/wiraramawedashwara/hadoop/hadoop/share/hadoop/hdfs/hadoop-hdfs-native-client-2.10.2.jar:/Users/wiraramawedashwara/hadoop/hadoop/share/hadoop/hdfs/hadoop-hdfs-2.10.2.jar:/Users/wiraramawedashwara/hadoop/hadoop/share/hadoop/hdfs/hadoop-hdfs-rbf-2.10.2-tests.jar:/Users/wiraramawedashwara/hadoop/hadoop/share/hadoop/hdfs/hadoop-hdfs-nfs-2.10.2.jar:/Users/wiraramawedashwara/hadoop/hadoop/share/hadoop/hdfs/hadoop-hdfs-client-2.10.2-tests.jar:/Users/wiraramawedashwara/hadoop/hadoop/share/hadoop/hdfs/hadoop-hdfs-client-2.10.2.jar:/Users/wiraramawedashwara/hadoop/hadoop/share/hadoop/yarn:/Users/wiraramawedashwara/hadoop/hadoop/share/hadoop/yarn/lib/jaxb-impl-2.2.3-1.jar:/Users/wiraramawedashwara/hadoop/hadoop/share/hadoop/yarn/lib/activation-1.1.jar:/Users/wiraramawedashwara/hadoop/hadoop/share/hadoop/yarn/lib/aopalliance-1.0.jar:/Users/wiraramawedashwara/hadoop/hadoop/share/hadoop/yarn/lib/commons-configuration-1.6.jar:/Users/wiraramawedashwara/hadoop/hadoop/share/hadoop/yarn/lib/guice-servlet-3.0.jar:/Users/wiraramawedashwara/hadoop/hadoop/share/hadoop/yarn/lib/htrace-core4-4.1.0-incubating.jar:/Users/wiraramawedashwara/hadoop/hadoop/share/hadoop/yarn/lib/snappy-java-1.0.5.jar:/Users/wiraramawedashwara/hadoop/hadoop/share/hadoop/yarn/lib/stax-api-1.0-2.jar:/Users/wiraramawedashwara/hadoop/hadoop/share/hadoop/yarn/lib/apacheds-i18n-2.0.0-M15.jar:/Users/wiraramawedashwara/hadoop/hadoop/share/hadoop/yarn/lib/java-util-1.9.0.jar:/Users/wiraramawedashwara/hadoop/hadoop/share/hadoop/yarn/lib/jaxb-api-2.2.2.jar:/Users/wiraramawedashwara/hadoop/hadoop/share/hadoop/yarn/lib/httpcore-4.4.13.jar:/Users/wiraramawedashwara/hadoop/hadoop/share/hadoop/yarn/lib/jackson-jaxrs-1.9.13.jar:/Users/wiraramawedashwara/hadoop/hadoop/share/hadoop/yarn/lib/spotbugs-annotations-3.1.9.jar:/Users/wiraramawedashwara/hadoop/hadoop/share/hadoop/yarn/lib/commons-logging-1.1.3.jar:/Users/wiraramawedashwara/hadoop/hadoop/share/hadoop/yarn/lib/woodstox-core-5.3.0.jar:/Users/wiraramawedashwara/hadoop/hadoop/share/hadoop/yarn/lib/avro-1.7.7.jar:/Users/wiraramawedashwara/hadoop/hadoop/share/hadoop/yarn/lib/zookeeper-3.4.14.jar:/Users/wiraramawedashwara/hadoop/hadoop/share/hadoop/yarn/lib/jetty-sslengine-6.1.26.jar:/Users/wiraramawedashwara/hadoop/hadoop/share/hadoop/yarn/lib/geronimo-jcache_1.0_spec-1.0-alpha-1.jar:/Users/wiraramawedashwara/hadoop/hadoop/share/hadoop/yarn/lib/jersey-json-1.9.jar:/Users/wiraramawedashwara/hadoop/hadoop/share/hadoop/yarn/lib/commons-cli-1.2.jar:/Users/wiraramawedashwara/hadoop/hadoop/share/hadoop/yarn/lib/commons-digester-1.8.jar:/Users/wiraramawedashwara/hadoop/hadoop/share/hadoop/yarn/lib/servlet-api-2.5.jar:/Users/wiraramawedashwara/hadoop/hadoop/share/hadoop/yarn/lib/protobuf-java-2.5.0.jar:/Users/wiraramawedashwara/hadoop/hadoop/share/hadoop/yarn/lib/jcip-annotations-1.0-1.jar:/Users/wiraramawedashwara/hadoop/hadoop/share/hadoop/yarn/lib/stax2-api-4.2.1.jar:/Users/wiraramawedashwara/hadoop/hadoop/share/hadoop/yarn/lib/xmlenc-0.52.jar:/Users/wiraramawedashwara/hadoop/hadoop/share/hadoop/yarn/lib/jackson-xc-1.9.13.jar:/Users/wiraramawedashwara/hadoop/hadoop/share/hadoop/yarn/lib/jetty-util-6.1.26.jar:/Users/wiraramawedashwara/hadoop/hadoop/share/hadoop/yarn/lib/fst-2.50.jar:/Users/wiraramawedashwara/hadoop/hadoop/share/hadoop/yarn/lib/nimbus-jose-jwt-7.9.jar:/Users/wiraramawedashwara/hadoop/hadoop/share/hadoop/yarn/lib/guava-11.0.2.jar:/Users/wiraramawedashwara/hadoop/hadoop/share/hadoop/yarn/lib/curator-framework-2.13.0.jar:/Users/wiraramawedashwara/hadoop/hadoop/share/hadoop/yarn/lib/curator-client-2.13.0.jar:/Users/wiraramawedashwara/hadoop/hadoop/share/hadoop/yarn/lib/mssql-jdbc-6.2.1.jre7.jar:/Users/wiraramawedashwara/hadoop/hadoop/share/hadoop/yarn/lib/commons-io-2.5.jar:/Users/wiraramawedashwara/hadoop/hadoop/share/hadoop/yarn/lib/jackson-core-asl-1.9.13.jar:/Users/wiraramawedashwara/hadoop/hadoop/share/hadoop/yarn/lib/commons-compress-1.21.jar:/Users/wiraramawedashwara/hadoop/hadoop/share/hadoop/yarn/lib/jersey-core-1.9.jar:/Users/wiraramawedashwara/hadoop/hadoop/share/hadoop/yarn/lib/jsp-api-2.1.jar:/Users/wiraramawedashwara/hadoop/hadoop/share/hadoop/yarn/lib/commons-codec-1.4.jar:/Users/wiraramawedashwara/hadoop/hadoop/share/hadoop/yarn/lib/jetty-6.1.26.jar:/Users/wiraramawedashwara/hadoop/hadoop/share/hadoop/yarn/lib/audience-annotations-0.5.0.jar:/Users/wiraramawedashwara/hadoop/hadoop/share/hadoop/yarn/lib/jersey-server-1.9.jar:/Users/wiraramawedashwara/hadoop/hadoop/share/hadoop/yarn/lib/guice-3.0.jar:/Users/wiraramawedashwara/hadoop/hadoop/share/hadoop/yarn/lib/java-xmlbuilder-0.4.jar:/Users/wiraramawedashwara/hadoop/hadoop/share/hadoop/yarn/lib/metrics-core-3.0.1.jar:/Users/wiraramawedashwara/hadoop/hadoop/share/hadoop/yarn/lib/jersey-client-1.9.jar:/Users/wiraramawedashwara/hadoop/hadoop/share/hadoop/yarn/lib/jersey-guice-1.9.jar:/Users/wiraramawedashwara/hadoop/hadoop/share/hadoop/yarn/lib/paranamer-2.3.jar:/Users/wiraramawedashwara/hadoop/hadoop/share/hadoop/yarn/lib/commons-collections-3.2.2.jar:/Users/wiraramawedashwara/hadoop/hadoop/share/hadoop/yarn/lib/jettison-1.1.jar:/Users/wiraramawedashwara/hadoop/hadoop/share/hadoop/yarn/lib/asm-3.2.jar:/Users/wiraramawedashwara/hadoop/hadoop/share/hadoop/yarn/lib/netty-3.10.6.Final.jar:/Users/wiraramawedashwara/hadoop/hadoop/share/hadoop/yarn/lib/api-asn1-api-1.0.0-M20.jar:/Users/wiraramawedashwara/hadoop/hadoop/share/hadoop/yarn/lib/apacheds-kerberos-codec-2.0.0-M15.jar:/Users/wiraramawedashwara/hadoop/hadoop/share/hadoop/yarn/lib/curator-recipes-2.13.0.jar:/Users/wiraramawedashwara/hadoop/hadoop/share/hadoop/yarn/lib/reload4j-1.2.18.3.jar:/Users/wiraramawedashwara/hadoop/hadoop/share/hadoop/yarn/lib/commons-beanutils-1.9.4.jar:/Users/wiraramawedashwara/hadoop/hadoop/share/hadoop/yarn/lib/ehcache-3.3.1.jar:/Users/wiraramawedashwara/hadoop/hadoop/share/hadoop/yarn/lib/api-util-1.0.0-M20.jar:/Users/wiraramawedashwara/hadoop/hadoop/share/hadoop/yarn/lib/jsch-0.1.55.jar:/Users/wiraramawedashwara/hadoop/hadoop/share/hadoop/yarn/lib/commons-net-3.1.jar:/Users/wiraramawedashwara/hadoop/hadoop/share/hadoop/yarn/lib/gson-2.2.4.jar:/Users/wiraramawedashwara/hadoop/hadoop/share/hadoop/yarn/lib/jets3t-0.9.0.jar:/Users/wiraramawedashwara/hadoop/hadoop/share/hadoop/yarn/lib/commons-lang-2.6.jar:/Users/wiraramawedashwara/hadoop/hadoop/share/hadoop/yarn/lib/HikariCP-java7-2.4.12.jar:/Users/wiraramawedashwara/hadoop/hadoop/share/hadoop/yarn/lib/json-smart-1.3.3.jar:/Users/wiraramawedashwara/hadoop/hadoop/share/hadoop/yarn/lib/httpclient-4.5.13.jar:/Users/wiraramawedashwara/hadoop/hadoop/share/hadoop/yarn/lib/json-io-2.5.1.jar:/Users/wiraramawedashwara/hadoop/hadoop/share/hadoop/yarn/lib/leveldbjni-all-1.8.jar:/Users/wiraramawedashwara/hadoop/hadoop/share/hadoop/yarn/lib/jsr305-3.0.2.jar:/Users/wiraramawedashwara/hadoop/hadoop/share/hadoop/yarn/lib/jackson-mapper-asl-1.9.13.jar:/Users/wiraramawedashwara/hadoop/hadoop/share/hadoop/yarn/lib/commons-math3-3.1.1.jar:/Users/wiraramawedashwara/hadoop/hadoop/share/hadoop/yarn/lib/commons-lang3-3.4.jar:/Users/wiraramawedashwara/hadoop/hadoop/share/hadoop/yarn/lib/javax.inject-1.jar:/Users/wiraramawedashwara/hadoop/hadoop/share/hadoop/yarn/hadoop-yarn-server-sharedcachemanager-2.10.2.jar:/Users/wiraramawedashwara/hadoop/hadoop/share/hadoop/yarn/hadoop-yarn-server-nodemanager-2.10.2.jar:/Users/wiraramawedashwara/hadoop/hadoop/share/hadoop/yarn/hadoop-yarn-server-router-2.10.2.jar:/Users/wiraramawedashwara/hadoop/hadoop/share/hadoop/yarn/hadoop-yarn-registry-2.10.2.jar:/Users/wiraramawedashwara/hadoop/hadoop/share/hadoop/yarn/hadoop-yarn-server-tests-2.10.2.jar:/Users/wiraramawedashwara/hadoop/hadoop/share/hadoop/yarn/hadoop-yarn-common-2.10.2.jar:/Users/wiraramawedashwara/hadoop/hadoop/share/hadoop/yarn/hadoop-yarn-client-2.10.2.jar:/Users/wiraramawedashwara/hadoop/hadoop/share/hadoop/yarn/hadoop-yarn-server-timeline-pluginstorage-2.10.2.jar:/Users/wiraramawedashwara/hadoop/hadoop/share/hadoop/yarn/hadoop-yarn-server-applicationhistoryservice-2.10.2.jar:/Users/wiraramawedashwara/hadoop/hadoop/share/hadoop/yarn/hadoop-yarn-applications-distributedshell-2.10.2.jar:/Users/wiraramawedashwara/hadoop/hadoop/share/hadoop/yarn/hadoop-yarn-applications-unmanaged-am-launcher-2.10.2.jar:/Users/wiraramawedashwara/hadoop/hadoop/share/hadoop/yarn/hadoop-yarn-server-resourcemanager-2.10.2.jar:/Users/wiraramawedashwara/hadoop/hadoop/share/hadoop/yarn/hadoop-yarn-server-common-2.10.2.jar:/Users/wiraramawedashwara/hadoop/hadoop/share/hadoop/yarn/hadoop-yarn-server-web-proxy-2.10.2.jar:/Users/wiraramawedashwara/hadoop/hadoop/share/hadoop/yarn/hadoop-yarn-api-2.10.2.jar:/Users/wiraramawedashwara/hadoop/hadoop/share/hadoop/mapreduce/lib/aopalliance-1.0.jar:/Users/wiraramawedashwara/hadoop/hadoop/share/hadoop/mapreduce/lib/guice-servlet-3.0.jar:/Users/wiraramawedashwara/hadoop/hadoop/share/hadoop/mapreduce/lib/snappy-java-1.0.5.jar:/Users/wiraramawedashwara/hadoop/hadoop/share/hadoop/mapreduce/lib/hadoop-annotations-2.10.2.jar:/Users/wiraramawedashwara/hadoop/hadoop/share/hadoop/mapreduce/lib/avro-1.7.7.jar:/Users/wiraramawedashwara/hadoop/hadoop/share/hadoop/mapreduce/lib/junit-4.13.2.jar:/Users/wiraramawedashwara/hadoop/hadoop/share/hadoop/mapreduce/lib/protobuf-java-2.5.0.jar:/Users/wiraramawedashwara/hadoop/hadoop/share/hadoop/mapreduce/lib/commons-io-2.5.jar:/Users/wiraramawedashwara/hadoop/hadoop/share/hadoop/mapreduce/lib/jackson-core-asl-1.9.13.jar:/Users/wiraramawedashwara/hadoop/hadoop/share/hadoop/mapreduce/lib/commons-compress-1.21.jar:/Users/wiraramawedashwara/hadoop/hadoop/share/hadoop/mapreduce/lib/jersey-core-1.9.jar:/Users/wiraramawedashwara/hadoop/hadoop/share/hadoop/mapreduce/lib/jersey-server-1.9.jar:/Users/wiraramawedashwara/hadoop/hadoop/share/hadoop/mapreduce/lib/guice-3.0.jar:/Users/wiraramawedashwara/hadoop/hadoop/share/hadoop/mapreduce/lib/jersey-guice-1.9.jar:/Users/wiraramawedashwara/hadoop/hadoop/share/hadoop/mapreduce/lib/paranamer-2.3.jar:/Users/wiraramawedashwara/hadoop/hadoop/share/hadoop/mapreduce/lib/asm-3.2.jar:/Users/wiraramawedashwara/hadoop/hadoop/share/hadoop/mapreduce/lib/netty-3.10.6.Final.jar:/Users/wiraramawedashwara/hadoop/hadoop/share/hadoop/mapreduce/lib/hamcrest-core-1.3.jar:/Users/wiraramawedashwara/hadoop/hadoop/share/hadoop/mapreduce/lib/reload4j-1.2.18.3.jar:/Users/wiraramawedashwara/hadoop/hadoop/share/hadoop/mapreduce/lib/leveldbjni-all-1.8.jar:/Users/wiraramawedashwara/hadoop/hadoop/share/hadoop/mapreduce/lib/jackson-mapper-asl-1.9.13.jar:/Users/wiraramawedashwara/hadoop/hadoop/share/hadoop/mapreduce/lib/javax.inject-1.jar:/Users/wiraramawedashwara/hadoop/hadoop/share/hadoop/mapreduce/hadoop-mapreduce-client-core-2.10.2.jar:/Users/wiraramawedashwara/hadoop/hadoop/share/hadoop/mapreduce/hadoop-mapreduce-client-common-2.10.2.jar:/Users/wiraramawedashwara/hadoop/hadoop/share/hadoop/mapreduce/hadoop-mapreduce-examples-2.10.2.jar:/Users/wiraramawedashwara/hadoop/hadoop/share/hadoop/mapreduce/hadoop-mapreduce-client-jobclient-2.10.2-tests.jar:/Users/wiraramawedashwara/hadoop/hadoop/share/hadoop/mapreduce/hadoop-mapreduce-client-jobclient-2.10.2.jar:/Users/wiraramawedashwara/hadoop/hadoop/share/hadoop/mapreduce/hadoop-mapreduce-client-hs-2.10.2.jar:/Users/wiraramawedashwara/hadoop/hadoop/share/hadoop/mapreduce/hadoop-mapreduce-client-shuffle-2.10.2.jar:/Users/wiraramawedashwara/hadoop/hadoop/share/hadoop/mapreduce/hadoop-mapreduce-client-app-2.10.2.jar:/Users/wiraramawedashwara/hadoop/hadoop/share/hadoop/mapreduce/hadoop-mapreduce-client-hs-plugins-2.10.2.jar:/Users/wiraramawedashwara/hadoop/hadoop/contrib/capacity-scheduler/*.jar\n",
      "STARTUP_MSG:   build = Unknown -r 965fd380006fa78b2315668fbc7eb432e1d8200f; compiled by 'ubuntu' on 2022-05-24T22:35Z\n",
      "STARTUP_MSG:   java = 1.7.0_80\n",
      "************************************************************/\n",
      "22/11/02 08:07:16 INFO namenode.NameNode: registered UNIX signal handlers for [TERM, HUP, INT]\n",
      "22/11/02 08:07:16 INFO namenode.NameNode: createNameNode [-format]\n",
      "22/11/02 08:07:17 WARN util.NativeCodeLoader: Unable to load native-hadoop library for your platform... using builtin-java classes where applicable\n",
      "Formatting using clusterid: CID-0fa3e14d-99d5-42a3-b378-d0f6f41f1de6\n",
      "22/11/02 08:07:19 INFO namenode.FSEditLog: Edit logging is async:true\n",
      "22/11/02 08:07:19 INFO namenode.FSNamesystem: KeyProvider: null\n",
      "22/11/02 08:07:19 INFO namenode.FSNamesystem: fsLock is fair: true\n",
      "22/11/02 08:07:19 INFO namenode.FSNamesystem: Detailed lock hold time metrics enabled: false\n",
      "22/11/02 08:07:19 INFO namenode.FSNamesystem: fsOwner             = wiraramawedashwara (auth:SIMPLE)\n",
      "22/11/02 08:07:19 INFO namenode.FSNamesystem: supergroup          = supergroup\n",
      "22/11/02 08:07:19 INFO namenode.FSNamesystem: isPermissionEnabled = true\n",
      "22/11/02 08:07:19 INFO namenode.FSNamesystem: HA Enabled: false\n",
      "22/11/02 08:07:19 INFO common.Util: dfs.datanode.fileio.profiling.sampling.percentage set to 0. Disabling file IO profiling\n",
      "22/11/02 08:07:19 INFO blockmanagement.DatanodeManager: dfs.block.invalidate.limit: configured=1000, counted=60, effected=1000\n",
      "22/11/02 08:07:19 INFO blockmanagement.DatanodeManager: dfs.namenode.datanode.registration.ip-hostname-check=true\n",
      "22/11/02 08:07:19 INFO blockmanagement.BlockManager: dfs.namenode.startup.delay.block.deletion.sec is set to 000:00:00:00.000\n",
      "22/11/02 08:07:19 INFO blockmanagement.BlockManager: The block deletion will start around 2022 Nov 02 08:07:19\n",
      "22/11/02 08:07:19 INFO util.GSet: Computing capacity for map BlocksMap\n",
      "22/11/02 08:07:19 INFO util.GSet: VM type       = 64-bit\n",
      "22/11/02 08:07:19 INFO util.GSet: 2.0% max memory 889 MB = 17.8 MB\n",
      "22/11/02 08:07:19 INFO util.GSet: capacity      = 2^21 = 2097152 entries\n",
      "22/11/02 08:07:19 INFO blockmanagement.BlockManager: dfs.block.access.token.enable=false\n",
      "22/11/02 08:07:19 WARN conf.Configuration: No unit for dfs.heartbeat.interval(3) assuming SECONDS\n",
      "22/11/02 08:07:19 WARN conf.Configuration: No unit for dfs.namenode.safemode.extension(30000) assuming MILLISECONDS\n",
      "22/11/02 08:07:19 INFO blockmanagement.BlockManagerSafeMode: dfs.namenode.safemode.threshold-pct = 0.9990000128746033\n",
      "22/11/02 08:07:19 INFO blockmanagement.BlockManagerSafeMode: dfs.namenode.safemode.min.datanodes = 0\n",
      "22/11/02 08:07:19 INFO blockmanagement.BlockManagerSafeMode: dfs.namenode.safemode.extension = 30000\n",
      "22/11/02 08:07:19 INFO blockmanagement.BlockManager: defaultReplication         = 1\n",
      "22/11/02 08:07:19 INFO blockmanagement.BlockManager: maxReplication             = 512\n",
      "22/11/02 08:07:19 INFO blockmanagement.BlockManager: minReplication             = 1\n",
      "22/11/02 08:07:19 INFO blockmanagement.BlockManager: maxReplicationStreams      = 2\n",
      "22/11/02 08:07:19 INFO blockmanagement.BlockManager: replicationRecheckInterval = 3000\n",
      "22/11/02 08:07:19 INFO blockmanagement.BlockManager: encryptDataTransfer        = false\n",
      "22/11/02 08:07:19 INFO blockmanagement.BlockManager: maxNumBlocksToLog          = 1000\n",
      "22/11/02 08:07:19 INFO namenode.FSNamesystem: Append Enabled: true\n",
      "22/11/02 08:07:19 INFO namenode.FSDirectory: GLOBAL serial map: bits=24 maxEntries=16777215\n",
      "22/11/02 08:07:19 INFO util.GSet: Computing capacity for map INodeMap\n",
      "22/11/02 08:07:19 INFO util.GSet: VM type       = 64-bit\n",
      "22/11/02 08:07:19 INFO util.GSet: 1.0% max memory 889 MB = 8.9 MB\n",
      "22/11/02 08:07:19 INFO util.GSet: capacity      = 2^20 = 1048576 entries\n",
      "22/11/02 08:07:19 INFO namenode.FSDirectory: ACLs enabled? false\n",
      "22/11/02 08:07:19 INFO namenode.FSDirectory: XAttrs enabled? true\n",
      "22/11/02 08:07:19 INFO namenode.NameNode: Caching file names occurring more than 10 times\n",
      "22/11/02 08:07:19 INFO snapshot.SnapshotManager: Loaded config captureOpenFiles: falseskipCaptureAccessTimeOnlyChange: false\n",
      "22/11/02 08:07:19 INFO util.GSet: Computing capacity for map cachedBlocks\n",
      "22/11/02 08:07:19 INFO util.GSet: VM type       = 64-bit\n",
      "22/11/02 08:07:19 INFO util.GSet: 0.25% max memory 889 MB = 2.2 MB\n",
      "22/11/02 08:07:19 INFO util.GSet: capacity      = 2^18 = 262144 entries\n",
      "22/11/02 08:07:19 INFO metrics.TopMetrics: NNTop conf: dfs.namenode.top.window.num.buckets = 10\n",
      "22/11/02 08:07:19 INFO metrics.TopMetrics: NNTop conf: dfs.namenode.top.num.users = 10\n",
      "22/11/02 08:07:19 INFO metrics.TopMetrics: NNTop conf: dfs.namenode.top.windows.minutes = 1,5,25\n",
      "22/11/02 08:07:19 INFO namenode.FSNamesystem: Retry cache on namenode is enabled\n",
      "22/11/02 08:07:19 INFO namenode.FSNamesystem: Retry cache will use 0.03 of total heap and retry cache entry expiry time is 600000 millis\n",
      "22/11/02 08:07:19 INFO util.GSet: Computing capacity for map NameNodeRetryCache\n",
      "22/11/02 08:07:19 INFO util.GSet: VM type       = 64-bit\n",
      "22/11/02 08:07:19 INFO util.GSet: 0.029999999329447746% max memory 889 MB = 273.1 KB\n",
      "22/11/02 08:07:19 INFO util.GSet: capacity      = 2^15 = 32768 entries\n",
      "22/11/02 08:07:19 INFO namenode.FSImage: Allocated new BlockPoolId: BP-1406346481-127.0.0.1-1667347639701\n",
      "22/11/02 08:07:19 INFO common.Storage: Storage directory /tmp/hadoop-wiraramawedashwara/dfs/name has been successfully formatted.\n",
      "22/11/02 08:07:19 INFO namenode.FSImageFormatProtobuf: Saving image file /tmp/hadoop-wiraramawedashwara/dfs/name/current/fsimage.ckpt_0000000000000000000 using no compression\n",
      "22/11/02 08:07:19 INFO namenode.FSImageFormatProtobuf: Image file /tmp/hadoop-wiraramawedashwara/dfs/name/current/fsimage.ckpt_0000000000000000000 of size 337 bytes saved in 0 seconds .\n",
      "22/11/02 08:07:19 INFO namenode.NNStorageRetentionManager: Going to retain 1 images with txid >= 0\n",
      "22/11/02 08:07:19 INFO namenode.FSImage: FSImageSaver clean checkpoint: txid = 0 when meet shutdown.\n",
      "22/11/02 08:07:20 INFO namenode.NameNode: SHUTDOWN_MSG: \n",
      "/************************************************************\n",
      "SHUTDOWN_MSG: Shutting down NameNode at localhost/127.0.0.1\n",
      "************************************************************/\n"
     ]
    }
   ],
   "source": [
    "!hdfs namenode -format"
   ]
  },
  {
   "cell_type": "code",
   "execution_count": 2,
   "metadata": {},
   "outputs": [
    {
     "name": "stdout",
     "output_type": "stream",
     "text": [
      "22/11/02 08:07:21 WARN util.NativeCodeLoader: Unable to load native-hadoop library for your platform... using builtin-java classes where applicable\n",
      "Starting namenodes on [localhost]\n",
      "localhost: starting namenode, logging to /Users/wiraramawedashwara/hadoop/hadoop/logs/hadoop-wiraramawedashwara-namenode-wiraramas-MacBook-Pro.local.out\n",
      "localhost: starting datanode, logging to /Users/wiraramawedashwara/hadoop/hadoop/logs/hadoop-wiraramawedashwara-datanode-wiraramas-MacBook-Pro.local.out\n",
      "Starting secondary namenodes [0.0.0.0]\n",
      "0.0.0.0: starting secondarynamenode, logging to /Users/wiraramawedashwara/hadoop/hadoop/logs/hadoop-wiraramawedashwara-secondarynamenode-wiraramas-MacBook-Pro.local.out\n",
      "22/11/02 08:07:41 WARN util.NativeCodeLoader: Unable to load native-hadoop library for your platform... using builtin-java classes where applicable\n"
     ]
    }
   ],
   "source": [
    "!start-dfs.sh"
   ]
  },
  {
   "cell_type": "markdown",
   "metadata": {},
   "source": [
    "http://localhost:50070/"
   ]
  },
  {
   "cell_type": "code",
   "execution_count": 3,
   "metadata": {},
   "outputs": [
    {
     "name": "stdout",
     "output_type": "stream",
     "text": [
      "22/11/02 08:07:56 WARN util.NativeCodeLoader: Unable to load native-hadoop library for your platform... using builtin-java classes where applicable\n"
     ]
    }
   ],
   "source": [
    "!hdfs dfs -mkdir /tmp"
   ]
  },
  {
   "cell_type": "code",
   "execution_count": 4,
   "metadata": {},
   "outputs": [
    {
     "name": "stdout",
     "output_type": "stream",
     "text": [
      "22/11/02 08:08:09 WARN util.NativeCodeLoader: Unable to load native-hadoop library for your platform... using builtin-java classes where applicable\n"
     ]
    }
   ],
   "source": [
    "!hdfs dfs -chmod g+w /tmp"
   ]
  },
  {
   "cell_type": "code",
   "execution_count": 5,
   "metadata": {},
   "outputs": [
    {
     "name": "stdout",
     "output_type": "stream",
     "text": [
      "readlink: illegal option -- f\n",
      "usage: readlink [-n] [file ...]\n",
      "\n",
      "Logging initialized using configuration in jar:file:/Users/wiraramawedashwara/hadoop/hive/lib/hive-common-1.2.2.jar!/hive-log4j.properties\n",
      "FAILED: Execution Error, return code 1 from org.apache.hadoop.hive.ql.exec.DDLTask. Database test_db already exists\n"
     ]
    }
   ],
   "source": [
    "!hive -e 'create database test_db;'"
   ]
  },
  {
   "cell_type": "code",
   "execution_count": 6,
   "metadata": {},
   "outputs": [
    {
     "name": "stdout",
     "output_type": "stream",
     "text": [
      "readlink: illegal option -- f\n",
      "usage: readlink [-n] [file ...]\n",
      "\n",
      "Logging initialized using configuration in jar:file:/Users/wiraramawedashwara/hadoop/hive/lib/hive-common-1.2.2.jar!/hive-log4j.properties\n",
      "OK\n",
      "Time taken: 1.1 seconds\n",
      "FAILED: Execution Error, return code 1 from org.apache.hadoop.hive.ql.exec.DDLTask. AlreadyExistsException(message:Table t already exists)\n"
     ]
    }
   ],
   "source": [
    "!hive -e 'use test_db;create table t(id int);'"
   ]
  },
  {
   "cell_type": "code",
   "execution_count": 7,
   "metadata": {},
   "outputs": [
    {
     "name": "stdout",
     "output_type": "stream",
     "text": [
      "readlink: illegal option -- f\n",
      "usage: readlink [-n] [file ...]\n",
      "\n",
      "Logging initialized using configuration in jar:file:/Users/wiraramawedashwara/hadoop/hive/lib/hive-common-1.2.2.jar!/hive-log4j.properties\n",
      "OK\n",
      "Time taken: 2.594 seconds\n"
     ]
    }
   ],
   "source": [
    "!~/hadoop/hive/bin/hive -e 'drop database test cascade;'"
   ]
  },
  {
   "cell_type": "code",
   "execution_count": null,
   "metadata": {},
   "outputs": [],
   "source": [
    "#testquerycsv-edit.sql\n",
    "create database if not exists test;\n",
    "create table test.sample (index int, tgl STRING, a float, b float, c float, d float, e float, f float, g float, h float) row format delimited fields terminated by ',' stored as textfile;\n",
    "use test; \n",
    "show tables;\n",
    "load data local inpath 'avocado.csv' into table test.sample;\n",
    "select * from sample WHERE a>0.5 AND c>10000 limit 50;"
   ]
  },
  {
   "cell_type": "code",
   "execution_count": 8,
   "metadata": {},
   "outputs": [
    {
     "name": "stdout",
     "output_type": "stream",
     "text": [
      "readlink: illegal option -- f\n",
      "usage: readlink [-n] [file ...]\n",
      "\n",
      "Logging initialized using configuration in jar:file:/Users/wiraramawedashwara/hadoop/hive/lib/hive-common-1.2.2.jar!/hive-log4j.properties\n",
      "OK\n",
      "Time taken: 1.436 seconds\n",
      "OK\n",
      "Time taken: 0.401 seconds\n",
      "OK\n",
      "Time taken: 0.013 seconds\n",
      "OK\n",
      "sample\n",
      "Time taken: 0.287 seconds, Fetched: 1 row(s)\n",
      "Loading data to table test.sample\n",
      "Table test.sample stats: [numFiles=1, totalSize=1989197]\n",
      "OK\n",
      "Time taken: 1.784 seconds\n",
      "OK\n",
      "0\t2015-12-27\t0.99\t386100.5\t292097.38\t27350.92\t297.9\t66354.31\t48605.95\t17748.36\n",
      "1\t2015-12-20\t1.08\t331377.53\t251774.16\t20702.45\t103.06\t58797.87\t46930.26\t11867.61\n",
      "2\t2015-12-13\t0.96\t417772.47\t324932.28\t31019.08\t275.8\t61545.31\t38903.57\t22628.21\n",
      "3\t2015-12-06\t1.07\t357636.8\t283024.0\t23740.85\t181.92\t50690.04\t37032.67\t13654.66\n",
      "4\t2015-11-29\t0.99\t333280.78\t250288.66\t28889.63\t307.83\t53794.68\t33031.72\t20738.55\n",
      "5\t2015-11-22\t1.0\t356414.56\t269799.03\t29732.3\t501.16\t56382.08\t36992.3\t19389.78\n",
      "6\t2015-11-15\t1.13\t339860.7\t263915.78\t28442.45\t455.97\t47046.48\t33656.42\t13390.06\n",
      "7\t2015-11-08\t1.12\t334041.6\t250441.38\t34483.33\t488.24\t48628.65\t35662.93\t12941.12\n",
      "8\t2015-11-01\t0.99\t419088.75\t290457.5\t62980.07\t252.79\t65398.38\t39460.77\t25929.39\n",
      "9\t2015-10-25\t1.09\t358478.1\t236814.3\t64607.97\t304.36\t56751.46\t31826.88\t24924.58\n",
      "10\t2015-10-18\t1.09\t349072.47\t228710.28\t59731.79\t291.22\t60339.19\t36884.35\t23454.84\n",
      "11\t2015-10-11\t0.95\t433874.47\t255933.31\t91047.32\t599.71\t86294.11\t41159.96\t45134.15\n",
      "12\t2015-10-04\t0.96\t418682.25\t265797.1\t92780.33\t644.43\t59460.41\t14875.64\t44584.77\n",
      "13\t2015-09-27\t1.07\t370321.16\t262107.44\t61870.63\t680.8\t45662.3\t20533.87\t25125.65\n",
      "14\t2015-09-20\t0.93\t516432.6\t346118.5\t82762.72\t1349.41\t86201.96\t33698.43\t52442.25\n",
      "15\t2015-09-13\t1.07\t417232.2\t278048.25\t62485.97\t714.93\t75983.02\t46290.32\t29678.76\n",
      "16\t2015-09-06\t0.97\t472136.53\t303113.25\t73675.85\t911.25\t94436.19\t49833.55\t44549.67\n",
      "17\t2015-08-30\t1.15\t382972.72\t275818.28\t44839.12\t1034.09\t61281.24\t47138.07\t14112.5\n",
      "18\t2015-08-23\t1.12\t379054.28\t274462.4\t46223.69\t950.09\t57418.09\t45534.11\t11883.98\n",
      "19\t2015-08-16\t1.09\t465213.8\t362579.5\t41992.44\t1424.96\t59216.9\t45068.25\t14148.65\n",
      "20\t2015-08-09\t1.01\t503791.72\t385027.72\t47040.07\t4251.74\t67472.2\t45820.45\t21568.48\n",
      "21\t2015-08-02\t1.15\t405898.44\t306587.88\t41906.78\t3515.48\t53888.32\t42126.47\t11720.3\n",
      "22\t2015-07-26\t1.08\t437377.75\t335372.03\t44087.07\t708.0\t57210.66\t45114.22\t12096.44\n",
      "23\t2015-07-19\t0.97\t557213.0\t446100.16\t47838.42\t1982.03\t61292.37\t45099.87\t16192.5\n",
      "24\t2015-07-12\t1.14\t407204.88\t310080.34\t37953.24\t867.46\t58303.85\t46023.59\t12280.26\n",
      "25\t2015-07-05\t1.01\t562462.3\t436377.9\t54675.38\t848.55\t70560.49\t50684.74\t19851.0\n",
      "26\t2015-06-28\t1.13\t435210.72\t331353.44\t37698.53\t816.56\t65342.19\t52099.76\t13108.03\n",
      "27\t2015-06-21\t0.99\t554763.75\t449311.47\t30231.78\t678.4\t74542.11\t55484.76\t19010.81\n",
      "28\t2015-06-14\t1.1\t465804.78\t386370.5\t17701.12\t471.72\t61261.44\t48612.13\t12578.28\n",
      "29\t2015-06-07\t0.99\t551009.06\t455565.9\t22414.17\t738.68\t72290.28\t50954.84\t21329.99\n",
      "30\t2015-05-31\t1.1\t454702.0\t382901.0\t19543.18\t522.81\t51735.02\t40505.16\t11199.95\n",
      "31\t2015-05-24\t0.96\t623212.06\t538126.94\t27284.43\t1260.8\t56539.87\t33867.0\t22651.15\n",
      "32\t2015-05-17\t1.11\t451250.7\t386400.88\t18618.84\t838.68\t45392.29\t33710.2\t11682.09\n",
      "33\t2015-05-10\t1.1\t480071.2\t413452.97\t18860.63\t1089.33\t46668.26\t34108.44\t12559.82\n",
      "34\t2015-05-03\t1.0\t634213.1\t538403.5\t28568.26\t1059.73\t66181.63\t32520.82\t33660.81\n",
      "35\t2015-04-26\t1.12\t448596.75\t387676.8\t18366.33\t1041.78\t41511.84\t31315.29\t10196.55\n",
      "36\t2015-04-19\t1.12\t430966.34\t368709.66\t18040.85\t873.24\t43342.6\t29661.72\t13680.88\n",
      "37\t2015-04-12\t0.99\t451101.88\t377578.47\t22419.95\t219.14\t50884.32\t25833.07\t25051.25\n",
      "38\t2015-04-05\t1.04\t383139.5\t318473.47\t19254.39\t374.51\t45037.12\t28612.48\t16289.92\n",
      "39\t2015-03-29\t1.11\t365722.12\t305028.88\t16651.99\t261.01\t43780.25\t29313.92\t14466.33\n",
      "40\t2015-03-22\t1.0\t479590.62\t393591.03\t23419.6\t304.89\t62275.1\t40495.12\t21766.54\n",
      "41\t2015-03-15\t1.12\t399566.22\t336172.1\t16508.21\t310.7\t46575.23\t34911.7\t11625.94\n",
      "42\t2015-03-08\t1.1\t420826.3\t361559.22\t15788.71\t236.97\t43241.42\t33847.33\t9394.09\n",
      "43\t2015-03-01\t0.99\t512532.44\t441544.0\t21183.7\t347.78\t49456.96\t32180.9\t17273.38\n",
      "44\t2015-02-22\t1.1\t431308.56\t369316.28\t18324.76\t237.47\t43430.04\t33423.74\t10006.3\n",
      "45\t2015-02-15\t1.06\t427391.28\t364446.78\t17420.41\t638.18\t44885.92\t26727.66\t18158.26\n",
      "46\t2015-02-08\t1.03\t433883.9\t377256.38\t17162.5\t524.85\t38940.18\t18044.41\t20895.77\n",
      "47\t2015-02-01\t0.96\t636771.4\t553198.56\t31583.38\t294.94\t51694.49\t10553.73\t41140.76\n",
      "48\t2015-01-25\t1.1\t449332.84\t393408.16\t18718.27\t594.25\t36612.16\t13176.39\t23435.77\n",
      "49\t2015-01-18\t1.11\t431491.0\t372236.9\t18701.9\t511.69\t40040.48\t16782.71\t23257.77\n",
      "Time taken: 1.197 seconds, Fetched: 50 row(s)\n"
     ]
    }
   ],
   "source": [
    "!hive -f ~/python/bigdata2022/testquerycsv-edit.sql"
   ]
  },
  {
   "cell_type": "code",
   "execution_count": 11,
   "metadata": {},
   "outputs": [
    {
     "name": "stdout",
     "output_type": "stream",
     "text": [
      "22/11/02 08:24:21 WARN util.NativeCodeLoader: Unable to load native-hadoop library for your platform... using builtin-java classes where applicable\n",
      "Found 1 items\n",
      "drwxr-xr-x   - wiraramawedashwara supergroup          0 2022-11-02 08:13 /user/hive/warehouse/test.db\n"
     ]
    }
   ],
   "source": [
    "!~/hadoop/hadoop/bin/hdfs dfs -ls /user/hive/warehouse/"
   ]
  },
  {
   "cell_type": "code",
   "execution_count": 13,
   "metadata": {},
   "outputs": [
    {
     "name": "stdout",
     "output_type": "stream",
     "text": [
      "22/11/02 08:24:36 WARN util.NativeCodeLoader: Unable to load native-hadoop library for your platform... using builtin-java classes where applicable\n",
      "Found 1 items\n",
      "-rwxr-xr-x   1 wiraramawedashwara supergroup    1989197 2022-11-02 08:13 /user/hive/warehouse/test.db/sample/avocado.csv\n"
     ]
    }
   ],
   "source": [
    "!~/hadoop/hadoop/bin/hdfs dfs -ls /user/hive/warehouse/test.db/sample"
   ]
  },
  {
   "cell_type": "code",
   "execution_count": 10,
   "metadata": {},
   "outputs": [
    {
     "name": "stdout",
     "output_type": "stream",
     "text": [
      "readlink: illegal option -- f\n",
      "usage: readlink [-n] [file ...]\n",
      "\n",
      "Logging initialized using configuration in jar:file:/Users/wiraramawedashwara/hadoop/hive/lib/hive-common-1.2.2.jar!/hive-log4j.properties\n",
      "OK\n",
      "5\t2016-11-20\t1.14\t448936.03\t189206.6\t58005.57\t167.63\t201556.25\t128442.19\t72236.28\n",
      "6\t2016-11-13\t1.25\t408260.88\t185966.3\t63348.63\t180.57\t158765.38\t92308.66\t66233.39\n",
      "4\t2016-11-27\t1.49\t539924.8\t46243.14\t336731.88\t8237.15\t148712.67\t146287.45\t1715.5\n",
      "5\t2016-11-20\t1.6\t566160.06\t51078.68\t309529.28\t13095.11\t192456.98\t189672.97\t1882.62\n",
      "6\t2016-11-13\t1.73\t559978.6\t64630.53\t311687.84\t28558.19\t155102.06\t153317.9\t1348.06\n",
      "7\t2016-11-06\t1.8\t537945.8\t61458.87\t284547.34\t41286.91\t150652.7\t149603.88\t1048.82\n",
      "5\t2016-11-20\t1.39\t475677.34\t7917.9\t356867.56\t4915.71\t105976.17\t105940.61\t35.56\n",
      "4\t2016-11-27\t1.21\t4185900.8\t1508446.5\t1313000.9\t81897.44\t1282555.8\t1202939.2\t49696.87\n",
      "5\t2016-11-20\t1.32\t4253815.5\t1513797.4\t1394929.1\t93901.07\t1251188.0\t1161050.0\t61429.08\n",
      "6\t2016-11-13\t1.48\t3848128.2\t1326907.0\t1367685.0\t112541.9\t1040994.3\t952497.4\t60542.13\n",
      "7\t2016-11-06\t1.68\t3395058.5\t1111431.9\t1333386.8\t120964.4\t829275.44\t763934.9\t35997.83\n",
      "4\t2016-11-27\t1.1\t581638.75\t151462.16\t291205.62\t81651.23\t57319.76\t56501.53\t797.78\n",
      "5\t2016-11-20\t1.13\t694873.06\t134284.88\t422382.4\t80126.03\t58079.74\t55015.46\t997.51\n",
      "6\t2016-11-13\t1.82\t436710.9\t34384.62\t265006.84\t73021.81\t64297.63\t63465.65\t593.89\n",
      "4\t2016-11-27\t0.9\t851579.2\t445308.38\t158734.02\t2459.77\t245077.06\t242623.81\t2390.64\n",
      "5\t2016-11-20\t1.0\t910226.06\t503088.6\t183916.45\t2767.57\t220453.44\t219494.36\t746.62\n",
      "6\t2016-11-13\t1.08\t894000.4\t480163.12\t199890.31\t3946.67\t210000.27\t209726.5\t160.63\n",
      "7\t2016-11-06\t1.14\t894904.56\t513465.9\t163205.8\t1932.2\t216300.66\t215425.12\t273.66\n",
      "4\t2016-11-27\t1.3\t455469.66\t86311.53\t131940.88\t14113.35\t223103.92\t81706.03\t141397.89\n",
      "5\t2016-11-20\t1.28\t543816.6\t94899.68\t146401.28\t15291.46\t287224.2\t164217.3\t123006.89\n",
      "6\t2016-11-13\t1.18\t661296.8\t133528.94\t197035.03\t16010.33\t314722.5\t84341.19\t230381.31\n",
      "7\t2016-11-06\t1.31\t533947.5\t110497.67\t148423.27\t18858.61\t256167.95\t81361.39\t174689.45\n",
      "4\t2016-11-27\t1.18\t2385048.5\t528089.4\t937488.2\t109137.29\t810333.6\t590905.25\t219152.66\n",
      "5\t2016-11-20\t1.23\t2637621.8\t482408.8\t1176230.8\t109089.43\t869892.9\t583552.7\t283781.8\n",
      "6\t2016-11-13\t1.41\t2348814.2\t378864.28\t1003256.0\t103230.89\t863463.0\t598773.7\t264201.22\n",
      "7\t2016-11-06\t1.48\t2222383.5\t398012.38\t946981.94\t91683.48\t785705.7\t520297.38\t264747.16\n",
      "4\t2016-11-27\t0.82\t854629.6\t525324.6\t173401.52\t3567.44\t152336.05\t81852.59\t70483.45\n",
      "5\t2016-11-20\t0.99\t827345.75\t466960.66\t202860.34\t4070.15\t153454.6\t58525.46\t94915.81\n",
      "6\t2016-11-13\t1.05\t828866.8\t431731.62\t231630.38\t4850.4\t160654.4\t61276.87\t99274.75\n",
      "7\t2016-11-06\t1.12\t782911.25\t430098.78\t168814.95\t2921.98\t181075.55\t78827.53\t102248.01\n",
      "4\t2016-11-27\t1.01\t2257271.2\t865743.44\t416437.84\t50949.95\t924140.0\t868269.44\t34138.07\n",
      "5\t2016-11-20\t1.1\t2272023.2\t880344.3\t456709.38\t60511.55\t874457.9\t808238.25\t43041.56\n",
      "6\t2016-11-13\t1.29\t1913492.6\t696410.9\t436388.62\t71033.43\t709659.7\t639521.2\t44270.7\n",
      "7\t2016-11-06\t1.52\t1595013.1\t543331.56\t423351.9\t77064.64\t551265.0\t497726.5\t26542.63\n",
      "4\t2016-11-27\t1.49\t405085.56\t159915.34\t89345.14\t120.29\t155704.8\t61614.63\t93846.55\n",
      "5\t2016-11-20\t1.52\t461236.75\t179988.4\t102113.0\t44.24\t179091.1\t70029.31\t109061.79\n",
      "6\t2016-11-13\t1.43\t478305.06\t195573.25\t101415.32\t255.96\t181060.53\t74065.08\t106744.06\n",
      "7\t2016-11-06\t1.51\t426159.62\t176243.94\t96964.16\t232.81\t152718.73\t53017.4\t99149.94\n",
      "4\t2016-11-27\t1.4\t1858065.1\t421295.5\t729252.94\t33160.82\t674355.9\t589240.44\t82533.8\n",
      "5\t2016-11-20\t1.48\t1999044.4\t478380.62\t712348.4\t53734.01\t754581.4\t664868.5\t87750.1\n",
      "6\t2016-11-13\t1.52\t2075282.8\t589046.75\t723968.75\t99449.47\t662817.75\t562621.7\t97915.02\n",
      "7\t2016-11-06\t1.54\t2077507.4\t569735.75\t697011.94\t122472.4\t688287.3\t588028.4\t99508.98\n",
      "4\t2016-11-27\t1.56\t970753.06\t15264.26\t696848.9\t2022.9\t256617.06\t223707.17\t32610.95\n",
      "5\t2016-11-20\t1.59\t1093097.0\t16970.61\t732069.3\t2999.16\t341057.94\t303438.25\t35803.02\n",
      "6\t2016-11-13\t1.9\t830018.5\t12169.08\t523321.97\t2970.03\t291557.38\t248573.27\t42984.12\n",
      "7\t2016-11-06\t1.93\t767190.6\t10277.48\t460230.47\t3519.45\t293163.22\t250705.7\t42457.51\n",
      "4\t2016-11-27\t1.51\t2701518.5\t102215.56\t1938616.8\t10853.05\t649833.06\t608290.44\t40586.85\n",
      "5\t2016-11-20\t1.51\t3206946.5\t126526.23\t2178698.0\t16299.41\t885422.8\t839621.4\t43848.7\n",
      "6\t2016-11-13\t1.67\t2706838.5\t126870.22\t1797497.4\t14009.38\t768461.5\t716107.94\t52343.53\n",
      "7\t2016-11-06\t1.71\t2507401.0\t124032.58\t1616563.0\t13244.25\t753561.2\t699083.75\t53807.98\n",
      "4\t2016-11-27\t0.72\t907516.25\t464034.44\t212695.94\t11542.14\t219243.77\t95631.21\t123302.83\n",
      "5\t2016-11-20\t0.7\t1226126.4\t753470.7\t183315.34\t14661.31\t274679.03\t110584.81\t164013.66\n",
      "6\t2016-11-13\t0.94\t911367.4\t437810.53\t189026.34\t15106.03\t269424.47\t106369.01\t163055.45\n",
      "7\t2016-11-06\t1.0\t734433.2\t334096.22\t154480.9\t16680.28\t229175.8\t103302.07\t125873.72\n",
      "4\t2016-11-27\t1.35\t1131932.2\t520565.84\t272840.97\t3226.22\t335299.22\t305277.38\t28166.52\n",
      "5\t2016-11-20\t1.49\t1126964.4\t518903.12\t306191.06\t4456.35\t297413.78\t273036.06\t20624.66\n",
      "6\t2016-11-13\t1.57\t1187396.9\t514295.9\t357173.84\t5306.27\t310620.8\t279361.88\t23575.34\n",
      "7\t2016-11-06\t1.55\t1281023.8\t576884.25\t366464.25\t6472.83\t331202.34\t300860.56\t26241.79\n",
      "4\t2016-11-27\t1.22\t404389.56\t72973.18\t104741.59\t11472.92\t215201.88\t214541.31\t501.88\n",
      "5\t2016-11-20\t1.23\t455618.12\t80040.96\t114101.18\t13948.69\t247527.3\t246808.48\t500.84\n",
      "6\t2016-11-13\t1.22\t487762.78\t90571.72\t119196.88\t15746.23\t262247.97\t261272.14\t376.61\n",
      "7\t2016-11-06\t1.35\t467433.56\t83618.4\t116112.59\t14247.63\t253454.94\t252412.69\t665.04\n",
      "4\t2016-11-27\t1.75\t488378.1\t118187.03\t297882.7\t2393.35\t69915.04\t67676.02\t1584.02\n",
      "5\t2016-11-20\t1.89\t510752.3\t120582.11\t308963.9\t2239.28\t78967.02\t74502.41\t1192.67\n",
      "6\t2016-11-13\t1.94\t506543.8\t118820.99\t308678.34\t3208.3\t75836.18\t74569.34\t976.56\n",
      "7\t2016-11-06\t2.07\t492504.8\t109080.72\t304926.28\t3840.19\t74657.63\t74025.26\t103.2\n",
      "5\t2016-11-20\t1.41\t447760.4\t56982.28\t128919.02\t270.62\t261588.48\t260780.1\t648.16\n",
      "6\t2016-11-13\t1.43\t472868.47\t61375.16\t152069.42\t317.93\t259105.95\t257996.23\t284.07\n",
      "7\t2016-11-06\t1.43\t446970.38\t58648.4\t130208.79\t528.77\t257584.4\t256977.66\t241.61\n",
      "4\t2016-11-27\t0.93\t4064847.2\t2342116.2\t747938.9\t14619.93\t960172.3\t817184.56\t133945.12\n",
      "5\t2016-11-20\t1.06\t4150510.8\t2351203.0\t871661.6\t16553.22\t911092.9\t735263.9\t173417.7\n",
      "6\t2016-11-13\t1.11\t4224677.5\t2338884.0\t971219.2\t22128.14\t892446.1\t710489.06\t180468.83\n",
      "7\t2016-11-06\t1.16\t4214624.0\t2443877.2\t789647.7\t16494.71\t964604.5\t771794.06\t191200.77\n",
      "4\t2016-11-27\t1.39\t2408199.2\t943433.2\t459434.44\t4791.45\t1000540.25\t509394.25\t490242.94\n",
      "5\t2016-11-20\t1.38\t2670425.5\t1054588.1\t480430.3\t8082.2\t1127325.0\t592607.44\t532645.8\n",
      "6\t2016-11-13\t1.37\t2819888.8\t1219549.4\t506554.75\t13358.39\t1080426.2\t543743.7\t535602.75\n",
      "7\t2016-11-06\t1.44\t2590997.8\t1086704.1\t508906.53\t14547.51\t980839.75\t432321.1\t547443.94\n",
      "4\t2016-11-27\t1.21\t2.2923062E7\t7891488.0\t7337342.0\t344475.9\t7349757.0\t5691266.5\t1609867.2\n",
      "5\t2016-11-20\t1.27\t2.4989702E7\t8531161.0\t8033511.0\t407567.78\t8017463.5\t6207080.5\t1765673.8\n",
      "6\t2016-11-13\t1.36\t2.4075126E7\t8235135.5\t7759608.0\t477520.94\t7602862.0\t5602593.5\t1957163.9\n",
      "7\t2016-11-06\t1.44\t2.2534698E7\t7804253.0\t7126936.5\t505349.44\t7098159.5\t5245066.5\t1812174.4\n",
      "4\t2016-11-27\t1.09\t4187551.0\t1525325.8\t938768.7\t86789.7\t1636666.9\t1068035.1\t565542.44\n",
      "5\t2016-11-20\t1.1\t4944374.0\t2005353.2\t913021.6\t105452.1\t1920546.9\t1357080.6\t562175.9\n",
      "6\t2016-11-13\t1.18\t4864100.0\t1740717.9\t1032253.4\t107496.5\t1983632.2\t1238998.2\t742515.06\n",
      "7\t2016-11-06\t1.26\t4245702.5\t1493574.8\t867974.25\t119469.87\t1764683.5\t1168746.6\t593225.94\n",
      "4\t2016-11-27\t0.8\t674184.5\t415839.53\t45217.58\t9805.34\t203322.1\t104487.22\t98716.81\n",
      "5\t2016-11-20\t0.99\t670051.44\t407045.53\t40680.13\t11622.63\t210703.11\t109832.07\t100871.04\n",
      "6\t2016-11-13\t0.96\t690820.56\t429758.6\t39757.86\t14195.71\t207108.44\t114355.56\t92752.87\n",
      "7\t2016-11-06\t0.99\t643630.7\t389129.38\t47289.95\t17719.27\t189492.08\t106571.99\t82920.09\n",
      "4\t2016-11-27\t1.64\t761675.9\t100240.54\t198874.1\t3381.69\t459179.56\t292770.3\t166409.23\n",
      "5\t2016-11-20\t1.63\t860320.56\t110737.55\t233518.72\t3847.05\t512217.28\t319112.6\t193104.69\n",
      "6\t2016-11-13\t1.7\t863948.1\t110018.79\t257268.83\t3669.98\t492990.56\t322666.22\t170324.31\n",
      "7\t2016-11-06\t1.68\t897671.3\t117317.9\t266018.88\t5049.63\t509284.88\t284638.3\t224646.55\n",
      "Time taken: 2.172 seconds, Fetched: 93 row(s)\n"
     ]
    }
   ],
   "source": [
    "!hive -e 'SELECT * FROM test.sample WHERE tgl like\"2016-11%\" AND b>400000;'"
   ]
  },
  {
   "cell_type": "code",
   "execution_count": 1,
   "metadata": {},
   "outputs": [
    {
     "name": "stdout",
     "output_type": "stream",
     "text": [
      "22/11/02 13:04:31 WARN util.NativeCodeLoader: Unable to load native-hadoop library for your platform... using builtin-java classes where applicable\n",
      "Stopping namenodes on [localhost]\n",
      "localhost: stopping namenode\n",
      "localhost: stopping datanode\n",
      "Stopping secondary namenodes [0.0.0.0]\n",
      "0.0.0.0: stopping secondarynamenode\n",
      "22/11/02 13:04:51 WARN util.NativeCodeLoader: Unable to load native-hadoop library for your platform... using builtin-java classes where applicable\n"
     ]
    }
   ],
   "source": [
    "!~/hadoop/hadoop/sbin/stop-dfs.sh"
   ]
  },
  {
   "cell_type": "code",
   "execution_count": null,
   "metadata": {},
   "outputs": [],
   "source": []
  }
 ],
 "metadata": {
  "kernelspec": {
   "display_name": "Python 3 (ipykernel)",
   "language": "python",
   "name": "python3"
  },
  "language_info": {
   "codemirror_mode": {
    "name": "ipython",
    "version": 3
   },
   "file_extension": ".py",
   "mimetype": "text/x-python",
   "name": "python",
   "nbconvert_exporter": "python",
   "pygments_lexer": "ipython3",
   "version": "3.9.12"
  }
 },
 "nbformat": 4,
 "nbformat_minor": 4
}
