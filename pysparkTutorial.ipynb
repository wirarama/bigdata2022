{
 "cells": [
  {
   "cell_type": "markdown",
   "metadata": {},
   "source": [
    "https://sparkbyexamples.com/pyspark/install-pyspark-in-anaconda-jupyter-notebook/"
   ]
  },
  {
   "cell_type": "markdown",
   "metadata": {},
   "source": [
    "https://www.sicara.fr/blog-technique/2017-05-02-get-started-pyspark-jupyter-notebook-3-minutes"
   ]
  },
  {
   "cell_type": "code",
   "execution_count": null,
   "metadata": {},
   "outputs": [],
   "source": [
    "!conda install openjdk"
   ]
  },
  {
   "cell_type": "code",
   "execution_count": null,
   "metadata": {},
   "outputs": [],
   "source": [
    "!conda install pyspark"
   ]
  },
  {
   "cell_type": "code",
   "execution_count": null,
   "metadata": {},
   "outputs": [],
   "source": [
    "!conda install -c conda-forge findspark"
   ]
  },
  {
   "cell_type": "code",
   "execution_count": 1,
   "metadata": {},
   "outputs": [
    {
     "data": {
      "text/plain": [
       "'/usr/local/anaconda3/lib/python3.9/site-packages/pyspark'"
      ]
     },
     "execution_count": 1,
     "metadata": {},
     "output_type": "execute_result"
    }
   ],
   "source": [
    "import findspark\n",
    "findspark.init()\n",
    "findspark.find()"
   ]
  },
  {
   "cell_type": "code",
   "execution_count": 1,
   "metadata": {},
   "outputs": [],
   "source": [
    "from pyspark.sql import SparkSession"
   ]
  },
  {
   "cell_type": "code",
   "execution_count": 2,
   "metadata": {},
   "outputs": [
    {
     "name": "stdout",
     "output_type": "stream",
     "text": [
      "22/11/09 08:41:21 WARN SparkSession: Using an existing Spark session; only runtime SQL configurations will take effect.\n"
     ]
    }
   ],
   "source": [
    "spark = SparkSession.builder.appName(\"testApp\").getOrCreate()"
   ]
  },
  {
   "cell_type": "markdown",
   "metadata": {},
   "source": [
    "ganti avocado price dengan vgsales"
   ]
  },
  {
   "cell_type": "code",
   "execution_count": 3,
   "metadata": {},
   "outputs": [
    {
     "name": "stderr",
     "output_type": "stream",
     "text": [
      "                                                                                \r"
     ]
    }
   ],
   "source": [
    "df = spark.read.csv('avocado.csv',inferSchema=True,header='true')"
   ]
  },
  {
   "cell_type": "code",
   "execution_count": 4,
   "metadata": {},
   "outputs": [
    {
     "name": "stdout",
     "output_type": "stream",
     "text": [
      "22/11/09 08:45:01 WARN CSVHeaderChecker: CSV header does not conform to the schema.\n",
      " Header: , Date, AveragePrice, Total Volume, 4046, 4225, 4770, Total Bags, Small Bags, Large Bags, XLarge Bags, type, year, region\n",
      " Schema: _c0, Date, AveragePrice, Total Volume, 4046, 4225, 4770, Total Bags, Small Bags, Large Bags, XLarge Bags, type, year, region\n",
      "Expected: _c0 but found: \n",
      "CSV file: file:///Users/wiraramawedashwara/python/FGA/BPDFGA/avocado.csv\n",
      "+---+-------------------+------------+------------+-------+---------+------+----------+----------+----------+-----------+------------+----+------+\n",
      "|_c0|               Date|AveragePrice|Total Volume|   4046|     4225|  4770|Total Bags|Small Bags|Large Bags|XLarge Bags|        type|year|region|\n",
      "+---+-------------------+------------+------------+-------+---------+------+----------+----------+----------+-----------+------------+----+------+\n",
      "|  0|2015-12-27 00:00:00|        1.33|    64236.62|1036.74| 54454.85| 48.16|   8696.87|   8603.62|     93.25|        0.0|conventional|2015|Albany|\n",
      "|  1|2015-12-20 00:00:00|        1.35|    54876.98| 674.28| 44638.81| 58.33|   9505.56|   9408.07|     97.49|        0.0|conventional|2015|Albany|\n",
      "|  2|2015-12-13 00:00:00|        0.93|   118220.22|  794.7|109149.67| 130.5|   8145.35|   8042.21|    103.14|        0.0|conventional|2015|Albany|\n",
      "|  3|2015-12-06 00:00:00|        1.08|    78992.15| 1132.0| 71976.41| 72.58|   5811.16|    5677.4|    133.76|        0.0|conventional|2015|Albany|\n",
      "|  4|2015-11-29 00:00:00|        1.28|     51039.6| 941.48| 43838.39| 75.78|   6183.95|   5986.26|    197.69|        0.0|conventional|2015|Albany|\n",
      "|  5|2015-11-22 00:00:00|        1.26|    55979.78|1184.27| 48067.99| 43.61|   6683.91|   6556.47|    127.44|        0.0|conventional|2015|Albany|\n",
      "|  6|2015-11-15 00:00:00|        0.99|    83453.76|1368.92| 73672.72| 93.26|   8318.86|   8196.81|    122.05|        0.0|conventional|2015|Albany|\n",
      "|  7|2015-11-08 00:00:00|        0.98|   109428.33| 703.75|101815.36|  80.0|   6829.22|   6266.85|    562.37|        0.0|conventional|2015|Albany|\n",
      "|  8|2015-11-01 00:00:00|        1.02|    99811.42|1022.15| 87315.57| 85.34|  11388.36|  11104.53|    283.83|        0.0|conventional|2015|Albany|\n",
      "|  9|2015-10-25 00:00:00|        1.07|    74338.76|  842.4| 64757.44| 113.0|   8625.92|   8061.47|    564.45|        0.0|conventional|2015|Albany|\n",
      "| 10|2015-10-18 00:00:00|        1.12|    84843.44| 924.86| 75595.85|117.07|   8205.66|   7877.86|     327.8|        0.0|conventional|2015|Albany|\n",
      "| 11|2015-10-11 00:00:00|        1.28|    64489.17|1582.03| 52677.92|105.32|   10123.9|   9866.27|    257.63|        0.0|conventional|2015|Albany|\n",
      "| 12|2015-10-04 00:00:00|        1.31|     61007.1|2268.32| 49880.67|101.36|   8756.75|   8379.98|    376.77|        0.0|conventional|2015|Albany|\n",
      "| 13|2015-09-27 00:00:00|        0.99|   106803.39|1204.88| 99409.21|154.84|   6034.46|   5888.87|    145.59|        0.0|conventional|2015|Albany|\n",
      "| 14|2015-09-20 00:00:00|        1.33|    69759.01|1028.03| 59313.12| 150.5|   9267.36|    8489.1|    778.26|        0.0|conventional|2015|Albany|\n",
      "| 15|2015-09-13 00:00:00|        1.28|    76111.27| 985.73| 65696.86| 142.0|   9286.68|   8665.19|    621.49|        0.0|conventional|2015|Albany|\n",
      "| 16|2015-09-06 00:00:00|        1.11|    99172.96| 879.45| 90062.62|240.79|    7990.1|   7762.87|    227.23|        0.0|conventional|2015|Albany|\n",
      "| 17|2015-08-30 00:00:00|        1.07|   105693.84| 689.01| 94362.67|335.43|  10306.73|  10218.93|      87.8|        0.0|conventional|2015|Albany|\n",
      "| 18|2015-08-23 00:00:00|        1.34|    79992.09| 733.16| 67933.79|444.78|  10880.36|  10745.79|    134.57|        0.0|conventional|2015|Albany|\n",
      "| 19|2015-08-16 00:00:00|        1.33|    80043.78| 539.65| 68666.01| 394.9|  10443.22|  10297.68|    145.54|        0.0|conventional|2015|Albany|\n",
      "+---+-------------------+------------+------------+-------+---------+------+----------+----------+----------+-----------+------------+----+------+\n",
      "only showing top 20 rows\n",
      "\n"
     ]
    }
   ],
   "source": [
    "df.show()"
   ]
  },
  {
   "cell_type": "code",
   "execution_count": 5,
   "metadata": {},
   "outputs": [
    {
     "name": "stdout",
     "output_type": "stream",
     "text": [
      "22/11/09 08:45:31 WARN CSVHeaderChecker: CSV header does not conform to the schema.\n",
      " Header: , Date, AveragePrice, Total Volume, 4046, 4225, 4770, Total Bags, Small Bags, Large Bags, XLarge Bags, type, year, region\n",
      " Schema: _c0, Date, AveragePrice, Total Volume, 4046, 4225, 4770, Total Bags, Small Bags, Large Bags, XLarge Bags, type, year, region\n",
      "Expected: _c0 but found: \n",
      "CSV file: file:///Users/wiraramawedashwara/python/FGA/BPDFGA/avocado.csv\n"
     ]
    },
    {
     "name": "stderr",
     "output_type": "stream",
     "text": [
      "                                                                                \r"
     ]
    },
    {
     "data": {
      "text/html": [
       "<div>\n",
       "<style scoped>\n",
       "    .dataframe tbody tr th:only-of-type {\n",
       "        vertical-align: middle;\n",
       "    }\n",
       "\n",
       "    .dataframe tbody tr th {\n",
       "        vertical-align: top;\n",
       "    }\n",
       "\n",
       "    .dataframe thead th {\n",
       "        text-align: right;\n",
       "    }\n",
       "</style>\n",
       "<table border=\"1\" class=\"dataframe\">\n",
       "  <thead>\n",
       "    <tr style=\"text-align: right;\">\n",
       "      <th></th>\n",
       "      <th>_c0</th>\n",
       "      <th>Date</th>\n",
       "      <th>AveragePrice</th>\n",
       "      <th>Total Volume</th>\n",
       "      <th>4046</th>\n",
       "      <th>4225</th>\n",
       "      <th>4770</th>\n",
       "      <th>Total Bags</th>\n",
       "      <th>Small Bags</th>\n",
       "      <th>Large Bags</th>\n",
       "      <th>XLarge Bags</th>\n",
       "      <th>type</th>\n",
       "      <th>year</th>\n",
       "      <th>region</th>\n",
       "    </tr>\n",
       "  </thead>\n",
       "  <tbody>\n",
       "    <tr>\n",
       "      <th>0</th>\n",
       "      <td>0</td>\n",
       "      <td>2015-12-27</td>\n",
       "      <td>1.33</td>\n",
       "      <td>64236.62</td>\n",
       "      <td>1036.74</td>\n",
       "      <td>54454.85</td>\n",
       "      <td>48.16</td>\n",
       "      <td>8696.87</td>\n",
       "      <td>8603.62</td>\n",
       "      <td>93.25</td>\n",
       "      <td>0.0</td>\n",
       "      <td>conventional</td>\n",
       "      <td>2015</td>\n",
       "      <td>Albany</td>\n",
       "    </tr>\n",
       "    <tr>\n",
       "      <th>1</th>\n",
       "      <td>1</td>\n",
       "      <td>2015-12-20</td>\n",
       "      <td>1.35</td>\n",
       "      <td>54876.98</td>\n",
       "      <td>674.28</td>\n",
       "      <td>44638.81</td>\n",
       "      <td>58.33</td>\n",
       "      <td>9505.56</td>\n",
       "      <td>9408.07</td>\n",
       "      <td>97.49</td>\n",
       "      <td>0.0</td>\n",
       "      <td>conventional</td>\n",
       "      <td>2015</td>\n",
       "      <td>Albany</td>\n",
       "    </tr>\n",
       "    <tr>\n",
       "      <th>2</th>\n",
       "      <td>2</td>\n",
       "      <td>2015-12-13</td>\n",
       "      <td>0.93</td>\n",
       "      <td>118220.22</td>\n",
       "      <td>794.70</td>\n",
       "      <td>109149.67</td>\n",
       "      <td>130.50</td>\n",
       "      <td>8145.35</td>\n",
       "      <td>8042.21</td>\n",
       "      <td>103.14</td>\n",
       "      <td>0.0</td>\n",
       "      <td>conventional</td>\n",
       "      <td>2015</td>\n",
       "      <td>Albany</td>\n",
       "    </tr>\n",
       "    <tr>\n",
       "      <th>3</th>\n",
       "      <td>3</td>\n",
       "      <td>2015-12-06</td>\n",
       "      <td>1.08</td>\n",
       "      <td>78992.15</td>\n",
       "      <td>1132.00</td>\n",
       "      <td>71976.41</td>\n",
       "      <td>72.58</td>\n",
       "      <td>5811.16</td>\n",
       "      <td>5677.40</td>\n",
       "      <td>133.76</td>\n",
       "      <td>0.0</td>\n",
       "      <td>conventional</td>\n",
       "      <td>2015</td>\n",
       "      <td>Albany</td>\n",
       "    </tr>\n",
       "    <tr>\n",
       "      <th>4</th>\n",
       "      <td>4</td>\n",
       "      <td>2015-11-29</td>\n",
       "      <td>1.28</td>\n",
       "      <td>51039.60</td>\n",
       "      <td>941.48</td>\n",
       "      <td>43838.39</td>\n",
       "      <td>75.78</td>\n",
       "      <td>6183.95</td>\n",
       "      <td>5986.26</td>\n",
       "      <td>197.69</td>\n",
       "      <td>0.0</td>\n",
       "      <td>conventional</td>\n",
       "      <td>2015</td>\n",
       "      <td>Albany</td>\n",
       "    </tr>\n",
       "    <tr>\n",
       "      <th>...</th>\n",
       "      <td>...</td>\n",
       "      <td>...</td>\n",
       "      <td>...</td>\n",
       "      <td>...</td>\n",
       "      <td>...</td>\n",
       "      <td>...</td>\n",
       "      <td>...</td>\n",
       "      <td>...</td>\n",
       "      <td>...</td>\n",
       "      <td>...</td>\n",
       "      <td>...</td>\n",
       "      <td>...</td>\n",
       "      <td>...</td>\n",
       "      <td>...</td>\n",
       "    </tr>\n",
       "    <tr>\n",
       "      <th>18244</th>\n",
       "      <td>7</td>\n",
       "      <td>2018-02-04</td>\n",
       "      <td>1.63</td>\n",
       "      <td>17074.83</td>\n",
       "      <td>2046.96</td>\n",
       "      <td>1529.20</td>\n",
       "      <td>0.00</td>\n",
       "      <td>13498.67</td>\n",
       "      <td>13066.82</td>\n",
       "      <td>431.85</td>\n",
       "      <td>0.0</td>\n",
       "      <td>organic</td>\n",
       "      <td>2018</td>\n",
       "      <td>WestTexNewMexico</td>\n",
       "    </tr>\n",
       "    <tr>\n",
       "      <th>18245</th>\n",
       "      <td>8</td>\n",
       "      <td>2018-01-28</td>\n",
       "      <td>1.71</td>\n",
       "      <td>13888.04</td>\n",
       "      <td>1191.70</td>\n",
       "      <td>3431.50</td>\n",
       "      <td>0.00</td>\n",
       "      <td>9264.84</td>\n",
       "      <td>8940.04</td>\n",
       "      <td>324.80</td>\n",
       "      <td>0.0</td>\n",
       "      <td>organic</td>\n",
       "      <td>2018</td>\n",
       "      <td>WestTexNewMexico</td>\n",
       "    </tr>\n",
       "    <tr>\n",
       "      <th>18246</th>\n",
       "      <td>9</td>\n",
       "      <td>2018-01-21</td>\n",
       "      <td>1.87</td>\n",
       "      <td>13766.76</td>\n",
       "      <td>1191.92</td>\n",
       "      <td>2452.79</td>\n",
       "      <td>727.94</td>\n",
       "      <td>9394.11</td>\n",
       "      <td>9351.80</td>\n",
       "      <td>42.31</td>\n",
       "      <td>0.0</td>\n",
       "      <td>organic</td>\n",
       "      <td>2018</td>\n",
       "      <td>WestTexNewMexico</td>\n",
       "    </tr>\n",
       "    <tr>\n",
       "      <th>18247</th>\n",
       "      <td>10</td>\n",
       "      <td>2018-01-14</td>\n",
       "      <td>1.93</td>\n",
       "      <td>16205.22</td>\n",
       "      <td>1527.63</td>\n",
       "      <td>2981.04</td>\n",
       "      <td>727.01</td>\n",
       "      <td>10969.54</td>\n",
       "      <td>10919.54</td>\n",
       "      <td>50.00</td>\n",
       "      <td>0.0</td>\n",
       "      <td>organic</td>\n",
       "      <td>2018</td>\n",
       "      <td>WestTexNewMexico</td>\n",
       "    </tr>\n",
       "    <tr>\n",
       "      <th>18248</th>\n",
       "      <td>11</td>\n",
       "      <td>2018-01-07</td>\n",
       "      <td>1.62</td>\n",
       "      <td>17489.58</td>\n",
       "      <td>2894.77</td>\n",
       "      <td>2356.13</td>\n",
       "      <td>224.53</td>\n",
       "      <td>12014.15</td>\n",
       "      <td>11988.14</td>\n",
       "      <td>26.01</td>\n",
       "      <td>0.0</td>\n",
       "      <td>organic</td>\n",
       "      <td>2018</td>\n",
       "      <td>WestTexNewMexico</td>\n",
       "    </tr>\n",
       "  </tbody>\n",
       "</table>\n",
       "<p>18249 rows × 14 columns</p>\n",
       "</div>"
      ],
      "text/plain": [
       "       _c0       Date  AveragePrice  Total Volume     4046       4225    4770  \\\n",
       "0        0 2015-12-27          1.33      64236.62  1036.74   54454.85   48.16   \n",
       "1        1 2015-12-20          1.35      54876.98   674.28   44638.81   58.33   \n",
       "2        2 2015-12-13          0.93     118220.22   794.70  109149.67  130.50   \n",
       "3        3 2015-12-06          1.08      78992.15  1132.00   71976.41   72.58   \n",
       "4        4 2015-11-29          1.28      51039.60   941.48   43838.39   75.78   \n",
       "...    ...        ...           ...           ...      ...        ...     ...   \n",
       "18244    7 2018-02-04          1.63      17074.83  2046.96    1529.20    0.00   \n",
       "18245    8 2018-01-28          1.71      13888.04  1191.70    3431.50    0.00   \n",
       "18246    9 2018-01-21          1.87      13766.76  1191.92    2452.79  727.94   \n",
       "18247   10 2018-01-14          1.93      16205.22  1527.63    2981.04  727.01   \n",
       "18248   11 2018-01-07          1.62      17489.58  2894.77    2356.13  224.53   \n",
       "\n",
       "       Total Bags  Small Bags  Large Bags  XLarge Bags          type  year  \\\n",
       "0         8696.87     8603.62       93.25          0.0  conventional  2015   \n",
       "1         9505.56     9408.07       97.49          0.0  conventional  2015   \n",
       "2         8145.35     8042.21      103.14          0.0  conventional  2015   \n",
       "3         5811.16     5677.40      133.76          0.0  conventional  2015   \n",
       "4         6183.95     5986.26      197.69          0.0  conventional  2015   \n",
       "...           ...         ...         ...          ...           ...   ...   \n",
       "18244    13498.67    13066.82      431.85          0.0       organic  2018   \n",
       "18245     9264.84     8940.04      324.80          0.0       organic  2018   \n",
       "18246     9394.11     9351.80       42.31          0.0       organic  2018   \n",
       "18247    10969.54    10919.54       50.00          0.0       organic  2018   \n",
       "18248    12014.15    11988.14       26.01          0.0       organic  2018   \n",
       "\n",
       "                 region  \n",
       "0                Albany  \n",
       "1                Albany  \n",
       "2                Albany  \n",
       "3                Albany  \n",
       "4                Albany  \n",
       "...                 ...  \n",
       "18244  WestTexNewMexico  \n",
       "18245  WestTexNewMexico  \n",
       "18246  WestTexNewMexico  \n",
       "18247  WestTexNewMexico  \n",
       "18248  WestTexNewMexico  \n",
       "\n",
       "[18249 rows x 14 columns]"
      ]
     },
     "execution_count": 5,
     "metadata": {},
     "output_type": "execute_result"
    }
   ],
   "source": [
    "df.toPandas()"
   ]
  },
  {
   "cell_type": "code",
   "execution_count": 6,
   "metadata": {},
   "outputs": [
    {
     "data": {
      "text/plain": [
       "['_c0',\n",
       " 'Date',\n",
       " 'AveragePrice',\n",
       " 'Total Volume',\n",
       " '4046',\n",
       " '4225',\n",
       " '4770',\n",
       " 'Total Bags',\n",
       " 'Small Bags',\n",
       " 'Large Bags',\n",
       " 'XLarge Bags',\n",
       " 'type',\n",
       " 'year',\n",
       " 'region']"
      ]
     },
     "execution_count": 6,
     "metadata": {},
     "output_type": "execute_result"
    }
   ],
   "source": [
    "df.columns"
   ]
  },
  {
   "cell_type": "code",
   "execution_count": 7,
   "metadata": {},
   "outputs": [
    {
     "data": {
      "text/plain": [
       "18249"
      ]
     },
     "execution_count": 7,
     "metadata": {},
     "output_type": "execute_result"
    }
   ],
   "source": [
    "df.count()"
   ]
  },
  {
   "cell_type": "code",
   "execution_count": 10,
   "metadata": {},
   "outputs": [
    {
     "name": "stdout",
     "output_type": "stream",
     "text": [
      "22/11/09 08:50:38 WARN CSVHeaderChecker: CSV header does not conform to the schema.\n",
      " Header: , AveragePrice, Total Volume, 4046, 4225, 4770, Total Bags, Small Bags, Large Bags, XLarge Bags, type, year, region\n",
      " Schema: _c0, AveragePrice, Total Volume, 4046, 4225, 4770, Total Bags, Small Bags, Large Bags, XLarge Bags, type, year, region\n",
      "Expected: _c0 but found: \n",
      "CSV file: file:///Users/wiraramawedashwara/python/FGA/BPDFGA/avocado.csv\n"
     ]
    },
    {
     "name": "stderr",
     "output_type": "stream",
     "text": [
      "                                                                                \r"
     ]
    },
    {
     "data": {
      "text/html": [
       "<div>\n",
       "<style scoped>\n",
       "    .dataframe tbody tr th:only-of-type {\n",
       "        vertical-align: middle;\n",
       "    }\n",
       "\n",
       "    .dataframe tbody tr th {\n",
       "        vertical-align: top;\n",
       "    }\n",
       "\n",
       "    .dataframe thead th {\n",
       "        text-align: right;\n",
       "    }\n",
       "</style>\n",
       "<table border=\"1\" class=\"dataframe\">\n",
       "  <thead>\n",
       "    <tr style=\"text-align: right;\">\n",
       "      <th></th>\n",
       "      <th>summary</th>\n",
       "      <th>_c0</th>\n",
       "      <th>AveragePrice</th>\n",
       "      <th>Total Volume</th>\n",
       "      <th>4046</th>\n",
       "      <th>4225</th>\n",
       "      <th>4770</th>\n",
       "      <th>Total Bags</th>\n",
       "      <th>Small Bags</th>\n",
       "      <th>Large Bags</th>\n",
       "      <th>XLarge Bags</th>\n",
       "      <th>type</th>\n",
       "      <th>year</th>\n",
       "      <th>region</th>\n",
       "    </tr>\n",
       "  </thead>\n",
       "  <tbody>\n",
       "    <tr>\n",
       "      <th>0</th>\n",
       "      <td>count</td>\n",
       "      <td>18249</td>\n",
       "      <td>18249</td>\n",
       "      <td>18249</td>\n",
       "      <td>18249</td>\n",
       "      <td>18249</td>\n",
       "      <td>18249</td>\n",
       "      <td>18249</td>\n",
       "      <td>18249</td>\n",
       "      <td>18249</td>\n",
       "      <td>18249</td>\n",
       "      <td>18249</td>\n",
       "      <td>18249</td>\n",
       "      <td>18249</td>\n",
       "    </tr>\n",
       "    <tr>\n",
       "      <th>1</th>\n",
       "      <td>mean</td>\n",
       "      <td>24.232231903117977</td>\n",
       "      <td>1.4059784097758825</td>\n",
       "      <td>850644.0130089332</td>\n",
       "      <td>293008.42453066056</td>\n",
       "      <td>295154.56835607596</td>\n",
       "      <td>22839.735992657315</td>\n",
       "      <td>239639.20205983953</td>\n",
       "      <td>182194.68669571026</td>\n",
       "      <td>54338.08814455636</td>\n",
       "      <td>3106.4265072058793</td>\n",
       "      <td>None</td>\n",
       "      <td>2016.1478985149872</td>\n",
       "      <td>None</td>\n",
       "    </tr>\n",
       "    <tr>\n",
       "      <th>2</th>\n",
       "      <td>stddev</td>\n",
       "      <td>15.48104475375712</td>\n",
       "      <td>0.4026765554955525</td>\n",
       "      <td>3453545.3553994684</td>\n",
       "      <td>1264989.0817627835</td>\n",
       "      <td>1204120.4011350533</td>\n",
       "      <td>107464.06843537069</td>\n",
       "      <td>986242.3992164108</td>\n",
       "      <td>746178.5149617895</td>\n",
       "      <td>243965.96454740898</td>\n",
       "      <td>17692.89465191642</td>\n",
       "      <td>None</td>\n",
       "      <td>0.9399384671420276</td>\n",
       "      <td>None</td>\n",
       "    </tr>\n",
       "    <tr>\n",
       "      <th>3</th>\n",
       "      <td>min</td>\n",
       "      <td>0</td>\n",
       "      <td>0.44</td>\n",
       "      <td>84.56</td>\n",
       "      <td>0.0</td>\n",
       "      <td>0.0</td>\n",
       "      <td>0.0</td>\n",
       "      <td>0.0</td>\n",
       "      <td>0.0</td>\n",
       "      <td>0.0</td>\n",
       "      <td>0.0</td>\n",
       "      <td>conventional</td>\n",
       "      <td>2015</td>\n",
       "      <td>Albany</td>\n",
       "    </tr>\n",
       "    <tr>\n",
       "      <th>4</th>\n",
       "      <td>25%</td>\n",
       "      <td>10</td>\n",
       "      <td>1.1</td>\n",
       "      <td>10830.75</td>\n",
       "      <td>853.38</td>\n",
       "      <td>3006.89</td>\n",
       "      <td>0.0</td>\n",
       "      <td>5078.45</td>\n",
       "      <td>2844.43</td>\n",
       "      <td>127.16</td>\n",
       "      <td>0.0</td>\n",
       "      <td>None</td>\n",
       "      <td>2015</td>\n",
       "      <td>None</td>\n",
       "    </tr>\n",
       "    <tr>\n",
       "      <th>5</th>\n",
       "      <td>50%</td>\n",
       "      <td>24</td>\n",
       "      <td>1.37</td>\n",
       "      <td>107306.08</td>\n",
       "      <td>8640.78</td>\n",
       "      <td>29054.71</td>\n",
       "      <td>184.62</td>\n",
       "      <td>39737.03</td>\n",
       "      <td>26339.6</td>\n",
       "      <td>2645.4</td>\n",
       "      <td>0.0</td>\n",
       "      <td>None</td>\n",
       "      <td>2016</td>\n",
       "      <td>None</td>\n",
       "    </tr>\n",
       "    <tr>\n",
       "      <th>6</th>\n",
       "      <td>75%</td>\n",
       "      <td>38</td>\n",
       "      <td>1.66</td>\n",
       "      <td>432903.0</td>\n",
       "      <td>110954.74</td>\n",
       "      <td>149994.79</td>\n",
       "      <td>6232.61</td>\n",
       "      <td>110773.22</td>\n",
       "      <td>83325.05</td>\n",
       "      <td>21945.2</td>\n",
       "      <td>132.23</td>\n",
       "      <td>None</td>\n",
       "      <td>2017</td>\n",
       "      <td>None</td>\n",
       "    </tr>\n",
       "    <tr>\n",
       "      <th>7</th>\n",
       "      <td>max</td>\n",
       "      <td>52</td>\n",
       "      <td>3.25</td>\n",
       "      <td>6.250564652E7</td>\n",
       "      <td>2.274361617E7</td>\n",
       "      <td>2.047057261E7</td>\n",
       "      <td>2546439.11</td>\n",
       "      <td>1.937313437E7</td>\n",
       "      <td>1.33845868E7</td>\n",
       "      <td>5719096.61</td>\n",
       "      <td>551693.65</td>\n",
       "      <td>organic</td>\n",
       "      <td>2018</td>\n",
       "      <td>WestTexNewMexico</td>\n",
       "    </tr>\n",
       "  </tbody>\n",
       "</table>\n",
       "</div>"
      ],
      "text/plain": [
       "  summary                 _c0        AveragePrice        Total Volume  \\\n",
       "0   count               18249               18249               18249   \n",
       "1    mean  24.232231903117977  1.4059784097758825   850644.0130089332   \n",
       "2  stddev   15.48104475375712  0.4026765554955525  3453545.3553994684   \n",
       "3     min                   0                0.44               84.56   \n",
       "4     25%                  10                 1.1            10830.75   \n",
       "5     50%                  24                1.37           107306.08   \n",
       "6     75%                  38                1.66            432903.0   \n",
       "7     max                  52                3.25       6.250564652E7   \n",
       "\n",
       "                 4046                4225                4770  \\\n",
       "0               18249               18249               18249   \n",
       "1  293008.42453066056  295154.56835607596  22839.735992657315   \n",
       "2  1264989.0817627835  1204120.4011350533  107464.06843537069   \n",
       "3                 0.0                 0.0                 0.0   \n",
       "4              853.38             3006.89                 0.0   \n",
       "5             8640.78            29054.71              184.62   \n",
       "6           110954.74           149994.79             6232.61   \n",
       "7       2.274361617E7       2.047057261E7          2546439.11   \n",
       "\n",
       "           Total Bags          Small Bags          Large Bags  \\\n",
       "0               18249               18249               18249   \n",
       "1  239639.20205983953  182194.68669571026   54338.08814455636   \n",
       "2   986242.3992164108   746178.5149617895  243965.96454740898   \n",
       "3                 0.0                 0.0                 0.0   \n",
       "4             5078.45             2844.43              127.16   \n",
       "5            39737.03             26339.6              2645.4   \n",
       "6           110773.22            83325.05             21945.2   \n",
       "7       1.937313437E7        1.33845868E7          5719096.61   \n",
       "\n",
       "          XLarge Bags          type                year            region  \n",
       "0               18249         18249               18249             18249  \n",
       "1  3106.4265072058793          None  2016.1478985149872              None  \n",
       "2   17692.89465191642          None  0.9399384671420276              None  \n",
       "3                 0.0  conventional                2015            Albany  \n",
       "4                 0.0          None                2015              None  \n",
       "5                 0.0          None                2016              None  \n",
       "6              132.23          None                2017              None  \n",
       "7           551693.65       organic                2018  WestTexNewMexico  "
      ]
     },
     "execution_count": 10,
     "metadata": {},
     "output_type": "execute_result"
    }
   ],
   "source": [
    "df.summary().toPandas()"
   ]
  },
  {
   "cell_type": "code",
   "execution_count": 12,
   "metadata": {},
   "outputs": [
    {
     "name": "stdout",
     "output_type": "stream",
     "text": [
      "22/11/09 08:53:36 WARN CSVHeaderChecker: CSV header does not conform to the schema.\n",
      " Header: , AveragePrice, Total Volume, 4046, 4225, 4770, Total Bags, Small Bags, Large Bags, XLarge Bags, type, year, region\n",
      " Schema: _c0, AveragePrice, Total Volume, 4046, 4225, 4770, Total Bags, Small Bags, Large Bags, XLarge Bags, type, year, region\n",
      "Expected: _c0 but found: \n",
      "CSV file: file:///Users/wiraramawedashwara/python/FGA/BPDFGA/avocado.csv\n"
     ]
    },
    {
     "name": "stderr",
     "output_type": "stream",
     "text": [
      "                                                                                \r"
     ]
    },
    {
     "data": {
      "text/html": [
       "<div>\n",
       "<style scoped>\n",
       "    .dataframe tbody tr th:only-of-type {\n",
       "        vertical-align: middle;\n",
       "    }\n",
       "\n",
       "    .dataframe tbody tr th {\n",
       "        vertical-align: top;\n",
       "    }\n",
       "\n",
       "    .dataframe thead th {\n",
       "        text-align: right;\n",
       "    }\n",
       "</style>\n",
       "<table border=\"1\" class=\"dataframe\">\n",
       "  <thead>\n",
       "    <tr style=\"text-align: right;\">\n",
       "      <th></th>\n",
       "      <th>summary</th>\n",
       "      <th>_c0</th>\n",
       "      <th>AveragePrice</th>\n",
       "      <th>Total Volume</th>\n",
       "      <th>4046</th>\n",
       "      <th>4225</th>\n",
       "      <th>4770</th>\n",
       "      <th>Total Bags</th>\n",
       "      <th>Small Bags</th>\n",
       "      <th>Large Bags</th>\n",
       "      <th>XLarge Bags</th>\n",
       "      <th>type</th>\n",
       "      <th>year</th>\n",
       "      <th>region</th>\n",
       "    </tr>\n",
       "  </thead>\n",
       "  <tbody>\n",
       "    <tr>\n",
       "      <th>0</th>\n",
       "      <td>count</td>\n",
       "      <td>18249</td>\n",
       "      <td>18249</td>\n",
       "      <td>18249</td>\n",
       "      <td>18249</td>\n",
       "      <td>18249</td>\n",
       "      <td>18249</td>\n",
       "      <td>18249</td>\n",
       "      <td>18249</td>\n",
       "      <td>18249</td>\n",
       "      <td>18249</td>\n",
       "      <td>18249</td>\n",
       "      <td>18249</td>\n",
       "      <td>18249</td>\n",
       "    </tr>\n",
       "    <tr>\n",
       "      <th>1</th>\n",
       "      <td>mean</td>\n",
       "      <td>24.232231903117977</td>\n",
       "      <td>1.4059784097758825</td>\n",
       "      <td>850644.0130089332</td>\n",
       "      <td>293008.42453066056</td>\n",
       "      <td>295154.56835607596</td>\n",
       "      <td>22839.735992657315</td>\n",
       "      <td>239639.20205983953</td>\n",
       "      <td>182194.68669571026</td>\n",
       "      <td>54338.08814455636</td>\n",
       "      <td>3106.4265072058793</td>\n",
       "      <td>None</td>\n",
       "      <td>2016.1478985149872</td>\n",
       "      <td>None</td>\n",
       "    </tr>\n",
       "    <tr>\n",
       "      <th>2</th>\n",
       "      <td>stddev</td>\n",
       "      <td>15.48104475375712</td>\n",
       "      <td>0.4026765554955525</td>\n",
       "      <td>3453545.3553994684</td>\n",
       "      <td>1264989.0817627835</td>\n",
       "      <td>1204120.4011350533</td>\n",
       "      <td>107464.06843537069</td>\n",
       "      <td>986242.3992164108</td>\n",
       "      <td>746178.5149617895</td>\n",
       "      <td>243965.96454740898</td>\n",
       "      <td>17692.89465191642</td>\n",
       "      <td>None</td>\n",
       "      <td>0.9399384671420276</td>\n",
       "      <td>None</td>\n",
       "    </tr>\n",
       "    <tr>\n",
       "      <th>3</th>\n",
       "      <td>min</td>\n",
       "      <td>0</td>\n",
       "      <td>0.44</td>\n",
       "      <td>84.56</td>\n",
       "      <td>0.0</td>\n",
       "      <td>0.0</td>\n",
       "      <td>0.0</td>\n",
       "      <td>0.0</td>\n",
       "      <td>0.0</td>\n",
       "      <td>0.0</td>\n",
       "      <td>0.0</td>\n",
       "      <td>conventional</td>\n",
       "      <td>2015</td>\n",
       "      <td>Albany</td>\n",
       "    </tr>\n",
       "    <tr>\n",
       "      <th>4</th>\n",
       "      <td>max</td>\n",
       "      <td>52</td>\n",
       "      <td>3.25</td>\n",
       "      <td>6.250564652E7</td>\n",
       "      <td>2.274361617E7</td>\n",
       "      <td>2.047057261E7</td>\n",
       "      <td>2546439.11</td>\n",
       "      <td>1.937313437E7</td>\n",
       "      <td>1.33845868E7</td>\n",
       "      <td>5719096.61</td>\n",
       "      <td>551693.65</td>\n",
       "      <td>organic</td>\n",
       "      <td>2018</td>\n",
       "      <td>WestTexNewMexico</td>\n",
       "    </tr>\n",
       "  </tbody>\n",
       "</table>\n",
       "</div>"
      ],
      "text/plain": [
       "  summary                 _c0        AveragePrice        Total Volume  \\\n",
       "0   count               18249               18249               18249   \n",
       "1    mean  24.232231903117977  1.4059784097758825   850644.0130089332   \n",
       "2  stddev   15.48104475375712  0.4026765554955525  3453545.3553994684   \n",
       "3     min                   0                0.44               84.56   \n",
       "4     max                  52                3.25       6.250564652E7   \n",
       "\n",
       "                 4046                4225                4770  \\\n",
       "0               18249               18249               18249   \n",
       "1  293008.42453066056  295154.56835607596  22839.735992657315   \n",
       "2  1264989.0817627835  1204120.4011350533  107464.06843537069   \n",
       "3                 0.0                 0.0                 0.0   \n",
       "4       2.274361617E7       2.047057261E7          2546439.11   \n",
       "\n",
       "           Total Bags          Small Bags          Large Bags  \\\n",
       "0               18249               18249               18249   \n",
       "1  239639.20205983953  182194.68669571026   54338.08814455636   \n",
       "2   986242.3992164108   746178.5149617895  243965.96454740898   \n",
       "3                 0.0                 0.0                 0.0   \n",
       "4       1.937313437E7        1.33845868E7          5719096.61   \n",
       "\n",
       "          XLarge Bags          type                year            region  \n",
       "0               18249         18249               18249             18249  \n",
       "1  3106.4265072058793          None  2016.1478985149872              None  \n",
       "2   17692.89465191642          None  0.9399384671420276              None  \n",
       "3                 0.0  conventional                2015            Albany  \n",
       "4           551693.65       organic                2018  WestTexNewMexico  "
      ]
     },
     "execution_count": 12,
     "metadata": {},
     "output_type": "execute_result"
    }
   ],
   "source": [
    "df.describe().toPandas()"
   ]
  },
  {
   "cell_type": "code",
   "execution_count": 18,
   "metadata": {},
   "outputs": [
    {
     "data": {
      "text/plain": [
       "0.7108584145941232"
      ]
     },
     "execution_count": 18,
     "metadata": {},
     "output_type": "execute_result"
    }
   ],
   "source": [
    "df.corr(\"XLarge Bags\",\"Large Bags\")"
   ]
  },
  {
   "cell_type": "code",
   "execution_count": 24,
   "metadata": {},
   "outputs": [
    {
     "name": "stdout",
     "output_type": "stream",
     "text": [
      "Total Volume 4046:0.9778631590229224\n",
      "Total Volume 4225:0.9741808201308975\n",
      "Total Volume 4770:0.8722022504250324\n",
      "Total Volume Total Bags:0.9630470824267339\n",
      "Total Volume Small Bags:0.9672382368680971\n",
      "Total Volume Large Bags:0.8806396331164\n",
      "4046 Total Volume:0.9778631590229224\n",
      "4046 4225:0.926109955899224\n",
      "4046 4770:0.8333891041719115\n",
      "4046 Total Bags:0.9200565807019708\n",
      "4046 Small Bags:0.9252798719634173\n",
      "4046 Large Bags:0.838645015263634\n",
      "4225 Total Volume:0.9741808201308975\n",
      "4225 4046:0.926109955899224\n",
      "4225 4770:0.8878549976059513\n",
      "4225 Total Bags:0.9057874532770254\n",
      "4225 Small Bags:0.9160312328984755\n",
      "4225 Large Bags:0.810015225636635\n",
      "4770 Total Volume:0.8722022504250324\n",
      "4770 4046:0.8333891041719115\n",
      "4770 4225:0.8878549976059513\n",
      "4770 Small Bags:0.8027329540577235\n",
      "Total Bags Total Volume:0.9630470824267338\n",
      "Total Bags 4046:0.9200565807019708\n",
      "Total Bags 4225:0.9057874532770255\n",
      "Total Bags Small Bags:0.9943345526459607\n",
      "Total Bags Large Bags:0.9430090688934669\n",
      "Total Bags XLarge Bags:0.804232589842153\n",
      "Small Bags Total Volume:0.9672382368680971\n",
      "Small Bags 4046:0.9252798719634173\n",
      "Small Bags 4225:0.9160312328984755\n",
      "Small Bags 4770:0.8027329540577235\n",
      "Small Bags Total Bags:0.9943345526459607\n",
      "Small Bags Large Bags:0.9025888652939337\n",
      "Small Bags XLarge Bags:0.806844626999287\n",
      "Large Bags Total Volume:0.8806396331164\n",
      "Large Bags 4046:0.838645015263634\n",
      "Large Bags 4225:0.810015225636635\n",
      "Large Bags Total Bags:0.9430090688934671\n",
      "Large Bags Small Bags:0.9025888652939337\n",
      "XLarge Bags Total Bags:0.804232589842153\n",
      "XLarge Bags Small Bags:0.8068446269992872\n"
     ]
    }
   ],
   "source": [
    "col = ['AveragePrice',\n",
    " 'Total Volume',\n",
    " '4046',\n",
    " '4225',\n",
    " '4770',\n",
    " 'Total Bags',\n",
    " 'Small Bags',\n",
    " 'Large Bags',\n",
    " 'XLarge Bags',\n",
    " 'year',]\n",
    "for x in col:\n",
    "    for y in col:\n",
    "        corr = df.corr(x,y)\n",
    "        if abs(corr) > 0.8 and abs(corr)!=1.0:\n",
    "            print(x,y,end=\":\")\n",
    "            print(corr)"
   ]
  },
  {
   "cell_type": "code",
   "execution_count": 25,
   "metadata": {},
   "outputs": [
    {
     "data": {
      "text/plain": [
       "164309227647.46048"
      ]
     },
     "execution_count": 25,
     "metadata": {},
     "output_type": "execute_result"
    }
   ],
   "source": [
    "df.cov('Small Bags','Large Bags')"
   ]
  },
  {
   "cell_type": "code",
   "execution_count": null,
   "metadata": {},
   "outputs": [],
   "source": []
  },
  {
   "cell_type": "code",
   "execution_count": 26,
   "metadata": {},
   "outputs": [
    {
     "name": "stdout",
     "output_type": "stream",
     "text": [
      "+--------------------+--------------------+---------------------+\n",
      "|Small Bags_freqItems|Large Bags_freqItems|XLarge Bags_freqItems|\n",
      "+--------------------+--------------------+---------------------+\n",
      "|               [0.0]|[146808.97, 17438...| [170.19, 5.86, 10...|\n",
      "+--------------------+--------------------+---------------------+\n",
      "\n"
     ]
    }
   ],
   "source": [
    "df.freqItems(['Small Bags','Large Bags','XLarge Bags'],support=0.01).show()"
   ]
  },
  {
   "cell_type": "code",
   "execution_count": 27,
   "metadata": {},
   "outputs": [
    {
     "name": "stdout",
     "output_type": "stream",
     "text": [
      "+----------+----------+-----------+\n",
      "|Small Bags|Large Bags|XLarge Bags|\n",
      "+----------+----------+-----------+\n",
      "|       0.0|   1514.27|        0.0|\n",
      "|       0.0|   1129.03|        0.0|\n",
      "|       0.0|    139.12|        0.0|\n",
      "|       0.0|     22.28|        0.0|\n",
      "|       0.0|   1418.78|        0.0|\n",
      "|       0.0|    2109.8|        0.0|\n",
      "|       0.0|    537.94|        0.0|\n",
      "|       0.0|    710.72|        0.0|\n",
      "|       0.0|     67.73|        0.0|\n",
      "|       0.0|    395.55|        0.0|\n",
      "|       0.0|   2731.55|        0.0|\n",
      "|       0.0|   2742.71|        0.0|\n",
      "|       0.0|   2541.42|        0.0|\n",
      "|       0.0|    227.23|        0.0|\n",
      "|       0.0|    334.88|        0.0|\n",
      "|       0.0|   1553.77|        0.0|\n",
      "|       0.0|    438.58|        0.0|\n",
      "|       0.0|    284.89|        0.0|\n",
      "|       0.0|    507.55|        0.0|\n",
      "|       0.0|    651.59|        0.0|\n",
      "+----------+----------+-----------+\n",
      "only showing top 20 rows\n",
      "\n"
     ]
    }
   ],
   "source": [
    "df['Small Bags','Large Bags','XLarge Bags'].filter((df['Small Bags']<2.0) & (df['Large Bags']>4.0)).show()"
   ]
  },
  {
   "cell_type": "code",
   "execution_count": 31,
   "metadata": {},
   "outputs": [
    {
     "name": "stdout",
     "output_type": "stream",
     "text": [
      "+------------+-------------------+\n",
      "|        type|             region|\n",
      "+------------+-------------------+\n",
      "|conventional|         Louisville|\n",
      "|     organic|            Chicago|\n",
      "|conventional|       Jacksonville|\n",
      "|conventional|      SouthCarolina|\n",
      "|conventional|            Orlando|\n",
      "|     organic|       Philadelphia|\n",
      "|conventional|       Philadelphia|\n",
      "|     organic|      SouthCarolina|\n",
      "|conventional|           LasVegas|\n",
      "|conventional|          Charlotte|\n",
      "|conventional|           Columbus|\n",
      "|conventional|            NewYork|\n",
      "|     organic|             Albany|\n",
      "|     organic|            TotalUS|\n",
      "|conventional|    RichmondNorfolk|\n",
      "|conventional|            Roanoke|\n",
      "|conventional|             Albany|\n",
      "|     organic|           SanDiego|\n",
      "|conventional|      DallasFtWorth|\n",
      "|conventional|   WestTexNewMexico|\n",
      "|     organic|            Atlanta|\n",
      "|conventional| HarrisburgScranton|\n",
      "|conventional|      PhoenixTucson|\n",
      "|     organic|      PhoenixTucson|\n",
      "|     organic|      DallasFtWorth|\n",
      "|conventional|             Boston|\n",
      "|     organic|            StLouis|\n",
      "|     organic|         Louisville|\n",
      "|     organic|              Tampa|\n",
      "|     organic|       Indianapolis|\n",
      "|conventional|               West|\n",
      "|conventional|          Northeast|\n",
      "|conventional|            Seattle|\n",
      "|     organic| HarrisburgScranton|\n",
      "|conventional|            Atlanta|\n",
      "|     organic|         LosAngeles|\n",
      "|     organic|   NewOrleansMobile|\n",
      "|conventional|         Pittsburgh|\n",
      "|     organic|            Orlando|\n",
      "|conventional|            StLouis|\n",
      "|conventional|         Sacramento|\n",
      "|conventional|BaltimoreWashington|\n",
      "|     organic|          Charlotte|\n",
      "|conventional|         LosAngeles|\n",
      "|     organic|          Nashville|\n",
      "|conventional|            Houston|\n",
      "|conventional|       SouthCentral|\n",
      "|conventional|   CincinnatiDayton|\n",
      "|conventional|         California|\n",
      "|conventional|HartfordSpringfield|\n",
      "|conventional|          Southeast|\n",
      "|     organic|       Jacksonville|\n",
      "|     organic|             Denver|\n",
      "|     organic|            Spokane|\n",
      "|     organic|         California|\n",
      "|conventional|         GreatLakes|\n",
      "|     organic|   BuffaloRochester|\n",
      "|conventional|            TotalUS|\n",
      "|conventional|             Plains|\n",
      "|conventional|              Tampa|\n",
      "|     organic|           Syracuse|\n",
      "|conventional|            Spokane|\n",
      "|     organic|           Columbus|\n",
      "|     organic|             Plains|\n",
      "|     organic|             Boston|\n",
      "|conventional| NorthernNewEngland|\n",
      "|     organic|        GrandRapids|\n",
      "|conventional|           Midsouth|\n",
      "|conventional|       SanFrancisco|\n",
      "|     organic|    RichmondNorfolk|\n",
      "|conventional|  RaleighGreensboro|\n",
      "|     organic|            Detroit|\n",
      "|     organic| NorthernNewEngland|\n",
      "|conventional|              Boise|\n",
      "|conventional|           Syracuse|\n",
      "|     organic|            Houston|\n",
      "|     organic|  RaleighGreensboro|\n",
      "|     organic|   CincinnatiDayton|\n",
      "|conventional|        GrandRapids|\n",
      "|     organic|  MiamiFtLauderdale|\n",
      "|conventional|  MiamiFtLauderdale|\n",
      "|     organic|   WestTexNewMexico|\n",
      "|     organic|BaltimoreWashington|\n",
      "|     organic|         GreatLakes|\n",
      "|     organic|           Midsouth|\n",
      "|     organic|           LasVegas|\n",
      "|     organic|          Northeast|\n",
      "|     organic|       SanFrancisco|\n",
      "|     organic|           Portland|\n",
      "|     organic|               West|\n",
      "|conventional|   NewOrleansMobile|\n",
      "|     organic|         Sacramento|\n",
      "|     organic|            NewYork|\n",
      "|     organic|         Pittsburgh|\n",
      "|     organic|       SouthCentral|\n",
      "|conventional|             Denver|\n",
      "|conventional|          Nashville|\n",
      "|conventional|           SanDiego|\n",
      "|     organic|              Boise|\n",
      "|     organic|HartfordSpringfield|\n",
      "|conventional|       Indianapolis|\n",
      "|     organic|            Roanoke|\n",
      "|conventional|   BuffaloRochester|\n",
      "|conventional|           Portland|\n",
      "|     organic|            Seattle|\n",
      "|conventional|            Detroit|\n",
      "|     organic|          Southeast|\n",
      "|conventional|            Chicago|\n",
      "+------------+-------------------+\n",
      "\n"
     ]
    }
   ],
   "source": [
    "df['type','region'].dropDuplicates(['type','region']).show(108)"
   ]
  },
  {
   "cell_type": "code",
   "execution_count": 32,
   "metadata": {},
   "outputs": [
    {
     "name": "stdout",
     "output_type": "stream",
     "text": [
      "22/11/09 09:11:15 WARN CSVHeaderChecker: CSV header does not conform to the schema.\n",
      " Header: , Date, AveragePrice, Total Volume, 4046, 4225, 4770, Total Bags, Small Bags, Large Bags, XLarge Bags, type, year, region\n",
      " Schema: _c0, Date, AveragePrice, Total Volume, 4046, 4225, 4770, Total Bags, Small Bags, Large Bags, XLarge Bags, type, year, region\n",
      "Expected: _c0 but found: \n",
      "CSV file: file:///Users/wiraramawedashwara/python/FGA/BPDFGA/avocado.csv\n"
     ]
    },
    {
     "data": {
      "text/plain": [
       "18249"
      ]
     },
     "execution_count": 32,
     "metadata": {},
     "output_type": "execute_result"
    }
   ],
   "source": [
    "df.distinct().count()"
   ]
  },
  {
   "cell_type": "code",
   "execution_count": 33,
   "metadata": {},
   "outputs": [
    {
     "name": "stdout",
     "output_type": "stream",
     "text": [
      "22/11/09 09:11:28 WARN CSVHeaderChecker: CSV header does not conform to the schema.\n",
      " Header: , Date, AveragePrice, Total Volume, 4046, 4225, 4770, Total Bags, Small Bags, Large Bags, XLarge Bags, type, year, region\n",
      " Schema: _c0, Date, AveragePrice, Total Volume, 4046, 4225, 4770, Total Bags, Small Bags, Large Bags, XLarge Bags, type, year, region\n",
      "Expected: _c0 but found: \n",
      "CSV file: file:///Users/wiraramawedashwara/python/FGA/BPDFGA/avocado.csv\n"
     ]
    }
   ],
   "source": [
    "test = (df.collect())"
   ]
  },
  {
   "cell_type": "code",
   "execution_count": null,
   "metadata": {},
   "outputs": [],
   "source": [
    "test"
   ]
  },
  {
   "cell_type": "code",
   "execution_count": null,
   "metadata": {},
   "outputs": [],
   "source": [
    "for x in df.collect():\n",
    "    print(x[7]+x[8])"
   ]
  },
  {
   "cell_type": "code",
   "execution_count": 35,
   "metadata": {},
   "outputs": [],
   "source": [
    "df.createOrReplaceTempView(\"avocadoEnak\")"
   ]
  },
  {
   "cell_type": "code",
   "execution_count": 37,
   "metadata": {},
   "outputs": [],
   "source": [
    "res = spark.sql(\"SELECT `Small Bags`,`Large Bags`,`XLarge Bags` FROM avocadoEnak WHERE `Small Bags`>4 AND `Large Bags`>2 SORT BY `XLarge Bags`,`Small Bags` DESC\")"
   ]
  },
  {
   "cell_type": "code",
   "execution_count": 38,
   "metadata": {},
   "outputs": [
    {
     "name": "stderr",
     "output_type": "stream",
     "text": [
      "[Stage 575:>                                                        (0 + 1) / 1]\r"
     ]
    },
    {
     "name": "stdout",
     "output_type": "stream",
     "text": [
      "+----------+----------+-----------+\n",
      "|Small Bags|Large Bags|XLarge Bags|\n",
      "+----------+----------+-----------+\n",
      "|1171614.36|  60004.46|        0.0|\n",
      "|1153104.63|  67661.22|        0.0|\n",
      "|1120295.45|  89874.67|        0.0|\n",
      "|1021991.63|  80732.13|        0.0|\n",
      "| 984678.78| 131232.57|        0.0|\n",
      "|  984377.9|  77610.55|        0.0|\n",
      "| 958452.62|  61310.05|        0.0|\n",
      "|  944572.5|  180049.0|        0.0|\n",
      "| 920108.45|  81630.45|        0.0|\n",
      "| 903840.54|  100787.4|        0.0|\n",
      "| 896750.09| 109953.33|        0.0|\n",
      "|  869351.0|  170377.0|        0.0|\n",
      "| 867106.18|  62961.12|        0.0|\n",
      "| 864046.29|  65744.96|        0.0|\n",
      "| 860636.05|  79402.19|        0.0|\n",
      "| 843930.39|   92714.0|        0.0|\n",
      "|  820402.0|  296888.0|        0.0|\n",
      "|  810060.6|  84287.77|        0.0|\n",
      "| 796190.93|  84913.39|        0.0|\n",
      "| 795311.93| 178099.61|        0.0|\n",
      "+----------+----------+-----------+\n",
      "only showing top 20 rows\n",
      "\n"
     ]
    },
    {
     "name": "stderr",
     "output_type": "stream",
     "text": [
      "                                                                                \r"
     ]
    }
   ],
   "source": [
    "res.show()"
   ]
  },
  {
   "cell_type": "code",
   "execution_count": 39,
   "metadata": {},
   "outputs": [
    {
     "name": "stderr",
     "output_type": "stream",
     "text": [
      "[Stage 576:>                                                        (0 + 1) / 1]\r"
     ]
    },
    {
     "name": "stdout",
     "output_type": "stream",
     "text": [
      "+-------+------------------+------------------+-----------------+\n",
      "|summary|        Small Bags|        Large Bags|      XLarge Bags|\n",
      "+-------+------------------+------------------+-----------------+\n",
      "|  count|             15701|             15701|            15701|\n",
      "|   mean|210053.41584293998|63136.251897968425|3604.243065409845|\n",
      "| stddev| 800939.0257660663|261962.62446877174|19027.55334315743|\n",
      "|    min|              4.44|              2.08|              0.0|\n",
      "|    25%|           5135.22|            662.87|              0.0|\n",
      "|    50%|          37977.13|           4667.13|              0.0|\n",
      "|    75%|           95448.1|          30236.34|           346.67|\n",
      "|    max|      1.33845868E7|        5719096.61|        551693.65|\n",
      "+-------+------------------+------------------+-----------------+\n",
      "\n"
     ]
    },
    {
     "name": "stderr",
     "output_type": "stream",
     "text": [
      "                                                                                \r"
     ]
    }
   ],
   "source": [
    "res.summary().show()"
   ]
  },
  {
   "cell_type": "markdown",
   "metadata": {},
   "source": [
    "sampai sini"
   ]
  },
  {
   "cell_type": "code",
   "execution_count": null,
   "metadata": {},
   "outputs": [],
   "source": []
  },
  {
   "cell_type": "markdown",
   "metadata": {},
   "source": [
    "https://goodboychan.github.io/python/datacamp/pyspark/machine_learning/2020/08/10/03-Classification-in-PySpark.html"
   ]
  },
  {
   "cell_type": "code",
   "execution_count": null,
   "metadata": {},
   "outputs": [],
   "source": [
    "import re\n",
    "\n",
    "# remove any non-words and split lines into separate words\n",
    "# finally, convert all words to lowercase\n",
    "def splitter(line):\n",
    "    line = re.sub(r'^\\W+|\\W+$', '', line)\n",
    "    return map(str.lower, re.split(r'\\W+', line))\n",
    "    \n",
    "sums = {}\n",
    "try:\n",
    "    in_file = open('pg2701.txt', 'r')\n",
    "\n",
    "    for line in in_file:\n",
    "        for word in splitter(line):\n",
    "            word = word.lower()\n",
    "            sums[word] = sums.get(word, 0) + 1\n",
    "                 \n",
    "    in_file.close()\n",
    "\n",
    "except IOError:\n",
    "    print(\"error performing file operation\")\n",
    "else:\n",
    "    M = max(sums.iterkeys(), key=lambda k: sums[k])\n",
    "    print(\"max: %s = %d\" % (M, sums[M]))"
   ]
  }
 ],
 "metadata": {
  "kernelspec": {
   "display_name": "Python 3 (ipykernel)",
   "language": "python",
   "name": "python3"
  },
  "language_info": {
   "codemirror_mode": {
    "name": "ipython",
    "version": 3
   },
   "file_extension": ".py",
   "mimetype": "text/x-python",
   "name": "python",
   "nbconvert_exporter": "python",
   "pygments_lexer": "ipython3",
   "version": "3.9.12"
  }
 },
 "nbformat": 4,
 "nbformat_minor": 4
}
