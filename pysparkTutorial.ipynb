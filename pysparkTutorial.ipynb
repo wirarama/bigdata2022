{
 "cells": [
  {
   "cell_type": "code",
   "execution_count": 1,
   "metadata": {},
   "outputs": [
    {
     "ename": "ModuleNotFoundError",
     "evalue": "No module named 'pyspark'",
     "output_type": "error",
     "traceback": [
      "\u001b[0;31m---------------------------------------------------------------------------\u001b[0m",
      "\u001b[0;31mModuleNotFoundError\u001b[0m                       Traceback (most recent call last)",
      "\u001b[0;32m<ipython-input-1-3889e013c370>\u001b[0m in \u001b[0;36m<module>\u001b[0;34m\u001b[0m\n\u001b[0;32m----> 1\u001b[0;31m \u001b[0;32mfrom\u001b[0m \u001b[0mpyspark\u001b[0m\u001b[0;34m.\u001b[0m\u001b[0msql\u001b[0m \u001b[0;32mimport\u001b[0m \u001b[0mSparkSession\u001b[0m\u001b[0;34m\u001b[0m\u001b[0;34m\u001b[0m\u001b[0m\n\u001b[0m\u001b[1;32m      2\u001b[0m \u001b[0;32mfrom\u001b[0m \u001b[0mpyspark\u001b[0m\u001b[0;34m.\u001b[0m\u001b[0msql\u001b[0m\u001b[0;34m.\u001b[0m\u001b[0mtypes\u001b[0m \u001b[0;32mimport\u001b[0m \u001b[0mStructType\u001b[0m\u001b[0;34m,\u001b[0m\u001b[0mStructField\u001b[0m\u001b[0;34m,\u001b[0m\u001b[0mIntegerType\u001b[0m\u001b[0;34m\u001b[0m\u001b[0;34m\u001b[0m\u001b[0m\n",
      "\u001b[0;31mModuleNotFoundError\u001b[0m: No module named 'pyspark'"
     ]
    }
   ],
   "source": [
    "from pyspark.sql import SparkSession\n",
    "from pyspark.sql.types import StructType,StructField,IntegerType"
   ]
  },
  {
   "cell_type": "code",
   "execution_count": 2,
   "metadata": {},
   "outputs": [],
   "source": [
    "spark = SparkSession.builder.appName(\"testApp\").getOrCreate()"
   ]
  },
  {
   "cell_type": "code",
   "execution_count": 3,
   "metadata": {},
   "outputs": [],
   "source": [
    "schema = StructType([\n",
    "        StructField(\"a\", IntegerType(), True),\n",
    "        StructField(\"b\", IntegerType(), True),\n",
    "        StructField(\"c\", IntegerType(), True),\n",
    "        StructField(\"d\", IntegerType(), True)\n",
    "        ])"
   ]
  },
  {
   "cell_type": "code",
   "execution_count": 4,
   "metadata": {},
   "outputs": [],
   "source": [
    "df = spark.read.csv('simpledata.csv',schema)"
   ]
  },
  {
   "cell_type": "code",
   "execution_count": null,
   "metadata": {},
   "outputs": [],
   "source": [
    "df.columns"
   ]
  },
  {
   "cell_type": "code",
   "execution_count": null,
   "metadata": {},
   "outputs": [],
   "source": [
    "df.count()"
   ]
  },
  {
   "cell_type": "code",
   "execution_count": 10,
   "metadata": {},
   "outputs": [
    {
     "name": "stdout",
     "output_type": "stream",
     "text": [
      "+-------+------------------+------------------+------------------+------------------+\n",
      "|summary|                 a|                 b|                 c|                 d|\n",
      "+-------+------------------+------------------+------------------+------------------+\n",
      "|  count|              2001|              2001|              2001|              2001|\n",
      "|   mean| 2.523738130934533| 2.943528235882059| 4.504747626186907| 5.027486256871565|\n",
      "| stddev|1.1329436082128288|1.4075899066586606|2.3119477608232435|2.6036021447095257|\n",
      "|    min|                 1|                 1|                 1|                 1|\n",
      "|    25%|                 1|                 2|                 2|                 3|\n",
      "|    50%|                 3|                 3|                 5|                 5|\n",
      "|    75%|                 4|                 4|                 7|                 7|\n",
      "|    max|                 4|                 5|                 8|                 9|\n",
      "+-------+------------------+------------------+------------------+------------------+\n",
      "\n"
     ]
    }
   ],
   "source": [
    "df.summary().show()"
   ]
  },
  {
   "cell_type": "code",
   "execution_count": null,
   "metadata": {},
   "outputs": [],
   "source": [
    "df.describe().show()"
   ]
  },
  {
   "cell_type": "code",
   "execution_count": null,
   "metadata": {},
   "outputs": [],
   "source": [
    "df.corr('a','b')"
   ]
  },
  {
   "cell_type": "code",
   "execution_count": null,
   "metadata": {},
   "outputs": [],
   "source": [
    "df.cov('a','b')"
   ]
  },
  {
   "cell_type": "code",
   "execution_count": null,
   "metadata": {},
   "outputs": [],
   "source": [
    "df.freqItems(['a','b','c','d'],support=0.4).show()"
   ]
  },
  {
   "cell_type": "code",
   "execution_count": null,
   "metadata": {},
   "outputs": [],
   "source": [
    "df.filter((df.a<2.0) & (df.b>3.0)).show()"
   ]
  },
  {
   "cell_type": "code",
   "execution_count": null,
   "metadata": {},
   "outputs": [],
   "source": [
    "df.dropDuplicates(['a','b']).show()"
   ]
  },
  {
   "cell_type": "code",
   "execution_count": 12,
   "metadata": {},
   "outputs": [
    {
     "data": {
      "text/plain": [
       "1063"
      ]
     },
     "execution_count": 12,
     "metadata": {},
     "output_type": "execute_result"
    }
   ],
   "source": [
    "df.distinct().count()"
   ]
  },
  {
   "cell_type": "code",
   "execution_count": null,
   "metadata": {},
   "outputs": [],
   "source": [
    "print(df.collect())"
   ]
  },
  {
   "cell_type": "code",
   "execution_count": null,
   "metadata": {},
   "outputs": [],
   "source": [
    "for x in df.collect():\n",
    "    print(x[1]+x[3])"
   ]
  },
  {
   "cell_type": "code",
   "execution_count": 5,
   "metadata": {},
   "outputs": [],
   "source": [
    "df.createOrReplaceTempView(\"test\")"
   ]
  },
  {
   "cell_type": "code",
   "execution_count": 6,
   "metadata": {},
   "outputs": [],
   "source": [
    "res = spark.sql(\"SELECT a,b,c,d FROM test WHERE c>4 AND d=2 SORT BY c DESC\")"
   ]
  },
  {
   "cell_type": "code",
   "execution_count": 7,
   "metadata": {},
   "outputs": [
    {
     "name": "stdout",
     "output_type": "stream",
     "text": [
      "+---+---+---+---+\n",
      "|  a|  b|  c|  d|\n",
      "+---+---+---+---+\n",
      "|  3|  2|  8|  2|\n",
      "|  2|  1|  8|  2|\n",
      "|  4|  4|  8|  2|\n",
      "|  3|  1|  8|  2|\n",
      "|  3|  3|  8|  2|\n",
      "|  4|  5|  8|  2|\n",
      "|  3|  3|  8|  2|\n",
      "|  4|  1|  8|  2|\n",
      "|  1|  3|  8|  2|\n",
      "|  4|  3|  8|  2|\n",
      "|  3|  4|  8|  2|\n",
      "|  3|  5|  8|  2|\n",
      "|  4|  4|  8|  2|\n",
      "|  1|  4|  8|  2|\n",
      "|  4|  2|  8|  2|\n",
      "|  4|  4|  8|  2|\n",
      "|  2|  1|  8|  2|\n",
      "|  4|  3|  8|  2|\n",
      "|  2|  4|  8|  2|\n",
      "|  1|  1|  8|  2|\n",
      "+---+---+---+---+\n",
      "only showing top 20 rows\n",
      "\n"
     ]
    }
   ],
   "source": [
    "res.show()"
   ]
  },
  {
   "cell_type": "code",
   "execution_count": 9,
   "metadata": {},
   "outputs": [
    {
     "name": "stdout",
     "output_type": "stream",
     "text": [
      "+-------+------------------+------------------+------------------+---+\n",
      "|summary|                 a|                 b|                 c|  d|\n",
      "+-------+------------------+------------------+------------------+---+\n",
      "|  count|               115|               115|               115|115|\n",
      "|   mean| 2.582608695652174| 3.017391304347826| 6.521739130434782|2.0|\n",
      "| stddev|1.1845689770238081|1.4748333756355783|1.0625014021617702|0.0|\n",
      "|    min|                 1|                 1|                 5|  2|\n",
      "|    25%|                 1|                 2|                 6|  2|\n",
      "|    50%|                 3|                 3|                 7|  2|\n",
      "|    75%|                 4|                 4|                 7|  2|\n",
      "|    max|                 4|                 5|                 8|  2|\n",
      "+-------+------------------+------------------+------------------+---+\n",
      "\n"
     ]
    }
   ],
   "source": [
    "res.summary().show()"
   ]
  }
 ],
 "metadata": {
  "kernelspec": {
   "display_name": "Python 3",
   "language": "python",
   "name": "python3"
  },
  "language_info": {
   "codemirror_mode": {
    "name": "ipython",
    "version": 3
   },
   "file_extension": ".py",
   "mimetype": "text/x-python",
   "name": "python",
   "nbconvert_exporter": "python",
   "pygments_lexer": "ipython3",
   "version": "3.7.3"
  }
 },
 "nbformat": 4,
 "nbformat_minor": 2
}
