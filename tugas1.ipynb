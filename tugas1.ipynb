{
 "cells": [
  {
   "cell_type": "code",
   "execution_count": 1,
   "id": "0e339c72",
   "metadata": {},
   "outputs": [],
   "source": [
    "import pandas as pd\n",
    "import seaborn as sns\n",
    "import matplotlib.pyplot as plt\n",
    "%matplotlib inline"
   ]
  },
  {
   "cell_type": "code",
   "execution_count": 3,
   "id": "58a92dcd",
   "metadata": {},
   "outputs": [],
   "source": [
    "from sqlalchemy import create_engine\n",
    "from pandas.io import sql"
   ]
  },
  {
   "cell_type": "code",
   "execution_count": 2,
   "id": "001128d1",
   "metadata": {},
   "outputs": [],
   "source": [
    "df = pd.read_csv('vgsales.csv')"
   ]
  },
  {
   "cell_type": "code",
   "execution_count": 4,
   "id": "cd793db9",
   "metadata": {},
   "outputs": [
    {
     "data": {
      "text/plain": [
       "16598"
      ]
     },
     "execution_count": 4,
     "metadata": {},
     "output_type": "execute_result"
    }
   ],
   "source": [
    "engine = create_engine('sqlite:///:memory:')\n",
    "df.to_sql('vgsales',engine)"
   ]
  },
  {
   "cell_type": "markdown",
   "id": "847a5043",
   "metadata": {},
   "source": [
    "buatlah query (Name,Platform,Year,Genre,Publisher,Global_Sales) dengan limit nim(3digit nim kalian)*10 sampai nim*10+200"
   ]
  },
  {
   "cell_type": "code",
   "execution_count": 8,
   "id": "042c02d9",
   "metadata": {},
   "outputs": [],
   "source": [
    "res = pd.read_sql_query(\n",
    "    \"SELECT Name,Platform,Year,Genre,Publisher,Global_Sales \"+\n",
    "    \"FROM vgsales ORDER BY Rank ASC LIMIT 170,370\",engine)"
   ]
  },
  {
   "cell_type": "code",
   "execution_count": 7,
   "id": "181eb9a2",
   "metadata": {},
   "outputs": [
    {
     "data": {
      "text/html": [
       "<div>\n",
       "<style scoped>\n",
       "    .dataframe tbody tr th:only-of-type {\n",
       "        vertical-align: middle;\n",
       "    }\n",
       "\n",
       "    .dataframe tbody tr th {\n",
       "        vertical-align: top;\n",
       "    }\n",
       "\n",
       "    .dataframe thead th {\n",
       "        text-align: right;\n",
       "    }\n",
       "</style>\n",
       "<table border=\"1\" class=\"dataframe\">\n",
       "  <thead>\n",
       "    <tr style=\"text-align: right;\">\n",
       "      <th></th>\n",
       "      <th>Name</th>\n",
       "      <th>Platform</th>\n",
       "      <th>Year</th>\n",
       "      <th>Genre</th>\n",
       "      <th>Publisher</th>\n",
       "    </tr>\n",
       "  </thead>\n",
       "  <tbody>\n",
       "    <tr>\n",
       "      <th>0</th>\n",
       "      <td>Tetris Worlds</td>\n",
       "      <td>PS2</td>\n",
       "      <td>2002.0</td>\n",
       "      <td>Puzzle</td>\n",
       "      <td>THQ</td>\n",
       "    </tr>\n",
       "    <tr>\n",
       "      <th>1</th>\n",
       "      <td>Need For Speed: Undercover</td>\n",
       "      <td>PS3</td>\n",
       "      <td>2008.0</td>\n",
       "      <td>Racing</td>\n",
       "      <td>Electronic Arts</td>\n",
       "    </tr>\n",
       "    <tr>\n",
       "      <th>2</th>\n",
       "      <td>Dance Dance Revolution: Hottest Party</td>\n",
       "      <td>Wii</td>\n",
       "      <td>2007.0</td>\n",
       "      <td>Simulation</td>\n",
       "      <td>Konami Digital Entertainment</td>\n",
       "    </tr>\n",
       "    <tr>\n",
       "      <th>3</th>\n",
       "      <td>Mario Party 5</td>\n",
       "      <td>GC</td>\n",
       "      <td>2003.0</td>\n",
       "      <td>Misc</td>\n",
       "      <td>Nintendo</td>\n",
       "    </tr>\n",
       "    <tr>\n",
       "      <th>4</th>\n",
       "      <td>Ghostbusters: The Video Game (DS Version)</td>\n",
       "      <td>PS3</td>\n",
       "      <td>2010.0</td>\n",
       "      <td>Action</td>\n",
       "      <td>Take-Two Interactive</td>\n",
       "    </tr>\n",
       "    <tr>\n",
       "      <th>...</th>\n",
       "      <td>...</td>\n",
       "      <td>...</td>\n",
       "      <td>...</td>\n",
       "      <td>...</td>\n",
       "      <td>...</td>\n",
       "    </tr>\n",
       "    <tr>\n",
       "      <th>1012</th>\n",
       "      <td>Alien: Isolation</td>\n",
       "      <td>PS4</td>\n",
       "      <td>2014.0</td>\n",
       "      <td>Shooter</td>\n",
       "      <td>Sega</td>\n",
       "    </tr>\n",
       "    <tr>\n",
       "      <th>1013</th>\n",
       "      <td>Yakuza 3</td>\n",
       "      <td>PS3</td>\n",
       "      <td>2009.0</td>\n",
       "      <td>Action</td>\n",
       "      <td>Sega</td>\n",
       "    </tr>\n",
       "    <tr>\n",
       "      <th>1014</th>\n",
       "      <td>Pokémon Mystery Dungeon: Red Rescue Team (US w...</td>\n",
       "      <td>GBA</td>\n",
       "      <td>2005.0</td>\n",
       "      <td>Role-Playing</td>\n",
       "      <td>Nintendo</td>\n",
       "    </tr>\n",
       "    <tr>\n",
       "      <th>1015</th>\n",
       "      <td>The Beatles: Rock Band</td>\n",
       "      <td>PS3</td>\n",
       "      <td>2009.0</td>\n",
       "      <td>Misc</td>\n",
       "      <td>MTV Games</td>\n",
       "    </tr>\n",
       "    <tr>\n",
       "      <th>1016</th>\n",
       "      <td>Dragon Age II</td>\n",
       "      <td>X360</td>\n",
       "      <td>2011.0</td>\n",
       "      <td>Action</td>\n",
       "      <td>Electronic Arts</td>\n",
       "    </tr>\n",
       "  </tbody>\n",
       "</table>\n",
       "<p>1017 rows × 5 columns</p>\n",
       "</div>"
      ],
      "text/plain": [
       "                                                   Name Platform    Year  \\\n",
       "0                                         Tetris Worlds      PS2  2002.0   \n",
       "1                            Need For Speed: Undercover      PS3  2008.0   \n",
       "2                 Dance Dance Revolution: Hottest Party      Wii  2007.0   \n",
       "3                                         Mario Party 5       GC  2003.0   \n",
       "4             Ghostbusters: The Video Game (DS Version)      PS3  2010.0   \n",
       "...                                                 ...      ...     ...   \n",
       "1012                                   Alien: Isolation      PS4  2014.0   \n",
       "1013                                           Yakuza 3      PS3  2009.0   \n",
       "1014  Pokémon Mystery Dungeon: Red Rescue Team (US w...      GBA  2005.0   \n",
       "1015                             The Beatles: Rock Band      PS3  2009.0   \n",
       "1016                                      Dragon Age II     X360  2011.0   \n",
       "\n",
       "             Genre                     Publisher  \n",
       "0           Puzzle                           THQ  \n",
       "1           Racing               Electronic Arts  \n",
       "2       Simulation  Konami Digital Entertainment  \n",
       "3             Misc                      Nintendo  \n",
       "4           Action          Take-Two Interactive  \n",
       "...            ...                           ...  \n",
       "1012       Shooter                          Sega  \n",
       "1013        Action                          Sega  \n",
       "1014  Role-Playing                      Nintendo  \n",
       "1015          Misc                     MTV Games  \n",
       "1016        Action               Electronic Arts  \n",
       "\n",
       "[1017 rows x 5 columns]"
      ]
     },
     "execution_count": 7,
     "metadata": {},
     "output_type": "execute_result"
    }
   ],
   "source": [
    "res"
   ]
  },
  {
   "cell_type": "code",
   "execution_count": null,
   "id": "8f589673",
   "metadata": {},
   "outputs": [],
   "source": []
  }
 ],
 "metadata": {
  "kernelspec": {
   "display_name": "Python 3 (ipykernel)",
   "language": "python",
   "name": "python3"
  },
  "language_info": {
   "codemirror_mode": {
    "name": "ipython",
    "version": 3
   },
   "file_extension": ".py",
   "mimetype": "text/x-python",
   "name": "python",
   "nbconvert_exporter": "python",
   "pygments_lexer": "ipython3",
   "version": "3.11.4"
  }
 },
 "nbformat": 4,
 "nbformat_minor": 5
}
