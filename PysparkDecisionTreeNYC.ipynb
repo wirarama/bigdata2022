{
 "cells": [
  {
   "cell_type": "code",
   "execution_count": 2,
   "metadata": {},
   "outputs": [],
   "source": [
    "from pyspark.ml import Pipeline\n",
    "from pyspark.ml.classification import DecisionTreeClassifier\n",
    "from pyspark.ml.feature import StringIndexer, VectorIndexer\n",
    "from pyspark.ml.evaluation import MulticlassClassificationEvaluator"
   ]
  },
  {
   "cell_type": "code",
   "execution_count": 3,
   "metadata": {},
   "outputs": [],
   "source": [
    "from pyspark.sql.types import StructType,StructField,IntegerType,StringType,DoubleType\n",
    "from pyspark.ml.linalg import Vectors"
   ]
  },
  {
   "cell_type": "code",
   "execution_count": 4,
   "metadata": {},
   "outputs": [],
   "source": [
    "spark = SparkSession.builder.appName(\"DecisionTreeClassifier\").getOrCreate()"
   ]
  },
  {
   "cell_type": "code",
   "execution_count": 5,
   "metadata": {},
   "outputs": [],
   "source": [
    "df = spark.read.csv('nyc-rolling-sales.csv',inferSchema=True,header='true')"
   ]
  },
  {
   "cell_type": "code",
   "execution_count": 6,
   "metadata": {},
   "outputs": [
    {
     "name": "stdout",
     "output_type": "stream",
     "text": [
      "['_c0', 'BOROUGH', 'NEIGHBORHOOD', 'BUILDING CLASS CATEGORY', 'TAX CLASS AT PRESENT', 'BLOCK', 'LOT', 'EASE-MENT', 'BUILDING CLASS AT PRESENT', 'ADDRESS', 'APARTMENT NUMBER', 'ZIP CODE', 'RESIDENTIAL UNITS', 'COMMERCIAL UNITS', 'TOTAL UNITS', 'LAND SQUARE FEET', 'GROSS SQUARE FEET', 'YEAR BUILT', 'TAX CLASS AT TIME OF SALE', 'BUILDING CLASS AT TIME OF SALE', 'SALE PRICE', 'SALE DATE']\n"
     ]
    }
   ],
   "source": [
    "colu = df.columns\n",
    "print(colu)"
   ]
  },
  {
   "cell_type": "code",
   "execution_count": null,
   "metadata": {},
   "outputs": [],
   "source": [
    "colu.index('GROSS SQUARE FEET')"
   ]
  },
  {
   "cell_type": "code",
   "execution_count": 16,
   "metadata": {},
   "outputs": [
    {
     "data": {
      "text/html": [
       "<div>\n",
       "<style scoped>\n",
       "    .dataframe tbody tr th:only-of-type {\n",
       "        vertical-align: middle;\n",
       "    }\n",
       "\n",
       "    .dataframe tbody tr th {\n",
       "        vertical-align: top;\n",
       "    }\n",
       "\n",
       "    .dataframe thead th {\n",
       "        text-align: right;\n",
       "    }\n",
       "</style>\n",
       "<table border=\"1\" class=\"dataframe\">\n",
       "  <thead>\n",
       "    <tr style=\"text-align: right;\">\n",
       "      <th></th>\n",
       "      <th>summary</th>\n",
       "      <th>_c0</th>\n",
       "      <th>BOROUGH</th>\n",
       "      <th>NEIGHBORHOOD</th>\n",
       "      <th>BUILDING CLASS CATEGORY</th>\n",
       "      <th>TAX CLASS AT PRESENT</th>\n",
       "      <th>BLOCK</th>\n",
       "      <th>LOT</th>\n",
       "      <th>EASE-MENT</th>\n",
       "      <th>BUILDING CLASS AT PRESENT</th>\n",
       "      <th>...</th>\n",
       "      <th>ZIP CODE</th>\n",
       "      <th>RESIDENTIAL UNITS</th>\n",
       "      <th>COMMERCIAL UNITS</th>\n",
       "      <th>TOTAL UNITS</th>\n",
       "      <th>LAND SQUARE FEET</th>\n",
       "      <th>GROSS SQUARE FEET</th>\n",
       "      <th>YEAR BUILT</th>\n",
       "      <th>TAX CLASS AT TIME OF SALE</th>\n",
       "      <th>BUILDING CLASS AT TIME OF SALE</th>\n",
       "      <th>SALE PRICE</th>\n",
       "    </tr>\n",
       "  </thead>\n",
       "  <tbody>\n",
       "    <tr>\n",
       "      <th>0</th>\n",
       "      <td>count</td>\n",
       "      <td>84548</td>\n",
       "      <td>84548</td>\n",
       "      <td>84548</td>\n",
       "      <td>84548</td>\n",
       "      <td>84548</td>\n",
       "      <td>84548</td>\n",
       "      <td>84548</td>\n",
       "      <td>84548</td>\n",
       "      <td>84548</td>\n",
       "      <td>...</td>\n",
       "      <td>84548</td>\n",
       "      <td>84548</td>\n",
       "      <td>84548</td>\n",
       "      <td>84548</td>\n",
       "      <td>84548</td>\n",
       "      <td>84548</td>\n",
       "      <td>84548</td>\n",
       "      <td>84548</td>\n",
       "      <td>84548</td>\n",
       "      <td>84548</td>\n",
       "    </tr>\n",
       "    <tr>\n",
       "      <th>1</th>\n",
       "      <td>mean</td>\n",
       "      <td>10344.359878412262</td>\n",
       "      <td>2.9987581019066094</td>\n",
       "      <td>None</td>\n",
       "      <td>None</td>\n",
       "      <td>1.651910272669626</td>\n",
       "      <td>4237.218976202867</td>\n",
       "      <td>376.22401476084593</td>\n",
       "      <td>None</td>\n",
       "      <td>None</td>\n",
       "      <td>...</td>\n",
       "      <td>10731.99161423097</td>\n",
       "      <td>2.0252637554998345</td>\n",
       "      <td>0.19355868855561337</td>\n",
       "      <td>2.249183895538629</td>\n",
       "      <td>2717.7926266736054</td>\n",
       "      <td>2724.4452973458865</td>\n",
       "      <td>1789.322976297488</td>\n",
       "      <td>1.657484505842835</td>\n",
       "      <td>None</td>\n",
       "      <td>1276456.4977638705</td>\n",
       "    </tr>\n",
       "    <tr>\n",
       "      <th>2</th>\n",
       "      <td>stddev</td>\n",
       "      <td>7151.77943634439</td>\n",
       "      <td>1.2897900492296461</td>\n",
       "      <td>None</td>\n",
       "      <td>None</td>\n",
       "      <td>0.8448206674575622</td>\n",
       "      <td>3568.263406631048</td>\n",
       "      <td>658.1368139996075</td>\n",
       "      <td>None</td>\n",
       "      <td>None</td>\n",
       "      <td>...</td>\n",
       "      <td>1290.8791471461097</td>\n",
       "      <td>16.721037014467946</td>\n",
       "      <td>8.713183368246815</td>\n",
       "      <td>18.972584432026775</td>\n",
       "      <td>34909.49649365539</td>\n",
       "      <td>28810.800805431947</td>\n",
       "      <td>537.3449934336502</td>\n",
       "      <td>0.8193412115061967</td>\n",
       "      <td>None</td>\n",
       "      <td>1.1405255345987292E7</td>\n",
       "    </tr>\n",
       "    <tr>\n",
       "      <th>3</th>\n",
       "      <td>min</td>\n",
       "      <td>4</td>\n",
       "      <td>1</td>\n",
       "      <td>AIRPORT LA GUARDIA</td>\n",
       "      <td>01 ONE FAMILY DWELLINGS</td>\n",
       "      <td></td>\n",
       "      <td>1</td>\n",
       "      <td>1</td>\n",
       "      <td></td>\n",
       "      <td></td>\n",
       "      <td>...</td>\n",
       "      <td>0</td>\n",
       "      <td>0</td>\n",
       "      <td>0</td>\n",
       "      <td>0</td>\n",
       "      <td>0</td>\n",
       "      <td>0</td>\n",
       "      <td>0</td>\n",
       "      <td>1</td>\n",
       "      <td>A0</td>\n",
       "      <td>-</td>\n",
       "    </tr>\n",
       "    <tr>\n",
       "      <th>4</th>\n",
       "      <td>25%</td>\n",
       "      <td>4231</td>\n",
       "      <td>2</td>\n",
       "      <td>None</td>\n",
       "      <td>None</td>\n",
       "      <td>1.0</td>\n",
       "      <td>1322</td>\n",
       "      <td>22</td>\n",
       "      <td>None</td>\n",
       "      <td>None</td>\n",
       "      <td>...</td>\n",
       "      <td>10305</td>\n",
       "      <td>0</td>\n",
       "      <td>0</td>\n",
       "      <td>1</td>\n",
       "      <td>0.0</td>\n",
       "      <td>0.0</td>\n",
       "      <td>1920</td>\n",
       "      <td>1</td>\n",
       "      <td>None</td>\n",
       "      <td>225000.0</td>\n",
       "    </tr>\n",
       "    <tr>\n",
       "      <th>5</th>\n",
       "      <td>50%</td>\n",
       "      <td>8943</td>\n",
       "      <td>3</td>\n",
       "      <td>None</td>\n",
       "      <td>None</td>\n",
       "      <td>1.0</td>\n",
       "      <td>3311</td>\n",
       "      <td>50</td>\n",
       "      <td>None</td>\n",
       "      <td>None</td>\n",
       "      <td>...</td>\n",
       "      <td>11209</td>\n",
       "      <td>1</td>\n",
       "      <td>0</td>\n",
       "      <td>1</td>\n",
       "      <td>1770.0</td>\n",
       "      <td>1076.0</td>\n",
       "      <td>1940</td>\n",
       "      <td>2</td>\n",
       "      <td>None</td>\n",
       "      <td>530000.0</td>\n",
       "    </tr>\n",
       "    <tr>\n",
       "      <th>6</th>\n",
       "      <td>75%</td>\n",
       "      <td>15985</td>\n",
       "      <td>4</td>\n",
       "      <td>None</td>\n",
       "      <td>None</td>\n",
       "      <td>2.0</td>\n",
       "      <td>6280</td>\n",
       "      <td>1001</td>\n",
       "      <td>None</td>\n",
       "      <td>None</td>\n",
       "      <td>...</td>\n",
       "      <td>11357</td>\n",
       "      <td>2</td>\n",
       "      <td>0</td>\n",
       "      <td>2</td>\n",
       "      <td>2656.0</td>\n",
       "      <td>2080.0</td>\n",
       "      <td>1965</td>\n",
       "      <td>2</td>\n",
       "      <td>None</td>\n",
       "      <td>950000.0</td>\n",
       "    </tr>\n",
       "    <tr>\n",
       "      <th>7</th>\n",
       "      <td>max</td>\n",
       "      <td>26739</td>\n",
       "      <td>5</td>\n",
       "      <td>WYCKOFF HEIGHTS</td>\n",
       "      <td>49 CONDO WAREHOUSES/FACTORY/INDUS</td>\n",
       "      <td>4</td>\n",
       "      <td>16322</td>\n",
       "      <td>9106</td>\n",
       "      <td></td>\n",
       "      <td>Z9</td>\n",
       "      <td>...</td>\n",
       "      <td>11694</td>\n",
       "      <td>1844</td>\n",
       "      <td>2261</td>\n",
       "      <td>2261</td>\n",
       "      <td>9996</td>\n",
       "      <td>9992</td>\n",
       "      <td>2017</td>\n",
       "      <td>4</td>\n",
       "      <td>Z9</td>\n",
       "      <td>9999999</td>\n",
       "    </tr>\n",
       "  </tbody>\n",
       "</table>\n",
       "<p>8 rows × 22 columns</p>\n",
       "</div>"
      ],
      "text/plain": [
       "  summary                 _c0             BOROUGH        NEIGHBORHOOD  \\\n",
       "0   count               84548               84548               84548   \n",
       "1    mean  10344.359878412262  2.9987581019066094                None   \n",
       "2  stddev    7151.77943634439  1.2897900492296461                None   \n",
       "3     min                   4                   1  AIRPORT LA GUARDIA   \n",
       "4     25%                4231                   2                None   \n",
       "5     50%                8943                   3                None   \n",
       "6     75%               15985                   4                None   \n",
       "7     max               26739                   5     WYCKOFF HEIGHTS   \n",
       "\n",
       "                       BUILDING CLASS CATEGORY TAX CLASS AT PRESENT  \\\n",
       "0                                        84548                84548   \n",
       "1                                         None    1.651910272669626   \n",
       "2                                         None   0.8448206674575622   \n",
       "3  01 ONE FAMILY DWELLINGS                                            \n",
       "4                                         None                  1.0   \n",
       "5                                         None                  1.0   \n",
       "6                                         None                  2.0   \n",
       "7  49 CONDO WAREHOUSES/FACTORY/INDUS                              4   \n",
       "\n",
       "               BLOCK                 LOT EASE-MENT BUILDING CLASS AT PRESENT  \\\n",
       "0              84548               84548     84548                     84548   \n",
       "1  4237.218976202867  376.22401476084593      None                      None   \n",
       "2  3568.263406631048   658.1368139996075      None                      None   \n",
       "3                  1                   1                                       \n",
       "4               1322                  22      None                      None   \n",
       "5               3311                  50      None                      None   \n",
       "6               6280                1001      None                      None   \n",
       "7              16322                9106                                  Z9   \n",
       "\n",
       "   ...            ZIP CODE   RESIDENTIAL UNITS     COMMERCIAL UNITS  \\\n",
       "0  ...               84548               84548                84548   \n",
       "1  ...   10731.99161423097  2.0252637554998345  0.19355868855561337   \n",
       "2  ...  1290.8791471461097  16.721037014467946    8.713183368246815   \n",
       "3  ...                   0                   0                    0   \n",
       "4  ...               10305                   0                    0   \n",
       "5  ...               11209                   1                    0   \n",
       "6  ...               11357                   2                    0   \n",
       "7  ...               11694                1844                 2261   \n",
       "\n",
       "          TOTAL UNITS    LAND SQUARE FEET   GROSS SQUARE FEET  \\\n",
       "0               84548               84548               84548   \n",
       "1   2.249183895538629  2717.7926266736054  2724.4452973458865   \n",
       "2  18.972584432026775   34909.49649365539  28810.800805431947   \n",
       "3                   0                   0                   0   \n",
       "4                   1                 0.0                 0.0   \n",
       "5                   1              1770.0              1076.0   \n",
       "6                   2              2656.0              2080.0   \n",
       "7                2261                9996                9992   \n",
       "\n",
       "          YEAR BUILT TAX CLASS AT TIME OF SALE BUILDING CLASS AT TIME OF SALE  \\\n",
       "0              84548                     84548                          84548   \n",
       "1  1789.322976297488         1.657484505842835                           None   \n",
       "2  537.3449934336502        0.8193412115061967                           None   \n",
       "3                  0                         1                             A0   \n",
       "4               1920                         1                           None   \n",
       "5               1940                         2                           None   \n",
       "6               1965                         2                           None   \n",
       "7               2017                         4                             Z9   \n",
       "\n",
       "             SALE PRICE  \n",
       "0                 84548  \n",
       "1    1276456.4977638705  \n",
       "2  1.1405255345987292E7  \n",
       "3                   -    \n",
       "4              225000.0  \n",
       "5              530000.0  \n",
       "6              950000.0  \n",
       "7               9999999  \n",
       "\n",
       "[8 rows x 22 columns]"
      ]
     },
     "execution_count": 16,
     "metadata": {},
     "output_type": "execute_result"
    }
   ],
   "source": [
    "df.summary().toPandas()"
   ]
  },
  {
   "cell_type": "code",
   "execution_count": null,
   "metadata": {},
   "outputs": [],
   "source": [
    "df.select('BOROUGH').collect()"
   ]
  },
  {
   "cell_type": "code",
   "execution_count": null,
   "metadata": {},
   "outputs": [],
   "source": [
    "df.createOrReplaceTempView('nyc')"
   ]
  },
  {
   "cell_type": "code",
   "execution_count": 13,
   "metadata": {},
   "outputs": [],
   "source": [
    "from pyspark.sql import functions as F"
   ]
  },
  {
   "cell_type": "code",
   "execution_count": null,
   "metadata": {},
   "outputs": [],
   "source": [
    "\"UPDATE nyc SET `LAND SQUARE FEET`=0 WHERE `LAND SQUARE FEET` like'%-%'\""
   ]
  },
  {
   "cell_type": "code",
   "execution_count": 14,
   "metadata": {},
   "outputs": [],
   "source": [
    "def hapusStrip(x):\n",
    "    return df.withColumn(x,F.when(F.col(x).like('%-%'),0).otherwise(F.col(x)))"
   ]
  },
  {
   "cell_type": "code",
   "execution_count": 15,
   "metadata": {},
   "outputs": [],
   "source": [
    "df = hapusStrip('LAND SQUARE FEET')\n",
    "df = hapusStrip('GROSS SQUARE FEET')"
   ]
  },
  {
   "cell_type": "code",
   "execution_count": 17,
   "metadata": {},
   "outputs": [],
   "source": [
    "data=df.rdd.map(lambda x:(Vectors.dense(x[colu.index('BLOCK')],\n",
    "                                        x[colu.index('LOT')],\n",
    "                                        x[colu.index('LAND SQUARE FEET')],\n",
    "                                        x[colu.index('GROSS SQUARE FEET')]),\n",
    "                          x[colu.index('TAX CLASS AT PRESENT')])).toDF(\n",
    "    [\"features\", \"label\"])"
   ]
  },
  {
   "cell_type": "code",
   "execution_count": 18,
   "metadata": {},
   "outputs": [
    {
     "name": "stdout",
     "output_type": "stream",
     "text": [
      "+--------------------+-----+\n",
      "|            features|label|\n",
      "+--------------------+-----+\n",
      "|[392.0,6.0,1633.0...|   2A|\n",
      "|[399.0,26.0,4616....|    2|\n",
      "|[399.0,39.0,2212....|    2|\n",
      "|[402.0,21.0,2272....|   2B|\n",
      "|[404.0,55.0,2369....|   2A|\n",
      "|[405.0,16.0,2581....|    2|\n",
      "|[406.0,32.0,1750....|   2B|\n",
      "|[407.0,18.0,5163....|    2|\n",
      "|[379.0,34.0,1534....|    2|\n",
      "|[387.0,153.0,4489...|    2|\n",
      "|[394.0,44.0,4295....|    2|\n",
      "|[400.0,21.0,3717....|   2B|\n",
      "|[373.0,40.0,0.0,0.0]|    2|\n",
      "|[373.0,40.0,0.0,0.0]|    2|\n",
      "|[373.0,40.0,0.0,0.0]|    2|\n",
      "|[373.0,40.0,0.0,0.0]|    2|\n",
      "|[373.0,40.0,0.0,0.0]|    2|\n",
      "|[373.0,46.0,0.0,0.0]|    2|\n",
      "|[373.0,49.0,0.0,0.0]|    2|\n",
      "|[373.0,49.0,0.0,0.0]|    2|\n",
      "+--------------------+-----+\n",
      "only showing top 20 rows\n",
      "\n"
     ]
    }
   ],
   "source": [
    "data.show()"
   ]
  },
  {
   "cell_type": "code",
   "execution_count": 19,
   "metadata": {},
   "outputs": [],
   "source": [
    "labelIndexer = StringIndexer(inputCol=\"label\", outputCol=\"indexedLabel\",handleInvalid='skip').fit(data)"
   ]
  },
  {
   "cell_type": "code",
   "execution_count": 20,
   "metadata": {},
   "outputs": [],
   "source": [
    "featureIndexer = VectorIndexer(inputCol=\"features\", outputCol=\"indexedFeatures\", maxCategories=4).fit(data)"
   ]
  },
  {
   "cell_type": "code",
   "execution_count": 21,
   "metadata": {},
   "outputs": [],
   "source": [
    "(trainingData, testData) = data.randomSplit([0.7, 0.3])"
   ]
  },
  {
   "cell_type": "code",
   "execution_count": 22,
   "metadata": {},
   "outputs": [],
   "source": [
    "dt = DecisionTreeClassifier(labelCol=\"indexedLabel\", featuresCol=\"indexedFeatures\")"
   ]
  },
  {
   "cell_type": "code",
   "execution_count": 23,
   "metadata": {},
   "outputs": [],
   "source": [
    "pipeline = Pipeline(stages=[labelIndexer, featureIndexer, dt])"
   ]
  },
  {
   "cell_type": "code",
   "execution_count": 24,
   "metadata": {},
   "outputs": [],
   "source": [
    "model = pipeline.fit(trainingData)"
   ]
  },
  {
   "cell_type": "code",
   "execution_count": 25,
   "metadata": {},
   "outputs": [],
   "source": [
    "predictions = model.transform(testData)"
   ]
  },
  {
   "cell_type": "code",
   "execution_count": 26,
   "metadata": {},
   "outputs": [
    {
     "name": "stdout",
     "output_type": "stream",
     "text": [
      "+----------+------------+--------------------+\n",
      "|prediction|indexedLabel|            features|\n",
      "+----------+------------+--------------------+\n",
      "|       1.0|         1.0|[7.0,1002.0,0.0,0.0]|\n",
      "|       1.0|         1.0|[15.0,1179.0,0.0,...|\n",
      "|       1.0|         1.0|[15.0,1231.0,0.0,...|\n",
      "|       1.0|         1.0|[15.0,1285.0,0.0,...|\n",
      "|       1.0|         1.0|[15.0,1310.0,0.0,...|\n",
      "+----------+------------+--------------------+\n",
      "only showing top 5 rows\n",
      "\n"
     ]
    }
   ],
   "source": [
    "predictions.select(\"prediction\", \"indexedLabel\", \"features\").show(5)"
   ]
  },
  {
   "cell_type": "code",
   "execution_count": 27,
   "metadata": {},
   "outputs": [
    {
     "name": "stdout",
     "output_type": "stream",
     "text": [
      "Test Error = 0.157029 \n"
     ]
    }
   ],
   "source": [
    "evaluator = MulticlassClassificationEvaluator(labelCol=\"indexedLabel\", predictionCol=\"prediction\", metricName=\"accuracy\")\n",
    "accuracy = evaluator.evaluate(predictions)\n",
    "print(\"Test Error = %g \" % (1.0 - accuracy))"
   ]
  },
  {
   "cell_type": "code",
   "execution_count": null,
   "metadata": {},
   "outputs": [],
   "source": [
    "df.select(['BOROUGH']).collect()"
   ]
  },
  {
   "cell_type": "code",
   "execution_count": null,
   "metadata": {},
   "outputs": [],
   "source": [
    "treeModel = model.stages[2]"
   ]
  },
  {
   "cell_type": "code",
   "execution_count": null,
   "metadata": {},
   "outputs": [],
   "source": [
    "print(treeModel)"
   ]
  },
  {
   "cell_type": "code",
   "execution_count": null,
   "metadata": {},
   "outputs": [],
   "source": []
  }
 ],
 "metadata": {
  "kernelspec": {
   "display_name": "Python 3",
   "language": "python",
   "name": "python3"
  },
  "language_info": {
   "codemirror_mode": {
    "name": "ipython",
    "version": 3
   },
   "file_extension": ".py",
   "mimetype": "text/x-python",
   "name": "python",
   "nbconvert_exporter": "python",
   "pygments_lexer": "ipython3",
   "version": "3.7.3"
  }
 },
 "nbformat": 4,
 "nbformat_minor": 2
}
