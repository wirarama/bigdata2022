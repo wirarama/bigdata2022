{
 "cells": [
  {
   "cell_type": "code",
   "execution_count": 1,
   "metadata": {},
   "outputs": [],
   "source": [
    "from bs4 import BeautifulSoup\n",
    "import requests as req"
   ]
  },
  {
   "cell_type": "code",
   "execution_count": 2,
   "metadata": {},
   "outputs": [],
   "source": [
    "resp = req.get(\"https://en.wikipedia.org/wiki/Lombok\")\n",
    "soup = BeautifulSoup(resp.text,'lxml')"
   ]
  },
  {
   "cell_type": "code",
   "execution_count": 3,
   "metadata": {},
   "outputs": [
    {
     "name": "stdout",
     "output_type": "stream",
     "text": [
      "Contents\n",
      "Administration[edit]\n",
      "History[edit]\n",
      "Geography[edit]\n",
      "Water problem[edit]\n",
      "Demographics[edit]\n",
      "Religion[edit]\n",
      "Economy and politics[edit]\n",
      "Tourism[edit]\n",
      "See also[edit]\n",
      "Notes[edit]\n",
      "References[edit]\n",
      "External links[edit]\n",
      "Navigation menu\n"
     ]
    }
   ],
   "source": [
    "for x in soup.find_all('h2'):\n",
    "    print(x.text)"
   ]
  },
  {
   "cell_type": "code",
   "execution_count": 8,
   "metadata": {},
   "outputs": [
    {
     "name": "stdout",
     "output_type": "stream",
     "text": [
      "2018 earthquakes\n"
     ]
    }
   ],
   "source": [
    "for x in soup.find_all('span',{\"class\":\"mw-headline\"}):\n",
    "    if \"earthquakes\" in x.text:\n",
    "        print(x.text)"
   ]
  },
  {
   "cell_type": "code",
   "execution_count": 9,
   "metadata": {},
   "outputs": [
    {
     "name": "stdout",
     "output_type": "stream",
     "text": [
      "https://web.archive.org/web/20170819231724/http://marlionllc.com/lombok-ntb-demography-2014-census/\n",
      "http://marlionllc.com/lombok-ntb-demography-2014-census/\n",
      "http://www.halomitrekker.com/2015/06/15-things-you-should-visit-in-lombok.html\n",
      "https://web.archive.org/web/20170822055150/http://missjoaquim.com/population-of-indonesia-by-province-1971-1980-1990-1995-2000-and-2010/\n",
      "http://missjoaquim.com/population-of-indonesia-by-province-1971-1980-1990-1995-2000-and-2010/\n",
      "http://www.citypopulation.de/Indonesia-MU.html\n",
      "http://collectie.wereldculturen.nl/\n",
      "https://www.britannica.com/place/Indonesia/The-Majapahit-era\n",
      "http://www.dutcheastindies.webs.com/lesser_sunda.html\n",
      "https://www.liputan6.com/news/read/3610277/korban-jiwa-gempa-lombok-bertambah-jadi-20-orang\n",
      "https://reliefweb.int/report/lao-peoples-democratic-republic/asia-pacific-multiple-disasters-affect-millions-region\n",
      "https://www.theguardian.com/world/2018/aug/05/powerful-earthquake-strikes-indonesia-killing-at-least-three\n",
      "https://www.bangkokpost.com/news/asean/1525142/quake-swarm-jolts-indonesian-islands-killing-at-least-13\n",
      "http://wallacefund.info/other-things-named-after-wallace\n",
      "http://www.ucmp.berkeley.edu/exhibits/biomes/index.php\n",
      "https://www.usatoday.com/story/news/world/2013/09/30/salamas-volcano-forgotten-pompeii/2891495/\n",
      "https://web.archive.org/web/20101122092128/http://www.ntbprov.go.id/baca.php?berita=4\n",
      "http://missjoaquim.com/ntb-akan-alami-krisis-air-bersih/\n",
      "http://www.thejakartaglobe.com/home/water-everywhere-but-not-a-drop-to-drink/395323\n",
      "http://www.lombok-indonesiabeach.com/about_us/Geography_Of_Lombok.html\n",
      "http://www.thejakartapost.com/news/2011/05/26/new-dam-resolve-water-crisis.html\n",
      "https://web.archive.org/web/20170821125710/http://missjoaquim.com/jumlah-rumah-tangga-dan-rata-rata-anggota-rumah-tangga-menurut-kabupatenkota-di-provinsi-ntb-tahun-2008/\n",
      "http://missjoaquim.com/jumlah-rumah-tangga-dan-rata-rata-anggota-rumah-tangga-menurut-kabupatenkota-di-provinsi-ntb-tahun-2008/\n",
      "https://web.archive.org/web/20170819231724/http://marlionllc.com/lombok-ntb-demography-2014-census/\n",
      "http://marlionllc.com/lombok-ntb-demography-2014-census/\n",
      "http://www.adherents.com/adhloc/Wh_150.html\n",
      "http://webarchive.loc.gov/all/20011201022944/http://www.abo.fi/comprel/temenos/temeno32/ceder.htm\n",
      "http://www.abo.fi/comprel/temenos/temeno32/ceder.htm\n",
      "http://webarchive.loc.gov/all/20011201022944/http://www.abo.fi/comprel/temenos/temeno32/ceder.htm\n",
      "http://www.abo.fi/comprel/temenos/temeno32/ceder.htm\n",
      "http://sp2010.bps.go.id/index.php/site/tabel?tid=321&wid=0\n",
      "https://translate.google.com/translate?hl=en&sl=id&u=http://bimashindu.kemenag.go.id/&prev=/search%3Fq%3DDitjen%2BBimas%2BHindu%26client%3Dfirefox-a%26hs%3DJ48%26rls%3Dorg.mozilla:en-GB:official\n",
      "http://www.kitlv-journals.nl\n",
      "https://stikeshamzar.ac.id/health-belief-profile-in-lombok-island-indonesia/\n",
      "http://travel.nytimes.com/2008/09/21/travel/21next.html?ref=travel\n",
      "https://web.archive.org/web/20170821125710/http://missjoaquim.com/jumlah-rumah-tangga-dan-rata-rata-anggota-rumah-tangga-menurut-kabupatenkota-di-provinsi-ntb-tahun-2008/\n",
      "http://missjoaquim.com/jumlah-rumah-tangga-dan-rata-rata-anggota-rumah-tangga-menurut-kabupatenkota-di-provinsi-ntb-tahun-2008/\n",
      "https://web.archive.org/web/20170821125710/http://missjoaquim.com/jumlah-rumah-tangga-dan-rata-rata-anggota-rumah-tangga-menurut-kabupatenkota-di-provinsi-ntb-tahun-2008/\n",
      "http://missjoaquim.com/jumlah-rumah-tangga-dan-rata-rata-anggota-rumah-tangga-menurut-kabupatenkota-di-provinsi-ntb-tahun-2008/\n",
      "http://www.antaranews.com/en/news/74276/lombok-international-airport-to-operate-soon\n",
      "http://news.bbc.co.uk/2/hi/events/indonesia/special_report/270462.stm\n",
      "https://www.usatoday.com/news/washington/2008-05-25-indonesia-travel_N.htm\n",
      "http://www.thejakartapost.com/news/2009/07/07/president-gives-full-support-tourism.html\n",
      "http://missjoaquim.com/lombok-sumbawa-eying-1-million-tourists-by-2012/\n",
      "http://www.thejakartapost.com/news/2009/07/06/an-invitation-lombok.html\n",
      "https://web.archive.org/web/20091229053342/http://www.airports.org/aci/aci/file/ADN%20-%20Momberger/ACI-ADN%20Dec%202005.pdf\n",
      "http://www.airports.org/aci/aci/file/ADN%20-%20Momberger/ACI-ADN%20Dec%202005.pdf\n",
      "https://web.archive.org/web/20111007174405/http://ntbprov.go.id/baca.php?berita=888\n",
      "http://ntbprov.go.id/baca.php?berita=888\n",
      "http://www.republika.co.id/berita/ekonomi/makro/14/02/09/n0pnp3-pelabuhan-lembar-ntb-tambah-dermaga-baru\n",
      "http://www.pelni.com\n",
      "https://web.archive.org/web/20110726053035/http://www.dutcheastindies.webs.com/index.html\n",
      "http://www.dutcheastindies.webs.com/index.html\n",
      "https://commons.wikimedia.org/wiki/Category:Lombok\n",
      "https://en.wikivoyage.org/wiki/Lombok#Q7564\n",
      "http://ntbprov.go.id/\n",
      "https://web.archive.org/web/20111001101358/http://collectie.tropenmuseum.nl/nBasicSearch.asp?showtype=icons&lang=en&type=simple&field1=*&operator1=is&searchfor1=lombok&sort=ccrelevance\n",
      "http://www.lombokindonesia.org\n",
      "https://web.archive.org/web/20121127201353/http://korindo-network.com/national-parks-in-indonesia/bali-and-nusa-tenggara-islands/gunung_rinjani_nationalpark.htm\n",
      "http://travel.nytimes.com/2008/09/21/travel/21next.html?ref=travel\n",
      "https://web.archive.org/web/20090218211403/http://www.theaustralian.news.com.au/business/story/0,28124,24800675-5018061,00.html\n",
      "https://web.archive.org/web/20170715185414/http://www.lombokutarakab.go.id/\n",
      "http://www.lomboktengahkab.go.id/\n",
      "http://www.lomboktimurkab.go.id/\n",
      "http://www.lombokbaratkab.go.id/\n",
      "https://www.webcitation.org/65cl7vbPU?url=http://www.mataramkota.go.id/\n",
      "https://www.rinjanidawnadventures.com/lombok-island-indonesia/\n",
      "https://en.wikipedia.org/w/index.php?title=Template:West_Nusa_Tenggara&action=edit\n",
      "https://www.wikidata.org/wiki/Q7564\n",
      "https://d-nb.info/gnd/4036297-8\n",
      "https://id.ndl.go.jp/auth/ndlna/00629499\n",
      "https://aleph.nkp.cz/F/?func=find-c&local_base=aut&ccl_term=ica=ge129865&CON_LNG=ENG\n",
      "https://viaf.org/viaf/315126258\n",
      "https://www.worldcat.org/identities/viaf-256243027\n",
      "https://en.wikipedia.org/w/index.php?title=Lombok&oldid=951131012\n",
      "https://donate.wikimedia.org/wiki/Special:FundraiserRedirector?utm_source=donate&utm_medium=sidebar&utm_campaign=C13_en.wikipedia.org&uselang=en\n",
      "https://www.wikidata.org/wiki/Special:EntityPage/Q7564\n",
      "https://commons.wikimedia.org/wiki/Category:Lombok\n",
      "https://en.wikivoyage.org/wiki/Lombok\n",
      "https://ace.wikipedia.org/wiki/Lombok\n",
      "https://ar.wikipedia.org/wiki/%D9%84%D9%88%D9%85%D8%A8%D9%88%D9%83\n",
      "https://ast.wikipedia.org/wiki/Lombok\n",
      "https://az.wikipedia.org/wiki/Lombok\n",
      "https://ban.wikipedia.org/wiki/Lombok\n",
      "https://bn.wikipedia.org/wiki/%E0%A6%B2%E0%A6%AE%E0%A7%8D%E0%A6%AC%E0%A6%95_(%E0%A6%A6%E0%A7%8D%E0%A6%AC%E0%A7%80%E0%A6%AA)\n",
      "https://bjn.wikipedia.org/wiki/Pulaw_Lombok\n",
      "https://zh-min-nan.wikipedia.org/wiki/Lombok\n",
      "https://be.wikipedia.org/wiki/%D0%9B%D0%B0%D0%BC%D0%B1%D0%BE%D0%BA\n",
      "https://bg.wikipedia.org/wiki/%D0%9B%D0%BE%D0%BC%D0%B1%D0%BE%D0%BA\n",
      "https://br.wikipedia.org/wiki/Lombok\n",
      "https://ca.wikipedia.org/wiki/Lombok\n",
      "https://ceb.wikipedia.org/wiki/Lombok_Island\n",
      "https://cs.wikipedia.org/wiki/Lombok\n",
      "https://cy.wikipedia.org/wiki/Lombok\n",
      "https://da.wikipedia.org/wiki/Lombok\n",
      "https://de.wikipedia.org/wiki/Lombok\n",
      "https://et.wikipedia.org/wiki/Lombok\n",
      "https://el.wikipedia.org/wiki/%CE%9B%CE%BF%CE%BC%CF%80%CF%8C%CE%BA\n",
      "https://es.wikipedia.org/wiki/Lombok\n",
      "https://eo.wikipedia.org/wiki/Lomboko\n",
      "https://eu.wikipedia.org/wiki/Lombok\n",
      "https://fa.wikipedia.org/wiki/%D9%84%D9%88%D9%85%D8%A8%D9%88%DA%A9\n",
      "https://fr.wikipedia.org/wiki/Lombok\n",
      "https://fy.wikipedia.org/wiki/Lombok_(eil%C3%A2n)\n",
      "https://gl.wikipedia.org/wiki/Lombok\n",
      "https://ko.wikipedia.org/wiki/%EB%A1%AC%EB%B3%B5%EC%84%AC\n",
      "https://hy.wikipedia.org/wiki/%D4%BC%D5%B8%D5%B4%D5%A2%D5%B8%D5%AF\n",
      "https://hi.wikipedia.org/wiki/%E0%A4%B2%E0%A5%8B%E0%A4%AE%E0%A5%8D%E0%A4%AC%E0%A5%8B%E0%A4%95\n",
      "https://id.wikipedia.org/wiki/Pulau_Lombok\n",
      "https://is.wikipedia.org/wiki/Lombok\n",
      "https://it.wikipedia.org/wiki/Lombok\n",
      "https://jv.wikipedia.org/wiki/Lombok\n",
      "https://ka.wikipedia.org/wiki/%E1%83%9A%E1%83%9D%E1%83%9B%E1%83%91%E1%83%9D%E1%83%99%E1%83%98\n",
      "https://sw.wikipedia.org/wiki/Lombok\n",
      "https://mrj.wikipedia.org/wiki/%D0%9B%D0%BE%D0%BC%D0%B1%D0%BE%D0%BA\n",
      "https://lt.wikipedia.org/wiki/Lombokas\n",
      "https://hu.wikipedia.org/wiki/Lombok\n",
      "https://mk.wikipedia.org/wiki/%D0%9B%D0%BE%D0%BC%D0%B1%D0%BE%D0%BA\n",
      "https://ml.wikipedia.org/wiki/%E0%B4%B2%E0%B5%8B%E0%B4%82%E0%B4%AC%E0%B5%8B%E0%B4%95%E0%B5%8D%E0%B4%95%E0%B5%8D\n",
      "https://ms.wikipedia.org/wiki/Lombok\n",
      "https://nl.wikipedia.org/wiki/Lombok_(eiland)\n",
      "https://ja.wikipedia.org/wiki/%E3%83%AD%E3%83%B3%E3%83%9C%E3%82%AF%E5%B3%B6\n",
      "https://no.wikipedia.org/wiki/Lombok\n",
      "https://nn.wikipedia.org/wiki/Lombok\n",
      "https://pl.wikipedia.org/wiki/Lombok\n",
      "https://pt.wikipedia.org/wiki/Lombok\n",
      "https://ru.wikipedia.org/wiki/%D0%9B%D0%BE%D0%BC%D0%B1%D0%BE%D0%BA\n",
      "https://sco.wikipedia.org/wiki/Lombok\n",
      "https://stq.wikipedia.org/wiki/Lombok\n",
      "https://simple.wikipedia.org/wiki/Lombok\n",
      "https://sr.wikipedia.org/wiki/%D0%9B%D0%BE%D0%BC%D0%B1%D0%BE%D0%BA\n",
      "https://su.wikipedia.org/wiki/Pulo_Lombok\n",
      "https://fi.wikipedia.org/wiki/Lombok\n",
      "https://sv.wikipedia.org/wiki/Lombok\n",
      "https://ta.wikipedia.org/wiki/%E0%AE%B2%E0%AF%8A%E0%AE%AE%E0%AF%8D%E0%AE%AA%E0%AF%8B\n",
      "https://th.wikipedia.org/wiki/%E0%B9%80%E0%B8%81%E0%B8%B2%E0%B8%B0%E0%B8%A5%E0%B8%A1%E0%B8%9A%E0%B8%81\n",
      "https://tr.wikipedia.org/wiki/Lombok\n",
      "https://uk.wikipedia.org/wiki/%D0%9B%D0%BE%D0%BC%D0%B1%D0%BE%D0%BA\n",
      "https://ur.wikipedia.org/wiki/%D9%84%D9%88%D9%85%D8%A8%D9%88%DA%A9\n",
      "https://vi.wikipedia.org/wiki/Lombok\n",
      "https://war.wikipedia.org/wiki/Lombok\n",
      "https://wuu.wikipedia.org/wiki/%E9%9A%86%E6%B3%A2%E5%B2%9B\n",
      "https://zh-yue.wikipedia.org/wiki/%E9%BE%8D%E7%9B%AE%E5%B3%B6\n",
      "https://zh.wikipedia.org/wiki/%E9%BE%99%E7%9B%AE%E5%B2%9B\n",
      "https://www.wikidata.org/wiki/Special:EntityPage/Q7564#sitelinks-wikipedia\n",
      "https://foundation.wikimedia.org/wiki/Privacy_policy\n",
      "https://www.mediawiki.org/wiki/Special:MyLanguage/How_to_contribute\n",
      "https://stats.wikimedia.org/#/en.wikipedia.org\n",
      "https://foundation.wikimedia.org/wiki/Cookie_statement\n",
      "https://wikimediafoundation.org/\n",
      "https://www.mediawiki.org/\n"
     ]
    }
   ],
   "source": [
    "for a in soup.find_all('a',href=True):\n",
    "    if(\"http\" in a['href']):\n",
    "        print(a['href'])"
   ]
  },
  {
   "cell_type": "code",
   "execution_count": 10,
   "metadata": {},
   "outputs": [],
   "source": [
    "f = open(\"sharelinkgan.txt\",'w')\n",
    "for a in soup.find_all('a',href=True):\n",
    "    if(\"http\" in a['href']):\n",
    "        f.write(a['href']+\"\\n\")"
   ]
  },
  {
   "cell_type": "code",
   "execution_count": 13,
   "metadata": {},
   "outputs": [
    {
     "name": "stdout",
     "output_type": "stream",
     "text": [
      "https://upload.wikimedia.org/wikipedia/commons/thumb/b/b2/South_Lombok.jpg/300px-South_Lombok.jpg\n",
      "https://upload.wikimedia.org/wikipedia/commons/thumb/4/4d/Lombok_Wedding_Party_1998.jpg/149px-Lombok_Wedding_Party_1998.jpg\n",
      "https://upload.wikimedia.org/wikipedia/commons/thumb/b/bd/Camping_above_the_clouds_at_Rinjani.jpg/149px-Camping_above_the_clouds_at_Rinjani.jpg\n",
      "https://upload.wikimedia.org/wikipedia/commons/thumb/7/7f/Senggigi_Beach_by_Pura_Batubolong.JPG/149px-Senggigi_Beach_by_Pura_Batubolong.JPG\n",
      "https://upload.wikimedia.org/wikipedia/commons/thumb/b/b1/Senaru_Waterfall.JPG/149px-Senaru_Waterfall.JPG\n",
      "https://upload.wikimedia.org/wikipedia/commons/thumb/a/ac/Lombok_Locator.svg/260px-Lombok_Locator.svg.png\n",
      "https://upload.wikimedia.org/wikipedia/commons/thumb/b/bd/Hoofden_van_Lombok%2C_1870-1890.jpg/220px-Hoofden_van_Lombok%2C_1870-1890.jpg\n",
      "https://upload.wikimedia.org/wikipedia/commons/thumb/3/39/75_ct_diamond_Lombok_treasure_Museum_Volkenkunde_Leiden.jpg/220px-75_ct_diamond_Lombok_treasure_Museum_Volkenkunde_Leiden.jpg\n",
      "https://upload.wikimedia.org/wikipedia/commons/thumb/6/6c/Lombok_1894_J._Hoynck_van_Papendrecht_1858_1933.jpg/220px-Lombok_1894_J._Hoynck_van_Papendrecht_1858_1933.jpg\n",
      "https://upload.wikimedia.org/wikipedia/commons/thumb/5/56/Joko_Widodo_Lombok_Earthquake_damage.jpg/220px-Joko_Widodo_Lombok_Earthquake_damage.jpg\n",
      "https://upload.wikimedia.org/wikipedia/commons/thumb/2/29/Gunung_Rinjani_from_Gili_Air_1.jpg/220px-Gunung_Rinjani_from_Gili_Air_1.jpg\n",
      "https://upload.wikimedia.org/wikipedia/commons/thumb/d/df/Mt_Rinjani_and_segara_anak_lake.jpg/220px-Mt_Rinjani_and_segara_anak_lake.jpg\n",
      "https://upload.wikimedia.org/wikipedia/commons/thumb/4/44/Traditional_Sasak_Village_Sade_houses.JPG/220px-Traditional_Sasak_Village_Sade_houses.JPG\n",
      "https://upload.wikimedia.org/wikipedia/commons/thumb/f/fe/LombokBayan.JPG/220px-LombokBayan.JPG\n",
      "https://upload.wikimedia.org/wikipedia/commons/thumb/f/f0/Pura_Meru.jpg/220px-Pura_Meru.jpg\n",
      "https://upload.wikimedia.org/wikipedia/commons/thumb/6/65/TanjungBuddhTemple.JPG/220px-TanjungBuddhTemple.JPG\n",
      "https://upload.wikimedia.org/wikipedia/commons/thumb/4/48/COLLECTIE_TROPENMUSEUM_Lombokkers_in_feesttenue_voeren_een_traditionele_krijgsdans_uit._TMnr_60004285.jpg/220px-COLLECTIE_TROPENMUSEUM_Lombokkers_in_feesttenue_voeren_een_traditionele_krijgsdans_uit._TMnr_60004285.jpg\n",
      "https://upload.wikimedia.org/wikipedia/commons/thumb/c/c9/Sasak1.jpg/220px-Sasak1.jpg\n",
      "https://upload.wikimedia.org/wikipedia/commons/thumb/a/a4/Lombok_Traditional_Hand_Weaving.jpg/133px-Lombok_Traditional_Hand_Weaving.jpg\n",
      "https://upload.wikimedia.org/wikipedia/commons/thumb/d/df/Gili_Islands_%26_Gunung_Rinjiani%2C_Lombok%2C_Indonesia.jpg/147px-Gili_Islands_%26_Gunung_Rinjiani%2C_Lombok%2C_Indonesia.jpg\n",
      "https://upload.wikimedia.org/wikipedia/commons/thumb/9/99/Manta_ray_Biorock_reef.jpg/200px-Manta_ray_Biorock_reef.jpg\n",
      "https://upload.wikimedia.org/wikipedia/commons/thumb/3/3a/Kuta_Lombok_Mawun_Beach.JPG/200px-Kuta_Lombok_Mawun_Beach.JPG\n",
      "https://upload.wikimedia.org/wikipedia/commons/thumb/7/77/LabuhanLombokHarbour.JPG/200px-LabuhanLombokHarbour.JPG\n",
      "https://upload.wikimedia.org/wikipedia/commons/thumb/f/f9/Lombok_International_Airport.jpg/220px-Lombok_International_Airport.jpg\n",
      "https://upload.wikimedia.org/wikipedia/commons/thumb/9/9f/Flag_of_Indonesia.svg/32px-Flag_of_Indonesia.svg.png\n",
      "https://upload.wikimedia.org/wikipedia/en/thumb/4/4a/Commons-logo.svg/30px-Commons-logo.svg.png\n",
      "https://upload.wikimedia.org/wikipedia/commons/thumb/d/dd/Wikivoyage-Logo-v3-icon.svg/40px-Wikivoyage-Logo-v3-icon.svg.png\n",
      "https://upload.wikimedia.org/wikipedia/commons/thumb/5/51/Coat_of_arms_of_West_Nusa_Tenggara.svg/30px-Coat_of_arms_of_West_Nusa_Tenggara.svg.png\n",
      "https://upload.wikimedia.org/wikipedia/en/thumb/8/8a/OOjs_UI_icon_edit-ltr-progressive.svg/10px-OOjs_UI_icon_edit-ltr-progressive.svg.png\n",
      "https://en.wikipedia.org/wiki/Special:CentralAutoLogin/start?type=1x1\n",
      "https:/static/images/wikimedia-button.png\n",
      "https:/static/images/poweredby_mediawiki_88x31.png\n"
     ]
    }
   ],
   "source": [
    "for img in soup.find_all('img',src=True):\n",
    "    print (\"https:\"+img['src'])"
   ]
  },
  {
   "cell_type": "code",
   "execution_count": 14,
   "metadata": {},
   "outputs": [],
   "source": [
    "import urllib.request"
   ]
  },
  {
   "cell_type": "code",
   "execution_count": 15,
   "metadata": {},
   "outputs": [
    {
     "name": "stdout",
     "output_type": "stream",
     "text": [
      "300px-South_Lombok.jpg sukses\n",
      "149px-Lombok_Wedding_Party_1998.jpg sukses\n",
      "149px-Camping_above_the_clouds_at_Rinjani.jpg sukses\n",
      "149px-Senggigi_Beach_by_Pura_Batubolong.JPG sukses\n",
      "149px-Senaru_Waterfall.JPG sukses\n",
      "260px-Lombok_Locator.svg.png sukses\n",
      "220px-Hoofden_van_Lombok%2C_1870-1890.jpg sukses\n",
      "220px-75_ct_diamond_Lombok_treasure_Museum_Volkenkunde_Leiden.jpg sukses\n",
      "220px-Lombok_1894_J._Hoynck_van_Papendrecht_1858_1933.jpg sukses\n",
      "220px-Joko_Widodo_Lombok_Earthquake_damage.jpg sukses\n",
      "220px-Gunung_Rinjani_from_Gili_Air_1.jpg sukses\n",
      "220px-Mt_Rinjani_and_segara_anak_lake.jpg sukses\n",
      "220px-Traditional_Sasak_Village_Sade_houses.JPG sukses\n",
      "220px-LombokBayan.JPG sukses\n",
      "220px-Pura_Meru.jpg sukses\n",
      "220px-TanjungBuddhTemple.JPG sukses\n",
      "220px-COLLECTIE_TROPENMUSEUM_Lombokkers_in_feesttenue_voeren_een_traditionele_krijgsdans_uit._TMnr_60004285.jpg sukses\n",
      "220px-Sasak1.jpg sukses\n",
      "133px-Lombok_Traditional_Hand_Weaving.jpg sukses\n",
      "147px-Gili_Islands_%26_Gunung_Rinjiani%2C_Lombok%2C_Indonesia.jpg sukses\n",
      "200px-Manta_ray_Biorock_reef.jpg sukses\n",
      "200px-Kuta_Lombok_Mawun_Beach.JPG sukses\n",
      "200px-LabuhanLombokHarbour.JPG sukses\n",
      "220px-Lombok_International_Airport.jpg sukses\n",
      "32px-Flag_of_Indonesia.svg.png sukses\n",
      "30px-Commons-logo.svg.png sukses\n",
      "40px-Wikivoyage-Logo-v3-icon.svg.png sukses\n",
      "30px-Coat_of_arms_of_West_Nusa_Tenggara.svg.png sukses\n",
      "10px-OOjs_UI_icon_edit-ltr-progressive.svg.png sukses\n",
      "wikimedia-button.png gagal\n",
      "wikimedia-button.png sukses\n",
      "poweredby_mediawiki_88x31.png gagal\n",
      "poweredby_mediawiki_88x31.png sukses\n"
     ]
    }
   ],
   "source": [
    "fileformat = [\".jpg\",\".jpeg\",\".JPG\",\".png\"]\n",
    "for img in soup.find_all('img',src=True):\n",
    "    imgdata = img['src'].split(\"/\")\n",
    "    if any(x in imgdata[-1] for x in fileformat):\n",
    "        #print(imgdata[-1])\n",
    "        try:\n",
    "            urllib.request.urlretrieve(\"https:\"+img['src'],\"img/\"+imgdata[-1])\n",
    "        except:\n",
    "            print(imgdata[-1]+\" gagal\")\n",
    "        finally:\n",
    "            print(imgdata[-1]+\" sukses\")"
   ]
  },
  {
   "cell_type": "code",
   "execution_count": null,
   "metadata": {},
   "outputs": [],
   "source": []
  }
 ],
 "metadata": {
  "kernelspec": {
   "display_name": "Python 3",
   "language": "python",
   "name": "python3"
  },
  "language_info": {
   "codemirror_mode": {
    "name": "ipython",
    "version": 3
   },
   "file_extension": ".py",
   "mimetype": "text/x-python",
   "name": "python",
   "nbconvert_exporter": "python",
   "pygments_lexer": "ipython3",
   "version": "3.7.3"
  }
 },
 "nbformat": 4,
 "nbformat_minor": 2
}
