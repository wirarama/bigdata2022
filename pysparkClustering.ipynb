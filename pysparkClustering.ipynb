{
 "cells": [
  {
   "cell_type": "code",
   "execution_count": 10,
   "metadata": {},
   "outputs": [],
   "source": [
    "from pyspark.sql import SparkSession"
   ]
  },
  {
   "cell_type": "code",
   "execution_count": 11,
   "metadata": {},
   "outputs": [],
   "source": [
    "spark = SparkSession.builder.appName(\"pysparkClustering\").getOrCreate()"
   ]
  },
  {
   "cell_type": "code",
   "execution_count": 12,
   "metadata": {},
   "outputs": [],
   "source": [
    "df = spark.read.csv('vgsales.csv',inferSchema=True,header='true')"
   ]
  },
  {
   "cell_type": "code",
   "execution_count": 13,
   "metadata": {},
   "outputs": [
    {
     "data": {
      "text/plain": [
       "['Rank',\n",
       " 'Name',\n",
       " 'Platform',\n",
       " 'Year',\n",
       " 'Genre',\n",
       " 'Publisher',\n",
       " 'NA_Sales',\n",
       " 'EU_Sales',\n",
       " 'JP_Sales',\n",
       " 'Other_Sales',\n",
       " 'Global_Sales']"
      ]
     },
     "execution_count": 13,
     "metadata": {},
     "output_type": "execute_result"
    }
   ],
   "source": [
    "df.columns"
   ]
  },
  {
   "cell_type": "code",
   "execution_count": 14,
   "metadata": {},
   "outputs": [],
   "source": [
    "from pyspark.ml.feature import VectorAssembler\n",
    "assembler = VectorAssembler(inputCols=['NA_Sales','EU_Sales','JP_Sales'],\n",
    "                            outputCol='features')\n",
    "data = assembler.transform(df)"
   ]
  },
  {
   "cell_type": "markdown",
   "metadata": {},
   "source": [
    "K-Means"
   ]
  },
  {
   "cell_type": "code",
   "execution_count": 15,
   "metadata": {},
   "outputs": [
    {
     "name": "stderr",
     "output_type": "stream",
     "text": [
      "                                                                                \r"
     ]
    },
    {
     "name": "stdout",
     "output_type": "stream",
     "text": [
      "22/11/15 14:47:13 WARN InstanceBuilder$JavaBLAS: Failed to load implementation from:dev.ludovic.netlib.blas.VectorBLAS\n"
     ]
    }
   ],
   "source": [
    "from pyspark.ml.clustering import KMeans\n",
    "kmeans = KMeans().setK(2).setSeed(1)\n",
    "model = kmeans.fit(data)"
   ]
  },
  {
   "cell_type": "code",
   "execution_count": 16,
   "metadata": {},
   "outputs": [],
   "source": [
    "predictions = model.transform(data)"
   ]
  },
  {
   "cell_type": "code",
   "execution_count": 17,
   "metadata": {},
   "outputs": [
    {
     "data": {
      "text/html": [
       "<div>\n",
       "<style scoped>\n",
       "    .dataframe tbody tr th:only-of-type {\n",
       "        vertical-align: middle;\n",
       "    }\n",
       "\n",
       "    .dataframe tbody tr th {\n",
       "        vertical-align: top;\n",
       "    }\n",
       "\n",
       "    .dataframe thead th {\n",
       "        text-align: right;\n",
       "    }\n",
       "</style>\n",
       "<table border=\"1\" class=\"dataframe\">\n",
       "  <thead>\n",
       "    <tr style=\"text-align: right;\">\n",
       "      <th></th>\n",
       "      <th>features</th>\n",
       "      <th>prediction</th>\n",
       "    </tr>\n",
       "  </thead>\n",
       "  <tbody>\n",
       "    <tr>\n",
       "      <th>0</th>\n",
       "      <td>[41.49, 29.02, 3.77]</td>\n",
       "      <td>1</td>\n",
       "    </tr>\n",
       "    <tr>\n",
       "      <th>1</th>\n",
       "      <td>[29.08, 3.58, 6.81]</td>\n",
       "      <td>1</td>\n",
       "    </tr>\n",
       "    <tr>\n",
       "      <th>2</th>\n",
       "      <td>[15.85, 12.88, 3.79]</td>\n",
       "      <td>1</td>\n",
       "    </tr>\n",
       "    <tr>\n",
       "      <th>3</th>\n",
       "      <td>[15.75, 11.01, 3.28]</td>\n",
       "      <td>1</td>\n",
       "    </tr>\n",
       "    <tr>\n",
       "      <th>4</th>\n",
       "      <td>[11.27, 8.89, 10.22]</td>\n",
       "      <td>1</td>\n",
       "    </tr>\n",
       "    <tr>\n",
       "      <th>...</th>\n",
       "      <td>...</td>\n",
       "      <td>...</td>\n",
       "    </tr>\n",
       "    <tr>\n",
       "      <th>16593</th>\n",
       "      <td>[0.01, 0.0, 0.0]</td>\n",
       "      <td>0</td>\n",
       "    </tr>\n",
       "    <tr>\n",
       "      <th>16594</th>\n",
       "      <td>[0.01, 0.0, 0.0]</td>\n",
       "      <td>0</td>\n",
       "    </tr>\n",
       "    <tr>\n",
       "      <th>16595</th>\n",
       "      <td>(0.0, 0.0, 0.0)</td>\n",
       "      <td>0</td>\n",
       "    </tr>\n",
       "    <tr>\n",
       "      <th>16596</th>\n",
       "      <td>[0.0, 0.01, 0.0]</td>\n",
       "      <td>0</td>\n",
       "    </tr>\n",
       "    <tr>\n",
       "      <th>16597</th>\n",
       "      <td>[0.01, 0.0, 0.0]</td>\n",
       "      <td>0</td>\n",
       "    </tr>\n",
       "  </tbody>\n",
       "</table>\n",
       "<p>16598 rows × 2 columns</p>\n",
       "</div>"
      ],
      "text/plain": [
       "                   features  prediction\n",
       "0      [41.49, 29.02, 3.77]           1\n",
       "1       [29.08, 3.58, 6.81]           1\n",
       "2      [15.85, 12.88, 3.79]           1\n",
       "3      [15.75, 11.01, 3.28]           1\n",
       "4      [11.27, 8.89, 10.22]           1\n",
       "...                     ...         ...\n",
       "16593      [0.01, 0.0, 0.0]           0\n",
       "16594      [0.01, 0.0, 0.0]           0\n",
       "16595       (0.0, 0.0, 0.0)           0\n",
       "16596      [0.0, 0.01, 0.0]           0\n",
       "16597      [0.01, 0.0, 0.0]           0\n",
       "\n",
       "[16598 rows x 2 columns]"
      ]
     },
     "execution_count": 17,
     "metadata": {},
     "output_type": "execute_result"
    }
   ],
   "source": [
    "predictions.select('features','prediction').toPandas()"
   ]
  },
  {
   "cell_type": "code",
   "execution_count": 18,
   "metadata": {},
   "outputs": [],
   "source": [
    "from pyspark.ml.evaluation import ClusteringEvaluator\n",
    "evaluator = ClusteringEvaluator()"
   ]
  },
  {
   "cell_type": "code",
   "execution_count": 19,
   "metadata": {},
   "outputs": [
    {
     "name": "stderr",
     "output_type": "stream",
     "text": [
      "[Stage 34:>                                                         (0 + 1) / 1]\r"
     ]
    },
    {
     "name": "stdout",
     "output_type": "stream",
     "text": [
      "Silhouette with squared euclidean distance = 0.9897711078246284\n"
     ]
    },
    {
     "name": "stderr",
     "output_type": "stream",
     "text": [
      "                                                                                \r"
     ]
    }
   ],
   "source": [
    "silhouette = evaluator.evaluate(predictions)\n",
    "print(\"Silhouette with squared euclidean distance = \" + str(silhouette))"
   ]
  },
  {
   "cell_type": "code",
   "execution_count": 20,
   "metadata": {},
   "outputs": [
    {
     "name": "stdout",
     "output_type": "stream",
     "text": [
      "Cluster Centers: \n",
      "[0.22725259 0.12562678 0.06796683]\n",
      "[8.29233766 4.65779221 2.18363636]\n"
     ]
    }
   ],
   "source": [
    "centers = model.clusterCenters()\n",
    "print(\"Cluster Centers: \")\n",
    "for center in centers:\n",
    "    print(center)"
   ]
  },
  {
   "cell_type": "markdown",
   "metadata": {},
   "source": [
    "Latent Dirichlet allocation (LDA)"
   ]
  },
  {
   "cell_type": "code",
   "execution_count": 21,
   "metadata": {},
   "outputs": [
    {
     "name": "stdout",
     "output_type": "stream",
     "text": [
      "22/11/15 14:49:41 WARN BLAS: Failed to load implementation from: com.github.fommil.netlib.NativeSystemBLAS\n",
      "22/11/15 14:49:41 WARN BLAS: Failed to load implementation from: com.github.fommil.netlib.NativeRefBLAS\n"
     ]
    },
    {
     "name": "stderr",
     "output_type": "stream",
     "text": [
      "[Stage 61:>                                                         (0 + 1) / 1]\r"
     ]
    },
    {
     "name": "stdout",
     "output_type": "stream",
     "text": [
      "The lower bound on the log likelihood of the entire corpus: -24622.30020124194\n",
      "The upper bound on perplexity: 3.033012675532467\n"
     ]
    },
    {
     "name": "stderr",
     "output_type": "stream",
     "text": [
      "                                                                                \r"
     ]
    }
   ],
   "source": [
    "from pyspark.ml.clustering import LDA\n",
    "lda = LDA(k=10, maxIter=10)\n",
    "model = lda.fit(data)\n",
    "\n",
    "ll = model.logLikelihood(data)\n",
    "lp = model.logPerplexity(data)\n",
    "print(\"The lower bound on the log likelihood of the entire corpus: \" + str(ll))\n",
    "print(\"The upper bound on perplexity: \" + str(lp))"
   ]
  },
  {
   "cell_type": "code",
   "execution_count": 22,
   "metadata": {},
   "outputs": [
    {
     "name": "stdout",
     "output_type": "stream",
     "text": [
      "The topics described by their top-weighted terms:\n",
      "+-----+-----------+---------------------------------------------------------------+\n",
      "|topic|termIndices|termWeights                                                    |\n",
      "+-----+-----------+---------------------------------------------------------------+\n",
      "|0    |[1, 0, 2]  |[0.41746819670526303, 0.3131474002822913, 0.2693844030124456]  |\n",
      "|1    |[0, 1, 2]  |[0.5865550790726876, 0.32580128898367317, 0.08764363194363914] |\n",
      "|2    |[0, 1, 2]  |[0.47301832196525845, 0.28837732540307354, 0.23860435263166802]|\n",
      "|3    |[2, 0, 1]  |[0.7679153806742391, 0.16033685956518687, 0.07174775976057397] |\n",
      "|4    |[0, 1, 2]  |[0.4450961169184822, 0.34219381815582833, 0.21271006492568945] |\n",
      "|5    |[1, 0, 2]  |[0.3705681778685268, 0.3334520465714339, 0.2959797755600394]   |\n",
      "|6    |[1, 0, 2]  |[0.592559576228003, 0.3333169520817513, 0.0741234716902456]    |\n",
      "|7    |[0, 1, 2]  |[0.45155987461136604, 0.3238583221299792, 0.22458180325865476] |\n",
      "|8    |[0, 1, 2]  |[0.7377112599580627, 0.24545023527961218, 0.0168385047623251]  |\n",
      "|9    |[0, 1, 2]  |[0.4629898759335207, 0.2747110628043134, 0.262299061262166]    |\n",
      "+-----+-----------+---------------------------------------------------------------+\n",
      "\n"
     ]
    }
   ],
   "source": [
    "topics = model.describeTopics(3)\n",
    "print(\"The topics described by their top-weighted terms:\")\n",
    "topics.show(truncate=False)"
   ]
  },
  {
   "cell_type": "code",
   "execution_count": 23,
   "metadata": {},
   "outputs": [
    {
     "name": "stdout",
     "output_type": "stream",
     "text": [
      "+----+--------------------------------------------+--------+----+------------+----------------------+--------+--------+--------+-----------+------------+------------------+------------------------------------------------------------------------------------------------------------------------------------------------------------------------------------------------------------------------+\n",
      "|Rank|Name                                        |Platform|Year|Genre       |Publisher             |NA_Sales|EU_Sales|JP_Sales|Other_Sales|Global_Sales|features          |topicDistribution                                                                                                                                                                                                       |\n",
      "+----+--------------------------------------------+--------+----+------------+----------------------+--------+--------+--------+-----------+------------+------------------+------------------------------------------------------------------------------------------------------------------------------------------------------------------------------------------------------------------------+\n",
      "|1   |Wii Sports                                  |Wii     |2006|Sports      |Nintendo              |41.49   |29.02   |3.77    |8.46       |82.74       |[41.49,29.02,3.77]|[0.0013179817182508006,0.0013388457149649923,0.0013182420057286483,0.0013673875247435239,0.0013181706095421067,0.0013179361479205808,0.4411831206226456,0.001318146787627801,0.5482020708442057,0.0013180980243703332]  |\n",
      "|2   |Super Mario Bros.                           |NES     |1985|Platform    |Nintendo              |29.08   |3.58    |6.81    |0.77       |40.24       |[29.08,3.58,6.81] |[0.0024512632275747043,0.002490128985181881,0.002451823688969777,0.19866389071657084,0.0024516691046136104,0.0024511976074123964,0.0025092830974631415,0.0024516321258970996,0.7816275528755521,0.002451558570764481]   |\n",
      "|3   |Mario Kart Wii                              |Wii     |2008|Racing      |Nintendo              |15.85   |12.88   |3.79    |3.31       |35.82       |[15.85,12.88,3.79]|[0.002959581290129808,0.9729074335315554,0.002960110328573571,0.0030705731889712723,0.0029599625049754295,0.0029594685970946487,0.003029829572582924,0.0029599052248916228,0.0032333480318227003,0.0029597877294025043] |\n",
      "|4   |Wii Sports Resort                           |Wii     |2009|Sports      |Nintendo              |15.75   |11.01   |3.28    |2.96       |33.0        |[15.75,11.01,3.28]|[0.0031959452356319696,0.9707435793359153,0.0031965397496932805,0.0033157534964623247,0.0031963760220452783,0.0031958268359533006,0.0032718138286944643,0.00319631532534546,0.0034916597661208987,0.0031961904041377855]|\n",
      "|5   |Pokemon Red/Pokemon Blue                    |GB      |1996|Role-Playing|Nintendo              |11.27   |8.89    |10.22   |1.0        |31.37       |[11.27,8.89,10.22]|[0.0031612809156156343,0.0032113597391526783,0.003161912260596005,0.39144968358740895,0.003161747124178953,0.0031611655235313455,0.3378475456859311,0.003161687383765979,0.24852205600934552,0.003161561770473676]      |\n",
      "|6   |Tetris                                      |GB      |1989|Puzzle      |Nintendo              |23.2    |2.26    |4.22    |0.58       |30.26       |[23.2,2.26,4.22]  |[0.003233226136581403,0.0032845011729949786,0.0032339788158478947,0.15740438687754787,0.0032337686645018578,0.003233145161716968,0.0033097263465024875,0.003233722080694218,0.8165999137181776,0.003233631025434711]    |\n",
      "|7   |New Super Mario Bros.                       |DS      |2006|Platform    |Nintendo              |11.38   |9.23    |6.5     |2.9        |30.01       |[11.38,9.23,6.5]  |[0.003528915969875869,0.0035848121809054397,0.003529619336168625,0.25687485522221004,0.0035294339245472385,0.003528788219949956,0.4072852527471474,0.0035293676902615713,0.31107972570896814,0.0035292289999657414]     |\n",
      "|8   |Wii Play                                    |Wii     |2006|Misc        |Nintendo              |14.03   |9.2     |2.93    |2.85       |29.02       |[14.03,9.2,2.93]  |[0.0036523569110037844,0.9665654367391506,0.003653045427202933,0.0037893192727932136,0.0036528540177971007,0.0036522254026994322,0.0037390072284385237,0.00365278613735539,0.003990321402475396,0.003652647461083686]   |\n",
      "|9   |New Super Mario Bros. Wii                   |Wii     |2009|Platform    |Nintendo              |14.59   |7.06    |4.7     |2.26       |28.62       |[14.59,7.06,4.7]  |[0.0036270218882712714,0.003684417557398617,0.003627680944673137,0.20770319680527077,0.003627510220610245,0.0036268733129063246,0.0037131599644065305,0.003627435543332604,0.7631354268911362,0.00362727687199435]      |\n",
      "|10  |Duck Hunt                                   |NES     |1984|Shooter     |Nintendo              |26.93   |0.63    |0.28    |0.47       |28.31       |[26.93,0.63,0.28] |[0.0034392789415693572,0.0034939023158227856,0.0034401433109640255,0.003567901399079482,0.0034399172198069437,0.003439194322278526,0.0035206286578182916,0.0034398678717433894,0.9687793998158506,0.003439766145066603] |\n",
      "|11  |Nintendogs                                  |DS      |2005|Simulation  |Nintendo              |9.07    |11.0    |1.93    |2.75       |24.76       |[9.07,11.0,1.93]  |[0.004312675169791553,0.004381072530433854,0.004313601072351373,0.004474363088724359,0.004313349539794999,0.004312539983213262,0.9605536791501291,0.004313276498348447,0.004712314700822329,0.0043131282663906425]      |\n",
      "|12  |Mario Kart DS                               |DS      |2005|Racing      |Nintendo              |9.81    |7.57    |4.13    |1.92       |23.42       |[9.81,7.57,4.13]  |[0.0044065067605589,0.004476294991139596,0.004407380349914099,0.19122819339442979,0.0044071477842713615,0.004406348253512996,0.4009351803204751,0.0044070655214539295,0.37691898842554206,0.0044068941987022]           |\n",
      "|13  |Pokemon Gold/Pokemon Silver                 |GB      |1999|Role-Playing|Nintendo              |9.0     |6.18    |7.2     |0.71       |23.1        |[9.0,6.18,7.2]    |[0.00424260287035388,0.004309796246987596,0.004243432206305702,0.375094901721138,0.004243215803603832,0.004242443439497954,0.2472486723714961,0.004243133882061548,0.3478888402842543,0.004242961174301027]             |\n",
      "|14  |Wii Fit                                     |Wii     |2007|Sports      |Nintendo              |8.94    |8.03    |3.6     |2.15       |22.72       |[8.94,8.03,3.6]   |[0.0045984608747667,0.0046713081639566,0.004599389387201665,0.15618017339490403,0.004599140141410303,0.004598301048703331,0.5353632465707272,0.0045990564244291765,0.2761920406398341,0.004598883354066888]             |\n",
      "|15  |Wii Fit Plus                                |Wii     |2009|Sports      |Nintendo              |9.09    |8.59    |2.53    |1.79       |22.0        |[9.09,8.59,2.53]  |[0.004676602632444378,0.004750765620637562,0.004677637038628711,0.004852594299581812,0.004677329819734321,0.004676486762542499,0.9572240059154888,0.004677262858277825,0.005110175075008056,0.004677139977656066]       |\n",
      "|16  |Kinect Adventures!                          |X360    |2010|Misc        |Microsoft Game Studios|14.97   |4.94    |0.24    |1.67       |21.82       |[14.97,4.94,0.24] |[0.004689622473626696,0.004763965440576945,0.004690564192433302,0.004864827730783003,0.004690330859959706,0.004689440841869661,0.0048009226321042925,0.0046902379921319156,0.9574300508027068,0.004690037033807745]     |\n",
      "|17  |Grand Theft Auto V                          |PS3     |2013|Action      |Take-Two Interactive  |7.01    |9.27    |0.97    |4.14       |21.4        |[7.01,9.27,0.97]  |[0.005434509531750367,0.00552075999998254,0.00543567746093989,0.00563763515464013,0.00543538636789574,0.005434315217956058,0.9502928455996226,0.005435284501293681,0.005938520347970407,0.005435065817948434]           |\n",
      "|18  |Grand Theft Auto: San Andreas               |PS2     |2004|Action      |Take-Two Interactive  |9.43    |0.4     |0.41    |10.57      |20.81       |[9.43,0.4,0.41]   |[0.00882137488965148,0.00896098486384468,0.008823423114875642,0.009155495593544644,0.00882271562400652,0.008821277623074997,0.00902955147313308,0.008822639092167392,0.9199199822342833,0.008822555491418197]           |\n",
      "|19  |Super Mario World                           |SNES    |1990|Platform    |Nintendo              |12.78   |3.75    |3.54    |0.55       |20.61       |[12.78,3.75,3.54] |[0.00470748621264589,0.0047822213821624845,0.004708442338494158,0.20062898530002427,0.00470818443310663,0.004707325592035124,0.004819110326981899,0.00470810001582869,0.761522218467336,0.004707925931384829]           |\n",
      "|20  |Brain Age: Train Your Brain in Minutes a Day|DS      |2005|Misc        |Nintendo              |4.75    |9.26    |4.16    |2.05       |20.22       |[4.75,9.26,4.16]  |[0.005173885177086515,0.0052557352088955555,0.005174866038350056,0.19833553722977101,0.005174600916500564,0.005173693492231865,0.7597102407688486,0.0051745025606727245,0.005652640372252464,0.005174298235390868]      |\n",
      "+----+--------------------------------------------+--------+----+------------+----------------------+--------+--------+--------+-----------+------------+------------------+------------------------------------------------------------------------------------------------------------------------------------------------------------------------------------------------------------------------+\n",
      "only showing top 20 rows\n",
      "\n"
     ]
    }
   ],
   "source": [
    "transformed = model.transform(data)\n",
    "transformed.show(truncate=False)"
   ]
  },
  {
   "cell_type": "markdown",
   "metadata": {},
   "source": [
    "Gaussian Mixture Model (GMM)"
   ]
  },
  {
   "cell_type": "code",
   "execution_count": 24,
   "metadata": {},
   "outputs": [
    {
     "name": "stdout",
     "output_type": "stream",
     "text": [
      "22/11/15 14:50:52 WARN LAPACK: Failed to load implementation from: com.github.fommil.netlib.NativeSystemLAPACK\n",
      "22/11/15 14:50:52 WARN LAPACK: Failed to load implementation from: com.github.fommil.netlib.NativeRefLAPACK\n"
     ]
    },
    {
     "name": "stderr",
     "output_type": "stream",
     "text": [
      "[Stage 65:>                                                         (0 + 1) / 1]\r"
     ]
    },
    {
     "name": "stdout",
     "output_type": "stream",
     "text": [
      "22/11/15 14:50:53 WARN InstanceBuilder$NativeBLAS: Failed to load implementation from:dev.ludovic.netlib.blas.JNIBLAS\n",
      "22/11/15 14:50:53 WARN InstanceBuilder$NativeBLAS: Failed to load implementation from:dev.ludovic.netlib.blas.ForeignLinkerBLAS\n"
     ]
    },
    {
     "name": "stderr",
     "output_type": "stream",
     "text": [
      "                                                                                \r"
     ]
    }
   ],
   "source": [
    "from pyspark.ml.clustering import GaussianMixture\n",
    "gmm = GaussianMixture().setK(2).setSeed(538009335)\n",
    "model = gmm.fit(data)"
   ]
  },
  {
   "cell_type": "code",
   "execution_count": 25,
   "metadata": {},
   "outputs": [
    {
     "name": "stdout",
     "output_type": "stream",
     "text": [
      "Gaussians shown as a DataFrame: \n",
      "+-------------------------------------------------------------+----------------------------------------------------------------------------------------------------------------------------------------------------------------------------------------------------------+\n",
      "|mean                                                         |cov                                                                                                                                                                                                       |\n",
      "+-------------------------------------------------------------+----------------------------------------------------------------------------------------------------------------------------------------------------------------------------------------------------------+\n",
      "|[0.16734408828256747,0.08257419072082968,0.03442008954599476]|0.20390518066846927   0.08425647918484716   0.023909633075897767  \\n0.08425647918484716   0.06230993349184427   0.012639020881452995  \\n0.023909633075897767  0.012639020881452995  0.014652479156781393  |\n",
      "|[1.4828249035134367,0.948688482602826,0.6205211598027919]    |4.859977653828269   2.17280698940541     0.5223368979638543   \\n2.17280698940541    1.9770960446191157   0.29191017581273626  \\n0.5223368979638543  0.29191017581273626  0.7914302757532451               |\n",
      "+-------------------------------------------------------------+----------------------------------------------------------------------------------------------------------------------------------------------------------------------------------------------------------+\n",
      "\n"
     ]
    }
   ],
   "source": [
    "print(\"Gaussians shown as a DataFrame: \")\n",
    "model.gaussiansDF.show(truncate=False)"
   ]
  },
  {
   "cell_type": "code",
   "execution_count": null,
   "metadata": {},
   "outputs": [],
   "source": []
  }
 ],
 "metadata": {
  "kernelspec": {
   "display_name": "Python 3 (ipykernel)",
   "language": "python",
   "name": "python3"
  },
  "language_info": {
   "codemirror_mode": {
    "name": "ipython",
    "version": 3
   },
   "file_extension": ".py",
   "mimetype": "text/x-python",
   "name": "python",
   "nbconvert_exporter": "python",
   "pygments_lexer": "ipython3",
   "version": "3.9.12"
  }
 },
 "nbformat": 4,
 "nbformat_minor": 4
}
