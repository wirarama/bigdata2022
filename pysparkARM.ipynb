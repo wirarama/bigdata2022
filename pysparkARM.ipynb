{
 "cells": [
  {
   "cell_type": "code",
   "execution_count": 1,
   "metadata": {},
   "outputs": [],
   "source": [
    "from pyspark.sql.types import StructType,StructField,IntegerType,StringType,DoubleType"
   ]
  },
  {
   "cell_type": "code",
   "execution_count": 2,
   "metadata": {},
   "outputs": [],
   "source": [
    "from pyspark.ml.feature import StringIndexer\n",
    "from pyspark.ml import Pipeline"
   ]
  },
  {
   "cell_type": "code",
   "execution_count": 3,
   "metadata": {},
   "outputs": [],
   "source": [
    "spark = SparkSession.builder.appName(\"pysparkARM\").getOrCreate()"
   ]
  },
  {
   "cell_type": "code",
   "execution_count": null,
   "metadata": {},
   "outputs": [],
   "source": [
    "schema = StructType([\n",
    "        StructField('Rank', IntegerType(), True),\n",
    "        StructField('Name', StringType(), True),\n",
    "        StructField('Platform', StringType(), True),\n",
    "        StructField('Year', IntegerType(), True),\n",
    "    StructField('Genre', StringType(), True),\n",
    "    StructField('Publisher', StringType(), True),\n",
    "    StructField('NA_Sales', DoubleType(), True),\n",
    "    StructField('EU_Sales', DoubleType(), True),\n",
    "    StructField('JP_Sales', DoubleType(), True),\n",
    "    StructField('Other_Sales', DoubleType(), True),\n",
    "    StructField('Global_Sales', DoubleType(), True)\n",
    "        ])"
   ]
  },
  {
   "cell_type": "code",
   "execution_count": 4,
   "metadata": {},
   "outputs": [],
   "source": [
    "df = spark.read.csv('vgsales.csv',inferSchema=True,header='true')"
   ]
  },
  {
   "cell_type": "code",
   "execution_count": null,
   "metadata": {},
   "outputs": [],
   "source": [
    "indexers = [StringIndexer(inputCol=column, outputCol=column+\"_index\").fit(df) \n",
    "            for column in list([\"Genre\",\"Publisher\",\"Platform\"]) ]\n",
    "pipeline = Pipeline(stages=indexers)\n",
    "df = pipeline.fit(df).transform(df)"
   ]
  },
  {
   "cell_type": "code",
   "execution_count": 6,
   "metadata": {},
   "outputs": [],
   "source": [
    "def ARMformat(a,b,tb):\n",
    "    df.createOrReplaceTempView(tb)\n",
    "    collect = []\n",
    "    sel = df.select(a).distinct().rdd.map(lambda r: r[0]).collect()\n",
    "    for x in sel:\n",
    "        res = spark.sql(\"SELECT \"+b+\" FROM \"+tb+\" WHERE \"+a+\"='\"+str(x)+\"'\")\n",
    "        res=res.select(b).distinct().rdd.map(lambda r: r[0]).collect()\n",
    "        resclean = []\n",
    "        for i in res:\n",
    "            if i!=None:\n",
    "                resclean.append(i)\n",
    "        resmin = resclean[0:10] #terpaksa biar cepat saja\n",
    "        collect.append(tuple((str(x),list(resmin))))\n",
    "    return collect"
   ]
  },
  {
   "cell_type": "code",
   "execution_count": null,
   "metadata": {},
   "outputs": [],
   "source": [
    "df.select('Genre').distinct().rdd.map(lambda r: r[0]).collect()"
   ]
  },
  {
   "cell_type": "code",
   "execution_count": null,
   "metadata": {},
   "outputs": [],
   "source": [
    "df.toPandas()['Genre'].unique()"
   ]
  },
  {
   "cell_type": "code",
   "execution_count": 7,
   "metadata": {},
   "outputs": [
    {
     "data": {
      "text/plain": [
       "12"
      ]
     },
     "execution_count": 7,
     "metadata": {},
     "output_type": "execute_result"
    }
   ],
   "source": [
    "df = ARMformat('Genre','Publisher','vgsales')\n",
    "len(df)"
   ]
  },
  {
   "cell_type": "code",
   "execution_count": null,
   "metadata": {},
   "outputs": [],
   "source": [
    "print(df)"
   ]
  },
  {
   "cell_type": "code",
   "execution_count": 8,
   "metadata": {},
   "outputs": [],
   "source": [
    "data = spark.createDataFrame(df,[\"id\",\"items\"])"
   ]
  },
  {
   "cell_type": "code",
   "execution_count": null,
   "metadata": {},
   "outputs": [],
   "source": [
    "print(data)"
   ]
  },
  {
   "cell_type": "code",
   "execution_count": null,
   "metadata": {},
   "outputs": [],
   "source": [
    "data.show()"
   ]
  },
  {
   "cell_type": "code",
   "execution_count": 9,
   "metadata": {},
   "outputs": [],
   "source": [
    "from pyspark.ml.fpm import FPGrowth\n",
    "fpGrowth = FPGrowth(itemsCol=\"items\", minSupport=0.5, minConfidence=0.6, numPartitions=10)\n",
    "model = fpGrowth.fit(data)"
   ]
  },
  {
   "cell_type": "code",
   "execution_count": 10,
   "metadata": {},
   "outputs": [
    {
     "name": "stdout",
     "output_type": "stream",
     "text": [
      "+--------------------+----+\n",
      "|               items|freq|\n",
      "+--------------------+----+\n",
      "|        [Infogrames]|  11|\n",
      "|           [Ubisoft]|  10|\n",
      "|[Ubisoft, Infogra...|   9|\n",
      "|               [3DO]|   9|\n",
      "|      [3DO, Ubisoft]|   7|\n",
      "|[3DO, Ubisoft, In...|   6|\n",
      "|   [3DO, Infogrames]|   8|\n",
      "|  [Storm City Games]|   8|\n",
      "|[Storm City Games...|   6|\n",
      "|[Storm City Games...|   7|\n",
      "|[Storm City Games...|   6|\n",
      "|[Storm City Games...|   7|\n",
      "+--------------------+----+\n",
      "\n"
     ]
    }
   ],
   "source": [
    "model.freqItemsets.show()"
   ]
  },
  {
   "cell_type": "code",
   "execution_count": 11,
   "metadata": {},
   "outputs": [
    {
     "name": "stdout",
     "output_type": "stream",
     "text": [
      "+--------------------+------------------+------------------+------------------+\n",
      "|          antecedent|        consequent|        confidence|              lift|\n",
      "+--------------------+------------------+------------------+------------------+\n",
      "|           [Ubisoft]|      [Infogrames]|               0.9|0.9818181818181819|\n",
      "|           [Ubisoft]|             [3DO]|               0.7|0.9333333333333332|\n",
      "|           [Ubisoft]|[Storm City Games]|               0.7|              1.05|\n",
      "|      [3DO, Ubisoft]|      [Infogrames]|0.8571428571428571| 0.935064935064935|\n",
      "|               [3DO]|         [Ubisoft]|0.7777777777777778|0.9333333333333333|\n",
      "|               [3DO]|      [Infogrames]|0.8888888888888888|0.9696969696969697|\n",
      "|               [3DO]|[Storm City Games]|0.6666666666666666|               1.0|\n",
      "|[Storm City Games...|         [Ubisoft]|0.8571428571428571|1.0285714285714285|\n",
      "|[Ubisoft, Infogra...|             [3DO]|0.6666666666666666|0.8888888888888888|\n",
      "|[Ubisoft, Infogra...|[Storm City Games]|0.6666666666666666|               1.0|\n",
      "|  [Storm City Games]|             [3DO]|              0.75|               1.0|\n",
      "|  [Storm City Games]|         [Ubisoft]|             0.875|              1.05|\n",
      "|  [Storm City Games]|      [Infogrames]|             0.875|0.9545454545454546|\n",
      "|        [Infogrames]|         [Ubisoft]|0.8181818181818182|0.9818181818181818|\n",
      "|        [Infogrames]|             [3DO]|0.7272727272727273|0.9696969696969697|\n",
      "|        [Infogrames]|[Storm City Games]|0.6363636363636364|0.9545454545454546|\n",
      "|[Storm City Games...|      [Infogrames]|0.8571428571428571| 0.935064935064935|\n",
      "|   [3DO, Infogrames]|         [Ubisoft]|              0.75|0.8999999999999999|\n",
      "+--------------------+------------------+------------------+------------------+\n",
      "\n"
     ]
    }
   ],
   "source": [
    "model.associationRules.show()"
   ]
  },
  {
   "cell_type": "code",
   "execution_count": 12,
   "metadata": {},
   "outputs": [
    {
     "name": "stdout",
     "output_type": "stream",
     "text": [
      "+------------+--------------------+--------------------+\n",
      "|          id|               items|          prediction|\n",
      "+------------+--------------------+--------------------+\n",
      "|   Adventure|[Funbox Media, 3D...|           [Ubisoft]|\n",
      "|      Sports|[Media Rings, 3DO...|                  []|\n",
      "|      Racing|[Media Rings, bit...|               [3DO]|\n",
      "|Role-Playing|[Media Rings, Ice...|[Ubisoft, Storm C...|\n",
      "|     Shooter|[3DO, id Software...|  [Storm City Games]|\n",
      "|        Misc|[Funbox Media, Te...|               [3DO]|\n",
      "|    Platform|[Jack of All Game...|                  []|\n",
      "|      Puzzle|[Telegames, 3DO, ...|        [Infogrames]|\n",
      "|    Fighting|[3DO, Infogrames,...|  [Storm City Games]|\n",
      "|      Action|[Funbox Media, Ti...|                  []|\n",
      "|    Strategy|[Iceberg Interact...|                  []|\n",
      "|  Simulation|[bitComposer Game...|[3DO, Storm City ...|\n",
      "+------------+--------------------+--------------------+\n",
      "\n"
     ]
    }
   ],
   "source": [
    "model.transform(data).show()"
   ]
  },
  {
   "cell_type": "code",
   "execution_count": null,
   "metadata": {},
   "outputs": [],
   "source": []
  }
 ],
 "metadata": {
  "kernelspec": {
   "display_name": "Python 3",
   "language": "python",
   "name": "python3"
  },
  "language_info": {
   "codemirror_mode": {
    "name": "ipython",
    "version": 3
   },
   "file_extension": ".py",
   "mimetype": "text/x-python",
   "name": "python",
   "nbconvert_exporter": "python",
   "pygments_lexer": "ipython3",
   "version": "3.7.3"
  }
 },
 "nbformat": 4,
 "nbformat_minor": 2
}
