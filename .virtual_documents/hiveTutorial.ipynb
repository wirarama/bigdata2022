!xed ~/.bashrc


!/usr/libexec/java_home -V


export HADOOP_HOME=/Users/wiraramawedashwara/hadoop/hadoop
export HADOOP_MAPRED_HOME=$HADOOP_HOME
export HADOOP_COMMON_HOME=$HADOOP_HOME
export HADOOP_HDFS_HOME=$HADOOP_HOME
export YARN_HOME=$HADOOP_HOME
export HADOOP_COMMON_LIB_NATIVE_DIR=$HADOOP_HOME/lib/native export
PATH=$PATH:$HADOOP_HOME/sbin:$HADOOP_HOME/bin
export JAVA_HOME=`/usr/libexec/java_home -v 1.7.0_80`
export HIVE_HOME=/Users/wiraramawedashwara/hadoop/hive2
export PATH=$PATH:$HIVE_HOME/bin
export CLASSPATH=$CLASSPATH:/Users/wiraramawedashwara/hadoop/hadoop/lib/*:.
export CLASSPATH=$CLASSPATH:/Users/wiraramawedashwara/hadoop/hive2/lib/*:.


!hdfs namenode -format


!start-dfs.sh





!hdfs dfs -mkdir /tmp


!hdfs dfs -chmod g+w /tmp


!hive -e 'create database test_db;'


!hive -e 'use test_db;create table t(id int);'


!~/hadoop/hive/bin/hive -e 'drop database test cascade;'


#testquerycsv-edit.sql
create database if not exists test;
create table test.sample (index int, tgl STRING, a float, b float, c float, d float, e float, f float, g float, h float) row format delimited fields terminated by ',' stored as textfile;
use test; 
show tables;
load data local inpath 'avocado.csv' into table test.sample;
select * from sample WHERE a>0.5 AND c>10000 limit 50;


!hive -f ~/python/bigdata2022/testquerycsv-edit.sql


!~/hadoop/hadoop/bin/hdfs dfs -ls /user/hive/warehouse/


!~/hadoop/hadoop/bin/hdfs dfs -ls /user/hive/warehouse/test.db/sample


!hive -e 'SELECT * FROM test.sample WHERE tgl like"2016-11%" AND b>400000;'


!~/hadoop/hadoop/sbin/stop-dfs.sh



