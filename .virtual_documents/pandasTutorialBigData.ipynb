a = 36.5
b = 76


!pip install pandas


!pip install xlwt


print(a*b)


import math as mt
from math import sqrt,sin


print("hasilnya : "+str(sqrt(a+b)))


dir(mt)


c = [1,2,7.245,7.890,788,"test",[55.378,782,839,[56,972]]]


c = []


print(c)


len(c)


type(c[6][3][0])


for x in c:
    if type(x) in (int,float):
        if x%2==0:
            print(x,end=",")


for x in range(5,100,6):
    c.append(x)


g = ([28,"haha"],("test",67),{"nama":"entah lah"})


g[2].append("hihi")


print(g)


for x in g:
    print(type(x))





print("umur kucing tetangga %d tahun dan punya anak %d ekor " % (23,3))


print("umur kucing tetangga",23,"tahun dan punya anak",3,"ekor ")


test = "umur kucing tetangga "+str(23)+" tahun dan punya anak "+str(3)+"ekor "


test


[] #list jika ukuran bebas
() #tuple jika ukuran tetap
{} #dictionary jika struktur advanced


c.append([100,101,102,103])


c.extend([100,101,102,103])


d = [{"nama":"anton","umur":23,"makanan kesukaan":"tahu tek"},
     {"nama":"henry","umur":56,"pekerjaan":"terbang"}
    ]


d[1]["pekerjaan"]


for x in d:
    if "pekerjaan" in x:
        print(x["pekerjaan"])








d = [{'nama':"si A",'umur':{"umur sosmed":{"2020":20,"2022":40},"umur nyata":36},'hobi':['makan','minum','tidur']},
      {'nama':"si B",'umur':21,'hobi':['bernafas']}]


print(d)


print(d[0]['umur']["umur sosmed"]["2020"])


print(d[0]['hobi'][2])


import pandas as pd


df = pd.DataFrame([
    [1,2,3,4],
    [5,6,7,8],
    [9,3,4,5],
    [4,5,7,5],
    [6,7,8,9],
    [7,4,6,5]
],columns=['a','b','c','d'])


df


print(df)


type(df)


type(df.to_numpy())


df = pd.read_excel("in.xls")


df = pd.read_csv('vgsales.csv')


df.to_excel("out.xls")


df


print(df.columns)


print(df['Name'])


print(df[['Name','Genre']])


print(df['Genre'].unique())
len(df['Genre'].unique())


print(df['Platform'].unique())


print(df[['Name','Genre']].iloc[113])


print(df[['Name','Genre']].iloc[100:200])


print(df.shape)


for x in df:
    print(x)


print(type(df.values))





for x in df.values:
    if "Auto" in x[1] and x[4]=="Action":
        print(x[1],x[10],sep="\t")


df[(df['Genre']=="Action") & (df['NA_Sales'] > 3)]


df[(df['Genre']=="Action") 
   & (df['NA_Sales'] > 3) 
   & (df['Name'].str.contains("Auto"))]


df.describe()


import matplotlib.pyplot as plt
%matplotlib inline





#df1 = df.cumsum()
plt.figure()
df.plot()


df[['NA_Sales','EU_Sales','JP_Sales','Other_Sales','Global_Sales']].plot()


df[['NA_Sales','EU_Sales','JP_Sales']].plot()


df[['NA_Sales']].iloc[5000:5053].plot()


ax = df.iloc[100:110].plot.bar(y=['NA_Sales','EU_Sales','JP_Sales'], x='Name')


ax = df1.plot.bar(y=['NA_Sales','EU_Sales','JP_Sales'], x='Name')


df1 = df[(df['Genre']=="Action") 
   & (df['NA_Sales'] > 3) 
   & (df['Name'].str.contains("Auto"))]
df1


ax = df.iloc[100:110].plot.bar(y=['NA_Sales','EU_Sales','JP_Sales'], x='Name',stacked=True)


ax = df.iloc[100:110].plot.hist(y=['NA_Sales'])


ax = df.plot.hist(y=['Platform'])


df.plot.box(y=['NA_Sales','EU_Sales','JP_Sales'])


df.iloc[100:200].plot.box(y=['NA_Sales','EU_Sales','JP_Sales'])


df.iloc[100:200].describe()


df[(df['Genre']=="Action") 
   & (df['NA_Sales'] > 3) 
   & (df['Name'].str.contains("Auto"))].plot.bar(
    y=['NA_Sales','EU_Sales','JP_Sales'], 
    x='Name')



