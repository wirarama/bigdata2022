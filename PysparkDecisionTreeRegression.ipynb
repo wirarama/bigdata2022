{
 "cells": [
  {
   "cell_type": "code",
   "execution_count": null,
   "metadata": {},
   "outputs": [],
   "source": [
    "from pyspark.ml import Pipeline\n",
    "from pyspark.ml.regression import DecisionTreeRegressor\n",
    "from pyspark.ml.feature import VectorIndexer\n",
    "from pyspark.ml.evaluation import RegressionEvaluator"
   ]
  },
  {
   "cell_type": "code",
   "execution_count": 2,
   "metadata": {},
   "outputs": [],
   "source": [
    "spark = SparkSession.builder.appName(\"DecisionTreeRegression\").getOrCreate()"
   ]
  },
  {
   "cell_type": "code",
   "execution_count": 3,
   "metadata": {},
   "outputs": [],
   "source": [
    "df = spark.read.csv('vgsales.csv',inferSchema=True,header='true')"
   ]
  },
  {
   "cell_type": "code",
   "execution_count": 6,
   "metadata": {},
   "outputs": [],
   "source": [
    "from pyspark.ml.feature import VectorAssembler\n",
    "assembler = VectorAssembler(inputCols=['NA_Sales','EU_Sales','JP_Sales'],\n",
    "                            outputCol='features')\n",
    "data = assembler.transform(df)\n",
    "data = data.withColumnRenamed(\"Global_Sales\",\"label\")"
   ]
  },
  {
   "cell_type": "code",
   "execution_count": 7,
   "metadata": {},
   "outputs": [
    {
     "name": "stdout",
     "output_type": "stream",
     "text": [
      "+------------------+-----+\n",
      "|          features|label|\n",
      "+------------------+-----+\n",
      "|[41.49,29.02,3.77]|82.74|\n",
      "| [29.08,3.58,6.81]|40.24|\n",
      "|[15.85,12.88,3.79]|35.82|\n",
      "|[15.75,11.01,3.28]| 33.0|\n",
      "|[11.27,8.89,10.22]|31.37|\n",
      "|  [23.2,2.26,4.22]|30.26|\n",
      "|  [11.38,9.23,6.5]|30.01|\n",
      "|  [14.03,9.2,2.93]|29.02|\n",
      "|  [14.59,7.06,4.7]|28.62|\n",
      "| [26.93,0.63,0.28]|28.31|\n",
      "|  [9.07,11.0,1.93]|24.76|\n",
      "|  [9.81,7.57,4.13]|23.42|\n",
      "|    [9.0,6.18,7.2]| 23.1|\n",
      "|   [8.94,8.03,3.6]|22.72|\n",
      "|  [9.09,8.59,2.53]| 22.0|\n",
      "| [14.97,4.94,0.24]|21.82|\n",
      "|  [7.01,9.27,0.97]| 21.4|\n",
      "|   [9.43,0.4,0.41]|20.81|\n",
      "| [12.78,3.75,3.54]|20.61|\n",
      "|  [4.75,9.26,4.16]|20.22|\n",
      "+------------------+-----+\n",
      "only showing top 20 rows\n",
      "\n"
     ]
    }
   ],
   "source": [
    "data.select('features','label').show()"
   ]
  },
  {
   "cell_type": "code",
   "execution_count": 8,
   "metadata": {},
   "outputs": [],
   "source": [
    "featureIndexer =VectorIndexer(inputCol=\"features\", outputCol=\"indexedFeatures\", maxCategories=4,handleInvalid='skip').fit(data)"
   ]
  },
  {
   "cell_type": "code",
   "execution_count": 9,
   "metadata": {},
   "outputs": [],
   "source": [
    "(trainingData, testData) = data.randomSplit([0.7, 0.3])"
   ]
  },
  {
   "cell_type": "code",
   "execution_count": 10,
   "metadata": {},
   "outputs": [],
   "source": [
    "dt = DecisionTreeRegressor(featuresCol=\"indexedFeatures\")"
   ]
  },
  {
   "cell_type": "code",
   "execution_count": 11,
   "metadata": {},
   "outputs": [],
   "source": [
    "pipeline = Pipeline(stages=[featureIndexer, dt])"
   ]
  },
  {
   "cell_type": "code",
   "execution_count": 12,
   "metadata": {},
   "outputs": [],
   "source": [
    "model = pipeline.fit(trainingData)"
   ]
  },
  {
   "cell_type": "code",
   "execution_count": 13,
   "metadata": {},
   "outputs": [],
   "source": [
    "predictions = model.transform(testData)"
   ]
  },
  {
   "cell_type": "code",
   "execution_count": 14,
   "metadata": {},
   "outputs": [
    {
     "data": {
      "text/html": [
       "<div>\n",
       "<style scoped>\n",
       "    .dataframe tbody tr th:only-of-type {\n",
       "        vertical-align: middle;\n",
       "    }\n",
       "\n",
       "    .dataframe tbody tr th {\n",
       "        vertical-align: top;\n",
       "    }\n",
       "\n",
       "    .dataframe thead th {\n",
       "        text-align: right;\n",
       "    }\n",
       "</style>\n",
       "<table border=\"1\" class=\"dataframe\">\n",
       "  <thead>\n",
       "    <tr style=\"text-align: right;\">\n",
       "      <th></th>\n",
       "      <th>prediction</th>\n",
       "      <th>label</th>\n",
       "      <th>features</th>\n",
       "    </tr>\n",
       "  </thead>\n",
       "  <tbody>\n",
       "    <tr>\n",
       "      <th>0</th>\n",
       "      <td>11.929872</td>\n",
       "      <td>82.74</td>\n",
       "      <td>[41.49, 29.02, 3.77]</td>\n",
       "    </tr>\n",
       "    <tr>\n",
       "      <th>1</th>\n",
       "      <td>4.052692</td>\n",
       "      <td>20.81</td>\n",
       "      <td>[9.43, 0.4, 0.41]</td>\n",
       "    </tr>\n",
       "    <tr>\n",
       "      <th>2</th>\n",
       "      <td>11.929872</td>\n",
       "      <td>20.22</td>\n",
       "      <td>[4.75, 9.26, 4.16]</td>\n",
       "    </tr>\n",
       "    <tr>\n",
       "      <th>3</th>\n",
       "      <td>11.929872</td>\n",
       "      <td>18.36</td>\n",
       "      <td>[6.42, 4.52, 6.04]</td>\n",
       "    </tr>\n",
       "    <tr>\n",
       "      <th>4</th>\n",
       "      <td>11.929872</td>\n",
       "      <td>17.28</td>\n",
       "      <td>[9.54, 3.44, 3.84]</td>\n",
       "    </tr>\n",
       "    <tr>\n",
       "      <th>...</th>\n",
       "      <td>...</td>\n",
       "      <td>...</td>\n",
       "      <td>...</td>\n",
       "    </tr>\n",
       "    <tr>\n",
       "      <th>5012</th>\n",
       "      <td>0.097888</td>\n",
       "      <td>0.01</td>\n",
       "      <td>[0.0, 0.0, 0.01]</td>\n",
       "    </tr>\n",
       "    <tr>\n",
       "      <th>5013</th>\n",
       "      <td>0.097888</td>\n",
       "      <td>0.01</td>\n",
       "      <td>[0.0, 0.01, 0.0]</td>\n",
       "    </tr>\n",
       "    <tr>\n",
       "      <th>5014</th>\n",
       "      <td>0.097888</td>\n",
       "      <td>0.01</td>\n",
       "      <td>[0.0, 0.0, 0.01]</td>\n",
       "    </tr>\n",
       "    <tr>\n",
       "      <th>5015</th>\n",
       "      <td>0.097888</td>\n",
       "      <td>0.01</td>\n",
       "      <td>[0.01, 0.0, 0.0]</td>\n",
       "    </tr>\n",
       "    <tr>\n",
       "      <th>5016</th>\n",
       "      <td>0.097888</td>\n",
       "      <td>0.01</td>\n",
       "      <td>[0.0, 0.0, 0.01]</td>\n",
       "    </tr>\n",
       "  </tbody>\n",
       "</table>\n",
       "<p>5017 rows × 3 columns</p>\n",
       "</div>"
      ],
      "text/plain": [
       "      prediction  label              features\n",
       "0      11.929872  82.74  [41.49, 29.02, 3.77]\n",
       "1       4.052692  20.81     [9.43, 0.4, 0.41]\n",
       "2      11.929872  20.22    [4.75, 9.26, 4.16]\n",
       "3      11.929872  18.36    [6.42, 4.52, 6.04]\n",
       "4      11.929872  17.28    [9.54, 3.44, 3.84]\n",
       "...          ...    ...                   ...\n",
       "5012    0.097888   0.01      [0.0, 0.0, 0.01]\n",
       "5013    0.097888   0.01      [0.0, 0.01, 0.0]\n",
       "5014    0.097888   0.01      [0.0, 0.0, 0.01]\n",
       "5015    0.097888   0.01      [0.01, 0.0, 0.0]\n",
       "5016    0.097888   0.01      [0.0, 0.0, 0.01]\n",
       "\n",
       "[5017 rows x 3 columns]"
      ]
     },
     "execution_count": 14,
     "metadata": {},
     "output_type": "execute_result"
    }
   ],
   "source": [
    "predictions.select(\"prediction\", \"label\", \"features\").toPandas()"
   ]
  },
  {
   "cell_type": "code",
   "execution_count": 15,
   "metadata": {},
   "outputs": [
    {
     "name": "stdout",
     "output_type": "stream",
     "text": [
      "Root Mean Squared Error (RMSE) on test data = 1.21009\n"
     ]
    }
   ],
   "source": [
    "evaluator = RegressionEvaluator(labelCol=\"label\", predictionCol=\"prediction\", metricName=\"rmse\")\n",
    "rmse = evaluator.evaluate(predictions)\n",
    "print(\"Root Mean Squared Error (RMSE) on test data = %g\" % rmse)"
   ]
  },
  {
   "cell_type": "code",
   "execution_count": 14,
   "metadata": {},
   "outputs": [],
   "source": [
    "treeModel = model.stages[1]"
   ]
  },
  {
   "cell_type": "code",
   "execution_count": 16,
   "metadata": {},
   "outputs": [
    {
     "data": {
      "text/plain": [
       "['__abstractmethods__',\n",
       " '__annotations__',\n",
       " '__class__',\n",
       " '__class_getitem__',\n",
       " '__del__',\n",
       " '__delattr__',\n",
       " '__dict__',\n",
       " '__dir__',\n",
       " '__doc__',\n",
       " '__eq__',\n",
       " '__format__',\n",
       " '__ge__',\n",
       " '__getattribute__',\n",
       " '__getstate__',\n",
       " '__gt__',\n",
       " '__hash__',\n",
       " '__init__',\n",
       " '__init_subclass__',\n",
       " '__le__',\n",
       " '__lt__',\n",
       " '__module__',\n",
       " '__ne__',\n",
       " '__new__',\n",
       " '__orig_bases__',\n",
       " '__parameters__',\n",
       " '__reduce__',\n",
       " '__reduce_ex__',\n",
       " '__repr__',\n",
       " '__setattr__',\n",
       " '__sizeof__',\n",
       " '__slots__',\n",
       " '__str__',\n",
       " '__subclasshook__',\n",
       " '__weakref__',\n",
       " '_abc_impl',\n",
       " '_call_java',\n",
       " '_copyValues',\n",
       " '_copy_params',\n",
       " '_create_from_java_class',\n",
       " '_create_params_from_java',\n",
       " '_defaultParamMap',\n",
       " '_dummy',\n",
       " '_empty_java_param_map',\n",
       " '_from_java',\n",
       " '_is_protocol',\n",
       " '_java_obj',\n",
       " '_make_java_param_pair',\n",
       " '_new_java_array',\n",
       " '_new_java_obj',\n",
       " '_paramMap',\n",
       " '_params',\n",
       " '_randomUID',\n",
       " '_resetUid',\n",
       " '_resolveParam',\n",
       " '_set',\n",
       " '_setDefault',\n",
       " '_shouldOwn',\n",
       " '_testOwnParam',\n",
       " '_to_java',\n",
       " '_transfer_param_map_from_java',\n",
       " '_transfer_param_map_to_java',\n",
       " '_transfer_params_from_java',\n",
       " '_transfer_params_to_java',\n",
       " '_transform',\n",
       " 'cacheNodeIds',\n",
       " 'checkpointInterval',\n",
       " 'clear',\n",
       " 'copy',\n",
       " 'depth',\n",
       " 'explainParam',\n",
       " 'explainParams',\n",
       " 'extractParamMap',\n",
       " 'featureImportances',\n",
       " 'featuresCol',\n",
       " 'getCacheNodeIds',\n",
       " 'getCheckpointInterval',\n",
       " 'getFeaturesCol',\n",
       " 'getImpurity',\n",
       " 'getLabelCol',\n",
       " 'getLeafCol',\n",
       " 'getMaxBins',\n",
       " 'getMaxDepth',\n",
       " 'getMaxMemoryInMB',\n",
       " 'getMinInfoGain',\n",
       " 'getMinInstancesPerNode',\n",
       " 'getMinWeightFractionPerNode',\n",
       " 'getOrDefault',\n",
       " 'getParam',\n",
       " 'getPredictionCol',\n",
       " 'getSeed',\n",
       " 'getVarianceCol',\n",
       " 'getWeightCol',\n",
       " 'hasDefault',\n",
       " 'hasParam',\n",
       " 'impurity',\n",
       " 'isDefined',\n",
       " 'isSet',\n",
       " 'labelCol',\n",
       " 'leafCol',\n",
       " 'load',\n",
       " 'maxBins',\n",
       " 'maxDepth',\n",
       " 'maxMemoryInMB',\n",
       " 'minInfoGain',\n",
       " 'minInstancesPerNode',\n",
       " 'minWeightFractionPerNode',\n",
       " 'numFeatures',\n",
       " 'numNodes',\n",
       " 'params',\n",
       " 'predict',\n",
       " 'predictLeaf',\n",
       " 'predictionCol',\n",
       " 'read',\n",
       " 'save',\n",
       " 'seed',\n",
       " 'set',\n",
       " 'setFeaturesCol',\n",
       " 'setLeafCol',\n",
       " 'setPredictionCol',\n",
       " 'setVarianceCol',\n",
       " 'supportedImpurities',\n",
       " 'toDebugString',\n",
       " 'transform',\n",
       " 'uid',\n",
       " 'varianceCol',\n",
       " 'weightCol',\n",
       " 'write']"
      ]
     },
     "execution_count": 16,
     "metadata": {},
     "output_type": "execute_result"
    }
   ],
   "source": [
    "dir(treeModel)"
   ]
  },
  {
   "cell_type": "code",
   "execution_count": null,
   "metadata": {},
   "outputs": [],
   "source": []
  }
 ],
 "metadata": {
  "kernelspec": {
   "display_name": "Python 3 (ipykernel)",
   "language": "python",
   "name": "python3"
  },
  "language_info": {
   "codemirror_mode": {
    "name": "ipython",
    "version": 3
   },
   "file_extension": ".py",
   "mimetype": "text/x-python",
   "name": "python",
   "nbconvert_exporter": "python",
   "pygments_lexer": "ipython3",
   "version": "3.11.9"
  }
 },
 "nbformat": 4,
 "nbformat_minor": 4
}
