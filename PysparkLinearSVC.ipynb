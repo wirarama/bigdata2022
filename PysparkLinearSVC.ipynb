{
 "cells": [
  {
   "cell_type": "code",
   "execution_count": 2,
   "metadata": {},
   "outputs": [],
   "source": [
    "from pyspark.ml.classification import LinearSVC\n",
    "from pyspark.sql import SparkSession"
   ]
  },
  {
   "cell_type": "code",
   "execution_count": 3,
   "metadata": {},
   "outputs": [],
   "source": [
    "from pyspark.sql.types import StructType,StructField,IntegerType\n",
    "from pyspark.ml.linalg import Vectors"
   ]
  },
  {
   "cell_type": "code",
   "execution_count": 4,
   "metadata": {},
   "outputs": [],
   "source": [
    "spark = SparkSession.builder.appName(\"LinearSVC\").getOrCreate()"
   ]
  },
  {
   "cell_type": "code",
   "execution_count": 5,
   "metadata": {},
   "outputs": [],
   "source": [
    "schema = StructType([\n",
    "        StructField(\"a\", IntegerType(), True),\n",
    "        StructField(\"b\", IntegerType(), True),\n",
    "        StructField(\"c\", IntegerType(), True),\n",
    "        StructField(\"d\", IntegerType(), True)\n",
    "        ])"
   ]
  },
  {
   "cell_type": "code",
   "execution_count": 7,
   "metadata": {},
   "outputs": [],
   "source": [
    "df = spark.read.csv('binarydata.csv',schema)"
   ]
  },
  {
   "cell_type": "code",
   "execution_count": null,
   "metadata": {},
   "outputs": [],
   "source": [
    "traindf=df.rdd.map(lambda x:(Vectors.dense(x[0:-1]), x[-1])).toDF([\"features\", \"label\"])"
   ]
  },
  {
   "cell_type": "code",
   "execution_count": 8,
   "metadata": {},
   "outputs": [],
   "source": [
    "traindf=df.rdd.map(lambda x:(Vectors.dense(x[1],x[2],x[3]), x[0])).toDF([\"features\", \"label\"])"
   ]
  },
  {
   "cell_type": "code",
   "execution_count": 9,
   "metadata": {},
   "outputs": [
    {
     "name": "stdout",
     "output_type": "stream",
     "text": [
      "+-------------+-----+\n",
      "|     features|label|\n",
      "+-------------+-----+\n",
      "|[2.0,4.0,2.0]|    0|\n",
      "|[1.0,7.0,9.0]|    0|\n",
      "|[1.0,6.0,1.0]|    0|\n",
      "|[3.0,8.0,9.0]|    0|\n",
      "|[2.0,5.0,9.0]|    1|\n",
      "|[4.0,6.0,1.0]|    0|\n",
      "|[4.0,4.0,4.0]|    1|\n",
      "|[4.0,2.0,3.0]|    1|\n",
      "|[4.0,6.0,6.0]|    1|\n",
      "|[5.0,6.0,1.0]|    0|\n",
      "|[3.0,3.0,4.0]|    1|\n",
      "|[2.0,1.0,2.0]|    1|\n",
      "|[4.0,1.0,3.0]|    0|\n",
      "|[1.0,2.0,9.0]|    0|\n",
      "|[4.0,2.0,4.0]|    0|\n",
      "|[1.0,2.0,8.0]|    0|\n",
      "|[3.0,8.0,7.0]|    1|\n",
      "|[3.0,7.0,1.0]|    1|\n",
      "|[2.0,2.0,7.0]|    1|\n",
      "|[3.0,2.0,5.0]|    1|\n",
      "+-------------+-----+\n",
      "only showing top 20 rows\n",
      "\n"
     ]
    }
   ],
   "source": [
    "traindf.show()"
   ]
  },
  {
   "cell_type": "code",
   "execution_count": 10,
   "metadata": {},
   "outputs": [],
   "source": [
    "lsvc = LinearSVC(maxIter=10, regParam=0.1)"
   ]
  },
  {
   "cell_type": "code",
   "execution_count": 11,
   "metadata": {},
   "outputs": [],
   "source": [
    "lsvcModel = lsvc.fit(traindf)"
   ]
  },
  {
   "cell_type": "code",
   "execution_count": 12,
   "metadata": {},
   "outputs": [
    {
     "name": "stdout",
     "output_type": "stream",
     "text": [
      "Coefficients: [-0.12819433370974556,0.003424812713247676,-0.009739628581210776]\n",
      "Intercept: -0.2780426825349343\n"
     ]
    }
   ],
   "source": [
    "print(\"Coefficients: \" + str(lsvcModel.coefficients))\n",
    "print(\"Intercept: \" + str(lsvcModel.intercept))"
   ]
  },
  {
   "cell_type": "code",
   "execution_count": null,
   "metadata": {},
   "outputs": [],
   "source": []
  }
 ],
 "metadata": {
  "kernelspec": {
   "display_name": "Python 3",
   "language": "python",
   "name": "python3"
  },
  "language_info": {
   "codemirror_mode": {
    "name": "ipython",
    "version": 3
   },
   "file_extension": ".py",
   "mimetype": "text/x-python",
   "name": "python",
   "nbconvert_exporter": "python",
   "pygments_lexer": "ipython3",
   "version": "3.7.3"
  }
 },
 "nbformat": 4,
 "nbformat_minor": 2
}
