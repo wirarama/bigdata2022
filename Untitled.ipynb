{
 "cells": [
  {
   "cell_type": "code",
   "execution_count": null,
   "id": "3054bd6d",
   "metadata": {},
   "outputs": [],
   "source": [
    "A UTS 20\n",
    "UAS 20\n",
    "POST TEST 30\n",
    "Tugas 1 2 30\n",
    "\n",
    "B UTS 25\n",
    "UAS 25\n",
    "POST TEST 20\n",
    "Tugas 1 2 30\n",
    "\n",
    "C UTS 25\n",
    "UAS 25\n",
    "POST TEST 30\n",
    "Tugas 1 2 20"
   ]
  }
 ],
 "metadata": {
  "kernelspec": {
   "display_name": "Python 3 (ipykernel)",
   "language": "python",
   "name": "python3"
  },
  "language_info": {
   "codemirror_mode": {
    "name": "ipython",
    "version": 3
   },
   "file_extension": ".py",
   "mimetype": "text/x-python",
   "name": "python",
   "nbconvert_exporter": "python",
   "pygments_lexer": "ipython3",
   "version": "3.11.4"
  }
 },
 "nbformat": 4,
 "nbformat_minor": 5
}
