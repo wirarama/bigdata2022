{
 "cells": [
  {
   "cell_type": "code",
   "execution_count": null,
   "id": "77f9de04",
   "metadata": {},
   "outputs": [],
   "source": [
    "from pyspark.sql import SparkSession\n",
    "spark = SparkSession.builder.master('local[*]').appName('test').getOrCreate()\n",
    "df = spark.read.csv('avocado.csv', sep=',', header=True, inferSchema=True,\n",
    "                         nullValue='NA')\n",
    "df.show(5)"
   ]
  },
  {
   "cell_type": "code",
   "execution_count": null,
   "id": "bbde7f7c",
   "metadata": {},
   "outputs": [],
   "source": [
    "from pyspark.ml.feature import StringIndexer\n",
    "indexer = StringIndexer(inputCol='region', outputCol='label')\n",
    "indexer_model = indexer.fit(df)\n",
    "df_indexed = indexer_model.transform(df)"
   ]
  },
  {
   "cell_type": "code",
   "execution_count": null,
   "id": "940ee597",
   "metadata": {},
   "outputs": [],
   "source": [
    "from pyspark.ml.feature import VectorAssembler\n",
    "assembler = VectorAssembler(inputCols=['Small Bags','Large Bags','XLarge Bags'],\n",
    "                            outputCol='features')\n",
    "df_assembled = assembler.transform(df_indexed)\n",
    "df_assembled.select('features', 'label').show(5, truncate=False)"
   ]
  },
  {
   "cell_type": "code",
   "execution_count": null,
   "id": "2ce0da2c",
   "metadata": {},
   "outputs": [],
   "source": [
    "df_train, df_test = df_assembled.randomSplit([0.8, 0.2], seed=17)\n",
    "training_ratio = df_train.count() / df_assembled.count()\n",
    "print(training_ratio)"
   ]
  },
  {
   "cell_type": "code",
   "execution_count": null,
   "id": "11aadecd",
   "metadata": {},
   "outputs": [],
   "source": [
    "from pyspark.ml.classification import DecisionTreeClassifier\n",
    "tree = DecisionTreeClassifier()\n",
    "tree_model = tree.fit(df_train)\n",
    "prediction = tree_model.transform(df_test)\n",
    "prediction.select('label', 'prediction', 'probability').show(5, False)"
   ]
  },
  {
   "cell_type": "code",
   "execution_count": null,
   "id": "a7d55794",
   "metadata": {},
   "outputs": [],
   "source": [
    "prediction.groupBy('label', 'prediction').count().show()\n",
    "TN = prediction.filter('prediction = 0 AND label = prediction').count()\n",
    "TP = prediction.filter('prediction = 1 AND label = prediction').count()\n",
    "FN = prediction.filter('prediction = 0 AND label = 1').count()\n",
    "FP = prediction.filter('prediction = 1 AND label = 0').count()\n",
    "accuracy = (TN + TP) / (TN + TP + FN + FP)\n",
    "print(accuracy)"
   ]
  },
  {
   "cell_type": "code",
   "execution_count": null,
   "id": "d76942d4",
   "metadata": {},
   "outputs": [],
   "source": [
    "from pyspark.ml.classification import LogisticRegression\n",
    "df_train_num = df_train.select('features', 'label')\n",
    "df_test_num = df_test.select('features', 'label')\n",
    "logistic = LogisticRegression().fit(df_train_num)\n",
    "prediction = logistic.transform(df_test_num)\n",
    "prediction.groupBy(\"label\", \"prediction\").count().show(100)"
   ]
  },
  {
   "cell_type": "code",
   "execution_count": null,
   "id": "96138822",
   "metadata": {},
   "outputs": [],
   "source": [
    "TN = prediction.filter('prediction = 0 AND label = prediction').count()\n",
    "TP = prediction.filter('prediction = 1 AND label = prediction').count()\n",
    "FN = prediction.filter('prediction = 0 AND label = 1').count()\n",
    "FP = prediction.filter('prediction = 1 AND label = 0').count()\n",
    "accuracy = (TN + TP) / (TN + TP + FN + FP)\n",
    "print(accuracy)"
   ]
  },
  {
   "cell_type": "code",
   "execution_count": null,
   "id": "92b38484",
   "metadata": {},
   "outputs": [],
   "source": [
    "from pyspark.ml.evaluation import MulticlassClassificationEvaluator, BinaryClassificationEvaluator\n",
    "precision = TP / (TP + FP)\n",
    "recall = TP / (TP + FN)\n",
    "print('precision = {:.2f}\\nrecall   = {:.2f}'.format(precision, recall))\n"
   ]
  },
  {
   "cell_type": "code",
   "execution_count": null,
   "id": "e144cd74",
   "metadata": {},
   "outputs": [],
   "source": [
    "multi_evaluator = MulticlassClassificationEvaluator()\n",
    "weighted_precision = multi_evaluator.evaluate(prediction, {multi_evaluator.metricName: \"weightedPrecision\"})\n",
    "binary_evaluator = BinaryClassificationEvaluator()\n",
    "auc = binary_evaluator.evaluate(prediction, {binary_evaluator.metricName: \"areaUnderROC\"})"
   ]
  }
 ],
 "metadata": {
  "kernelspec": {
   "display_name": "Python 3 (ipykernel)",
   "language": "python",
   "name": "python3"
  },
  "language_info": {
   "codemirror_mode": {
    "name": "ipython",
    "version": 3
   },
   "file_extension": ".py",
   "mimetype": "text/x-python",
   "name": "python",
   "nbconvert_exporter": "python",
   "pygments_lexer": "ipython3",
   "version": "3.9.12"
  }
 },
 "nbformat": 4,
 "nbformat_minor": 5
}
