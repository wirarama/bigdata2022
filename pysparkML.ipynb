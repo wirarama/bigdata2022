{
 "cells": [
  {
   "cell_type": "code",
   "execution_count": null,
   "id": "77f9de04",
   "metadata": {},
   "outputs": [],
   "source": [
    "from pyspark.sql import SparkSession\n",
    "spark = SparkSession.builder.master('local[*]').appName('test').getOrCreate()\n",
    "df = spark.read.csv('avocado.csv', sep=',', header=True, inferSchema=True,\n",
    "                         nullValue='NA')\n",
    "df.show(5)"
   ]
  },
  {
   "cell_type": "markdown",
   "id": "a9c96490-b071-451a-915e-7b04e09455e4",
   "metadata": {},
   "source": [
    "- Ganti Data menjadi VG Sales dengan feature = JP, NA, EU, Global\n",
    "- Label Platform atau Genre (salah satu saja)"
   ]
  },
  {
   "cell_type": "code",
   "execution_count": null,
   "id": "b6a0ea69-79bf-4d2f-8104-38a3e4e1ab2a",
   "metadata": {},
   "outputs": [],
   "source": [
    "df.toPandas()"
   ]
  },
  {
   "cell_type": "code",
   "execution_count": null,
   "id": "bbde7f7c",
   "metadata": {},
   "outputs": [],
   "source": [
    "from pyspark.ml.feature import StringIndexer\n",
    "indexer = StringIndexer(inputCol='region', outputCol='label')\n",
    "indexer_model = indexer.fit(df)\n",
    "df_indexed = indexer_model.transform(df)"
   ]
  },
  {
   "cell_type": "code",
   "execution_count": null,
   "id": "940ee597",
   "metadata": {},
   "outputs": [],
   "source": [
    "from pyspark.ml.feature import VectorAssembler\n",
    "assembler = VectorAssembler(inputCols=['Small Bags','Large Bags','XLarge Bags'],\n",
    "                            outputCol='features')\n",
    "df_assembled = assembler.transform(df_indexed)\n",
    "df_assembled.select('features', 'label').show(5, truncate=False)"
   ]
  },
  {
   "cell_type": "code",
   "execution_count": null,
   "id": "2ce0da2c",
   "metadata": {},
   "outputs": [],
   "source": [
    "df_train, df_test = df_assembled.randomSplit([0.8, 0.2], seed=35)\n",
    "training_ratio = df_train.count() / df_assembled.count()\n",
    "print(training_ratio)"
   ]
  },
  {
   "cell_type": "code",
   "execution_count": null,
   "id": "11aadecd",
   "metadata": {},
   "outputs": [],
   "source": [
    "from pyspark.ml.classification import DecisionTreeClassifier\n",
    "tree = DecisionTreeClassifier()\n",
    "tree_model = tree.fit(df_train)\n",
    "prediction = tree_model.transform(df_test)\n",
    "prediction.select('label', 'prediction', 'probability').show(5, False)"
   ]
  },
  {
   "cell_type": "code",
   "execution_count": null,
   "id": "6cf94408-6179-4814-a6a4-a5961a401095",
   "metadata": {},
   "outputs": [],
   "source": [
    "prediction.select('label', 'prediction', 'probability').toPandas()"
   ]
  },
  {
   "cell_type": "code",
   "execution_count": null,
   "id": "a7d55794",
   "metadata": {},
   "outputs": [],
   "source": [
    "TP = prediction.filter('label = prediction').count()\n",
    "FP = prediction.filter('label != prediction').count()\n",
    "accuracy = TP / (TP+FP)\n",
    "print(\"True Positive \",TP)\n",
    "print(\"False Positive \",FP)\n",
    "print(\"Accuracy \",accuracy)"
   ]
  }
 ],
 "metadata": {
  "kernelspec": {
   "display_name": "Python 3 (ipykernel)",
   "language": "python",
   "name": "python3"
  },
  "language_info": {
   "codemirror_mode": {
    "name": "ipython",
    "version": 3
   },
   "file_extension": ".py",
   "mimetype": "text/x-python",
   "name": "python",
   "nbconvert_exporter": "python",
   "pygments_lexer": "ipython3",
   "version": "3.9.12"
  }
 },
 "nbformat": 4,
 "nbformat_minor": 5
}
